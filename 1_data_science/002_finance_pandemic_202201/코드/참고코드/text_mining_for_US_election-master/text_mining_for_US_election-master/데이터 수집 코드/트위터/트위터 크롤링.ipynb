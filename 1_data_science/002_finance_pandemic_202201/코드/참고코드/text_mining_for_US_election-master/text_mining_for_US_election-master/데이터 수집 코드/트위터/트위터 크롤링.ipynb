{
 "cells": [
  {
   "cell_type": "code",
   "execution_count": 7,
   "metadata": {
    "ExecuteTime": {
     "end_time": "2022-02-03T04:06:12.538441Z",
     "start_time": "2022-02-03T04:06:12.523382Z"
    }
   },
   "outputs": [],
   "source": [
    "import re\n",
    "import time\n",
    "import random\n",
    "import requests\n",
    "import pandas as pd\n",
    "import datetime as dt\n",
    "from bs4 import BeautifulSoup\n",
    "from selenium import webdriver\n",
    "from tqdm.notebook import tqdm\n",
    "from urllib.request import Request, urlopen\n",
    "from selenium.webdriver.common.keys import Keys\n",
    "from selenium.common.exceptions import TimeoutException\n",
    "from selenium.webdriver.support.ui import WebDriverWait # available since 2.4.0\n",
    "from selenium.webdriver.support import expected_conditions as EC # available since 2.26.0\n",
    "from selenium.webdriver.common.desired_capabilities import  DesiredCapabilities"
   ]
  },
  {
   "cell_type": "markdown",
   "metadata": {},
   "source": [
    "# 트위터 고급 검색 기능 활용\n",
    "- 일별로 판다스 시리즈 url 만들어서 크롤 해보기\n",
    "## 트럼프\n",
    "### 트럼프 본인 작성 트윗\n",
    "(from:realDonaldTrump) lang:en until:2020-10-31 since:2020-09-01\n",
    "- https://twitter.com/search?q=(from%3ArealDonaldTrump)%20lang%3Aen%20until%3A2020-10-31%20since%3A2020-09-01&src=typed_query\n",
    "### 관중 -> 트럼프       \n",
    "(to:realDonaldTrump) (@realDonaldTrump) lang:en until:2020-10-31 since:2020-09-01\n",
    "- https://twitter.com/search?q=(to%3ArealDonaldTrump)%20(%40realDonaldTrump)%20lang%3Aen%20until%3A2020-10-31%20since%3A2020-09-01&src=typed_query"
   ]
  },
  {
   "cell_type": "markdown",
   "metadata": {},
   "source": [
    "## 바이든\n",
    "### 바이든 본인 작성 트윗\n",
    "(from:JoeBiden) lang:en until:2020-10-31 since:2020-09-01\n",
    "- https://twitter.com/search?q=(from%3AJoeBiden)%20lang%3Aen%20until%3A2020-10-31%20since%3A2020-09-01&src=typed_query\n",
    "### 관중 -> 바이든       \n",
    "(to:JoeBiden) (@JoeBiden) lang:en until:2020-10-31 since:2020-09-01\n",
    "- https://twitter.com/search?q=(to%3AJoeBiden)%20(%40JoeBiden)%20lang%3Aen%20until%3A2020-10-31%20since%3A2020-09-01&src=typed_query"
   ]
  },
  {
   "cell_type": "markdown",
   "metadata": {},
   "source": [
    "# URL 추출하기"
   ]
  },
  {
   "cell_type": "code",
   "execution_count": 8,
   "metadata": {
    "ExecuteTime": {
     "end_time": "2022-02-03T04:06:14.080821Z",
     "start_time": "2022-02-03T04:06:14.066778Z"
    }
   },
   "outputs": [],
   "source": [
    "# import datetime as dt\n",
    "# search_by_day_list=[]\n",
    "# URLs={'Trump':[],'Biden':[],'ppl2Trump':[],'ppl2Biden':[]}\n",
    "# startdate=dt.date(year=2020,month=9,day=1)\n",
    "# untildate=dt.date(year=2020,month=9,day=2)\n",
    "# # enddate=dt.date(year=2020,month=10,day=31)\n",
    "# # 10월 31일까지 읽으려면 11월2일까지의 인덱스길이가 있어야한다.\n",
    "# while untildate != dt.date(year=2020,month=11,day=2):\n",
    "#     url_Trump='https://twitter.com/search?q=(from%3ArealDonaldTrump)%20lang%3Aen%20until%3A'+str(untildate)+'%20since%3A'+str(startdate)+'&src=typed_query'\n",
    "#     url_Biden='https://twitter.com/search?q=(from%3AJoeBiden)%20lang%3Aen%20until%3A'+str(untildate)+'%20since%3A'+str(startdate)+'&src=typed_query'\n",
    "#     url_ppl2Trump='https://twitter.com/search?q=(to%3ArealDonaldTrump)%20(%40realDonaldTrump)%20lang%3Aen%20until%3A'+str(untildate)+'%20since%3A'+str(startdate)+'&src=typed_query'\n",
    "#     url_ppl2Biden='https://twitter.com/search?q=(to%3AJoeBiden)%20(%40JoeBiden)%20lang%3Aen%20until%3A'+str(untildate)+'%20since%3A'+str(startdate)+'&src=typed_query'\n",
    "#     startdate=untildate\n",
    "#     untildate+=dt.timedelta(days=1)\n",
    "#     URLs['Trump'].append(url_Trump)\n",
    "#     URLs['Biden'].append(url_Biden)\n",
    "#     URLs['ppl2Trump'].append(url_ppl2Trump)\n",
    "#     URLs['ppl2Biden'].append(url_ppl2Biden)"
   ]
  },
  {
   "cell_type": "code",
   "execution_count": 9,
   "metadata": {
    "ExecuteTime": {
     "end_time": "2022-02-03T04:06:14.593846Z",
     "start_time": "2022-02-03T04:06:14.584768Z"
    }
   },
   "outputs": [],
   "source": [
    "import datetime as dt\n",
    "search_by_day_list=[]\n",
    "URLs={'삼성바이오로직스':[]}\n",
    "#       , '삼성전자':[], '팬오션':[], '현대제철':[], '우리은행':[], '대한항공':[]}\n",
    "startdate=dt.date(year=2020,month=1,day=1)\n",
    "untildate=dt.date(year=2020,month=12,day=31)\n",
    "# enddate=dt.date(year=2020,month=10,day=31)\n",
    "# 10월 31일까지 읽으려면 11월2일까지의 인덱스길이가 있어야한다.\n",
    "while untildate != dt.date(year=2021,month=12,day=31):\n",
    "    url_samsung='https://twitter.com/search?q=%삼성바이오로직스%20lang%3Ako%20until%3A'+str(untildate)+'%20since%3A'+str(startdate)+'&src=typed_query'\n",
    "    startdate=untildate\n",
    "    untildate+=dt.timedelta(days=1)\n",
    "    URLs['삼성바이오로직스'].append(url_samsung)"
   ]
  },
  {
   "cell_type": "code",
   "execution_count": 10,
   "metadata": {
    "ExecuteTime": {
     "end_time": "2022-02-03T04:06:14.997154Z",
     "start_time": "2022-02-03T04:06:14.989945Z"
    }
   },
   "outputs": [],
   "source": [
    "# 삼성전자 팬오션 현대제철 삼성바이오로직스 우리은행 대한항공"
   ]
  },
  {
   "cell_type": "code",
   "execution_count": null,
   "metadata": {},
   "outputs": [],
   "source": []
  },
  {
   "cell_type": "code",
   "execution_count": 11,
   "metadata": {
    "ExecuteTime": {
     "end_time": "2022-02-03T04:06:16.171370Z",
     "start_time": "2022-02-03T04:06:16.160350Z"
    }
   },
   "outputs": [
    {
     "data": {
      "text/html": [
       "<div>\n",
       "<style scoped>\n",
       "    .dataframe tbody tr th:only-of-type {\n",
       "        vertical-align: middle;\n",
       "    }\n",
       "\n",
       "    .dataframe tbody tr th {\n",
       "        vertical-align: top;\n",
       "    }\n",
       "\n",
       "    .dataframe thead th {\n",
       "        text-align: right;\n",
       "    }\n",
       "</style>\n",
       "<table border=\"1\" class=\"dataframe\">\n",
       "  <thead>\n",
       "    <tr style=\"text-align: right;\">\n",
       "      <th></th>\n",
       "      <th>삼성바이오로직스</th>\n",
       "    </tr>\n",
       "  </thead>\n",
       "  <tbody>\n",
       "    <tr>\n",
       "      <th>0</th>\n",
       "      <td>https://twitter.com/search?q=%삼성바이오로직스%20lang%...</td>\n",
       "    </tr>\n",
       "    <tr>\n",
       "      <th>1</th>\n",
       "      <td>https://twitter.com/search?q=%삼성바이오로직스%20lang%...</td>\n",
       "    </tr>\n",
       "    <tr>\n",
       "      <th>2</th>\n",
       "      <td>https://twitter.com/search?q=%삼성바이오로직스%20lang%...</td>\n",
       "    </tr>\n",
       "    <tr>\n",
       "      <th>3</th>\n",
       "      <td>https://twitter.com/search?q=%삼성바이오로직스%20lang%...</td>\n",
       "    </tr>\n",
       "    <tr>\n",
       "      <th>4</th>\n",
       "      <td>https://twitter.com/search?q=%삼성바이오로직스%20lang%...</td>\n",
       "    </tr>\n",
       "    <tr>\n",
       "      <th>...</th>\n",
       "      <td>...</td>\n",
       "    </tr>\n",
       "    <tr>\n",
       "      <th>360</th>\n",
       "      <td>https://twitter.com/search?q=%삼성바이오로직스%20lang%...</td>\n",
       "    </tr>\n",
       "    <tr>\n",
       "      <th>361</th>\n",
       "      <td>https://twitter.com/search?q=%삼성바이오로직스%20lang%...</td>\n",
       "    </tr>\n",
       "    <tr>\n",
       "      <th>362</th>\n",
       "      <td>https://twitter.com/search?q=%삼성바이오로직스%20lang%...</td>\n",
       "    </tr>\n",
       "    <tr>\n",
       "      <th>363</th>\n",
       "      <td>https://twitter.com/search?q=%삼성바이오로직스%20lang%...</td>\n",
       "    </tr>\n",
       "    <tr>\n",
       "      <th>364</th>\n",
       "      <td>https://twitter.com/search?q=%삼성바이오로직스%20lang%...</td>\n",
       "    </tr>\n",
       "  </tbody>\n",
       "</table>\n",
       "<p>365 rows × 1 columns</p>\n",
       "</div>"
      ],
      "text/plain": [
       "                                              삼성바이오로직스\n",
       "0    https://twitter.com/search?q=%삼성바이오로직스%20lang%...\n",
       "1    https://twitter.com/search?q=%삼성바이오로직스%20lang%...\n",
       "2    https://twitter.com/search?q=%삼성바이오로직스%20lang%...\n",
       "3    https://twitter.com/search?q=%삼성바이오로직스%20lang%...\n",
       "4    https://twitter.com/search?q=%삼성바이오로직스%20lang%...\n",
       "..                                                 ...\n",
       "360  https://twitter.com/search?q=%삼성바이오로직스%20lang%...\n",
       "361  https://twitter.com/search?q=%삼성바이오로직스%20lang%...\n",
       "362  https://twitter.com/search?q=%삼성바이오로직스%20lang%...\n",
       "363  https://twitter.com/search?q=%삼성바이오로직스%20lang%...\n",
       "364  https://twitter.com/search?q=%삼성바이오로직스%20lang%...\n",
       "\n",
       "[365 rows x 1 columns]"
      ]
     },
     "execution_count": 11,
     "metadata": {},
     "output_type": "execute_result"
    }
   ],
   "source": [
    "url_df=pd.DataFrame(URLs)\n",
    "url_df"
   ]
  },
  {
   "cell_type": "markdown",
   "metadata": {},
   "source": [
    "# 각각의 column별로 크롤링"
   ]
  },
  {
   "cell_type": "code",
   "execution_count": 12,
   "metadata": {
    "ExecuteTime": {
     "end_time": "2022-02-03T04:06:36.273081Z",
     "start_time": "2022-02-03T04:06:17.284750Z"
    }
   },
   "outputs": [
    {
     "name": "stderr",
     "output_type": "stream",
     "text": [
      "C:\\Users\\ym\\AppData\\Local\\Temp/ipykernel_3188/1972253827.py:9: DeprecationWarning: executable_path has been deprecated, please pass in a Service object\n",
      "  driver = webdriver.Chrome(executable_path=browser_path)   # create master df to append to\n",
      "  0% |                                                                        |\r"
     ]
    },
    {
     "ename": "WebDriverException",
     "evalue": "Message: chrome not reachable\n  (Session info: chrome=98.0.4758.82)\nStacktrace:\nBacktrace:\n\tOrdinal0 [0x0100A0A3+2597027]\n\tOrdinal0 [0x00F9BA61+2144865]\n\tOrdinal0 [0x00E93B20+1063712]\n\tOrdinal0 [0x00E88242+1016386]\n\tOrdinal0 [0x00E88A78+1018488]\n\tOrdinal0 [0x00E8A2B2+1024690]\n\tOrdinal0 [0x00E83F99+999321]\n\tOrdinal0 [0x00E94F90+1068944]\n\tOrdinal0 [0x00EE82E2+1409762]\n\tOrdinal0 [0x00ED85C6+1344966]\n\tOrdinal0 [0x00EB54C6+1201350]\n\tOrdinal0 [0x00EB63B6+1205174]\n\tGetHandleVerifier [0x011B10A2+1681842]\n\tGetHandleVerifier [0x01263B0C+2413596]\n\tGetHandleVerifier [0x010A1221+568113]\n\tGetHandleVerifier [0x0109FFA3+563379]\n\tOrdinal0 [0x00FA174E+2168654]\n\tOrdinal0 [0x00FA6538+2188600]\n\tOrdinal0 [0x00FA6680+2188928]\n\tOrdinal0 [0x00FB030C+2229004]\n\tBaseThreadInitThunk [0x770DFA29+25]\n\tRtlGetAppContainerNamedObjectPath [0x77AE7A9E+286]\n\tRtlGetAppContainerNamedObjectPath [0x77AE7A6E+238]\n",
     "output_type": "error",
     "traceback": [
      "\u001b[1;31m---------------------------------------------------------------------------\u001b[0m",
      "\u001b[1;31mWebDriverException\u001b[0m                        Traceback (most recent call last)",
      "\u001b[1;32m~\\AppData\\Local\\Temp/ipykernel_3188/1972253827.py\u001b[0m in \u001b[0;36m<module>\u001b[1;34m\u001b[0m\n\u001b[0;32m     28\u001b[0m         \u001b[0msleep_for\u001b[0m\u001b[1;33m(\u001b[0m\u001b[1;36m3\u001b[0m\u001b[1;33m,\u001b[0m \u001b[1;36m7\u001b[0m\u001b[1;33m)\u001b[0m                             \u001b[1;31m# sleep a while\u001b[0m\u001b[1;33m\u001b[0m\u001b[1;33m\u001b[0m\u001b[0m\n\u001b[0;32m     29\u001b[0m \u001b[1;33m\u001b[0m\u001b[0m\n\u001b[1;32m---> 30\u001b[1;33m         \u001b[0mlastHeight\u001b[0m \u001b[1;33m=\u001b[0m \u001b[0mdriver\u001b[0m\u001b[1;33m.\u001b[0m\u001b[0mexecute_script\u001b[0m\u001b[1;33m(\u001b[0m\u001b[1;34m\"return document.body.scrollHeight\"\u001b[0m\u001b[1;33m)\u001b[0m\u001b[1;33m\u001b[0m\u001b[1;33m\u001b[0m\u001b[0m\n\u001b[0m\u001b[0;32m     31\u001b[0m \u001b[1;33m\u001b[0m\u001b[0m\n\u001b[0;32m     32\u001b[0m         \u001b[1;32mwhile\u001b[0m \u001b[1;32mTrue\u001b[0m\u001b[1;33m:\u001b[0m\u001b[1;33m\u001b[0m\u001b[1;33m\u001b[0m\u001b[0m\n",
      "\u001b[1;32m~\\anaconda3\\lib\\site-packages\\selenium\\webdriver\\remote\\webdriver.py\u001b[0m in \u001b[0;36mexecute_script\u001b[1;34m(self, script, *args)\u001b[0m\n\u001b[0;32m    876\u001b[0m         \u001b[0mcommand\u001b[0m \u001b[1;33m=\u001b[0m \u001b[0mCommand\u001b[0m\u001b[1;33m.\u001b[0m\u001b[0mW3C_EXECUTE_SCRIPT\u001b[0m\u001b[1;33m\u001b[0m\u001b[1;33m\u001b[0m\u001b[0m\n\u001b[0;32m    877\u001b[0m \u001b[1;33m\u001b[0m\u001b[0m\n\u001b[1;32m--> 878\u001b[1;33m         return self.execute(command, {\n\u001b[0m\u001b[0;32m    879\u001b[0m             \u001b[1;34m'script'\u001b[0m\u001b[1;33m:\u001b[0m \u001b[0mscript\u001b[0m\u001b[1;33m,\u001b[0m\u001b[1;33m\u001b[0m\u001b[1;33m\u001b[0m\u001b[0m\n\u001b[0;32m    880\u001b[0m             'args': converted_args})['value']\n",
      "\u001b[1;32m~\\anaconda3\\lib\\site-packages\\selenium\\webdriver\\remote\\webdriver.py\u001b[0m in \u001b[0;36mexecute\u001b[1;34m(self, driver_command, params)\u001b[0m\n\u001b[0;32m    422\u001b[0m         \u001b[0mresponse\u001b[0m \u001b[1;33m=\u001b[0m \u001b[0mself\u001b[0m\u001b[1;33m.\u001b[0m\u001b[0mcommand_executor\u001b[0m\u001b[1;33m.\u001b[0m\u001b[0mexecute\u001b[0m\u001b[1;33m(\u001b[0m\u001b[0mdriver_command\u001b[0m\u001b[1;33m,\u001b[0m \u001b[0mparams\u001b[0m\u001b[1;33m)\u001b[0m\u001b[1;33m\u001b[0m\u001b[1;33m\u001b[0m\u001b[0m\n\u001b[0;32m    423\u001b[0m         \u001b[1;32mif\u001b[0m \u001b[0mresponse\u001b[0m\u001b[1;33m:\u001b[0m\u001b[1;33m\u001b[0m\u001b[1;33m\u001b[0m\u001b[0m\n\u001b[1;32m--> 424\u001b[1;33m             \u001b[0mself\u001b[0m\u001b[1;33m.\u001b[0m\u001b[0merror_handler\u001b[0m\u001b[1;33m.\u001b[0m\u001b[0mcheck_response\u001b[0m\u001b[1;33m(\u001b[0m\u001b[0mresponse\u001b[0m\u001b[1;33m)\u001b[0m\u001b[1;33m\u001b[0m\u001b[1;33m\u001b[0m\u001b[0m\n\u001b[0m\u001b[0;32m    425\u001b[0m             response['value'] = self._unwrap_value(\n\u001b[0;32m    426\u001b[0m                 response.get('value', None))\n",
      "\u001b[1;32m~\\anaconda3\\lib\\site-packages\\selenium\\webdriver\\remote\\errorhandler.py\u001b[0m in \u001b[0;36mcheck_response\u001b[1;34m(self, response)\u001b[0m\n\u001b[0;32m    245\u001b[0m                 \u001b[0malert_text\u001b[0m \u001b[1;33m=\u001b[0m \u001b[0mvalue\u001b[0m\u001b[1;33m[\u001b[0m\u001b[1;34m'alert'\u001b[0m\u001b[1;33m]\u001b[0m\u001b[1;33m.\u001b[0m\u001b[0mget\u001b[0m\u001b[1;33m(\u001b[0m\u001b[1;34m'text'\u001b[0m\u001b[1;33m)\u001b[0m\u001b[1;33m\u001b[0m\u001b[1;33m\u001b[0m\u001b[0m\n\u001b[0;32m    246\u001b[0m             \u001b[1;32mraise\u001b[0m \u001b[0mexception_class\u001b[0m\u001b[1;33m(\u001b[0m\u001b[0mmessage\u001b[0m\u001b[1;33m,\u001b[0m \u001b[0mscreen\u001b[0m\u001b[1;33m,\u001b[0m \u001b[0mstacktrace\u001b[0m\u001b[1;33m,\u001b[0m \u001b[0malert_text\u001b[0m\u001b[1;33m)\u001b[0m  \u001b[1;31m# type: ignore[call-arg]  # mypy is not smart enough here\u001b[0m\u001b[1;33m\u001b[0m\u001b[1;33m\u001b[0m\u001b[0m\n\u001b[1;32m--> 247\u001b[1;33m         \u001b[1;32mraise\u001b[0m \u001b[0mexception_class\u001b[0m\u001b[1;33m(\u001b[0m\u001b[0mmessage\u001b[0m\u001b[1;33m,\u001b[0m \u001b[0mscreen\u001b[0m\u001b[1;33m,\u001b[0m \u001b[0mstacktrace\u001b[0m\u001b[1;33m)\u001b[0m\u001b[1;33m\u001b[0m\u001b[1;33m\u001b[0m\u001b[0m\n\u001b[0m\u001b[0;32m    248\u001b[0m \u001b[1;33m\u001b[0m\u001b[0m\n\u001b[0;32m    249\u001b[0m     \u001b[1;32mdef\u001b[0m \u001b[0m_value_or_default\u001b[0m\u001b[1;33m(\u001b[0m\u001b[0mself\u001b[0m\u001b[1;33m,\u001b[0m \u001b[0mobj\u001b[0m\u001b[1;33m:\u001b[0m \u001b[0mMapping\u001b[0m\u001b[1;33m[\u001b[0m\u001b[0m_KT\u001b[0m\u001b[1;33m,\u001b[0m \u001b[0m_VT\u001b[0m\u001b[1;33m]\u001b[0m\u001b[1;33m,\u001b[0m \u001b[0mkey\u001b[0m\u001b[1;33m:\u001b[0m \u001b[0m_KT\u001b[0m\u001b[1;33m,\u001b[0m \u001b[0mdefault\u001b[0m\u001b[1;33m:\u001b[0m \u001b[0m_VT\u001b[0m\u001b[1;33m)\u001b[0m \u001b[1;33m->\u001b[0m \u001b[0m_VT\u001b[0m\u001b[1;33m:\u001b[0m\u001b[1;33m\u001b[0m\u001b[1;33m\u001b[0m\u001b[0m\n",
      "\u001b[1;31mWebDriverException\u001b[0m: Message: chrome not reachable\n  (Session info: chrome=98.0.4758.82)\nStacktrace:\nBacktrace:\n\tOrdinal0 [0x0100A0A3+2597027]\n\tOrdinal0 [0x00F9BA61+2144865]\n\tOrdinal0 [0x00E93B20+1063712]\n\tOrdinal0 [0x00E88242+1016386]\n\tOrdinal0 [0x00E88A78+1018488]\n\tOrdinal0 [0x00E8A2B2+1024690]\n\tOrdinal0 [0x00E83F99+999321]\n\tOrdinal0 [0x00E94F90+1068944]\n\tOrdinal0 [0x00EE82E2+1409762]\n\tOrdinal0 [0x00ED85C6+1344966]\n\tOrdinal0 [0x00EB54C6+1201350]\n\tOrdinal0 [0x00EB63B6+1205174]\n\tGetHandleVerifier [0x011B10A2+1681842]\n\tGetHandleVerifier [0x01263B0C+2413596]\n\tGetHandleVerifier [0x010A1221+568113]\n\tGetHandleVerifier [0x0109FFA3+563379]\n\tOrdinal0 [0x00FA174E+2168654]\n\tOrdinal0 [0x00FA6538+2188600]\n\tOrdinal0 [0x00FA6680+2188928]\n\tOrdinal0 [0x00FB030C+2229004]\n\tBaseThreadInitThunk [0x770DFA29+25]\n\tRtlGetAppContainerNamedObjectPath [0x77AE7A9E+286]\n\tRtlGetAppContainerNamedObjectPath [0x77AE7A6E+238]\n"
     ]
    }
   ],
   "source": [
    "from selenium import webdriver\n",
    "from selenium.webdriver.common.keys import Keys\n",
    "import pandas as pd\n",
    "from progressbar import ProgressBar\n",
    "from time import sleep\n",
    "import random\n",
    "\n",
    "browser_path = \"C:/Users/ym/chromedriver/chromedriver.exe\" # setting the chromedriver path and initializing driver\n",
    "driver = webdriver.Chrome(executable_path=browser_path)   # create master df to append to\n",
    "master_temp_df = pd.DataFrame()\n",
    "master_df = pd.DataFrame()\n",
    "\n",
    "def sleep_for(opt1, opt2):                                # random delay-time generator\n",
    "    time_for = random.uniform(opt1, opt2)\n",
    "    time_for_int = int(round(time_for))\n",
    "    sleep(abs(time_for_int - time_for))\n",
    "    for i in range(time_for_int, 0, -1):\n",
    "        sleep(1)\n",
    "        \n",
    "# 주제별로 url시리즈 넣어서 일별로 크롤링\n",
    "#10월\n",
    "for urls in url_df['삼성바이오로직스']:\n",
    "    pbar = ProgressBar()\n",
    "    urls=[urls]\n",
    "    post_element_xpath = '//div/div/article/div/div' # the element we are obtaining from the webpage\n",
    "    for url in pbar(urls):                          # loop through your list of urls\n",
    "        driver.get(url)\n",
    "        sleep_for(3, 7)                             # sleep a while\n",
    "\n",
    "        lastHeight = driver.execute_script(\"return document.body.scrollHeight\")\n",
    "        \n",
    "        while True:\n",
    "            driver.find_element_by_xpath('//body').send_keys(Keys.END)\n",
    "            sleep_for(2, 6)\n",
    "            newHeight = driver.execute_script(\"return document.body.scrollHeight\")\n",
    "            if newHeight != lastHeight:\n",
    "                pass\n",
    "            else:\n",
    "                post_list = driver.find_elements_by_xpath(post_element_xpath)      # get a list of tweets\n",
    "                post_text = [x.text for x in post_list]                           # get the text only from each element\n",
    "                temp_df = pd.DataFrame(post_text, columns={'all_text'})           # create temporary dataset of each tweet\n",
    "                master_temp_df = master_temp_df.append(temp_df)                   # append the temporary dataset to the dataset we will save\n",
    "                break\n",
    "            \n",
    "            lastHeight = newHeight      # update Height\n",
    "            master_df = master_df.append(master_temp_df)\n",
    "\n",
    "            \n",
    "driver.quit()     \n",
    "master_df.to_excel(\"삼성바이오로직스.xlsx\")"
   ]
  },
  {
   "cell_type": "code",
   "execution_count": null,
   "metadata": {},
   "outputs": [],
   "source": [
    "import pandas as pd\n",
    "data = pd.read_csv('.csv', encoding='utf-8')"
   ]
  }
 ],
 "metadata": {
  "kernelspec": {
   "display_name": "Python 3 (ipykernel)",
   "language": "python",
   "name": "python3"
  },
  "language_info": {
   "codemirror_mode": {
    "name": "ipython",
    "version": 3
   },
   "file_extension": ".py",
   "mimetype": "text/x-python",
   "name": "python",
   "nbconvert_exporter": "python",
   "pygments_lexer": "ipython3",
   "version": "3.9.7"
  },
  "toc": {
   "base_numbering": 1,
   "nav_menu": {},
   "number_sections": false,
   "sideBar": true,
   "skip_h1_title": false,
   "title_cell": "Table of Contents",
   "title_sidebar": "Contents",
   "toc_cell": false,
   "toc_position": {},
   "toc_section_display": true,
   "toc_window_display": false
  },
  "varInspector": {
   "cols": {
    "lenName": 16,
    "lenType": 16,
    "lenVar": 40
   },
   "kernels_config": {
    "python": {
     "delete_cmd_postfix": "",
     "delete_cmd_prefix": "del ",
     "library": "var_list.py",
     "varRefreshCmd": "print(var_dic_list())"
    },
    "r": {
     "delete_cmd_postfix": ") ",
     "delete_cmd_prefix": "rm(",
     "library": "var_list.r",
     "varRefreshCmd": "cat(var_dic_list()) "
    }
   },
   "types_to_exclude": [
    "module",
    "function",
    "builtin_function_or_method",
    "instance",
    "_Feature"
   ],
   "window_display": false
  }
 },
 "nbformat": 4,
 "nbformat_minor": 4
}
