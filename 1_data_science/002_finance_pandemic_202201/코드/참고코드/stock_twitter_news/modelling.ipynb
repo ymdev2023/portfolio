{
 "cells": [
  {
   "cell_type": "markdown",
   "metadata": {},
   "source": [
    "## Modelling LSTM\n",
    "Spelling error: 'compound' is mistakenly written as 'compund' and I noticed it after complete coding."
   ]
  },
  {
   "cell_type": "code",
   "execution_count": 29,
   "metadata": {
    "ExecuteTime": {
     "end_time": "2022-01-27T10:11:32.140103Z",
     "start_time": "2022-01-27T10:11:32.131956Z"
    }
   },
   "outputs": [
    {
     "name": "stdout",
     "output_type": "stream",
     "text": [
      "STOCK PREDICTION USING RNN LSTM\n"
     ]
    }
   ],
   "source": [
    "print('STOCK PREDICTION USING RNN LSTM')\n",
    "import numpy as np\n",
    "import pandas as pd\n",
    "from sklearn import preprocessing\n",
    "\n",
    "from keras.models import Sequential\n",
    "from keras.layers.core import Dense, Activation\n",
    "from keras.layers.recurrent import LSTM\n",
    "from keras.layers import  Dropout\n",
    "from keras.models import model_from_json\n",
    "from keras.models import load_model\n",
    "from keras import regularizers\n",
    "\n",
    "import matplotlib.pyplot as plt\n",
    "import matplotlib.ticker as mtick\n",
    "fmt = '$%.0f'\n",
    "tick = mtick.FormatStrFormatter(fmt)\n",
    "\n",
    "%matplotlib inline"
   ]
  },
  {
   "cell_type": "markdown",
   "metadata": {},
   "source": [
    "### Plotting the data"
   ]
  },
  {
   "cell_type": "code",
   "execution_count": 30,
   "metadata": {
    "ExecuteTime": {
     "end_time": "2022-01-27T10:11:34.468255Z",
     "start_time": "2022-01-27T10:11:34.375060Z"
    }
   },
   "outputs": [
    {
     "data": {
      "image/png": "[encoded data removed]",
      "text/plain": [
       "<Figure size 432x288 with 1 Axes>"
      ]
     },
     "metadata": {
      "needs_background": "light"
     },
     "output_type": "display_data"
    },
    {
     "data": {
      "text/plain": [
       "<Figure size 432x288 with 0 Axes>"
      ]
     },
     "metadata": {},
     "output_type": "display_data"
    }
   ],
   "source": [
    "data_csv1 = pd.read_csv('final_data_hbl.csv')\n",
    "data_csv = pd.read_csv('final_data_new.csv')\n",
    "data_csv[['Close']].plot()\n",
    "plt.show()\n",
    "plt.clf()"
   ]
  },
  {
   "cell_type": "code",
   "execution_count": 31,
   "metadata": {
    "ExecuteTime": {
     "end_time": "2022-01-27T10:11:36.173929Z",
     "start_time": "2022-01-27T10:11:36.156204Z"
    }
   },
   "outputs": [
    {
     "data": {
      "text/html": [
       "<div>\n",
       "<style scoped>\n",
       "    .dataframe tbody tr th:only-of-type {\n",
       "        vertical-align: middle;\n",
       "    }\n",
       "\n",
       "    .dataframe tbody tr th {\n",
       "        vertical-align: top;\n",
       "    }\n",
       "\n",
       "    .dataframe thead th {\n",
       "        text-align: right;\n",
       "    }\n",
       "</style>\n",
       "<table border=\"1\" class=\"dataframe\">\n",
       "  <thead>\n",
       "    <tr style=\"text-align: right;\">\n",
       "      <th></th>\n",
       "      <th>Date</th>\n",
       "      <th>compund</th>\n",
       "      <th>neg</th>\n",
       "      <th>neu</th>\n",
       "      <th>pos</th>\n",
       "      <th>Open</th>\n",
       "      <th>High</th>\n",
       "      <th>Low</th>\n",
       "      <th>Close</th>\n",
       "      <th>Volume</th>\n",
       "    </tr>\n",
       "  </thead>\n",
       "  <tbody>\n",
       "    <tr>\n",
       "      <th>0</th>\n",
       "      <td>03-Jan-2011</td>\n",
       "      <td>-0.8934</td>\n",
       "      <td>0.172</td>\n",
       "      <td>0.746</td>\n",
       "      <td>0.082</td>\n",
       "      <td>120.20</td>\n",
       "      <td>121.00</td>\n",
       "      <td>116.80</td>\n",
       "      <td>119.49</td>\n",
       "      <td>510969</td>\n",
       "    </tr>\n",
       "    <tr>\n",
       "      <th>1</th>\n",
       "      <td>04-Jan-2011</td>\n",
       "      <td>-0.6996</td>\n",
       "      <td>0.133</td>\n",
       "      <td>0.806</td>\n",
       "      <td>0.060</td>\n",
       "      <td>119.50</td>\n",
       "      <td>122.30</td>\n",
       "      <td>119.50</td>\n",
       "      <td>121.87</td>\n",
       "      <td>627959</td>\n",
       "    </tr>\n",
       "    <tr>\n",
       "      <th>2</th>\n",
       "      <td>05-Jan-2011</td>\n",
       "      <td>-0.9442</td>\n",
       "      <td>0.319</td>\n",
       "      <td>0.638</td>\n",
       "      <td>0.044</td>\n",
       "      <td>121.75</td>\n",
       "      <td>126.45</td>\n",
       "      <td>121.40</td>\n",
       "      <td>124.93</td>\n",
       "      <td>1506848</td>\n",
       "    </tr>\n",
       "    <tr>\n",
       "      <th>3</th>\n",
       "      <td>06-Jan-2011</td>\n",
       "      <td>-0.7906</td>\n",
       "      <td>0.179</td>\n",
       "      <td>0.726</td>\n",
       "      <td>0.094</td>\n",
       "      <td>124.50</td>\n",
       "      <td>125.89</td>\n",
       "      <td>123.75</td>\n",
       "      <td>124.98</td>\n",
       "      <td>773913</td>\n",
       "    </tr>\n",
       "    <tr>\n",
       "      <th>4</th>\n",
       "      <td>07-Jan-2011</td>\n",
       "      <td>-0.5859</td>\n",
       "      <td>0.140</td>\n",
       "      <td>0.766</td>\n",
       "      <td>0.094</td>\n",
       "      <td>125.84</td>\n",
       "      <td>126.06</td>\n",
       "      <td>124.69</td>\n",
       "      <td>124.99</td>\n",
       "      <td>376749</td>\n",
       "    </tr>\n",
       "    <tr>\n",
       "      <th>...</th>\n",
       "      <td>...</td>\n",
       "      <td>...</td>\n",
       "      <td>...</td>\n",
       "      <td>...</td>\n",
       "      <td>...</td>\n",
       "      <td>...</td>\n",
       "      <td>...</td>\n",
       "      <td>...</td>\n",
       "      <td>...</td>\n",
       "      <td>...</td>\n",
       "    </tr>\n",
       "    <tr>\n",
       "      <th>1841</th>\n",
       "      <td>01-Jun-2018</td>\n",
       "      <td>-0.9830</td>\n",
       "      <td>0.125</td>\n",
       "      <td>0.828</td>\n",
       "      <td>0.047</td>\n",
       "      <td>165.00</td>\n",
       "      <td>174.25</td>\n",
       "      <td>165.00</td>\n",
       "      <td>172.91</td>\n",
       "      <td>1123500</td>\n",
       "    </tr>\n",
       "    <tr>\n",
       "      <th>1842</th>\n",
       "      <td>04-Jun-2018</td>\n",
       "      <td>-0.8853</td>\n",
       "      <td>0.106</td>\n",
       "      <td>0.825</td>\n",
       "      <td>0.070</td>\n",
       "      <td>172.00</td>\n",
       "      <td>176.49</td>\n",
       "      <td>171.00</td>\n",
       "      <td>174.80</td>\n",
       "      <td>2057700</td>\n",
       "    </tr>\n",
       "    <tr>\n",
       "      <th>1843</th>\n",
       "      <td>05-Jun-2018</td>\n",
       "      <td>-0.9939</td>\n",
       "      <td>0.152</td>\n",
       "      <td>0.786</td>\n",
       "      <td>0.062</td>\n",
       "      <td>175.00</td>\n",
       "      <td>183.54</td>\n",
       "      <td>174.02</td>\n",
       "      <td>181.72</td>\n",
       "      <td>1459400</td>\n",
       "    </tr>\n",
       "    <tr>\n",
       "      <th>1844</th>\n",
       "      <td>06-Jun-2018</td>\n",
       "      <td>-0.6908</td>\n",
       "      <td>0.104</td>\n",
       "      <td>0.797</td>\n",
       "      <td>0.099</td>\n",
       "      <td>181.00</td>\n",
       "      <td>189.74</td>\n",
       "      <td>180.02</td>\n",
       "      <td>189.47</td>\n",
       "      <td>2251200</td>\n",
       "    </tr>\n",
       "    <tr>\n",
       "      <th>1845</th>\n",
       "      <td>07-Jun-2018</td>\n",
       "      <td>0.9178</td>\n",
       "      <td>0.081</td>\n",
       "      <td>0.803</td>\n",
       "      <td>0.116</td>\n",
       "      <td>190.00</td>\n",
       "      <td>190.80</td>\n",
       "      <td>184.11</td>\n",
       "      <td>184.88</td>\n",
       "      <td>1147000</td>\n",
       "    </tr>\n",
       "  </tbody>\n",
       "</table>\n",
       "<p>1846 rows × 10 columns</p>\n",
       "</div>"
      ],
      "text/plain": [
       "             Date  compund    neg    neu    pos    Open    High     Low  \\\n",
       "0     03-Jan-2011  -0.8934  0.172  0.746  0.082  120.20  121.00  116.80   \n",
       "1     04-Jan-2011  -0.6996  0.133  0.806  0.060  119.50  122.30  119.50   \n",
       "2     05-Jan-2011  -0.9442  0.319  0.638  0.044  121.75  126.45  121.40   \n",
       "3     06-Jan-2011  -0.7906  0.179  0.726  0.094  124.50  125.89  123.75   \n",
       "4     07-Jan-2011  -0.5859  0.140  0.766  0.094  125.84  126.06  124.69   \n",
       "...           ...      ...    ...    ...    ...     ...     ...     ...   \n",
       "1841  01-Jun-2018  -0.9830  0.125  0.828  0.047  165.00  174.25  165.00   \n",
       "1842  04-Jun-2018  -0.8853  0.106  0.825  0.070  172.00  176.49  171.00   \n",
       "1843  05-Jun-2018  -0.9939  0.152  0.786  0.062  175.00  183.54  174.02   \n",
       "1844  06-Jun-2018  -0.6908  0.104  0.797  0.099  181.00  189.74  180.02   \n",
       "1845  07-Jun-2018   0.9178  0.081  0.803  0.116  190.00  190.80  184.11   \n",
       "\n",
       "       Close   Volume  \n",
       "0     119.49   510969  \n",
       "1     121.87   627959  \n",
       "2     124.93  1506848  \n",
       "3     124.98   773913  \n",
       "4     124.99   376749  \n",
       "...      ...      ...  \n",
       "1841  172.91  1123500  \n",
       "1842  174.80  2057700  \n",
       "1843  181.72  1459400  \n",
       "1844  189.47  2251200  \n",
       "1845  184.88  1147000  \n",
       "\n",
       "[1846 rows x 10 columns]"
      ]
     },
     "execution_count": 31,
     "metadata": {},
     "output_type": "execute_result"
    }
   ],
   "source": [
    "data_csv1"
   ]
  },
  {
   "cell_type": "markdown",
   "metadata": {},
   "source": [
    "### Calculating the length of data to use"
   ]
  },
  {
   "cell_type": "code",
   "execution_count": 32,
   "metadata": {
    "ExecuteTime": {
     "end_time": "2022-01-27T10:11:39.264003Z",
     "start_time": "2022-01-27T10:11:39.247834Z"
    }
   },
   "outputs": [
    {
     "name": "stdout",
     "output_type": "stream",
     "text": [
      "total_data: 248\n"
     ]
    }
   ],
   "source": [
    "percentage_of_data = 1.0\n",
    "data_to_use = int(percentage_of_data*(len(data_csv)-1))\n",
    "\n",
    "# 80% of data will be of training\n",
    "train_end = int(data_to_use*0.8)\n",
    "\n",
    "total_data = len(data_csv)\n",
    "print(\"total_data:\", total_data)"
   ]
  },
  {
   "cell_type": "markdown",
   "metadata": {},
   "source": [
    "### Arranging the data"
   ]
  },
  {
   "cell_type": "code",
   "execution_count": 33,
   "metadata": {
    "ExecuteTime": {
     "end_time": "2022-01-27T10:11:42.069426Z",
     "start_time": "2022-01-27T10:11:42.055354Z"
    }
   },
   "outputs": [
    {
     "name": "stdout",
     "output_type": "stream",
     "text": [
      "yt head (close) :\n",
      "1    832000.0\n",
      "2    817000.0\n",
      "3    819000.0\n",
      "4    837000.0\n",
      "5    846000.0\n",
      "Name: Close, dtype: float64\n"
     ]
    }
   ],
   "source": [
    "start = total_data - data_to_use\n",
    "\n",
    "# Currently doing prediction only for 1 step ahead\n",
    "steps_to_predict = 1\n",
    "\n",
    "#close, compund, neg, neu, pos, open, high, low, volume\n",
    "# Order -> 8,1,2,3,4,5,6,7,9\n",
    "yt = data_csv.iloc[start:total_data,8] #close\n",
    "yt1 = data_csv.iloc[start:total_data,1] #compund\n",
    "yt2 = data_csv.iloc[start:total_data,2] #neg\n",
    "yt3 = data_csv.iloc[start:total_data,3] #neu\n",
    "yt4 = data_csv.iloc[start:total_data,4] #pos\n",
    "yt5 = data_csv.iloc[start:total_data,5] #open\n",
    "yt6 = data_csv.iloc[start:total_data,6] #high\n",
    "yt7 = data_csv.iloc[start:total_data,7] #low\n",
    "vt = data_csv.iloc[start:total_data,9] #volume\n",
    "\n",
    "print(\"yt head (close) :\")\n",
    "print(yt.head())"
   ]
  },
  {
   "cell_type": "markdown",
   "metadata": {},
   "source": [
    "### Shifting the data by 1"
   ]
  },
  {
   "cell_type": "code",
   "execution_count": 6,
   "metadata": {
    "ExecuteTime": {
     "end_time": "2022-01-27T07:44:57.542330Z",
     "start_time": "2022-01-27T07:44:57.528260Z"
    }
   },
   "outputs": [
    {
     "name": "stdout",
     "output_type": "stream",
     "text": [
      "          yt       yt_     yt1    yt1_      vt       yt5       yt6       yt7\n",
      "1   832000.0  817000.0  0.9999  0.9998  119911  825000.0  834000.0  818000.0\n",
      "2   817000.0  819000.0  0.9998  0.9998  145873  828000.0  837000.0  816000.0\n",
      "3   819000.0  837000.0  0.9998  0.9995  116480  824000.0  824000.0  816000.0\n",
      "4   837000.0  846000.0  0.9995  0.9998  263860  821000.0  840000.0  815000.0\n",
      "5   846000.0  818000.0  0.9998  0.9998  560123  841000.0  883000.0  824000.0\n",
      "6   818000.0  830000.0  0.9998  0.9998  289113  847000.0  862000.0  806000.0\n",
      "7   830000.0  816000.0  0.9998  0.9998  207744  814000.0  832000.0  802000.0\n",
      "8   816000.0  804000.0  0.9998  0.9987  163631  828000.0  828000.0  810000.0\n",
      "9   804000.0  788000.0  0.9987  0.9999  142061  820000.0  824000.0  804000.0\n",
      "10  788000.0  796000.0  0.9999  0.9998  163860  793000.0  811000.0  786000.0\n"
     ]
    }
   ],
   "source": [
    "#shift next day close and next day compund\n",
    "yt_ = yt.shift(-1) #shifted close\n",
    "yt1_ = yt1.shift(-1) #shifted compund\n",
    "\n",
    "#taking only: close, next_close, compund, next_compund, volume, open, high, low\n",
    "data = pd.concat([yt, yt_, yt1, yt1_, vt, yt5, yt6, yt7], axis=1)\n",
    "data.columns = ['yt', 'yt_', 'yt1', 'yt1_','vt', 'yt5', 'yt6', 'yt7']\n",
    "\n",
    "data = data.dropna()\n",
    "     \n",
    "print(data[:10])"
   ]
  },
  {
   "cell_type": "markdown",
   "metadata": {},
   "source": [
    "### Separating data into x and y\n",
    "**Approach:** Training the machine using ***compund, close price, and next_compund*** to predict ***next_close price***."
   ]
  },
  {
   "cell_type": "code",
   "execution_count": 7,
   "metadata": {
    "ExecuteTime": {
     "end_time": "2022-01-27T07:44:57.573441Z",
     "start_time": "2022-01-27T07:44:57.543407Z"
    }
   },
   "outputs": [
    {
     "data": {
      "text/html": [
       "<div>\n",
       "<style scoped>\n",
       "    .dataframe tbody tr th:only-of-type {\n",
       "        vertical-align: middle;\n",
       "    }\n",
       "\n",
       "    .dataframe tbody tr th {\n",
       "        vertical-align: top;\n",
       "    }\n",
       "\n",
       "    .dataframe thead th {\n",
       "        text-align: right;\n",
       "    }\n",
       "</style>\n",
       "<table border=\"1\" class=\"dataframe\">\n",
       "  <thead>\n",
       "    <tr style=\"text-align: right;\">\n",
       "      <th></th>\n",
       "      <th>yt</th>\n",
       "      <th>yt1</th>\n",
       "      <th>yt1_</th>\n",
       "      <th>vt</th>\n",
       "      <th>yt5</th>\n",
       "      <th>yt6</th>\n",
       "      <th>yt7</th>\n",
       "    </tr>\n",
       "  </thead>\n",
       "  <tbody>\n",
       "    <tr>\n",
       "      <th>1</th>\n",
       "      <td>832000.0</td>\n",
       "      <td>0.9999</td>\n",
       "      <td>0.9998</td>\n",
       "      <td>119911</td>\n",
       "      <td>825000.0</td>\n",
       "      <td>834000.0</td>\n",
       "      <td>818000.0</td>\n",
       "    </tr>\n",
       "    <tr>\n",
       "      <th>2</th>\n",
       "      <td>817000.0</td>\n",
       "      <td>0.9998</td>\n",
       "      <td>0.9998</td>\n",
       "      <td>145873</td>\n",
       "      <td>828000.0</td>\n",
       "      <td>837000.0</td>\n",
       "      <td>816000.0</td>\n",
       "    </tr>\n",
       "    <tr>\n",
       "      <th>3</th>\n",
       "      <td>819000.0</td>\n",
       "      <td>0.9998</td>\n",
       "      <td>0.9995</td>\n",
       "      <td>116480</td>\n",
       "      <td>824000.0</td>\n",
       "      <td>824000.0</td>\n",
       "      <td>816000.0</td>\n",
       "    </tr>\n",
       "    <tr>\n",
       "      <th>4</th>\n",
       "      <td>837000.0</td>\n",
       "      <td>0.9995</td>\n",
       "      <td>0.9998</td>\n",
       "      <td>263860</td>\n",
       "      <td>821000.0</td>\n",
       "      <td>840000.0</td>\n",
       "      <td>815000.0</td>\n",
       "    </tr>\n",
       "    <tr>\n",
       "      <th>5</th>\n",
       "      <td>846000.0</td>\n",
       "      <td>0.9998</td>\n",
       "      <td>0.9998</td>\n",
       "      <td>560123</td>\n",
       "      <td>841000.0</td>\n",
       "      <td>883000.0</td>\n",
       "      <td>824000.0</td>\n",
       "    </tr>\n",
       "    <tr>\n",
       "      <th>...</th>\n",
       "      <td>...</td>\n",
       "      <td>...</td>\n",
       "      <td>...</td>\n",
       "      <td>...</td>\n",
       "      <td>...</td>\n",
       "      <td>...</td>\n",
       "      <td>...</td>\n",
       "    </tr>\n",
       "    <tr>\n",
       "      <th>242</th>\n",
       "      <td>896000.0</td>\n",
       "      <td>0.9999</td>\n",
       "      <td>0.9993</td>\n",
       "      <td>68267</td>\n",
       "      <td>901000.0</td>\n",
       "      <td>905000.0</td>\n",
       "      <td>882000.0</td>\n",
       "    </tr>\n",
       "    <tr>\n",
       "      <th>243</th>\n",
       "      <td>885000.0</td>\n",
       "      <td>0.9993</td>\n",
       "      <td>0.9997</td>\n",
       "      <td>49424</td>\n",
       "      <td>896000.0</td>\n",
       "      <td>903000.0</td>\n",
       "      <td>885000.0</td>\n",
       "    </tr>\n",
       "    <tr>\n",
       "      <th>244</th>\n",
       "      <td>886000.0</td>\n",
       "      <td>0.9997</td>\n",
       "      <td>0.9994</td>\n",
       "      <td>57185</td>\n",
       "      <td>885000.0</td>\n",
       "      <td>897000.0</td>\n",
       "      <td>885000.0</td>\n",
       "    </tr>\n",
       "    <tr>\n",
       "      <th>245</th>\n",
       "      <td>891000.0</td>\n",
       "      <td>0.9994</td>\n",
       "      <td>0.9996</td>\n",
       "      <td>90833</td>\n",
       "      <td>891000.0</td>\n",
       "      <td>893000.0</td>\n",
       "      <td>883000.0</td>\n",
       "    </tr>\n",
       "    <tr>\n",
       "      <th>246</th>\n",
       "      <td>890000.0</td>\n",
       "      <td>0.9996</td>\n",
       "      <td>0.9997</td>\n",
       "      <td>71560</td>\n",
       "      <td>899000.0</td>\n",
       "      <td>905000.0</td>\n",
       "      <td>884000.0</td>\n",
       "    </tr>\n",
       "  </tbody>\n",
       "</table>\n",
       "<p>246 rows × 7 columns</p>\n",
       "</div>"
      ],
      "text/plain": [
       "           yt     yt1    yt1_      vt       yt5       yt6       yt7\n",
       "1    832000.0  0.9999  0.9998  119911  825000.0  834000.0  818000.0\n",
       "2    817000.0  0.9998  0.9998  145873  828000.0  837000.0  816000.0\n",
       "3    819000.0  0.9998  0.9995  116480  824000.0  824000.0  816000.0\n",
       "4    837000.0  0.9995  0.9998  263860  821000.0  840000.0  815000.0\n",
       "5    846000.0  0.9998  0.9998  560123  841000.0  883000.0  824000.0\n",
       "..        ...     ...     ...     ...       ...       ...       ...\n",
       "242  896000.0  0.9999  0.9993   68267  901000.0  905000.0  882000.0\n",
       "243  885000.0  0.9993  0.9997   49424  896000.0  903000.0  885000.0\n",
       "244  886000.0  0.9997  0.9994   57185  885000.0  897000.0  885000.0\n",
       "245  891000.0  0.9994  0.9996   90833  891000.0  893000.0  883000.0\n",
       "246  890000.0  0.9996  0.9997   71560  899000.0  905000.0  884000.0\n",
       "\n",
       "[246 rows x 7 columns]"
      ]
     },
     "execution_count": 7,
     "metadata": {},
     "output_type": "execute_result"
    }
   ],
   "source": [
    "# target variable - closed price\n",
    "# after shifting\n",
    "y = data['yt_'] #next_close\n",
    "\n",
    "# close, compund, next_compund, volume, open, high, low   \n",
    "cols = ['yt', 'yt1', 'yt1_', 'vt', 'yt5', 'yt6', 'yt7']\n",
    "x = data[cols]\n",
    "x"
   ]
  },
  {
   "cell_type": "markdown",
   "metadata": {},
   "source": [
    "### Preprocessing"
   ]
  },
  {
   "cell_type": "code",
   "execution_count": 8,
   "metadata": {
    "ExecuteTime": {
     "end_time": "2022-01-27T07:44:57.588460Z",
     "start_time": "2022-01-27T07:44:57.575449Z"
    }
   },
   "outputs": [],
   "source": [
    "scaler_x = preprocessing.MinMaxScaler (feature_range=(0, 1))\n",
    "# x = np.array(x).reshape((len(x) ,len(cols)))\n",
    "x = scaler_x.fit_transform(x)\n",
    "y = data['yt_']\n",
    "# scaler_y = preprocessing.MinMaxScaler (feature_range=(-1, 1))\n",
    "# y = np.array (y).reshape ((len( y), 1))\n",
    "# y = scaler_y.fit_transform (y)\n",
    "# x\n",
    "# x = x.reshape(-1,1)"
   ]
  },
  {
   "cell_type": "markdown",
   "metadata": {},
   "source": [
    "### Train Test Split"
   ]
  },
  {
   "cell_type": "code",
   "execution_count": 9,
   "metadata": {
    "ExecuteTime": {
     "end_time": "2022-01-27T07:44:57.603781Z",
     "start_time": "2022-01-27T07:44:57.591389Z"
    }
   },
   "outputs": [],
   "source": [
    "X_train = x[0 : train_end,]\n",
    "X_test = x[train_end+1 : len(x),]    \n",
    "y_train = y[0 : train_end] \n",
    "y_test = y[train_end+1 : len(y)]  \n",
    "\n",
    "X_train = X_train.reshape (X_train. shape + (1,)) \n",
    "X_test = X_test.reshape(X_test.shape + (1,))\n",
    "y_train = np.array(y_train).T"
   ]
  },
  {
   "cell_type": "code",
   "execution_count": 10,
   "metadata": {
    "ExecuteTime": {
     "end_time": "2022-01-27T07:44:57.619606Z",
     "start_time": "2022-01-27T07:44:57.605289Z"
    }
   },
   "outputs": [],
   "source": [
    "from sklearn.preprocessing import MinMaxScaler"
   ]
  },
  {
   "cell_type": "code",
   "execution_count": 11,
   "metadata": {
    "ExecuteTime": {
     "end_time": "2022-01-27T07:44:57.634954Z",
     "start_time": "2022-01-27T07:44:57.620933Z"
    }
   },
   "outputs": [
    {
     "name": "stdout",
     "output_type": "stream",
     "text": [
      "(197, 1) (48, 1)\n"
     ]
    }
   ],
   "source": [
    "y = data[['yt_']]\n",
    "y_train = y.iloc[:197]\n",
    "\n",
    "y_test = y.iloc[198:]\n",
    "print(y_train.shape, y_test.shape)"
   ]
  },
  {
   "cell_type": "code",
   "execution_count": 12,
   "metadata": {
    "ExecuteTime": {
     "end_time": "2022-01-27T07:44:57.651044Z",
     "start_time": "2022-01-27T07:44:57.636319Z"
    }
   },
   "outputs": [],
   "source": [
    "scaler = MinMaxScaler(feature_range=(-1,1))\n",
    "\n",
    "y_train = scaler.fit_transform(y_train)\n",
    "y_test = scaler.fit_transform(y_test)"
   ]
  },
  {
   "cell_type": "code",
   "execution_count": 13,
   "metadata": {
    "ExecuteTime": {
     "end_time": "2022-01-27T07:44:57.666275Z",
     "start_time": "2022-01-27T07:44:57.652118Z"
    }
   },
   "outputs": [
    {
     "data": {
      "text/plain": [
       "<keras.regularizers.L1 at 0x281d0c93e80>"
      ]
     },
     "execution_count": 13,
     "metadata": {},
     "output_type": "execute_result"
    }
   ],
   "source": [
    "lactivity_regularizer=regularizers.l1(0.00001)\n",
    "lactivity_regularizer"
   ]
  },
  {
   "cell_type": "markdown",
   "metadata": {},
   "source": [
    "### RNN LSTM Model"
   ]
  },
  {
   "cell_type": "code",
   "execution_count": 28,
   "metadata": {
    "ExecuteTime": {
     "end_time": "2022-01-27T07:57:02.385516Z",
     "start_time": "2022-01-27T07:57:02.362831Z"
    }
   },
   "outputs": [
    {
     "data": {
      "text/html": [
       "<div>\n",
       "<style scoped>\n",
       "    .dataframe tbody tr th:only-of-type {\n",
       "        vertical-align: middle;\n",
       "    }\n",
       "\n",
       "    .dataframe tbody tr th {\n",
       "        vertical-align: top;\n",
       "    }\n",
       "\n",
       "    .dataframe thead th {\n",
       "        text-align: right;\n",
       "    }\n",
       "</style>\n",
       "<table border=\"1\" class=\"dataframe\">\n",
       "  <thead>\n",
       "    <tr style=\"text-align: right;\">\n",
       "      <th></th>\n",
       "      <th>Date</th>\n",
       "      <th>compound</th>\n",
       "      <th>neg</th>\n",
       "      <th>neu</th>\n",
       "      <th>pos</th>\n",
       "      <th>Open</th>\n",
       "      <th>High</th>\n",
       "      <th>Low</th>\n",
       "      <th>Close</th>\n",
       "      <th>Volume</th>\n",
       "    </tr>\n",
       "  </thead>\n",
       "  <tbody>\n",
       "    <tr>\n",
       "      <th>0</th>\n",
       "      <td>20210104</td>\n",
       "      <td>0.9999</td>\n",
       "      <td>0.043</td>\n",
       "      <td>0.807</td>\n",
       "      <td>0.149</td>\n",
       "      <td>819000.0</td>\n",
       "      <td>838000.0</td>\n",
       "      <td>804000.0</td>\n",
       "      <td>829000.0</td>\n",
       "      <td>182864</td>\n",
       "    </tr>\n",
       "    <tr>\n",
       "      <th>1</th>\n",
       "      <td>20210105</td>\n",
       "      <td>0.9999</td>\n",
       "      <td>0.044</td>\n",
       "      <td>0.796</td>\n",
       "      <td>0.160</td>\n",
       "      <td>825000.0</td>\n",
       "      <td>834000.0</td>\n",
       "      <td>818000.0</td>\n",
       "      <td>832000.0</td>\n",
       "      <td>119911</td>\n",
       "    </tr>\n",
       "    <tr>\n",
       "      <th>2</th>\n",
       "      <td>20210106</td>\n",
       "      <td>0.9998</td>\n",
       "      <td>0.054</td>\n",
       "      <td>0.807</td>\n",
       "      <td>0.140</td>\n",
       "      <td>828000.0</td>\n",
       "      <td>837000.0</td>\n",
       "      <td>816000.0</td>\n",
       "      <td>817000.0</td>\n",
       "      <td>145873</td>\n",
       "    </tr>\n",
       "    <tr>\n",
       "      <th>3</th>\n",
       "      <td>20210107</td>\n",
       "      <td>0.9998</td>\n",
       "      <td>0.044</td>\n",
       "      <td>0.793</td>\n",
       "      <td>0.163</td>\n",
       "      <td>824000.0</td>\n",
       "      <td>824000.0</td>\n",
       "      <td>816000.0</td>\n",
       "      <td>819000.0</td>\n",
       "      <td>116480</td>\n",
       "    </tr>\n",
       "    <tr>\n",
       "      <th>4</th>\n",
       "      <td>20210108</td>\n",
       "      <td>0.9995</td>\n",
       "      <td>0.065</td>\n",
       "      <td>0.793</td>\n",
       "      <td>0.142</td>\n",
       "      <td>821000.0</td>\n",
       "      <td>840000.0</td>\n",
       "      <td>815000.0</td>\n",
       "      <td>837000.0</td>\n",
       "      <td>263860</td>\n",
       "    </tr>\n",
       "    <tr>\n",
       "      <th>...</th>\n",
       "      <td>...</td>\n",
       "      <td>...</td>\n",
       "      <td>...</td>\n",
       "      <td>...</td>\n",
       "      <td>...</td>\n",
       "      <td>...</td>\n",
       "      <td>...</td>\n",
       "      <td>...</td>\n",
       "      <td>...</td>\n",
       "      <td>...</td>\n",
       "    </tr>\n",
       "    <tr>\n",
       "      <th>243</th>\n",
       "      <td>20211224</td>\n",
       "      <td>0.9993</td>\n",
       "      <td>0.033</td>\n",
       "      <td>0.814</td>\n",
       "      <td>0.153</td>\n",
       "      <td>896000.0</td>\n",
       "      <td>903000.0</td>\n",
       "      <td>885000.0</td>\n",
       "      <td>885000.0</td>\n",
       "      <td>49424</td>\n",
       "    </tr>\n",
       "    <tr>\n",
       "      <th>244</th>\n",
       "      <td>20211227</td>\n",
       "      <td>0.9997</td>\n",
       "      <td>0.053</td>\n",
       "      <td>0.794</td>\n",
       "      <td>0.153</td>\n",
       "      <td>885000.0</td>\n",
       "      <td>897000.0</td>\n",
       "      <td>885000.0</td>\n",
       "      <td>886000.0</td>\n",
       "      <td>57185</td>\n",
       "    </tr>\n",
       "    <tr>\n",
       "      <th>245</th>\n",
       "      <td>20211228</td>\n",
       "      <td>0.9994</td>\n",
       "      <td>0.051</td>\n",
       "      <td>0.818</td>\n",
       "      <td>0.132</td>\n",
       "      <td>891000.0</td>\n",
       "      <td>893000.0</td>\n",
       "      <td>883000.0</td>\n",
       "      <td>891000.0</td>\n",
       "      <td>90833</td>\n",
       "    </tr>\n",
       "    <tr>\n",
       "      <th>246</th>\n",
       "      <td>20211229</td>\n",
       "      <td>0.9996</td>\n",
       "      <td>0.055</td>\n",
       "      <td>0.805</td>\n",
       "      <td>0.139</td>\n",
       "      <td>899000.0</td>\n",
       "      <td>905000.0</td>\n",
       "      <td>884000.0</td>\n",
       "      <td>890000.0</td>\n",
       "      <td>71560</td>\n",
       "    </tr>\n",
       "    <tr>\n",
       "      <th>247</th>\n",
       "      <td>20211230</td>\n",
       "      <td>0.9997</td>\n",
       "      <td>0.082</td>\n",
       "      <td>0.743</td>\n",
       "      <td>0.175</td>\n",
       "      <td>959000.0</td>\n",
       "      <td>959000.0</td>\n",
       "      <td>896000.0</td>\n",
       "      <td>903000.0</td>\n",
       "      <td>173007</td>\n",
       "    </tr>\n",
       "  </tbody>\n",
       "</table>\n",
       "<p>248 rows × 10 columns</p>\n",
       "</div>"
      ],
      "text/plain": [
       "         Date  compound    neg    neu    pos      Open      High       Low  \\\n",
       "0    20210104    0.9999  0.043  0.807  0.149  819000.0  838000.0  804000.0   \n",
       "1    20210105    0.9999  0.044  0.796  0.160  825000.0  834000.0  818000.0   \n",
       "2    20210106    0.9998  0.054  0.807  0.140  828000.0  837000.0  816000.0   \n",
       "3    20210107    0.9998  0.044  0.793  0.163  824000.0  824000.0  816000.0   \n",
       "4    20210108    0.9995  0.065  0.793  0.142  821000.0  840000.0  815000.0   \n",
       "..        ...       ...    ...    ...    ...       ...       ...       ...   \n",
       "243  20211224    0.9993  0.033  0.814  0.153  896000.0  903000.0  885000.0   \n",
       "244  20211227    0.9997  0.053  0.794  0.153  885000.0  897000.0  885000.0   \n",
       "245  20211228    0.9994  0.051  0.818  0.132  891000.0  893000.0  883000.0   \n",
       "246  20211229    0.9996  0.055  0.805  0.139  899000.0  905000.0  884000.0   \n",
       "247  20211230    0.9997  0.082  0.743  0.175  959000.0  959000.0  896000.0   \n",
       "\n",
       "        Close  Volume  \n",
       "0    829000.0  182864  \n",
       "1    832000.0  119911  \n",
       "2    817000.0  145873  \n",
       "3    819000.0  116480  \n",
       "4    837000.0  263860  \n",
       "..        ...     ...  \n",
       "243  885000.0   49424  \n",
       "244  886000.0   57185  \n",
       "245  891000.0   90833  \n",
       "246  890000.0   71560  \n",
       "247  903000.0  173007  \n",
       "\n",
       "[248 rows x 10 columns]"
      ]
     },
     "execution_count": 28,
     "metadata": {},
     "output_type": "execute_result"
    }
   ],
   "source": [
    "data_csv"
   ]
  },
  {
   "cell_type": "code",
   "execution_count": 14,
   "metadata": {
    "ExecuteTime": {
     "end_time": "2022-01-27T07:45:02.605584Z",
     "start_time": "2022-01-27T07:44:57.667715Z"
    }
   },
   "outputs": [
    {
     "name": "stdout",
     "output_type": "stream",
     "text": [
      "5/5 [==============================] - 5s 124ms/step - loss: 0.1815 - val_loss: 0.2402\n"
     ]
    },
    {
     "data": {
      "text/plain": [
       "<keras.callbacks.History at 0x281d20402b0>"
      ]
     },
     "execution_count": 14,
     "metadata": {},
     "output_type": "execute_result"
    }
   ],
   "source": [
    "batch_size = 32\n",
    "nb_epoch = 100\n",
    "neurons = 25\n",
    "dropout = 0.1\n",
    "\n",
    "seed = 2016\n",
    "np.random.seed(seed)\n",
    "\n",
    "model = Sequential()\n",
    "model.add(LSTM(neurons, return_sequences=True, activation='tanh', input_shape=(len(cols), 1)))\n",
    "model.add(Dropout(dropout))\n",
    "model.add(LSTM(neurons, return_sequences=True,  activation='tanh'))\n",
    "model.add(Dropout(dropout))\n",
    "model.add(LSTM(neurons, activation='tanh'))\n",
    "model.add(Dropout(dropout))\n",
    "\n",
    "model.add(Dense(1))\n",
    "# model.add(Activation('tanh'))\n",
    "\n",
    "# print(model.summary())\n",
    "\n",
    "model.compile(loss='mean_squared_error' , optimizer='adam')\n",
    "model.fit(X_train, y_train, batch_size=batch_size, verbose=1, validation_split=0.2)\n",
    "# model.fit(X_train, y_train, batch_size=batch_size, nb_epoch=nb_epoch, verbose=1, validation_split=0.2)"
   ]
  },
  {
   "cell_type": "markdown",
   "metadata": {},
   "source": [
    "### Score Calculation"
   ]
  },
  {
   "cell_type": "code",
   "execution_count": 15,
   "metadata": {
    "ExecuteTime": {
     "end_time": "2022-01-27T07:45:03.802029Z",
     "start_time": "2022-01-27T07:45:02.606818Z"
    }
   },
   "outputs": [
    {
     "name": "stdout",
     "output_type": "stream",
     "text": [
      "197/197 [==============================] - 1s 2ms/step - loss: 0.1861\n",
      "48/48 [==============================] - 0s 2ms/step - loss: 0.2020\n",
      "in train MSE =  0.1861\n",
      "in test MSE =  0.2020045667886734\n"
     ]
    }
   ],
   "source": [
    "score_train = model.evaluate(X_train, y_train, batch_size =1)\n",
    "score_test = model.evaluate(X_test, y_test, batch_size =1)\n",
    "print(\"in train MSE = \", round( score_train ,4)) \n",
    "print(\"in test MSE = \", score_test )"
   ]
  },
  {
   "cell_type": "markdown",
   "metadata": {},
   "source": [
    "### Saving model"
   ]
  },
  {
   "cell_type": "code",
   "execution_count": 16,
   "metadata": {
    "ExecuteTime": {
     "end_time": "2022-01-27T07:45:03.848194Z",
     "start_time": "2022-01-27T07:45:03.804597Z"
    }
   },
   "outputs": [
    {
     "name": "stdout",
     "output_type": "stream",
     "text": [
      "Saved model to disk\n"
     ]
    }
   ],
   "source": [
    "model_json = model.to_json()\n",
    "with open(\"model_rms100e_new.json\", \"w\") as json_file:\n",
    "    json_file.write(model_json)\n",
    "# serialize weights to HDF5\n",
    "model.save_weights(\"model_rms100e_new.h5\")\n",
    "print(\"Saved model to disk\")"
   ]
  },
  {
   "cell_type": "markdown",
   "metadata": {},
   "source": [
    "### Predicting on unseen data"
   ]
  },
  {
   "cell_type": "code",
   "execution_count": 17,
   "metadata": {
    "ExecuteTime": {
     "end_time": "2022-01-27T07:45:04.328120Z",
     "start_time": "2022-01-27T07:45:03.849518Z"
    }
   },
   "outputs": [
    {
     "name": "stdout",
     "output_type": "stream",
     "text": [
      "Inputs: (None, 7, 1)\n",
      "Outputs: (None, 1)\n",
      "Actual input: (48, 7, 1)\n",
      "Actual output: (48, 1)\n",
      "prediction data:\n",
      "[-0.04570197]\n",
      "actual data\n"
     ]
    }
   ],
   "source": [
    "pred = model.predict(X_test) \n",
    "\n",
    "prediction_data = pred[-1]     \n",
    "\n",
    "print (\"Inputs: {}\".format(model.input_shape))\n",
    "print (\"Outputs: {}\".format(model.output_shape))\n",
    "print (\"Actual input: {}\".format(X_test.shape))\n",
    "print (\"Actual output: {}\".format(y_test.shape))\n",
    "\n",
    "print (\"prediction data:\")\n",
    "print (prediction_data)\n",
    "\n",
    "print (\"actual data\")\n",
    "# X_test = scaler_x.inverse_transform(np.array(X_test).reshape((len(X_test), len(cols))))\n",
    "# print (X_test)\n"
   ]
  },
  {
   "cell_type": "code",
   "execution_count": 22,
   "metadata": {
    "ExecuteTime": {
     "end_time": "2022-01-27T07:45:52.349709Z",
     "start_time": "2022-01-27T07:45:52.335920Z"
    }
   },
   "outputs": [],
   "source": [
    "import pandas as pd"
   ]
  },
  {
   "cell_type": "code",
   "execution_count": 27,
   "metadata": {
    "ExecuteTime": {
     "end_time": "2022-01-27T07:47:43.095579Z",
     "start_time": "2022-01-27T07:47:42.993515Z"
    }
   },
   "outputs": [
    {
     "data": {
      "image/png": "[encoded data removed]",
      "text/plain": [
       "<Figure size 432x288 with 1 Axes>"
      ]
     },
     "metadata": {
      "needs_background": "light"
     },
     "output_type": "display_data"
    }
   ],
   "source": [
    "plt.plot(pred, label=\"predictions\")\n",
    "plt.plot([row[0] for row in y_test], label=\"actual\")\n",
    "plt.show()"
   ]
  },
  {
   "cell_type": "code",
   "execution_count": null,
   "metadata": {},
   "outputs": [],
   "source": []
  }
 ],
 "metadata": {
  "kernelspec": {
   "display_name": "Python 3 (ipykernel)",
   "language": "python",
   "name": "python3"
  },
  "language_info": {
   "codemirror_mode": {
    "name": "ipython",
    "version": 3
   },
   "file_extension": ".py",
   "mimetype": "text/x-python",
   "name": "python",
   "nbconvert_exporter": "python",
   "pygments_lexer": "ipython3",
   "version": "3.9.7"
  },
  "toc": {
   "base_numbering": 1,
   "nav_menu": {},
   "number_sections": false,
   "sideBar": true,
   "skip_h1_title": false,
   "title_cell": "Table of Contents",
   "title_sidebar": "Contents",
   "toc_cell": false,
   "toc_position": {},
   "toc_section_display": true,
   "toc_window_display": false
  },
  "varInspector": {
   "cols": {
    "lenName": 16,
    "lenType": 16,
    "lenVar": 40
   },
   "kernels_config": {
    "python": {
     "delete_cmd_postfix": "",
     "delete_cmd_prefix": "del ",
     "library": "var_list.py",
     "varRefreshCmd": "print(var_dic_list())"
    },
    "r": {
     "delete_cmd_postfix": ") ",
     "delete_cmd_prefix": "rm(",
     "library": "var_list.r",
     "varRefreshCmd": "cat(var_dic_list()) "
    }
   },
   "types_to_exclude": [
    "module",
    "function",
    "builtin_function_or_method",
    "instance",
    "_Feature"
   ],
   "window_display": false
  }
 },
 "nbformat": 4,
 "nbformat_minor": 2
}
