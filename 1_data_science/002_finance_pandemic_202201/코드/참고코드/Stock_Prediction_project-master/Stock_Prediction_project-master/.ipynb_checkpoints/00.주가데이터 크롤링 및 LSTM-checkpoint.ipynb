{
 "cells": [
  {
   "cell_type": "markdown",
   "metadata": {
    "toc": true
   },
   "source": [
    "<h1>Table of Contents<span class=\"tocSkip\"></span></h1>\n",
    "<div class=\"toc\"><ul class=\"toc-item\"><li><span><a href=\"#1.-야후-파이낸스로-주가-구하기\" data-toc-modified-id=\"1.-야후-파이낸스로-주가-구하기-1\">1. 야후 파이낸스로 주가 구하기</a></span></li><li><span><a href=\"#2.-MinMaxScaler-함수-적용\" data-toc-modified-id=\"2.-MinMaxScaler-함수-적용-2\">2. MinMaxScaler 함수 적용</a></span></li><li><span><a href=\"#3.-데이터셋-준비하기\" data-toc-modified-id=\"3.-데이터셋-준비하기-3\">3. 데이터셋 준비하기</a></span></li><li><span><a href=\"#4.-모델-생성하기\" data-toc-modified-id=\"4.-모델-생성하기-4\">4. 모델 생성하기</a></span></li><li><span><a href=\"#5.-내일의-종가-출력\" data-toc-modified-id=\"5.-내일의-종가-출력-5\">5. 내일의 종가 출력</a></span></li></ul></div>"
   ]
  },
  {
   "cell_type": "markdown",
   "metadata": {},
   "source": [
    "**cf1) 텐서플로 설치 시 오류 해결**\n",
    "\n",
    "conda update -n base conda\n",
    "    \n",
    "Python 버전3.5 ~ 3.7 에서만 설치가 가능하므로, conda create -n tensor_37_env python=3.7 로 3.7 버전 가상환경 생성\n",
    "\n",
    "conda activate tensor_37_env (가상환경 종료 시에는 conda deactivate)\n",
    "\n",
    "conda install tensorflow"
   ]
  },
  {
   "cell_type": "markdown",
   "metadata": {},
   "source": [
    "**cf2) 텐서플로 가상환경에서 jupyter notebook 실행**\n",
    "\n",
    "conda activate tensor_37_env\n",
    "\n",
    "pip install jupyter notebook\n",
    "\n",
    "(pip install ipykernel)\n",
    "\n",
    "가상환경에 커널 연결 -> python -m ipykernel install --user --name tensor_37_env --display-name \"[Tensorflow_37_env]\"\n",
    "\n",
    "jupyter notebook을 입력하여 실행"
   ]
  },
  {
   "cell_type": "markdown",
   "metadata": {},
   "source": [
    "# 1. 야후 파이낸스로 주가 구하기"
   ]
  },
  {
   "cell_type": "code",
   "execution_count": 1,
   "metadata": {},
   "outputs": [],
   "source": [
    "import numpy as np\n",
    "import pandas as pd\n",
    "import matplotlib.pyplot as plt\n",
    "from pandas_datareader import data as pdr\n",
    "import yfinance as yf\n",
    "import tensorflow as tf\n",
    "from tensorflow.keras import Sequential\n",
    "from tensorflow.keras.layers import Dense, LSTM, Dropout"
   ]
  },
  {
   "cell_type": "code",
   "execution_count": 2,
   "metadata": {},
   "outputs": [],
   "source": [
    "def StockData(code, date):\n",
    "    yf.pdr_override()\n",
    "    df = pdr.get_data_yahoo(f'{code}.KS', start=f'{date}')\n",
    "    df = df[['Open','High','Low','Volume','Close']]\n",
    "    return df"
   ]
  },
  {
   "cell_type": "code",
   "execution_count": 19,
   "metadata": {},
   "outputs": [
    {
     "name": "stdout",
     "output_type": "stream",
     "text": [
      "[*********************100%***********************]  1 of 1 completed\n"
     ]
    },
    {
     "data": {
      "text/html": [
       "<div>\n",
       "<style scoped>\n",
       "    .dataframe tbody tr th:only-of-type {\n",
       "        vertical-align: middle;\n",
       "    }\n",
       "\n",
       "    .dataframe tbody tr th {\n",
       "        vertical-align: top;\n",
       "    }\n",
       "\n",
       "    .dataframe thead th {\n",
       "        text-align: right;\n",
       "    }\n",
       "</style>\n",
       "<table border=\"1\" class=\"dataframe\">\n",
       "  <thead>\n",
       "    <tr style=\"text-align: right;\">\n",
       "      <th></th>\n",
       "      <th>Open</th>\n",
       "      <th>High</th>\n",
       "      <th>Low</th>\n",
       "      <th>Volume</th>\n",
       "      <th>Close</th>\n",
       "    </tr>\n",
       "    <tr>\n",
       "      <th>Date</th>\n",
       "      <th></th>\n",
       "      <th></th>\n",
       "      <th></th>\n",
       "      <th></th>\n",
       "      <th></th>\n",
       "    </tr>\n",
       "  </thead>\n",
       "  <tbody>\n",
       "    <tr>\n",
       "      <th>2019-01-02</th>\n",
       "      <td>39400.0</td>\n",
       "      <td>39400.0</td>\n",
       "      <td>38550.0</td>\n",
       "      <td>7847664</td>\n",
       "      <td>38750.0</td>\n",
       "    </tr>\n",
       "    <tr>\n",
       "      <th>2019-01-03</th>\n",
       "      <td>38300.0</td>\n",
       "      <td>38550.0</td>\n",
       "      <td>37450.0</td>\n",
       "      <td>12471493</td>\n",
       "      <td>37600.0</td>\n",
       "    </tr>\n",
       "    <tr>\n",
       "      <th>2019-01-04</th>\n",
       "      <td>37450.0</td>\n",
       "      <td>37600.0</td>\n",
       "      <td>36850.0</td>\n",
       "      <td>14108958</td>\n",
       "      <td>37450.0</td>\n",
       "    </tr>\n",
       "    <tr>\n",
       "      <th>2019-01-07</th>\n",
       "      <td>38000.0</td>\n",
       "      <td>38900.0</td>\n",
       "      <td>37800.0</td>\n",
       "      <td>12748997</td>\n",
       "      <td>38750.0</td>\n",
       "    </tr>\n",
       "    <tr>\n",
       "      <th>2019-01-08</th>\n",
       "      <td>38000.0</td>\n",
       "      <td>39200.0</td>\n",
       "      <td>37950.0</td>\n",
       "      <td>12756554</td>\n",
       "      <td>38100.0</td>\n",
       "    </tr>\n",
       "  </tbody>\n",
       "</table>\n",
       "</div>"
      ],
      "text/plain": [
       "               Open     High      Low    Volume    Close\n",
       "Date                                                    \n",
       "2019-01-02  39400.0  39400.0  38550.0   7847664  38750.0\n",
       "2019-01-03  38300.0  38550.0  37450.0  12471493  37600.0\n",
       "2019-01-04  37450.0  37600.0  36850.0  14108958  37450.0\n",
       "2019-01-07  38000.0  38900.0  37800.0  12748997  38750.0\n",
       "2019-01-08  38000.0  39200.0  37950.0  12756554  38100.0"
      ]
     },
     "execution_count": 19,
     "metadata": {},
     "output_type": "execute_result"
    }
   ],
   "source": [
    "df = StockData('005930', '2019-01-01')     # 삼성전자\n",
    "df.head()"
   ]
  },
  {
   "cell_type": "markdown",
   "metadata": {},
   "source": [
    "# 2. MinMaxScaler 함수 적용\n",
    "\n",
    "계산 시간 단축을 위해 OHLVC 데이터를 0 ~1 사이의 값으로 변환"
   ]
  },
  {
   "cell_type": "code",
   "execution_count": 4,
   "metadata": {},
   "outputs": [],
   "source": [
    "def MinMaxScaler(data):\n",
    "    numerator = data - np.min(data, 0)\n",
    "    denominator = np.max(data, 0) - np.min(data, 0)\n",
    "    return numerator / (denominator + 1e-7)     # 0으로 나누기 에러 방지"
   ]
  },
  {
   "cell_type": "code",
   "execution_count": 5,
   "metadata": {},
   "outputs": [],
   "source": [
    "df_x = MinMaxScaler(df)\n",
    "df_y = df_x[['Close']]\n",
    "\n",
    "x = df_x.values.tolist()\n",
    "y = df_y.values.tolist()"
   ]
  },
  {
   "cell_type": "code",
   "execution_count": 6,
   "metadata": {},
   "outputs": [
    {
     "name": "stdout",
     "output_type": "stream",
     "text": [
      "<class 'pandas.core.frame.DataFrame'>\n",
      "DatetimeIndex: 515 entries, 2019-01-02 to 2021-02-02\n",
      "Data columns (total 5 columns):\n",
      " #   Column  Non-Null Count  Dtype  \n",
      "---  ------  --------------  -----  \n",
      " 0   Open    515 non-null    float64\n",
      " 1   High    515 non-null    float64\n",
      " 2   Low     515 non-null    float64\n",
      " 3   Volume  515 non-null    float64\n",
      " 4   Close   515 non-null    float64\n",
      "dtypes: float64(5)\n",
      "memory usage: 24.1 KB\n"
     ]
    }
   ],
   "source": [
    "df_x.info()"
   ]
  },
  {
   "cell_type": "code",
   "execution_count": 7,
   "metadata": {},
   "outputs": [
    {
     "name": "stdout",
     "output_type": "stream",
     "text": [
      "<class 'pandas.core.frame.DataFrame'>\n",
      "DatetimeIndex: 515 entries, 2019-01-02 to 2021-02-02\n",
      "Data columns (total 1 columns):\n",
      " #   Column  Non-Null Count  Dtype  \n",
      "---  ------  --------------  -----  \n",
      " 0   Close   515 non-null    float64\n",
      "dtypes: float64(1)\n",
      "memory usage: 8.0 KB\n"
     ]
    }
   ],
   "source": [
    "df_y.info()"
   ]
  },
  {
   "cell_type": "code",
   "execution_count": 8,
   "metadata": {},
   "outputs": [
    {
     "data": {
      "text/plain": [
       "[0.8826868495725966,\n",
       " 0.8243243243229319,\n",
       " 0.889838556503533,\n",
       " 0.2873357267687234,\n",
       " 0.8767507002784748]"
      ]
     },
     "execution_count": 8,
     "metadata": {},
     "output_type": "execute_result"
    }
   ],
   "source": [
    "x[-1]"
   ]
  },
  {
   "cell_type": "code",
   "execution_count": 9,
   "metadata": {},
   "outputs": [
    {
     "data": {
      "text/plain": [
       "[0.8767507002784748]"
      ]
     },
     "execution_count": 9,
     "metadata": {},
     "output_type": "execute_result"
    }
   ],
   "source": [
    "y[-1]"
   ]
  },
  {
   "cell_type": "markdown",
   "metadata": {},
   "source": [
    "# 3. 데이터셋 준비하기"
   ]
  },
  {
   "cell_type": "code",
   "execution_count": 12,
   "metadata": {},
   "outputs": [
    {
     "name": "stdout",
     "output_type": "stream",
     "text": [
      "이전 10일 동안 OHLVC :  [[0.8902554399226296, 0.8513513513499132, 0.8879392212708681, 0.44177536161230646, 0.9253034547134915], [0.9754020813605007, 0.8682432432417766, 0.9430199430181518, 0.2791738930549565, 0.9290382819777235], [0.9470198675478769, 0.8614864864850312, 0.9430199430181518, 0.28035746657728594, 0.9458450046667678], [0.9754020813605007, 0.880067567566081, 0.9487179487161468, 0.34174474022967405, 0.9215686274492594], [0.9375591296103357, 0.8834459459444536, 0.939221272552822, 0.30184573088505307, 0.9701213818842761], [0.9716177861854841, 0.8716216216201492, 0.9430199430181518, 0.3674049450681537, 0.9197012138171434], [0.9299905392603027, 0.8462837837823542, 0.9259259259241672, 0.29259427071085037, 0.8991596638638671], [0.8656575212850224, 0.8108108108094412, 0.8803418803402082, 0.35279766078459907, 0.8636788048536626], [0.8902554399226296, 0.8006756756743232, 0.8575498575482288, 0.43868514110612783, 0.8319327731076901], [0.8372753074723988, 0.7736486486473418, 0.8385565052215792, 0.3105749012052627, 0.8506069094288504]] \n",
      "다음 날 종가 :  [0.8767507002784748]\n"
     ]
    }
   ],
   "source": [
    "data_x = []\n",
    "data_y = []\n",
    "window_size = 10     # 이전 10일 동안 OHLVC 데이터로 다음 날 종가 예측\n",
    "for i in range(len(y) - window_size):\n",
    "    x2 = x[i : i + window_size]\n",
    "    y2 = y[i + window_size]\n",
    "    data_x.append(x2)\n",
    "    data_y.append(y2)\n",
    "print(\"이전 10일 동안 OHLVC : \", x2, \"\\n다음 날 종가 : \", y2)"
   ]
  },
  {
   "cell_type": "code",
   "execution_count": 13,
   "metadata": {},
   "outputs": [],
   "source": [
    "# 훈련용 데이터셋 70%\n",
    "train_size = int(len(data_y) * 0.7)\n",
    "train_x = np.array(data_x[0:train_size])\n",
    "train_y = np.array(data_y[0:train_size])\n",
    "\n",
    "# 테스트용 데이터셋 30%\n",
    "test_size = len(data_y) - train_size\n",
    "test_x = np.array(data_x[train_size:len(data_x)])\n",
    "test_y = np.array(data_y[train_size:len(data_y)])"
   ]
  },
  {
   "cell_type": "markdown",
   "metadata": {},
   "source": [
    "# 4. 모델 생성하기"
   ]
  },
  {
   "cell_type": "code",
   "execution_count": 16,
   "metadata": {
    "scrolled": true
   },
   "outputs": [
    {
     "name": "stdout",
     "output_type": "stream",
     "text": [
      "Model: \"sequential_2\"\n",
      "_________________________________________________________________\n",
      "Layer (type)                 Output Shape              Param #   \n",
      "=================================================================\n",
      "lstm_4 (LSTM)                (None, 10, 10)            640       \n",
      "_________________________________________________________________\n",
      "dropout_4 (Dropout)          (None, 10, 10)            0         \n",
      "_________________________________________________________________\n",
      "lstm_5 (LSTM)                (None, 10)                840       \n",
      "_________________________________________________________________\n",
      "dropout_5 (Dropout)          (None, 10)                0         \n",
      "_________________________________________________________________\n",
      "dense_2 (Dense)              (None, 1)                 11        \n",
      "=================================================================\n",
      "Total params: 1,491\n",
      "Trainable params: 1,491\n",
      "Non-trainable params: 0\n",
      "_________________________________________________________________\n",
      "Epoch 1/60\n",
      "12/12 [==============================] - 0s 14ms/step - loss: 0.0447\n",
      "Epoch 2/60\n",
      "12/12 [==============================] - 0s 12ms/step - loss: 0.0295\n",
      "Epoch 3/60\n",
      "12/12 [==============================] - 0s 13ms/step - loss: 0.0154\n",
      "Epoch 4/60\n",
      "12/12 [==============================] - 0s 12ms/step - loss: 0.0074\n",
      "Epoch 5/60\n",
      "12/12 [==============================] - 0s 12ms/step - loss: 0.0063\n",
      "Epoch 6/60\n",
      "12/12 [==============================] - 0s 12ms/step - loss: 0.0051\n",
      "Epoch 7/60\n",
      "12/12 [==============================] - 0s 13ms/step - loss: 0.0056\n",
      "Epoch 8/60\n",
      "12/12 [==============================] - 0s 13ms/step - loss: 0.0044\n",
      "Epoch 9/60\n",
      "12/12 [==============================] - 0s 13ms/step - loss: 0.0040\n",
      "Epoch 10/60\n",
      "12/12 [==============================] - 0s 12ms/step - loss: 0.0034\n",
      "Epoch 11/60\n",
      "12/12 [==============================] - 0s 13ms/step - loss: 0.0035\n",
      "Epoch 12/60\n",
      "12/12 [==============================] - 0s 13ms/step - loss: 0.0023\n",
      "Epoch 13/60\n",
      "12/12 [==============================] - 0s 13ms/step - loss: 0.0026\n",
      "Epoch 14/60\n",
      "12/12 [==============================] - 0s 12ms/step - loss: 0.0026\n",
      "Epoch 15/60\n",
      "12/12 [==============================] - 0s 12ms/step - loss: 0.0022\n",
      "Epoch 16/60\n",
      "12/12 [==============================] - 0s 13ms/step - loss: 0.0025\n",
      "Epoch 17/60\n",
      "12/12 [==============================] - 0s 12ms/step - loss: 0.0021\n",
      "Epoch 18/60\n",
      "12/12 [==============================] - 0s 12ms/step - loss: 0.0027\n",
      "Epoch 19/60\n",
      "12/12 [==============================] - 0s 13ms/step - loss: 0.0022\n",
      "Epoch 20/60\n",
      "12/12 [==============================] - 0s 13ms/step - loss: 0.0020\n",
      "Epoch 21/60\n",
      "12/12 [==============================] - 0s 12ms/step - loss: 0.0022\n",
      "Epoch 22/60\n",
      "12/12 [==============================] - 0s 13ms/step - loss: 0.0021\n",
      "Epoch 23/60\n",
      "12/12 [==============================] - 0s 12ms/step - loss: 0.0022\n",
      "Epoch 24/60\n",
      "12/12 [==============================] - 0s 12ms/step - loss: 0.0020\n",
      "Epoch 25/60\n",
      "12/12 [==============================] - 0s 12ms/step - loss: 0.0021\n",
      "Epoch 26/60\n",
      "12/12 [==============================] - 0s 12ms/step - loss: 0.0023\n",
      "Epoch 27/60\n",
      "12/12 [==============================] - 0s 12ms/step - loss: 0.0021\n",
      "Epoch 28/60\n",
      "12/12 [==============================] - 0s 11ms/step - loss: 0.0020\n",
      "Epoch 29/60\n",
      "12/12 [==============================] - 0s 12ms/step - loss: 0.0022\n",
      "Epoch 30/60\n",
      "12/12 [==============================] - 0s 12ms/step - loss: 0.0018\n",
      "Epoch 31/60\n",
      "12/12 [==============================] - 0s 12ms/step - loss: 0.0020\n",
      "Epoch 32/60\n",
      "12/12 [==============================] - 0s 12ms/step - loss: 0.0019\n",
      "Epoch 33/60\n",
      "12/12 [==============================] - 0s 12ms/step - loss: 0.0020\n",
      "Epoch 34/60\n",
      "12/12 [==============================] - 0s 12ms/step - loss: 0.0020\n",
      "Epoch 35/60\n",
      "12/12 [==============================] - 0s 12ms/step - loss: 0.0019\n",
      "Epoch 36/60\n",
      "12/12 [==============================] - 0s 12ms/step - loss: 0.0018\n",
      "Epoch 37/60\n",
      "12/12 [==============================] - 0s 12ms/step - loss: 0.0019\n",
      "Epoch 38/60\n",
      "12/12 [==============================] - 0s 12ms/step - loss: 0.0020\n",
      "Epoch 39/60\n",
      "12/12 [==============================] - 0s 12ms/step - loss: 0.0017\n",
      "Epoch 40/60\n",
      "12/12 [==============================] - 0s 12ms/step - loss: 0.0015\n",
      "Epoch 41/60\n",
      "12/12 [==============================] - 0s 11ms/step - loss: 0.0016\n",
      "Epoch 42/60\n",
      "12/12 [==============================] - 0s 12ms/step - loss: 0.0019\n",
      "Epoch 43/60\n",
      "12/12 [==============================] - 0s 12ms/step - loss: 0.0017\n",
      "Epoch 44/60\n",
      "12/12 [==============================] - 0s 12ms/step - loss: 0.0017\n",
      "Epoch 45/60\n",
      "12/12 [==============================] - 0s 12ms/step - loss: 0.0017\n",
      "Epoch 46/60\n",
      "12/12 [==============================] - 0s 11ms/step - loss: 0.0018\n",
      "Epoch 47/60\n",
      "12/12 [==============================] - 0s 10ms/step - loss: 0.0016\n",
      "Epoch 48/60\n",
      "12/12 [==============================] - 0s 12ms/step - loss: 0.0015\n",
      "Epoch 49/60\n",
      "12/12 [==============================] - 0s 12ms/step - loss: 0.0016\n",
      "Epoch 50/60\n",
      "12/12 [==============================] - 0s 12ms/step - loss: 0.0016\n",
      "Epoch 51/60\n",
      "12/12 [==============================] - 0s 12ms/step - loss: 0.0015\n",
      "Epoch 52/60\n",
      "12/12 [==============================] - 0s 12ms/step - loss: 0.0015\n",
      "Epoch 53/60\n",
      "12/12 [==============================] - 0s 11ms/step - loss: 0.0016\n",
      "Epoch 54/60\n",
      "12/12 [==============================] - 0s 11ms/step - loss: 0.0017\n",
      "Epoch 55/60\n",
      "12/12 [==============================] - 0s 12ms/step - loss: 0.0015\n",
      "Epoch 56/60\n",
      "12/12 [==============================] - 0s 12ms/step - loss: 0.0015\n",
      "Epoch 57/60\n",
      "12/12 [==============================] - 0s 12ms/step - loss: 0.0014\n",
      "Epoch 58/60\n",
      "12/12 [==============================] - 0s 12ms/step - loss: 0.0014\n",
      "Epoch 59/60\n",
      "12/12 [==============================] - 0s 12ms/step - loss: 0.0014\n",
      "Epoch 60/60\n",
      "12/12 [==============================] - 0s 12ms/step - loss: 0.0013\n"
     ]
    }
   ],
   "source": [
    "model = Sequential()\n",
    "model.add(LSTM(units=10, activation='relu', return_sequences=True, input_shape=(window_size, 5)))     # (10,5) 입력 형태를 가지는 LSTM층\n",
    "model.add(Dropout(0.1))     # 입력값의 10%를 0으로 치환하여 과적합 방지\n",
    "model.add(LSTM(units=10, activation='relu'))\n",
    "model.add(Dropout(0.1))\n",
    "model.add(Dense(units=1))\n",
    "model.summary()\n",
    "\n",
    "model.compile(optimizer='adam', loss='mean_squared_error')     # 최적화 도구:adam, 손실 함수:MSE\n",
    "model.fit(train_x, train_y, epochs=60, batch_size=30)          # epochs:전체 데이터셋 학습 횟수, batch_size:한 번에 제공되는 훈련 데이터 개수\n",
    "pred_y = model.predict(test_x)"
   ]
  },
  {
   "cell_type": "code",
   "execution_count": 18,
   "metadata": {},
   "outputs": [
    {
     "data": {
      "image/png": "[encoded data removed]",
      "text/plain": [
       "<Figure size 432x288 with 1 Axes>"
      ]
     },
     "metadata": {
      "needs_background": "light"
     },
     "output_type": "display_data"
    }
   ],
   "source": [
    "plt.figure()\n",
    "plt.plot(test_y, color='r', label='real stock price')\n",
    "plt.plot(pred_y, color='b', label='predicted stock price')\n",
    "plt.title('Real Stock Price vs Predicted Stock Price')\n",
    "plt.xlabel('time')\n",
    "plt.ylabel('stock price')\n",
    "plt.legend(loc='best')\n",
    "plt.show()"
   ]
  },
  {
   "cell_type": "markdown",
   "metadata": {},
   "source": [
    "# 5. 내일의 종가 출력\n",
    "\n",
    "MinMaxScaler로 변환하기 전후의 데이터를 이용하여 내일의 예측 가격 y를 구함\n",
    "\n",
    "    관계식 : df.Close[-1] : df_y.Close[-1] = y : pred_y[-1]"
   ]
  },
  {
   "cell_type": "code",
   "execution_count": 20,
   "metadata": {},
   "outputs": [
    {
     "name": "stdout",
     "output_type": "stream",
     "text": [
      "다음 날 예측 종가 :  [87746.93]\n"
     ]
    }
   ],
   "source": [
    "print(\"다음 날 예측 종가 : \", df.Close[-1]*pred_y[-1]/df_y.Close[-1])"
   ]
  },
  {
   "cell_type": "code",
   "execution_count": null,
   "metadata": {},
   "outputs": [],
   "source": []
  }
 ],
 "metadata": {
  "kernelspec": {
   "display_name": "[Tensorflow_37_env]",
   "language": "python",
   "name": "tensor_37_env"
  },
  "language_info": {
   "codemirror_mode": {
    "name": "ipython",
    "version": 3
   },
   "file_extension": ".py",
   "mimetype": "text/x-python",
   "name": "python",
   "nbconvert_exporter": "python",
   "pygments_lexer": "ipython3",
   "version": "3.7.9"
  },
  "toc": {
   "base_numbering": 1,
   "nav_menu": {},
   "number_sections": false,
   "sideBar": false,
   "skip_h1_title": false,
   "title_cell": "Table of Contents",
   "title_sidebar": "Contents",
   "toc_cell": true,
   "toc_position": {},
   "toc_section_display": true,
   "toc_window_display": false
  }
 },
 "nbformat": 4,
 "nbformat_minor": 5
}
