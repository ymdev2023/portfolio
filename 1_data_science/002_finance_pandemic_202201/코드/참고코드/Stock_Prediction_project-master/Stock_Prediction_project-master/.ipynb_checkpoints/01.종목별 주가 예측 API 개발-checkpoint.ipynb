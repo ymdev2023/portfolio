{
 "cells": [
  {
   "cell_type": "markdown",
   "metadata": {
    "toc": true
   },
   "source": [
    "<h1>Table of Contents<span class=\"tocSkip\"></span></h1>\n",
    "<div class=\"toc\"><ul class=\"toc-item\"><li><span><a href=\"#1.-종목별-주가-예측-API\" data-toc-modified-id=\"1.-종목별-주가-예측-API-1\">1. 종목별 주가 예측 API</a></span><ul class=\"toc-item\"><li><span><a href=\"#1.1-클래스-생성\" data-toc-modified-id=\"1.1-클래스-생성-1.1\">1.1 클래스 생성</a></span></li><li><span><a href=\"#1.2-클래스-활용\" data-toc-modified-id=\"1.2-클래스-활용-1.2\">1.2 클래스 활용</a></span></li></ul></li></ul></div>"
   ]
  },
  {
   "cell_type": "markdown",
   "metadata": {},
   "source": [
    "# 1. 종목별 주가 예측 API"
   ]
  },
  {
   "cell_type": "markdown",
   "metadata": {},
   "source": [
    "야후 파이낸스의 get_data_yahoo() 함수를 이용하여 **종목별 다음 날 종가를 예측하는 API 제작**\n",
    "\n",
    "- 종목코드, 시작날짜를 입력하면 해당 종목의 다음 날 종가 예측\n",
    "\n",
    "\n",
    "- (보완 예정) 종목코드를 몰라도 상장기업명으로 조회\n",
    "\n",
    "\n",
    "- (보완 예정) 자동으로 조회 일자 양식에 맞추어 변경"
   ]
  },
  {
   "cell_type": "markdown",
   "metadata": {},
   "source": [
    "## 1.1 클래스 생성"
   ]
  },
  {
   "cell_type": "markdown",
   "metadata": {},
   "source": [
    "C:\\Users\\dalgo\\05.Stock_Prediction_project\\01.딥러닝을 활용한 종목별 주가 예측\\Investar\\StockPrediction.py 파일 생성"
   ]
  },
  {
   "cell_type": "code",
   "execution_count": 4,
   "metadata": {},
   "outputs": [],
   "source": [
    "import numpy as np\n",
    "import pandas as pd\n",
    "import matplotlib.pyplot as plt\n",
    "from pandas_datareader import data as pdr\n",
    "import yfinance as yf\n",
    "import tensorflow as tf\n",
    "from tensorflow.keras import Sequential\n",
    "from tensorflow.keras.layers import Dense, LSTM, Dropout\n",
    "\n",
    "class StockPrediction:\n",
    "    def StockData(self, code, date):\n",
    "        yf.pdr_override()\n",
    "        df = pdr.get_data_yahoo(f'{code}.KS', start=f'{date}')\n",
    "        df = df[['Open','High','Low','Volume','Close']]\n",
    "        return df\n",
    "    \n",
    "    def MinMaxScaler(self, data):\n",
    "        numerator = data - np.min(data, 0)\n",
    "        denominator = np.max(data, 0) - np.min(data, 0)\n",
    "        return numerator / (denominator + 1e-7)\n",
    "    \n",
    "    def DataSet(self, code, date):\n",
    "        df = self.StockData(code, date)\n",
    "        df_x = self.MinMaxScaler(df)\n",
    "        df_y = df_x[['Close']]\n",
    "        \n",
    "        x = df_x.values.tolist()\n",
    "        y = df_y.values.tolist()\n",
    "        \n",
    "        data_x = []\n",
    "        data_y = []\n",
    "        window_size = 10\n",
    "        for i in range(len(y) - window_size):\n",
    "            x2 = x[i : i + window_size]\n",
    "            y2 = y[i + window_size]\n",
    "            data_x.append(x2)\n",
    "            data_y.append(y2)\n",
    "            \n",
    "        # 훈련용 데이터셋 70%\n",
    "        train_size = int(len(data_y) * 0.7)\n",
    "        train_x = np.array(data_x[0:train_size])\n",
    "        train_y = np.array(data_y[0:train_size])\n",
    "        \n",
    "        # 테스트용 데이터셋 30%\n",
    "        test_size = len(data_y) - train_size\n",
    "        test_x = np.array(data_x[train_size:len(data_x)])\n",
    "        test_y = np.array(data_y[train_size:len(data_y)])\n",
    "        return df, df_y, train_x, train_y, test_x, test_y\n",
    "    \n",
    "    def LSTMModel(self, code, date):\n",
    "        df, df_y, train_x, train_y, test_x, test_y = self.DataSet(code, date)\n",
    "        \n",
    "        model = Sequential()\n",
    "        model.add(LSTM(units=10, activation='relu', return_sequences=True, input_shape=(10, 5)))  \n",
    "        model.add(Dropout(0.1))     \n",
    "        model.add(LSTM(units=10, activation='relu'))\n",
    "        model.add(Dropout(0.1))\n",
    "        model.add(Dense(units=1))\n",
    "        # model.summary()\n",
    "\n",
    "        model.compile(optimizer='adam', loss='mean_squared_error')  \n",
    "        model.fit(train_x, train_y, epochs=60, batch_size=30)         \n",
    "        pred_y = model.predict(test_x)\n",
    "        return df, df_y, test_y, pred_y\n",
    "    \n",
    "    def PredictionResult(self, code, date):\n",
    "        df, df_y, test_y, pred_y = self.LSTMModel(code, date)\n",
    "        \n",
    "        plt.figure()\n",
    "        plt.plot(test_y, color='r', label='real stock price')\n",
    "        plt.plot(pred_y, color='b', label='predicted stock price')\n",
    "        plt.title('Real Stock Price vs Predicted Stock Price')\n",
    "        plt.xlabel('time')\n",
    "        plt.ylabel('stock price')\n",
    "        plt.legend(loc='best')\n",
    "        plt.show()\n",
    "        \n",
    "        print(\"다음 날 예측 종가 : \", df.Close[-1]*pred_y[-1]/df_y.Close[-1])\n",
    "        \n",
    "# if __name__ == '__main__':\n",
    "#     stp = StockPrediction()\n",
    "#     stp.PredictionResult()"
   ]
  },
  {
   "cell_type": "markdown",
   "metadata": {},
   "source": [
    "## 1.2 클래스 활용"
   ]
  },
  {
   "cell_type": "markdown",
   "metadata": {},
   "source": [
    "Anaconda Prompt 에서 tensorflow 가상환경 실행\n",
    "\n",
    "cd C:\\Users\\dalgo\\05.Stock_Prediction_project\\01.딥러닝을 활용한 종목별 주가 예측\n",
    "\n",
    "(python or jupyter notebook)\n",
    "\n",
    "from Investar import StockPrediction\n",
    "\n",
    "stp = StockPrediction.StockPrediction()\n",
    "\n",
    "stp.PredictionResult('종목코드','시작날짜')"
   ]
  },
  {
   "cell_type": "code",
   "execution_count": null,
   "metadata": {},
   "outputs": [],
   "source": []
  }
 ],
 "metadata": {
  "kernelspec": {
   "display_name": "[Tensorflow_37_env]",
   "language": "python",
   "name": "tensor_37_env"
  },
  "language_info": {
   "codemirror_mode": {
    "name": "ipython",
    "version": 3
   },
   "file_extension": ".py",
   "mimetype": "text/x-python",
   "name": "python",
   "nbconvert_exporter": "python",
   "pygments_lexer": "ipython3",
   "version": "3.7.9"
  },
  "toc": {
   "base_numbering": 1,
   "nav_menu": {},
   "number_sections": false,
   "sideBar": false,
   "skip_h1_title": false,
   "title_cell": "Table of Contents",
   "title_sidebar": "Contents",
   "toc_cell": true,
   "toc_position": {},
   "toc_section_display": true,
   "toc_window_display": false
  }
 },
 "nbformat": 4,
 "nbformat_minor": 4
}
