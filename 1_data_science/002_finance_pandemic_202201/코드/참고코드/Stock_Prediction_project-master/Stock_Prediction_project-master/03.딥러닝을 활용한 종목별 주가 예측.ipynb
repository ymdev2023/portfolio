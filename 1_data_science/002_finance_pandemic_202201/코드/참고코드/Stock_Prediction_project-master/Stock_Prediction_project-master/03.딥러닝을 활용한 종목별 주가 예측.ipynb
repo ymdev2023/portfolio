{
 "cells": [
  {
   "cell_type": "markdown",
   "id": "049a1d03",
   "metadata": {
    "toc": true
   },
   "source": [
    "<h1>Table of Contents<span class=\"tocSkip\"></span></h1>\n",
    "<div class=\"toc\"><ul class=\"toc-item\"><li><span><a href=\"#1.-야후-파이낸스로-주가-구하기\" data-toc-modified-id=\"1.-야후-파이낸스로-주가-구하기-1\">1. 야후 파이낸스로 주가 구하기</a></span></li><li><span><a href=\"#2.-MinMaxScaler-함수-적용\" data-toc-modified-id=\"2.-MinMaxScaler-함수-적용-2\">2. MinMaxScaler 함수 적용</a></span></li><li><span><a href=\"#3.-데이터셋-준비하기\" data-toc-modified-id=\"3.-데이터셋-준비하기-3\">3. 데이터셋 준비하기</a></span></li><li><span><a href=\"#4.-모델-생성하기\" data-toc-modified-id=\"4.-모델-생성하기-4\">4. 모델 생성하기</a></span></li><li><span><a href=\"#5.-내일의-종가-출력\" data-toc-modified-id=\"5.-내일의-종가-출력-5\">5. 내일의 종가 출력</a></span></li></ul></div>"
   ]
  },
  {
   "cell_type": "markdown",
   "id": "a056bb33",
   "metadata": {},
   "source": [
    "**cf1) 텐서플로 설치 시 오류 해결**\n",
    "\n",
    "conda update -n base conda\n",
    "    \n",
    "Python 버전3.5 ~ 3.7 에서만 설치가 가능하므로, conda create -n tensor_37_env python=3.7 로 3.7 버전 가상환경 생성\n",
    "\n",
    "conda activate tensor_37_env (가상환경 종료 시에는 conda deactivate)\n",
    "\n",
    "conda install tensorflow"
   ]
  },
  {
   "cell_type": "markdown",
   "id": "49e1d86b",
   "metadata": {},
   "source": [
    "**cf2) 텐서플로 가상환경에서 jupyter notebook 실행**\n",
    "\n",
    "conda activate tensor_37_env\n",
    "\n",
    "pip install jupyter notebook\n",
    "\n",
    "(pip install ipykernel)\n",
    "\n",
    "가상환경에 커널 연결 -> python -m ipykernel install --user --name tensor_37_env --display-name \"[Tensorflow_37_env]\"\n",
    "\n",
    "jupyter notebook을 입력하여 실행"
   ]
  },
  {
   "cell_type": "markdown",
   "id": "6601c14e",
   "metadata": {},
   "source": [
    "# 1. 야후 파이낸스로 주가 구하기"
   ]
  },
  {
   "cell_type": "code",
   "execution_count": 2,
   "id": "0cc99769",
   "metadata": {
    "ExecuteTime": {
     "end_time": "2022-01-15T07:23:04.056081Z",
     "start_time": "2022-01-15T07:22:58.915684Z"
    }
   },
   "outputs": [],
   "source": [
    "import numpy as np\n",
    "import pandas as pd\n",
    "import matplotlib.pyplot as plt\n",
    "from pandas_datareader import data as pdr\n",
    "import yfinance as yf\n",
    "import tensorflow as tf\n",
    "from tensorflow.keras import Sequential\n",
    "from tensorflow.keras.layers import Dense, LSTM, Dropout"
   ]
  },
  {
   "cell_type": "code",
   "execution_count": 3,
   "id": "66235f55",
   "metadata": {
    "ExecuteTime": {
     "end_time": "2022-01-15T07:23:04.957963Z",
     "start_time": "2022-01-15T07:23:04.945931Z"
    }
   },
   "outputs": [],
   "source": [
    "def StockData(code, date):\n",
    "    yf.pdr_override()\n",
    "    df = pdr.get_data_yahoo(f'{code}.KS', start=f'{date}')\n",
    "    df = df[['Open','High','Low','Volume','Close']]\n",
    "    return df"
   ]
  },
  {
   "cell_type": "code",
   "execution_count": 4,
   "id": "b93840ff",
   "metadata": {
    "ExecuteTime": {
     "end_time": "2022-01-15T07:23:06.786719Z",
     "start_time": "2022-01-15T07:23:06.103167Z"
    }
   },
   "outputs": [
    {
     "name": "stdout",
     "output_type": "stream",
     "text": [
      "[*********************100%***********************]  1 of 1 completed\n"
     ]
    },
    {
     "data": {
      "text/html": [
       "<div>\n",
       "<style scoped>\n",
       "    .dataframe tbody tr th:only-of-type {\n",
       "        vertical-align: middle;\n",
       "    }\n",
       "\n",
       "    .dataframe tbody tr th {\n",
       "        vertical-align: top;\n",
       "    }\n",
       "\n",
       "    .dataframe thead th {\n",
       "        text-align: right;\n",
       "    }\n",
       "</style>\n",
       "<table border=\"1\" class=\"dataframe\">\n",
       "  <thead>\n",
       "    <tr style=\"text-align: right;\">\n",
       "      <th></th>\n",
       "      <th>Open</th>\n",
       "      <th>High</th>\n",
       "      <th>Low</th>\n",
       "      <th>Volume</th>\n",
       "      <th>Close</th>\n",
       "    </tr>\n",
       "    <tr>\n",
       "      <th>Date</th>\n",
       "      <th></th>\n",
       "      <th></th>\n",
       "      <th></th>\n",
       "      <th></th>\n",
       "      <th></th>\n",
       "    </tr>\n",
       "  </thead>\n",
       "  <tbody>\n",
       "    <tr>\n",
       "      <th>2019-01-02</th>\n",
       "      <td>39400.0</td>\n",
       "      <td>39400.0</td>\n",
       "      <td>38550.0</td>\n",
       "      <td>7847664</td>\n",
       "      <td>38750.0</td>\n",
       "    </tr>\n",
       "    <tr>\n",
       "      <th>2019-01-03</th>\n",
       "      <td>38300.0</td>\n",
       "      <td>38550.0</td>\n",
       "      <td>37450.0</td>\n",
       "      <td>12471493</td>\n",
       "      <td>37600.0</td>\n",
       "    </tr>\n",
       "    <tr>\n",
       "      <th>2019-01-04</th>\n",
       "      <td>37450.0</td>\n",
       "      <td>37600.0</td>\n",
       "      <td>36850.0</td>\n",
       "      <td>14108958</td>\n",
       "      <td>37450.0</td>\n",
       "    </tr>\n",
       "    <tr>\n",
       "      <th>2019-01-07</th>\n",
       "      <td>38000.0</td>\n",
       "      <td>38900.0</td>\n",
       "      <td>37800.0</td>\n",
       "      <td>12748997</td>\n",
       "      <td>38750.0</td>\n",
       "    </tr>\n",
       "    <tr>\n",
       "      <th>2019-01-08</th>\n",
       "      <td>38000.0</td>\n",
       "      <td>39200.0</td>\n",
       "      <td>37950.0</td>\n",
       "      <td>12756554</td>\n",
       "      <td>38100.0</td>\n",
       "    </tr>\n",
       "  </tbody>\n",
       "</table>\n",
       "</div>"
      ],
      "text/plain": [
       "               Open     High      Low    Volume    Close\n",
       "Date                                                    \n",
       "2019-01-02  39400.0  39400.0  38550.0   7847664  38750.0\n",
       "2019-01-03  38300.0  38550.0  37450.0  12471493  37600.0\n",
       "2019-01-04  37450.0  37600.0  36850.0  14108958  37450.0\n",
       "2019-01-07  38000.0  38900.0  37800.0  12748997  38750.0\n",
       "2019-01-08  38000.0  39200.0  37950.0  12756554  38100.0"
      ]
     },
     "execution_count": 4,
     "metadata": {},
     "output_type": "execute_result"
    }
   ],
   "source": [
    "df = StockData('005930', '2019-01-01')     # 삼성전자\n",
    "df.head()"
   ]
  },
  {
   "cell_type": "markdown",
   "id": "d4f2f308",
   "metadata": {},
   "source": [
    "# 2. MinMaxScaler 함수 적용\n",
    "\n",
    "계산 시간 단축을 위해 OHLVC 데이터를 0 ~1 사이의 값으로 변환"
   ]
  },
  {
   "cell_type": "code",
   "execution_count": 5,
   "id": "584a054d",
   "metadata": {
    "ExecuteTime": {
     "end_time": "2022-01-15T07:23:15.308511Z",
     "start_time": "2022-01-15T07:23:15.298308Z"
    }
   },
   "outputs": [],
   "source": [
    "def MinMaxScaler(data):\n",
    "    numerator = data - np.min(data, 0)\n",
    "    denominator = np.max(data, 0) - np.min(data, 0)\n",
    "    return numerator / (denominator + 1e-7)     # 0으로 나누기 에러 방지"
   ]
  },
  {
   "cell_type": "code",
   "execution_count": 6,
   "id": "d2f0a62c",
   "metadata": {
    "ExecuteTime": {
     "end_time": "2022-01-15T07:23:16.036643Z",
     "start_time": "2022-01-15T07:23:16.018674Z"
    }
   },
   "outputs": [],
   "source": [
    "df_x = MinMaxScaler(df)\n",
    "df_y = df_x[['Close']]\n",
    "\n",
    "x = df_x.values.tolist()\n",
    "y = df_y.values.tolist()"
   ]
  },
  {
   "cell_type": "code",
   "execution_count": 7,
   "id": "f8fcfed3",
   "metadata": {
    "ExecuteTime": {
     "end_time": "2022-01-15T07:23:16.718311Z",
     "start_time": "2022-01-15T07:23:16.692720Z"
    }
   },
   "outputs": [
    {
     "name": "stdout",
     "output_type": "stream",
     "text": [
      "<class 'pandas.core.frame.DataFrame'>\n",
      "DatetimeIndex: 751 entries, 2019-01-02 to 2022-01-14\n",
      "Data columns (total 5 columns):\n",
      " #   Column  Non-Null Count  Dtype  \n",
      "---  ------  --------------  -----  \n",
      " 0   Open    751 non-null    float64\n",
      " 1   High    751 non-null    float64\n",
      " 2   Low     751 non-null    float64\n",
      " 3   Volume  751 non-null    float64\n",
      " 4   Close   751 non-null    float64\n",
      "dtypes: float64(5)\n",
      "memory usage: 35.2 KB\n"
     ]
    }
   ],
   "source": [
    "df_x.info()"
   ]
  },
  {
   "cell_type": "code",
   "execution_count": 8,
   "id": "0f86d0a2",
   "metadata": {
    "ExecuteTime": {
     "end_time": "2022-01-15T07:23:19.606378Z",
     "start_time": "2022-01-15T07:23:19.595909Z"
    }
   },
   "outputs": [
    {
     "name": "stdout",
     "output_type": "stream",
     "text": [
      "<class 'pandas.core.frame.DataFrame'>\n",
      "DatetimeIndex: 751 entries, 2019-01-02 to 2022-01-14\n",
      "Data columns (total 1 columns):\n",
      " #   Column  Non-Null Count  Dtype  \n",
      "---  ------  --------------  -----  \n",
      " 0   Close   751 non-null    float64\n",
      "dtypes: float64(1)\n",
      "memory usage: 11.7 KB\n"
     ]
    }
   ],
   "source": [
    "df_y.info()"
   ]
  },
  {
   "cell_type": "code",
   "execution_count": 9,
   "id": "5a85d8e9",
   "metadata": {
    "ExecuteTime": {
     "end_time": "2022-01-15T07:23:20.148695Z",
     "start_time": "2022-01-15T07:23:20.135569Z"
    }
   },
   "outputs": [
    {
     "data": {
      "text/plain": [
       "[0.7615894039720689,\n",
       " 0.684121621620466,\n",
       " 0.7644824311476458,\n",
       " 0.11180547483479439,\n",
       " 0.7441643323982369]"
      ]
     },
     "execution_count": 9,
     "metadata": {},
     "output_type": "execute_result"
    }
   ],
   "source": [
    "x[-1]"
   ]
  },
  {
   "cell_type": "code",
   "execution_count": 10,
   "id": "65c7e6b0",
   "metadata": {
    "ExecuteTime": {
     "end_time": "2022-01-15T07:23:20.800927Z",
     "start_time": "2022-01-15T07:23:20.786994Z"
    }
   },
   "outputs": [
    {
     "data": {
      "text/plain": [
       "[0.7441643323982369]"
      ]
     },
     "execution_count": 10,
     "metadata": {},
     "output_type": "execute_result"
    }
   ],
   "source": [
    "y[-1]"
   ]
  },
  {
   "cell_type": "markdown",
   "id": "78e4a04f",
   "metadata": {},
   "source": [
    "# 3. 데이터셋 준비하기"
   ]
  },
  {
   "cell_type": "code",
   "execution_count": 11,
   "id": "fc4fbd9d",
   "metadata": {
    "ExecuteTime": {
     "end_time": "2022-01-15T07:23:36.046916Z",
     "start_time": "2022-01-15T07:23:36.041837Z"
    }
   },
   "outputs": [
    {
     "name": "stdout",
     "output_type": "stream",
     "text": [
      "이전 10일 동안 OHLVC :  [[0.808893093659775, 0.719594594593379, 0.7910731244049553, 0.21919646759047254, 0.7721755368799772], [0.7842951750221678, 0.7077702702690747, 0.7834757834742954, 0.15764923810250525, 0.7628384687193971], [0.7824030274346596, 0.7027027027015157, 0.7872744539396253, 0.13761424093946514, 0.7703081232478612], [0.7824030274346596, 0.6993243243231431, 0.7511870845189911, 0.2820475945958821, 0.7460317460303528], [0.7426679280969865, 0.6756756756745343, 0.754985754984321, 0.14320121202783265, 0.7366946778697727], [0.7691579943221019, 0.689189189188025, 0.7701804368456406, 0.16791494783352398, 0.7628384687193971], [0.7691579943221019, 0.684121621620466, 0.7644824311476458, 0.11015217707643618, 0.757236227823049], [0.7748344370846266, 0.6993243243231431, 0.7815764482416304, 0.14640330749467984, 0.7740429505120933], [0.7956480605472173, 0.709459459458261, 0.7929724596376202, 0.12181339489102708, 0.7740429505120933], [0.7918637653722008, 0.7043918918907021, 0.7796771130089655, 0.15380344358946768, 0.755368814190933]] \n",
      "다음 날 종가 :  [0.7441643323982369]\n"
     ]
    }
   ],
   "source": [
    "data_x = []\n",
    "data_y = []\n",
    "window_size = 10     # 이전 10일 동안 OHLVC 데이터로 다음 날 종가 예측\n",
    "for i in range(len(y) - window_size):\n",
    "    x2 = x[i : i + window_size]\n",
    "    y2 = y[i + window_size]\n",
    "    data_x.append(x2)\n",
    "    data_y.append(y2)\n",
    "print(\"이전 10일 동안 OHLVC : \", x2, \"\\n다음 날 종가 : \", y2)"
   ]
  },
  {
   "cell_type": "code",
   "execution_count": 12,
   "id": "edb38de8",
   "metadata": {
    "ExecuteTime": {
     "end_time": "2022-01-15T07:23:36.806850Z",
     "start_time": "2022-01-15T07:23:36.784139Z"
    }
   },
   "outputs": [],
   "source": [
    "# 훈련용 데이터셋 70%\n",
    "train_size = int(len(data_y) * 0.7)\n",
    "train_x = np.array(data_x[0:train_size])\n",
    "train_y = np.array(data_y[0:train_size])\n",
    "\n",
    "# 테스트용 데이터셋 30%\n",
    "test_size = len(data_y) - train_size\n",
    "test_x = np.array(data_x[train_size:len(data_x)])\n",
    "test_y = np.array(data_y[train_size:len(data_y)])"
   ]
  },
  {
   "cell_type": "markdown",
   "id": "c1b98021",
   "metadata": {},
   "source": [
    "# 4. 모델 생성하기"
   ]
  },
  {
   "cell_type": "code",
   "execution_count": 13,
   "id": "533ec474",
   "metadata": {
    "ExecuteTime": {
     "end_time": "2022-01-15T07:23:46.975626Z",
     "start_time": "2022-01-15T07:23:39.303771Z"
    },
    "scrolled": true
   },
   "outputs": [
    {
     "name": "stdout",
     "output_type": "stream",
     "text": [
      "Model: \"sequential\"\n",
      "_________________________________________________________________\n",
      " Layer (type)                Output Shape              Param #   \n",
      "=================================================================\n",
      " lstm (LSTM)                 (None, 10, 10)            640       \n",
      "                                                                 \n",
      " dropout (Dropout)           (None, 10, 10)            0         \n",
      "                                                                 \n",
      " lstm_1 (LSTM)               (None, 10)                840       \n",
      "                                                                 \n",
      " dropout_1 (Dropout)         (None, 10)                0         \n",
      "                                                                 \n",
      " dense (Dense)               (None, 1)                 11        \n",
      "                                                                 \n",
      "=================================================================\n",
      "Total params: 1,491\n",
      "Trainable params: 1,491\n",
      "Non-trainable params: 0\n",
      "_________________________________________________________________\n",
      "Epoch 1/60\n",
      "18/18 [==============================] - 2s 4ms/step - loss: 0.1261\n",
      "Epoch 2/60\n",
      "18/18 [==============================] - 0s 4ms/step - loss: 0.0584\n",
      "Epoch 3/60\n",
      "18/18 [==============================] - 0s 4ms/step - loss: 0.0169\n",
      "Epoch 4/60\n",
      "18/18 [==============================] - 0s 5ms/step - loss: 0.0133\n",
      "Epoch 5/60\n",
      "18/18 [==============================] - 0s 4ms/step - loss: 0.0093\n",
      "Epoch 6/60\n",
      "18/18 [==============================] - 0s 5ms/step - loss: 0.0110\n",
      "Epoch 7/60\n",
      "18/18 [==============================] - 0s 5ms/step - loss: 0.0105\n",
      "Epoch 8/60\n",
      "18/18 [==============================] - 0s 5ms/step - loss: 0.0088\n",
      "Epoch 9/60\n",
      "18/18 [==============================] - 0s 5ms/step - loss: 0.0088\n",
      "Epoch 10/60\n",
      "18/18 [==============================] - 0s 5ms/step - loss: 0.0102\n",
      "Epoch 11/60\n",
      "18/18 [==============================] - 0s 5ms/step - loss: 0.0098\n",
      "Epoch 12/60\n",
      "18/18 [==============================] - 0s 5ms/step - loss: 0.0078\n",
      "Epoch 13/60\n",
      "18/18 [==============================] - 0s 5ms/step - loss: 0.0067\n",
      "Epoch 14/60\n",
      "18/18 [==============================] - 0s 5ms/step - loss: 0.0069\n",
      "Epoch 15/60\n",
      "18/18 [==============================] - 0s 5ms/step - loss: 0.0081\n",
      "Epoch 16/60\n",
      "18/18 [==============================] - 0s 5ms/step - loss: 0.0082\n",
      "Epoch 17/60\n",
      "18/18 [==============================] - 0s 5ms/step - loss: 0.0087\n",
      "Epoch 18/60\n",
      "18/18 [==============================] - 0s 5ms/step - loss: 0.0078\n",
      "Epoch 19/60\n",
      "18/18 [==============================] - 0s 5ms/step - loss: 0.0068\n",
      "Epoch 20/60\n",
      "18/18 [==============================] - 0s 5ms/step - loss: 0.0056\n",
      "Epoch 21/60\n",
      "18/18 [==============================] - 0s 5ms/step - loss: 0.0057\n",
      "Epoch 22/60\n",
      "18/18 [==============================] - 0s 5ms/step - loss: 0.0057\n",
      "Epoch 23/60\n",
      "18/18 [==============================] - 0s 5ms/step - loss: 0.0056\n",
      "Epoch 24/60\n",
      "18/18 [==============================] - 0s 5ms/step - loss: 0.0055\n",
      "Epoch 25/60\n",
      "18/18 [==============================] - 0s 5ms/step - loss: 0.0052\n",
      "Epoch 26/60\n",
      "18/18 [==============================] - 0s 5ms/step - loss: 0.0053\n",
      "Epoch 27/60\n",
      "18/18 [==============================] - 0s 5ms/step - loss: 0.0047\n",
      "Epoch 28/60\n",
      "18/18 [==============================] - 0s 5ms/step - loss: 0.0065\n",
      "Epoch 29/60\n",
      "18/18 [==============================] - 0s 5ms/step - loss: 0.0061\n",
      "Epoch 30/60\n",
      "18/18 [==============================] - 0s 5ms/step - loss: 0.0058\n",
      "Epoch 31/60\n",
      "18/18 [==============================] - 0s 5ms/step - loss: 0.0050\n",
      "Epoch 32/60\n",
      "18/18 [==============================] - 0s 5ms/step - loss: 0.0049\n",
      "Epoch 33/60\n",
      "18/18 [==============================] - 0s 5ms/step - loss: 0.0044\n",
      "Epoch 34/60\n",
      "18/18 [==============================] - 0s 5ms/step - loss: 0.0056\n",
      "Epoch 35/60\n",
      "18/18 [==============================] - 0s 5ms/step - loss: 0.0057\n",
      "Epoch 36/60\n",
      "18/18 [==============================] - 0s 5ms/step - loss: 0.0060\n",
      "Epoch 37/60\n",
      "18/18 [==============================] - 0s 5ms/step - loss: 0.0054\n",
      "Epoch 38/60\n",
      "18/18 [==============================] - 0s 5ms/step - loss: 0.0056\n",
      "Epoch 39/60\n",
      "18/18 [==============================] - 0s 5ms/step - loss: 0.0053\n",
      "Epoch 40/60\n",
      "18/18 [==============================] - 0s 5ms/step - loss: 0.0046\n",
      "Epoch 41/60\n",
      "18/18 [==============================] - 0s 5ms/step - loss: 0.0059\n",
      "Epoch 42/60\n",
      "18/18 [==============================] - 0s 5ms/step - loss: 0.0047\n",
      "Epoch 43/60\n",
      "18/18 [==============================] - 0s 5ms/step - loss: 0.0047\n",
      "Epoch 44/60\n",
      "18/18 [==============================] - 0s 5ms/step - loss: 0.0046\n",
      "Epoch 45/60\n",
      "18/18 [==============================] - 0s 5ms/step - loss: 0.0044\n",
      "Epoch 46/60\n",
      "18/18 [==============================] - 0s 5ms/step - loss: 0.0052\n",
      "Epoch 47/60\n",
      "18/18 [==============================] - 0s 5ms/step - loss: 0.0035\n",
      "Epoch 48/60\n",
      "18/18 [==============================] - 0s 5ms/step - loss: 0.0047\n",
      "Epoch 49/60\n",
      "18/18 [==============================] - 0s 5ms/step - loss: 0.0047\n",
      "Epoch 50/60\n",
      "18/18 [==============================] - 0s 5ms/step - loss: 0.0046\n",
      "Epoch 51/60\n",
      "18/18 [==============================] - 0s 5ms/step - loss: 0.0050\n",
      "Epoch 52/60\n",
      "18/18 [==============================] - 0s 5ms/step - loss: 0.0049\n",
      "Epoch 53/60\n",
      "18/18 [==============================] - 0s 5ms/step - loss: 0.0047\n",
      "Epoch 54/60\n",
      "18/18 [==============================] - 0s 5ms/step - loss: 0.0042\n",
      "Epoch 55/60\n",
      "18/18 [==============================] - 0s 5ms/step - loss: 0.0050\n",
      "Epoch 56/60\n",
      "18/18 [==============================] - 0s 5ms/step - loss: 0.0040\n",
      "Epoch 57/60\n",
      "18/18 [==============================] - 0s 5ms/step - loss: 0.0042\n",
      "Epoch 58/60\n",
      "18/18 [==============================] - 0s 5ms/step - loss: 0.0043\n",
      "Epoch 59/60\n",
      "18/18 [==============================] - 0s 5ms/step - loss: 0.0036\n",
      "Epoch 60/60\n",
      "18/18 [==============================] - 0s 5ms/step - loss: 0.0040\n"
     ]
    }
   ],
   "source": [
    "model = Sequential()\n",
    "model.add(LSTM(units=10, activation='relu', return_sequences=True, input_shape=(window_size, 5)))     # (10,5) 입력 형태를 가지는 LSTM층\n",
    "model.add(Dropout(0.1))     # 입력값의 10%를 0으로 치환하여 과적합 방지\n",
    "model.add(LSTM(units=10, activation='relu'))\n",
    "model.add(Dropout(0.1))\n",
    "model.add(Dense(units=1))\n",
    "model.summary()\n",
    "\n",
    "model.compile(optimizer='adam', loss='mean_squared_error')     # 최적화 도구:adam, 손실 함수:MSE\n",
    "model.fit(train_x, train_y, epochs=60, batch_size=30)          # epochs:전체 데이터셋 학습 횟수, batch_size:한 번에 제공되는 훈련 데이터 개수\n",
    "pred_y = model.predict(test_x)"
   ]
  },
  {
   "cell_type": "code",
   "execution_count": 14,
   "id": "8116d494",
   "metadata": {
    "ExecuteTime": {
     "end_time": "2022-01-15T07:23:47.351123Z",
     "start_time": "2022-01-15T07:23:47.151531Z"
    }
   },
   "outputs": [
    {
     "data": {
      "image/png": "[encoded data removed]",
      "text/plain": [
       "<Figure size 432x288 with 1 Axes>"
      ]
     },
     "metadata": {
      "needs_background": "light"
     },
     "output_type": "display_data"
    }
   ],
   "source": [
    "plt.figure()\n",
    "plt.plot(test_y, color='r', label='real stock price')\n",
    "plt.plot(pred_y, color='b', label='predicted stock price')\n",
    "plt.title('Real Stock Price vs Predicted Stock Price')\n",
    "plt.xlabel('time')\n",
    "plt.ylabel('stock price')\n",
    "plt.legend(loc='best')\n",
    "plt.show()"
   ]
  },
  {
   "cell_type": "markdown",
   "id": "2cfee0b8",
   "metadata": {},
   "source": [
    "# 5. 내일의 종가 출력\n",
    "\n",
    "MinMaxScaler로 변환하기 전후의 데이터를 이용하여 내일의 예측 가격 y를 구함\n",
    "\n",
    "    관계식 : df.Close[-1] : df_y.Close[-1] = y : pred_y[-1]"
   ]
  },
  {
   "cell_type": "code",
   "execution_count": 15,
   "id": "783ddf87",
   "metadata": {
    "ExecuteTime": {
     "end_time": "2022-01-15T07:23:47.535621Z",
     "start_time": "2022-01-15T07:23:47.521568Z"
    }
   },
   "outputs": [
    {
     "name": "stdout",
     "output_type": "stream",
     "text": [
      "다음 날 예측 종가 :  [78839.93]\n"
     ]
    }
   ],
   "source": [
    "print(\"다음 날 예측 종가 : \", df.Close[-1]*pred_y[-1]/df_y.Close[-1])"
   ]
  },
  {
   "cell_type": "code",
   "execution_count": null,
   "id": "41d172c2",
   "metadata": {},
   "outputs": [],
   "source": []
  }
 ],
 "metadata": {
  "kernelspec": {
   "display_name": "Python 3 (ipykernel)",
   "language": "python",
   "name": "python3"
  },
  "language_info": {
   "codemirror_mode": {
    "name": "ipython",
    "version": 3
   },
   "file_extension": ".py",
   "mimetype": "text/x-python",
   "name": "python",
   "nbconvert_exporter": "python",
   "pygments_lexer": "ipython3",
   "version": "3.9.7"
  },
  "toc": {
   "base_numbering": 1,
   "nav_menu": {},
   "number_sections": false,
   "sideBar": false,
   "skip_h1_title": false,
   "title_cell": "Table of Contents",
   "title_sidebar": "Contents",
   "toc_cell": true,
   "toc_position": {},
   "toc_section_display": true,
   "toc_window_display": false
  },
  "varInspector": {
   "cols": {
    "lenName": 16,
    "lenType": 16,
    "lenVar": 40
   },
   "kernels_config": {
    "python": {
     "delete_cmd_postfix": "",
     "delete_cmd_prefix": "del ",
     "library": "var_list.py",
     "varRefreshCmd": "print(var_dic_list())"
    },
    "r": {
     "delete_cmd_postfix": ") ",
     "delete_cmd_prefix": "rm(",
     "library": "var_list.r",
     "varRefreshCmd": "cat(var_dic_list()) "
    }
   },
   "types_to_exclude": [
    "module",
    "function",
    "builtin_function_or_method",
    "instance",
    "_Feature"
   ],
   "window_display": false
  }
 },
 "nbformat": 4,
 "nbformat_minor": 5
}
