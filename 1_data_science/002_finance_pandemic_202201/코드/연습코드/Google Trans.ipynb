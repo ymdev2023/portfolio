{
 "cells": [
  {
   "cell_type": "code",
   "execution_count": 5,
   "id": "b8e545fb",
   "metadata": {
    "ExecuteTime": {
     "end_time": "2022-01-20T01:46:17.579391Z",
     "start_time": "2022-01-20T01:46:16.060711Z"
    }
   },
   "outputs": [
    {
     "name": "stdout",
     "output_type": "stream",
     "text": [
      "나는 한국인 입니다. => I'm a Korean.\n",
      "I like burger. => 나는 햄버거를 좋아합니다.\n"
     ]
    }
   ],
   "source": [
    "import googletrans \n",
    "translator = googletrans.Translator() \n",
    "str1 = \"나는 한국인 입니다.\" \n",
    "str2 = \"I like burger.\" \n",
    "result1 = translator.translate(str1, dest='en') \n",
    "result2 = translator.translate(str2, dest='ko') \n",
    "print(f\"나는 한국인 입니다. => {result1.text}\") \n",
    "print(f\"I like burger. => {result2.text}\")"
   ]
  },
  {
   "cell_type": "code",
   "execution_count": null,
   "id": "5aaaf088",
   "metadata": {},
   "outputs": [],
   "source": []
  }
 ],
 "metadata": {
  "kernelspec": {
   "display_name": "Python 3 (ipykernel)",
   "language": "python",
   "name": "python3"
  },
  "language_info": {
   "codemirror_mode": {
    "name": "ipython",
    "version": 3
   },
   "file_extension": ".py",
   "mimetype": "text/x-python",
   "name": "python",
   "nbconvert_exporter": "python",
   "pygments_lexer": "ipython3",
   "version": "3.9.7"
  },
  "toc": {
   "base_numbering": 1,
   "nav_menu": {},
   "number_sections": false,
   "sideBar": true,
   "skip_h1_title": false,
   "title_cell": "Table of Contents",
   "title_sidebar": "Contents",
   "toc_cell": false,
   "toc_position": {},
   "toc_section_display": true,
   "toc_window_display": false
  },
  "varInspector": {
   "cols": {
    "lenName": 16,
    "lenType": 16,
    "lenVar": 40
   },
   "kernels_config": {
    "python": {
     "delete_cmd_postfix": "",
     "delete_cmd_prefix": "del ",
     "library": "var_list.py",
     "varRefreshCmd": "print(var_dic_list())"
    },
    "r": {
     "delete_cmd_postfix": ") ",
     "delete_cmd_prefix": "rm(",
     "library": "var_list.r",
     "varRefreshCmd": "cat(var_dic_list()) "
    }
   },
   "types_to_exclude": [
    "module",
    "function",
    "builtin_function_or_method",
    "instance",
    "_Feature"
   ],
   "window_display": false
  }
 },
 "nbformat": 4,
 "nbformat_minor": 5
}
