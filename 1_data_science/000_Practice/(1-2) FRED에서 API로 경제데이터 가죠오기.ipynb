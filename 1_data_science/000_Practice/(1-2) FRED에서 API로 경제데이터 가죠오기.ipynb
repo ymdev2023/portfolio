{
 "cells": [
  {
   "cell_type": "markdown",
   "metadata": {},
   "source": [
    "## FRED에서  API 경제데이터 가져오기\n"
   ]
  },
  {
   "cell_type": "code",
   "execution_count": 1,
   "metadata": {},
   "outputs": [
    {
     "name": "stdout",
     "output_type": "stream",
     "text": [
      "Collecting fredapi\n",
      "  Using cached fredapi-0.4.3-py3-none-any.whl (11 kB)\n",
      "Requirement already satisfied: pandas in c:\\users\\jyb\\appdata\\local\\programs\\python\\python39\\lib\\site-packages (from fredapi) (1.3.0)\n",
      "Requirement already satisfied: pytz>=2017.3 in c:\\users\\jyb\\appdata\\local\\programs\\python\\python39\\lib\\site-packages (from pandas->fredapi) (2021.1)\n",
      "Requirement already satisfied: python-dateutil>=2.7.3 in c:\\users\\jyb\\appdata\\local\\programs\\python\\python39\\lib\\site-packages (from pandas->fredapi) (2.8.1)\n",
      "Requirement already satisfied: numpy>=1.17.3 in c:\\users\\jyb\\appdata\\local\\programs\\python\\python39\\lib\\site-packages (from pandas->fredapi) (1.21.0)\n",
      "Requirement already satisfied: six>=1.5 in c:\\users\\jyb\\appdata\\local\\programs\\python\\python39\\lib\\site-packages (from python-dateutil>=2.7.3->pandas->fredapi) (1.16.0)\n",
      "Installing collected packages: fredapi\n",
      "Successfully installed fredapi-0.4.3\n",
      "Note: you may need to restart the kernel to use updated packages.\n"
     ]
    }
   ],
   "source": [
    "pip install fredapi"
   ]
  },
  {
   "cell_type": "code",
   "execution_count": null,
   "metadata": {},
   "outputs": [],
   "source": [
    "# API 발급을 위해서 회원가입"
   ]
  },
  {
   "cell_type": "code",
   "execution_count": 2,
   "metadata": {},
   "outputs": [],
   "source": [
    "from fredapi import Fred\n",
    "fred = Fred(api_key='fd1643976833c89506544ff62efd7f70')\n",
    "data = fred.get_series('GDP')"
   ]
  },
  {
   "cell_type": "code",
   "execution_count": 3,
   "metadata": {},
   "outputs": [
    {
     "data": {
      "text/plain": [
       "date\n",
       "2020-01-01     21537.94\n",
       "2020-04-01    19408.759\n",
       "2020-07-01    21157.635\n",
       "2020-10-01    21479.529\n",
       "2021-01-01    22048.894\n",
       "Name: value, dtype: object"
      ]
     },
     "execution_count": 3,
     "metadata": {},
     "output_type": "execute_result"
    }
   ],
   "source": [
    "data = fred.get_series_first_release('GDP')\n",
    "data.tail()"
   ]
  },
  {
   "cell_type": "code",
   "execution_count": 4,
   "metadata": {},
   "outputs": [
    {
     "data": {
      "text/plain": [
       "2020-01-01    21561.139\n",
       "2020-04-01    19520.114\n",
       "2020-07-01    21170.252\n",
       "2020-10-01    21494.731\n",
       "2021-01-01    22061.503\n",
       "dtype: float64"
      ]
     },
     "execution_count": 4,
     "metadata": {},
     "output_type": "execute_result"
    }
   ],
   "source": [
    "data = fred.get_series_latest_release('GDP')\n",
    "data.tail()"
   ]
  },
  {
   "cell_type": "code",
   "execution_count": 9,
   "metadata": {},
   "outputs": [
    {
     "data": {
      "text/html": [
       "<div>\n",
       "<style scoped>\n",
       "    .dataframe tbody tr th:only-of-type {\n",
       "        vertical-align: middle;\n",
       "    }\n",
       "\n",
       "    .dataframe tbody tr th {\n",
       "        vertical-align: top;\n",
       "    }\n",
       "\n",
       "    .dataframe thead th {\n",
       "        text-align: right;\n",
       "    }\n",
       "</style>\n",
       "<table border=\"1\" class=\"dataframe\">\n",
       "  <thead>\n",
       "    <tr style=\"text-align: right;\">\n",
       "      <th></th>\n",
       "      <th>realtime_start</th>\n",
       "      <th>date</th>\n",
       "      <th>value</th>\n",
       "    </tr>\n",
       "  </thead>\n",
       "  <tbody>\n",
       "    <tr>\n",
       "      <th>0</th>\n",
       "      <td>1992-12-22</td>\n",
       "      <td>1946-01-01</td>\n",
       "      <td>199.7</td>\n",
       "    </tr>\n",
       "    <tr>\n",
       "      <th>1</th>\n",
       "      <td>1996-01-19</td>\n",
       "      <td>1946-01-01</td>\n",
       "      <td>NaT</td>\n",
       "    </tr>\n",
       "    <tr>\n",
       "      <th>2</th>\n",
       "      <td>1997-05-07</td>\n",
       "      <td>1946-01-01</td>\n",
       "      <td>210.4</td>\n",
       "    </tr>\n",
       "    <tr>\n",
       "      <th>3</th>\n",
       "      <td>1999-10-28</td>\n",
       "      <td>1946-01-01</td>\n",
       "      <td>NaT</td>\n",
       "    </tr>\n",
       "    <tr>\n",
       "      <th>4</th>\n",
       "      <td>1992-12-22</td>\n",
       "      <td>1946-04-01</td>\n",
       "      <td>207.7</td>\n",
       "    </tr>\n",
       "    <tr>\n",
       "      <th>...</th>\n",
       "      <td>...</td>\n",
       "      <td>...</td>\n",
       "      <td>...</td>\n",
       "    </tr>\n",
       "    <tr>\n",
       "      <th>2933</th>\n",
       "      <td>2018-12-21</td>\n",
       "      <td>2018-07-01</td>\n",
       "      <td>20658.2</td>\n",
       "    </tr>\n",
       "    <tr>\n",
       "      <th>2936</th>\n",
       "      <td>2019-02-28</td>\n",
       "      <td>2018-10-01</td>\n",
       "      <td>20891.4</td>\n",
       "    </tr>\n",
       "    <tr>\n",
       "      <th>2937</th>\n",
       "      <td>2019-03-28</td>\n",
       "      <td>2018-10-01</td>\n",
       "      <td>20865.1</td>\n",
       "    </tr>\n",
       "    <tr>\n",
       "      <th>2940</th>\n",
       "      <td>2019-04-26</td>\n",
       "      <td>2019-01-01</td>\n",
       "      <td>21062.7</td>\n",
       "    </tr>\n",
       "    <tr>\n",
       "      <th>2941</th>\n",
       "      <td>2019-05-30</td>\n",
       "      <td>2019-01-01</td>\n",
       "      <td>21048.8</td>\n",
       "    </tr>\n",
       "  </tbody>\n",
       "</table>\n",
       "<p>2906 rows × 3 columns</p>\n",
       "</div>"
      ],
      "text/plain": [
       "     realtime_start       date    value\n",
       "0        1992-12-22 1946-01-01    199.7\n",
       "1        1996-01-19 1946-01-01      NaT\n",
       "2        1997-05-07 1946-01-01    210.4\n",
       "3        1999-10-28 1946-01-01      NaT\n",
       "4        1992-12-22 1946-04-01    207.7\n",
       "...             ...        ...      ...\n",
       "2933     2018-12-21 2018-07-01  20658.2\n",
       "2936     2019-02-28 2018-10-01  20891.4\n",
       "2937     2019-03-28 2018-10-01  20865.1\n",
       "2940     2019-04-26 2019-01-01  21062.7\n",
       "2941     2019-05-30 2019-01-01  21048.8\n",
       "\n",
       "[2906 rows x 3 columns]"
      ]
     },
     "execution_count": 9,
     "metadata": {},
     "output_type": "execute_result"
    }
   ],
   "source": [
    "fred.get_series_as_of_date('GDP', '6/1/2019')"
   ]
  },
  {
   "cell_type": "code",
   "execution_count": 10,
   "metadata": {},
   "outputs": [
    {
     "data": {
      "text/html": [
       "<div>\n",
       "<style scoped>\n",
       "    .dataframe tbody tr th:only-of-type {\n",
       "        vertical-align: middle;\n",
       "    }\n",
       "\n",
       "    .dataframe tbody tr th {\n",
       "        vertical-align: top;\n",
       "    }\n",
       "\n",
       "    .dataframe thead th {\n",
       "        text-align: right;\n",
       "    }\n",
       "</style>\n",
       "<table border=\"1\" class=\"dataframe\">\n",
       "  <thead>\n",
       "    <tr style=\"text-align: right;\">\n",
       "      <th></th>\n",
       "      <th>realtime_start</th>\n",
       "      <th>date</th>\n",
       "      <th>value</th>\n",
       "    </tr>\n",
       "  </thead>\n",
       "  <tbody>\n",
       "    <tr>\n",
       "      <th>2968</th>\n",
       "      <td>2021-02-25</td>\n",
       "      <td>2020-10-01</td>\n",
       "      <td>21487.9</td>\n",
       "    </tr>\n",
       "    <tr>\n",
       "      <th>2969</th>\n",
       "      <td>2021-03-25</td>\n",
       "      <td>2020-10-01</td>\n",
       "      <td>21494.7</td>\n",
       "    </tr>\n",
       "    <tr>\n",
       "      <th>2970</th>\n",
       "      <td>2021-04-29</td>\n",
       "      <td>2021-01-01</td>\n",
       "      <td>22048.9</td>\n",
       "    </tr>\n",
       "    <tr>\n",
       "      <th>2971</th>\n",
       "      <td>2021-05-27</td>\n",
       "      <td>2021-01-01</td>\n",
       "      <td>22061</td>\n",
       "    </tr>\n",
       "    <tr>\n",
       "      <th>2972</th>\n",
       "      <td>2021-06-24</td>\n",
       "      <td>2021-01-01</td>\n",
       "      <td>22061.5</td>\n",
       "    </tr>\n",
       "  </tbody>\n",
       "</table>\n",
       "</div>"
      ],
      "text/plain": [
       "     realtime_start       date    value\n",
       "2968     2021-02-25 2020-10-01  21487.9\n",
       "2969     2021-03-25 2020-10-01  21494.7\n",
       "2970     2021-04-29 2021-01-01  22048.9\n",
       "2971     2021-05-27 2021-01-01    22061\n",
       "2972     2021-06-24 2021-01-01  22061.5"
      ]
     },
     "execution_count": 10,
     "metadata": {},
     "output_type": "execute_result"
    }
   ],
   "source": [
    "df = fred.get_series_all_releases('GDP')\n",
    "df.tail()"
   ]
  },
  {
   "cell_type": "code",
   "execution_count": 14,
   "metadata": {},
   "outputs": [],
   "source": [
    "from fredapi import Fred\n",
    "fred = Fred(api_key='fd1643976833c89506544ff62efd7f70')\n",
    "data = fred.get_series('DGS10')"
   ]
  },
  {
   "cell_type": "code",
   "execution_count": 17,
   "metadata": {},
   "outputs": [
    {
     "data": {
      "text/plain": [
       "date\n",
       "2021-07-02    1.44\n",
       "2021-07-05     NaT\n",
       "2021-07-06    1.37\n",
       "2021-07-07    1.33\n",
       "2021-07-08     1.3\n",
       "Name: value, dtype: object"
      ]
     },
     "execution_count": 17,
     "metadata": {},
     "output_type": "execute_result"
    }
   ],
   "source": [
    "data = fred.get_series_first_release('DGS10')\n",
    "data.tail()"
   ]
  },
  {
   "cell_type": "code",
   "execution_count": 18,
   "metadata": {},
   "outputs": [
    {
     "data": {
      "text/plain": [
       "date\n",
       "2021-05-28    1.58\n",
       "2021-05-31     NaT\n",
       "2021-06-01    1.62\n",
       "2021-06-02    1.59\n",
       "2021-06-03    1.63\n",
       "2021-06-04    1.56\n",
       "2021-06-07    1.57\n",
       "2021-06-08    1.53\n",
       "2021-06-09     1.5\n",
       "2021-06-10    1.45\n",
       "2021-06-11    1.47\n",
       "2021-06-14    1.51\n",
       "2021-06-15    1.51\n",
       "2021-06-16    1.57\n",
       "2021-06-17    1.52\n",
       "2021-06-18    1.45\n",
       "2021-06-21     1.5\n",
       "2021-06-22    1.48\n",
       "2021-06-23     1.5\n",
       "2021-06-24    1.49\n",
       "2021-06-25    1.54\n",
       "2021-06-28    1.49\n",
       "2021-06-29    1.49\n",
       "2021-06-30    1.45\n",
       "2021-07-01    1.48\n",
       "2021-07-02    1.44\n",
       "2021-07-05     NaT\n",
       "2021-07-06    1.37\n",
       "2021-07-07    1.33\n",
       "2021-07-08     1.3\n",
       "Name: value, dtype: object"
      ]
     },
     "execution_count": 18,
     "metadata": {},
     "output_type": "execute_result"
    }
   ],
   "source": [
    "data = fred.get_series_first_release('DGS10')\n",
    "data.tail(30)"
   ]
  },
  {
   "cell_type": "code",
   "execution_count": null,
   "metadata": {},
   "outputs": [],
   "source": []
  }
 ],
 "metadata": {
  "kernelspec": {
   "display_name": "Python 3 (ipykernel)",
   "language": "python",
   "name": "python3"
  },
  "language_info": {
   "codemirror_mode": {
    "name": "ipython",
    "version": 3
   },
   "file_extension": ".py",
   "mimetype": "text/x-python",
   "name": "python",
   "nbconvert_exporter": "python",
   "pygments_lexer": "ipython3",
   "version": "3.9.6"
  }
 },
 "nbformat": 4,
 "nbformat_minor": 4
}
