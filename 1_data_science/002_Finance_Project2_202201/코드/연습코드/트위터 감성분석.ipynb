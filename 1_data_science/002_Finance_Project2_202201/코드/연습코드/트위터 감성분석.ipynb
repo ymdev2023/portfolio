{
 "cells": [
  {
   "cell_type": "code",
   "execution_count": 1,
   "id": "1309cecc",
   "metadata": {
    "ExecuteTime": {
     "end_time": "2022-02-02T10:09:02.779351Z",
     "start_time": "2022-02-02T10:08:59.715632Z"
    }
   },
   "outputs": [
    {
     "name": "stdout",
     "output_type": "stream",
     "text": [
      "Requirement already satisfied: transformers in c:\\users\\ym\\anaconda3\\lib\\site-packages (4.15.0)\n",
      "Requirement already satisfied: requests in c:\\users\\ym\\anaconda3\\lib\\site-packages (from transformers) (2.26.0)\n",
      "Requirement already satisfied: tokenizers<0.11,>=0.10.1 in c:\\users\\ym\\anaconda3\\lib\\site-packages (from transformers) (0.10.3)\n",
      "Requirement already satisfied: huggingface-hub<1.0,>=0.1.0 in c:\\users\\ym\\anaconda3\\lib\\site-packages (from transformers) (0.4.0)\n",
      "Requirement already satisfied: numpy>=1.17 in c:\\users\\ym\\anaconda3\\lib\\site-packages (from transformers) (1.20.3)\n",
      "Requirement already satisfied: filelock in c:\\users\\ym\\anaconda3\\lib\\site-packages (from transformers) (3.3.1)\n",
      "Requirement already satisfied: sacremoses in c:\\users\\ym\\anaconda3\\lib\\site-packages (from transformers) (0.0.47)\n",
      "Requirement already satisfied: packaging>=20.0 in c:\\users\\ym\\anaconda3\\lib\\site-packages (from transformers) (21.0)\n",
      "Requirement already satisfied: regex!=2019.12.17 in c:\\users\\ym\\anaconda3\\lib\\site-packages (from transformers) (2021.8.3)\n",
      "Requirement already satisfied: tqdm>=4.27 in c:\\users\\ym\\anaconda3\\lib\\site-packages (from transformers) (4.62.3)\n",
      "Requirement already satisfied: pyyaml>=5.1 in c:\\users\\ym\\anaconda3\\lib\\site-packages (from transformers) (6.0)\n",
      "Requirement already satisfied: typing-extensions>=3.7.4.3 in c:\\users\\ym\\anaconda3\\lib\\site-packages (from huggingface-hub<1.0,>=0.1.0->transformers) (3.10.0.2)\n",
      "Requirement already satisfied: pyparsing>=2.0.2 in c:\\users\\ym\\anaconda3\\lib\\site-packages (from packaging>=20.0->transformers) (3.0.4)\n",
      "Requirement already satisfied: colorama in c:\\users\\ym\\anaconda3\\lib\\site-packages (from tqdm>=4.27->transformers) (0.4.4)\n",
      "Requirement already satisfied: charset-normalizer~=2.0.0 in c:\\users\\ym\\anaconda3\\lib\\site-packages (from requests->transformers) (2.0.4)\n",
      "Requirement already satisfied: urllib3<1.27,>=1.21.1 in c:\\users\\ym\\anaconda3\\lib\\site-packages (from requests->transformers) (1.26.7)\n",
      "Requirement already satisfied: idna<4,>=2.5 in c:\\users\\ym\\anaconda3\\lib\\site-packages (from requests->transformers) (2.10)\n",
      "Requirement already satisfied: certifi>=2017.4.17 in c:\\users\\ym\\anaconda3\\lib\\site-packages (from requests->transformers) (2021.10.8)\n",
      "Requirement already satisfied: click in c:\\users\\ym\\anaconda3\\lib\\site-packages (from sacremoses->transformers) (8.0.3)\n",
      "Requirement already satisfied: joblib in c:\\users\\ym\\anaconda3\\lib\\site-packages (from sacremoses->transformers) (1.1.0)\n",
      "Requirement already satisfied: six in c:\\users\\ym\\anaconda3\\lib\\site-packages (from sacremoses->transformers) (1.16.0)\n",
      "Note: you may need to restart the kernel to use updated packages.\n"
     ]
    }
   ],
   "source": [
    "pip install transformers"
   ]
  },
  {
   "cell_type": "code",
   "execution_count": 2,
   "id": "f6819d81",
   "metadata": {
    "ExecuteTime": {
     "end_time": "2022-02-02T10:09:08.783421Z",
     "start_time": "2022-02-02T10:09:02.796235Z"
    }
   },
   "outputs": [],
   "source": [
    "################################## Import Modules ##################################\n",
    "# Get Data From Twitter\n",
    "import GetOldTweets3 as got\n",
    "from bs4 import BeautifulSoup\n",
    "from selenium.webdriver import Chrome\n",
    "from selenium.webdriver import Chrome, ChromeOptions\n",
    "from selenium.webdriver.chrome.options import Options\n",
    "from transformers import ElectraModel, ElectraTokenizer\n",
    "\n",
    "\n",
    "\n",
    "from pandas import Series, date_range\n",
    "import time\n",
    "import re\n",
    "\n",
    "##### Analysis Data\n",
    "from transformers import pipeline\n"
   ]
  },
  {
   "cell_type": "code",
   "execution_count": 5,
   "id": "bd90a262",
   "metadata": {
    "ExecuteTime": {
     "end_time": "2022-02-02T10:10:43.859335Z",
     "start_time": "2022-02-02T10:10:43.844341Z"
    }
   },
   "outputs": [],
   "source": [
    "import seaborn as sns\n",
    "import matplotlib.pyplot as plt\n",
    "import matplotlib.font_manager as fm\n",
    "# fm.get_fontconfig_fonts()\n",
    "# font_location = '/Library/Fonts/NanumBarunGothicUltraLight 2.ttf' # For Windows\n",
    "# font_name = fm.FontProperties(fname=font_location).get_name()\n",
    "# plt.rc('font', family=font_name)\n",
    "%matplotlib inline\n"
   ]
  },
  {
   "cell_type": "code",
   "execution_count": 7,
   "id": "2b1634c5",
   "metadata": {
    "ExecuteTime": {
     "end_time": "2022-02-02T10:10:57.718096Z",
     "start_time": "2022-02-02T10:10:57.704875Z"
    }
   },
   "outputs": [],
   "source": [
    "driver_path = \"C:/Users/ym/chromedriver/chromedriver.exe\""
   ]
  },
  {
   "cell_type": "code",
   "execution_count": 8,
   "id": "b1c3d00b",
   "metadata": {
    "ExecuteTime": {
     "end_time": "2022-02-02T10:10:59.514806Z",
     "start_time": "2022-02-02T10:10:59.503773Z"
    }
   },
   "outputs": [],
   "source": [
    "def run_driver(driver_path):\n",
    "    options = ChromeOptions()\n",
    "    options.add_argument(\"--disable-gpu\")\n",
    "    options.add_argument(\"--no-sandbox\")\n",
    "    options.add_argument(\"enable-automation\")\n",
    "    options.add_argument(\"--disable-infobars\")\n",
    "    options.add_argument(\"--disable-dev-shm-usage\")\n",
    "    options.add_argument(\"user-agent=Mozilla/5.0 (Windows NT 10.0; Win64; x64) AppleWebKit/537.36 (KHTML, like Gecko) Chrome/88.0.4324.190 Safari/537.36\")\n",
    "    driver = Chrome(driver_path, options=options)\n",
    "    \n",
    "    return driver"
   ]
  },
  {
   "cell_type": "code",
   "execution_count": 9,
   "id": "ddf9c55a",
   "metadata": {
    "ExecuteTime": {
     "end_time": "2022-02-02T10:11:00.891352Z",
     "start_time": "2022-02-02T10:11:00.876015Z"
    }
   },
   "outputs": [],
   "source": [
    "def cleanText(readData):\n",
    "    text = re.sub('[-=+,#/\\?:^$@*\\\"※~&%ㆍ!』\\\\‘|\\(\\)\\[\\]\\<\\>`\\'…》]', '', readData)\n",
    "    return text"
   ]
  },
  {
   "cell_type": "code",
   "execution_count": 10,
   "id": "931f0564",
   "metadata": {
    "ExecuteTime": {
     "end_time": "2022-02-02T10:11:03.497107Z",
     "start_time": "2022-02-02T10:11:03.482406Z"
    }
   },
   "outputs": [],
   "source": [
    "def setting_data_format():\n",
    "    target_word = input('검색할 단어를 입력하세요 : ')\n",
    "    start_date = input('검색을 시작할 날짜를 입력하세요 : ')\n",
    "    end_date = input('검색을 종료할 날짜를 입력하세요 : ')\n",
    "    search_date = date_range(start_date,end_date)\n",
    "\n",
    "    print(f'''\n",
    "    데이터 수집 대상 단어 : {target_word}\\n\n",
    "    데이터 수집 시작 일자 : {start_date}\\n\n",
    "    데이터 수집 마감 일자 : {end_date}\\n\n",
    "    데이터 수집 총합 기간 : {len(search_date)}일\n",
    "    ''')\n",
    "    return target_word, start_date, end_date\n"
   ]
  },
  {
   "cell_type": "code",
   "execution_count": 70,
   "id": "88bc48b5",
   "metadata": {
    "ExecuteTime": {
     "end_time": "2022-02-02T13:30:59.377448Z",
     "start_time": "2022-02-02T13:30:59.372839Z"
    }
   },
   "outputs": [],
   "source": [
    "date = datetime.datetime"
   ]
  },
  {
   "cell_type": "code",
   "execution_count": 83,
   "id": "782f8257",
   "metadata": {
    "ExecuteTime": {
     "end_time": "2022-02-02T13:48:43.716177Z",
     "start_time": "2022-02-02T13:48:43.705529Z"
    }
   },
   "outputs": [],
   "source": [
    "def crawl_data(driver, target_word):\n",
    "    new_texts = []\n",
    "    texts = driver.find_elements_by_xpath(\"//div[@lang='ko']\")\n",
    "    for text in texts:\n",
    "        text = text.text\n",
    "        text = text.replace('\\n',' ')\n",
    "        if target_word not in text:\n",
    "            continue;\n",
    "        elif len(text.split(' ')) <= 3:\n",
    "                continue;\n",
    "        else:\n",
    "            text =' '.join( [x  for x in text.split('.') if target_word in x])\n",
    "            new_texts.append(text)\n",
    "    return new_texts"
   ]
  },
  {
   "cell_type": "code",
   "execution_count": 84,
   "id": "91f3382b",
   "metadata": {
    "ExecuteTime": {
     "end_time": "2022-02-02T13:48:44.321838Z",
     "start_time": "2022-02-02T13:48:44.305505Z"
    }
   },
   "outputs": [],
   "source": [
    "def crawl_date(driver, target_date):\n",
    "    new_date = []\n",
    "    dates = driver.find_elements_by_xpath(\"//*[@id='id__o34ppnbhnqe']/time\")\n",
    "    for date in dates:\n",
    "        date = date.date\n",
    "        new_date.append(date)\n",
    "    return new_date"
   ]
  },
  {
   "cell_type": "code",
   "execution_count": 86,
   "id": "60495299",
   "metadata": {
    "ExecuteTime": {
     "end_time": "2022-02-02T13:49:17.228726Z",
     "start_time": "2022-02-02T13:49:17.223744Z"
    }
   },
   "outputs": [],
   "source": [
    "def scroll_down_and_crawl(total_texts, driver, last_height, target_word):\n",
    "    SCROLL_PAUSE_SEC = 3\n",
    "    driver.execute_script(\"window.scrollTo(0, document.body.scrollHeight);\")\n",
    "    time.sleep(SCROLL_PAUSE_SEC)\n",
    "    new_height = driver.execute_script(\"return document.body.scrollHeight\")\n",
    "    \n",
    "    if last_height != new_height:\n",
    "        total_texts.extend(crawl_data(driver, target_word))\n",
    "#         print('지금까지 수집된 데이터 크기 : ',len(total_texts))\n",
    "        return new_height\n",
    "    else:\n",
    "        return False"
   ]
  },
  {
   "cell_type": "code",
   "execution_count": 81,
   "id": "60c70648",
   "metadata": {
    "ExecuteTime": {
     "end_time": "2022-02-02T13:45:18.391110Z",
     "start_time": "2022-02-02T13:45:18.378066Z"
    }
   },
   "outputs": [],
   "source": [
    "import datetime # datetime 패키지  \n",
    "from tqdm.notebook import tqdm \n",
    "\n",
    "def crawl_main():\n",
    "    target_word, start_date, end_date = setting_data_format()\n",
    "    total_texts = []\n",
    "    start_time = time.time()\n",
    "    total_date = []\n",
    "    \n",
    "#     days_range = [] # datetime 패키지, datetime 클래스(날짜와 시간 함께 저장)  \n",
    "#     start = datetime.datetime.strptime(\"2020-01-01\", \"%Y-%m-%d\") # strptime 메서드: 문자열 반환 \n",
    "#     end = datetime.datetime.strptime(\"2020-01-02\", \"%Y-%m-%d\") \n",
    "#     date_generated = [start+datetime.timedelta(days=x) for x in range(0, (end-start).days)] \n",
    "#     for date in date_generated: days_range.append(date.strftime(\"%Y-%m-%d\")) \n",
    "#     print(\"===설정된 트윗 수집 기간: {} ~ {}===\".format(days_range[0], days_range[-1])) \n",
    "#     print(\"===총 {}일 간의 데이터 수집===\".format(len(days_range)))\n",
    "\n",
    "    # 원하는 정보만 저장 # 유저 아이디, 트윗 내용, 날짜, 좋아요 수, 리트윗 수, 링크 \n",
    "   \n",
    "\n",
    "\n",
    "    print('=== 데이터 수집 시작 ===')\n",
    "    driver = run_driver(driver_path)\n",
    "    url = f'https://twitter.com/search?q=\"{target_word}\"%20since%3A{start_date}%20until%3A{end_date}&src=typed_query&f=live'\n",
    "    driver.get(url)\n",
    "    time.sleep(1)\n",
    "    last_height = driver.execute_script(\"return document.body.scrollHeight\")\n",
    "    while last_height != False:\n",
    "        last_height = scroll_down_and_crawl(total_texts, driver, last_height, target_word)\n",
    "    driver.close()\n",
    "    print(f'=== 데이터 수집 종료 : {len(total_texts)}===')\n",
    "    total_texts = list(set(total_texts)) \n",
    "    total_texts = [cleanText(text) for text in total_texts]\n",
    "    total_date = date\n",
    "    print(f'=== 데이터 정제 완료 : {len(total_texts)}===')\n",
    "    print(f'=== 데이터 최종 크기 : {len(total_texts)}===')\n",
    "    print(f'=== 데이터 수집 시간 : {int((time.time() - start_time)//60)}분 ===')\n",
    "    print('='*30)\n",
    "    return target_word, start_date, end_date, total_texts, total_date"
   ]
  },
  {
   "cell_type": "code",
   "execution_count": 82,
   "id": "8e6e9387",
   "metadata": {
    "ExecuteTime": {
     "end_time": "2022-02-02T13:46:37.064791Z",
     "start_time": "2022-02-02T13:45:18.873302Z"
    },
    "scrolled": false
   },
   "outputs": [
    {
     "name": "stdout",
     "output_type": "stream",
     "text": [
      "검색할 단어를 입력하세요 : 트럼프\n",
      "검색을 시작할 날짜를 입력하세요 : 2020-01-01\n",
      "검색을 종료할 날짜를 입력하세요 : 2020-01-02\n",
      "\n",
      "    데이터 수집 대상 단어 : 트럼프\n",
      "\n",
      "    데이터 수집 시작 일자 : 2020-01-01\n",
      "\n",
      "    데이터 수집 마감 일자 : 2020-01-02\n",
      "\n",
      "    데이터 수집 총합 기간 : 2일\n",
      "    \n",
      "=== 데이터 수집 시작 ===\n"
     ]
    },
    {
     "name": "stderr",
     "output_type": "stream",
     "text": [
      "C:\\Users\\ym\\AppData\\Local\\Temp/ipykernel_14316/3227642054.py:9: DeprecationWarning: executable_path has been deprecated, please pass in a Service object\n",
      "  driver = Chrome(driver_path, options=options)\n",
      "C:\\Users\\ym\\AppData\\Local\\Temp/ipykernel_14316/3204689472.py:4: DeprecationWarning: find_elements_by_* commands are deprecated. Please use find_elements() instead\n",
      "  texts = driver.find_elements_by_xpath(\"//div[@lang='ko']\")\n",
      "C:\\Users\\ym\\AppData\\Local\\Temp/ipykernel_14316/3204689472.py:5: DeprecationWarning: find_elements_by_* commands are deprecated. Please use find_elements() instead\n",
      "  dates = driver.find_elements_by_xpath(\"//*[@id='id__o34ppnbhnqe']/time\")\n"
     ]
    },
    {
     "name": "stdout",
     "output_type": "stream",
     "text": [
      "=== 데이터 수집 종료 : 274===\n",
      "=== 데이터 정제 완료 : 245===\n",
      "=== 데이터 최종 크기 : 245===\n",
      "=== 데이터 수집 시간 : 1분 ===\n",
      "==============================\n"
     ]
    },
    {
     "ename": "ValueError",
     "evalue": "too many values to unpack (expected 4)",
     "output_type": "error",
     "traceback": [
      "\u001b[1;31m---------------------------------------------------------------------------\u001b[0m",
      "\u001b[1;31mValueError\u001b[0m                                Traceback (most recent call last)",
      "\u001b[1;32m~\\AppData\\Local\\Temp/ipykernel_14316/2630896798.py\u001b[0m in \u001b[0;36m<module>\u001b[1;34m\u001b[0m\n\u001b[0;32m     56\u001b[0m     \u001b[0manalyze_and_plot\u001b[0m\u001b[1;33m(\u001b[0m\u001b[0mtarget_word\u001b[0m\u001b[1;33m,\u001b[0m \u001b[0mstart_date\u001b[0m\u001b[1;33m,\u001b[0m \u001b[0mend_date\u001b[0m\u001b[1;33m,\u001b[0m \u001b[0mtotal_texts\u001b[0m\u001b[1;33m)\u001b[0m\u001b[1;33m\u001b[0m\u001b[1;33m\u001b[0m\u001b[0m\n\u001b[0;32m     57\u001b[0m \u001b[1;32mif\u001b[0m \u001b[0m__name__\u001b[0m \u001b[1;33m==\u001b[0m \u001b[1;34m\"__main__\"\u001b[0m\u001b[1;33m:\u001b[0m\u001b[1;33m\u001b[0m\u001b[1;33m\u001b[0m\u001b[0m\n\u001b[1;32m---> 58\u001b[1;33m     \u001b[0mmain\u001b[0m\u001b[1;33m(\u001b[0m\u001b[1;33m)\u001b[0m\u001b[1;33m\u001b[0m\u001b[1;33m\u001b[0m\u001b[0m\n\u001b[0m",
      "\u001b[1;32m~\\AppData\\Local\\Temp/ipykernel_14316/2630896798.py\u001b[0m in \u001b[0;36mmain\u001b[1;34m()\u001b[0m\n\u001b[0;32m     53\u001b[0m \u001b[1;33m\u001b[0m\u001b[0m\n\u001b[0;32m     54\u001b[0m \u001b[1;32mdef\u001b[0m \u001b[0mmain\u001b[0m\u001b[1;33m(\u001b[0m\u001b[1;33m)\u001b[0m\u001b[1;33m:\u001b[0m\u001b[1;33m\u001b[0m\u001b[1;33m\u001b[0m\u001b[0m\n\u001b[1;32m---> 55\u001b[1;33m     \u001b[0mtarget_word\u001b[0m\u001b[1;33m,\u001b[0m \u001b[0mstart_date\u001b[0m\u001b[1;33m,\u001b[0m \u001b[0mend_date\u001b[0m\u001b[1;33m,\u001b[0m \u001b[0mtotal_texts\u001b[0m \u001b[1;33m=\u001b[0m \u001b[0mcrawl_main\u001b[0m\u001b[1;33m(\u001b[0m\u001b[1;33m)\u001b[0m\u001b[1;33m\u001b[0m\u001b[1;33m\u001b[0m\u001b[0m\n\u001b[0m\u001b[0;32m     56\u001b[0m     \u001b[0manalyze_and_plot\u001b[0m\u001b[1;33m(\u001b[0m\u001b[0mtarget_word\u001b[0m\u001b[1;33m,\u001b[0m \u001b[0mstart_date\u001b[0m\u001b[1;33m,\u001b[0m \u001b[0mend_date\u001b[0m\u001b[1;33m,\u001b[0m \u001b[0mtotal_texts\u001b[0m\u001b[1;33m)\u001b[0m\u001b[1;33m\u001b[0m\u001b[1;33m\u001b[0m\u001b[0m\n\u001b[0;32m     57\u001b[0m \u001b[1;32mif\u001b[0m \u001b[0m__name__\u001b[0m \u001b[1;33m==\u001b[0m \u001b[1;34m\"__main__\"\u001b[0m\u001b[1;33m:\u001b[0m\u001b[1;33m\u001b[0m\u001b[1;33m\u001b[0m\u001b[0m\n",
      "\u001b[1;31mValueError\u001b[0m: too many values to unpack (expected 4)"
     ]
    }
   ],
   "source": [
    "import pandas as pd\n",
    "import time\n",
    "import datetime as dt\n",
    "\n",
    "def re_judge(result):\n",
    "    if result['score'] <= 0.33 : \n",
    "        return \"중립\"\n",
    "    elif result['label'] == \"positive\":\n",
    "        return \"긍정\"\n",
    "    else:\n",
    "        return \"부정\"\n",
    "\n",
    "def analyze_and_plot(target_word, start_date, end_date, total_texts):\n",
    "    print('=== 데이터 분석 준비 ===')\n",
    "    classifier = pipeline('sentiment-analysis',model='monologg/koelectra-base-finetuned-nsmc')\n",
    "    start_time = time.time()\n",
    "    print('=== 데이터 분석 시작 ===')\n",
    "    result = [classifier(text)[0] for text in total_texts]\n",
    "#     result = [re_judge(re_ju) for re_ju in result]\n",
    "    print('=== 데이터 분석 종료 ===')\n",
    "    print(f'=== 데이터 분석 시간 : {int((time.time() - start_time)//60)}분 ===')\n",
    "    total_dict = pd.DataFrame({'title': total_texts, 'score':result})\n",
    "    total_dict.to_excel('total.xlsx')\n",
    "    return(total_dict)\n",
    "    \n",
    "#     plt.figure(figsize=(8,8))\n",
    "#     draw_result = Series(result).value_counts()\n",
    "#     if len(draw_result) == 2 : \n",
    "#         explode = [0,0.1]\n",
    "#     else:\n",
    "#         explode = [0,0.1,0.2]\n",
    "        \n",
    "#     plt.pie(draw_result,\n",
    "#                     labels = draw_result.index, \n",
    "#                     autopct = \"%.1f%%\", \n",
    "#                     colors = reversed(sns.color_palette('RdBu',2)),\n",
    "#                     explode = explode\n",
    "#                    )\n",
    "#     title = f'트위터 기반 {target_word} 긍정 부정 글의 수 ({start_date} ~ {end_date})'\n",
    "#     plt.title(title)\n",
    "#     plt.savefig(title)\n",
    "#     plt.show()\n",
    "    \n",
    "# def analyze_and_df(target_word, start_date, end_date, total_texts):\n",
    "\n",
    "#     classifier = pipeline('sentiment-analysis',model='monologg/koelectra-base-finetuned-nsmc')\n",
    "#     start_time = time.time()\n",
    "\n",
    "#     result = [classifier(text)[0] for text in total_texts]\n",
    "#     result = [re_judge(re_ju) for re_ju in result]\n",
    "\n",
    "#     return print(total_texts,result)\n",
    "\n",
    "def main():\n",
    "    target_word, start_date, end_date, total_texts = crawl_main()\n",
    "    analyze_and_plot(target_word, start_date, end_date, total_texts)\n",
    "if __name__ == \"__main__\":\n",
    "    main()"
   ]
  },
  {
   "cell_type": "code",
   "execution_count": null,
   "id": "b2183641",
   "metadata": {
    "ExecuteTime": {
     "end_time": "2022-01-27T10:49:02.955360Z",
     "start_time": "2022-01-27T10:49:02.955312Z"
    }
   },
   "outputs": [],
   "source": [
    "pip install torch torchvision"
   ]
  },
  {
   "cell_type": "code",
   "execution_count": null,
   "id": "f615fd01",
   "metadata": {
    "ExecuteTime": {
     "end_time": "2022-01-27T10:49:02.957277Z",
     "start_time": "2022-01-27T10:49:02.957255Z"
    }
   },
   "outputs": [],
   "source": [
    "driver = webdriver.Firefox()"
   ]
  },
  {
   "cell_type": "code",
   "execution_count": null,
   "id": "e17a2e13",
   "metadata": {},
   "outputs": [],
   "source": []
  }
 ],
 "metadata": {
  "kernelspec": {
   "display_name": "Python 3 (ipykernel)",
   "language": "python",
   "name": "python3"
  },
  "language_info": {
   "codemirror_mode": {
    "name": "ipython",
    "version": 3
   },
   "file_extension": ".py",
   "mimetype": "text/x-python",
   "name": "python",
   "nbconvert_exporter": "python",
   "pygments_lexer": "ipython3",
   "version": "3.9.7"
  },
  "toc": {
   "base_numbering": 1,
   "nav_menu": {},
   "number_sections": true,
   "sideBar": true,
   "skip_h1_title": false,
   "title_cell": "Table of Contents",
   "title_sidebar": "Contents",
   "toc_cell": false,
   "toc_position": {},
   "toc_section_display": true,
   "toc_window_display": false
  },
  "varInspector": {
   "cols": {
    "lenName": 16,
    "lenType": 16,
    "lenVar": 40
   },
   "kernels_config": {
    "python": {
     "delete_cmd_postfix": "",
     "delete_cmd_prefix": "del ",
     "library": "var_list.py",
     "varRefreshCmd": "print(var_dic_list())"
    },
    "r": {
     "delete_cmd_postfix": ") ",
     "delete_cmd_prefix": "rm(",
     "library": "var_list.r",
     "varRefreshCmd": "cat(var_dic_list()) "
    }
   },
   "types_to_exclude": [
    "module",
    "function",
    "builtin_function_or_method",
    "instance",
    "_Feature"
   ],
   "window_display": false
  }
 },
 "nbformat": 4,
 "nbformat_minor": 5
}
