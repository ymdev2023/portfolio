{
 "cells": [
  {
   "cell_type": "code",
   "execution_count": 7,
   "id": "b7fa95ff",
   "metadata": {
    "ExecuteTime": {
     "end_time": "2022-01-21T09:22:14.574514Z",
     "start_time": "2022-01-21T09:22:14.557081Z"
    }
   },
   "outputs": [],
   "source": [
    "import requests\n",
    "from bs4 import BeautifulSoup"
   ]
  },
  {
   "cell_type": "code",
   "execution_count": 8,
   "id": "ba19fb0a",
   "metadata": {
    "ExecuteTime": {
     "end_time": "2022-01-21T09:23:55.281787Z",
     "start_time": "2022-01-21T09:23:55.222049Z"
    }
   },
   "outputs": [],
   "source": [
    "url = \"https://finance.naver.com/item/board.naver?code=035250&page=1\"\n",
    "html = requests.get(url).text\n",
    "soup = BeautifulSoup(html, 'html.parser')\n",
    "a = soup.find_all('td', {'class':'title'})"
   ]
  },
  {
   "cell_type": "code",
   "execution_count": 11,
   "id": "8abbd5e1",
   "metadata": {
    "ExecuteTime": {
     "end_time": "2022-01-21T09:25:20.903939Z",
     "start_time": "2022-01-21T09:25:20.899767Z"
    }
   },
   "outputs": [
    {
     "data": {
      "text/plain": [
       "[]"
      ]
     },
     "execution_count": 11,
     "metadata": {},
     "output_type": "execute_result"
    }
   ],
   "source": [
    "a"
   ]
  },
  {
   "cell_type": "code",
   "execution_count": 13,
   "id": "24953854",
   "metadata": {
    "ExecuteTime": {
     "end_time": "2022-01-21T09:27:18.194148Z",
     "start_time": "2022-01-21T09:27:15.580937Z"
    }
   },
   "outputs": [
    {
     "name": "stderr",
     "output_type": "stream",
     "text": [
      "Cloning into 'stock_discussion_crawler'...\n",
      "'sh'은(는) 내부 또는 외부 명령, 실행할 수 있는 프로그램, 또는\n",
      "배치 파일이 아닙니다.\n"
     ]
    }
   ],
   "source": [
    "!git clone https://github.com/wjrmffldrhrl/stock_discussion_crawler.git\n",
    "\n",
    "!cd stock_discussion_crawler\n",
    "\n",
    "!sh run_docker_crawler.sh"
   ]
  },
  {
   "cell_type": "code",
   "execution_count": 16,
   "id": "b2c8f503",
   "metadata": {
    "ExecuteTime": {
     "end_time": "2022-01-21T09:30:05.998449Z",
     "start_time": "2022-01-21T09:29:44.620684Z"
    }
   },
   "outputs": [
    {
     "name": "stdout",
     "output_type": "stream",
     "text": [
      "==================================================\n",
      "실시간 뉴스기사 다운받기.\n",
      " 시작하시려면 Enter를 눌러주세요.\n",
      "==================================================\n",
      "종목 이름이나 코드 입력: 005930\n",
      "최대 뉴스 페이지 수 입력: 100\n",
      "다운 받고 있습니다------\n",
      "다운 받고 있습니다------\n",
      "다운 받고 있습니다------\n",
      "다운 받고 있습니다------\n",
      "다운 받고 있습니다------\n",
      "다운 받고 있습니다------\n",
      "다운 받고 있습니다------\n",
      "다운 받고 있습니다------\n",
      "다운 받고 있습니다------\n",
      "다운 받고 있습니다------\n",
      "다운 받고 있습니다------\n",
      "다운 받고 있습니다------\n",
      "다운 받고 있습니다------\n",
      "다운 받고 있습니다------\n",
      "다운 받고 있습니다------\n",
      "다운 받고 있습니다------\n",
      "다운 받고 있습니다------\n",
      "다운 받고 있습니다------\n",
      "다운 받고 있습니다------\n",
      "다운 받고 있습니다------\n",
      "다운 받고 있습니다------\n",
      "다운 받고 있습니다------\n",
      "다운 받고 있습니다------\n",
      "다운 받고 있습니다------\n",
      "다운 받고 있습니다------\n",
      "다운 받고 있습니다------\n",
      "다운 받고 있습니다------\n",
      "다운 받고 있습니다------\n",
      "다운 받고 있습니다------\n",
      "다운 받고 있습니다------\n",
      "다운 받고 있습니다------\n",
      "다운 받고 있습니다------\n",
      "다운 받고 있습니다------\n",
      "다운 받고 있습니다------\n",
      "다운 받고 있습니다------\n",
      "다운 받고 있습니다------\n",
      "다운 받고 있습니다------\n",
      "다운 받고 있습니다------\n",
      "다운 받고 있습니다------\n",
      "다운 받고 있습니다------\n",
      "다운 받고 있습니다------\n",
      "다운 받고 있습니다------\n",
      "다운 받고 있습니다------\n",
      "다운 받고 있습니다------\n",
      "다운 받고 있습니다------\n",
      "다운 받고 있습니다------\n",
      "다운 받고 있습니다------\n",
      "다운 받고 있습니다------\n",
      "다운 받고 있습니다------\n",
      "다운 받고 있습니다------\n",
      "다운 받고 있습니다------\n",
      "다운 받고 있습니다------\n",
      "다운 받고 있습니다------\n",
      "다운 받고 있습니다------\n",
      "다운 받고 있습니다------\n",
      "다운 받고 있습니다------\n",
      "다운 받고 있습니다------\n",
      "다운 받고 있습니다------\n",
      "다운 받고 있습니다------\n",
      "다운 받고 있습니다------\n",
      "다운 받고 있습니다------\n",
      "다운 받고 있습니다------\n",
      "다운 받고 있습니다------\n",
      "다운 받고 있습니다------\n",
      "다운 받고 있습니다------\n",
      "다운 받고 있습니다------\n",
      "다운 받고 있습니다------\n",
      "다운 받고 있습니다------\n",
      "다운 받고 있습니다------\n",
      "다운 받고 있습니다------\n",
      "다운 받고 있습니다------\n",
      "다운 받고 있습니다------\n",
      "다운 받고 있습니다------\n",
      "다운 받고 있습니다------\n",
      "다운 받고 있습니다------\n",
      "다운 받고 있습니다------\n",
      "다운 받고 있습니다------\n",
      "다운 받고 있습니다------\n",
      "다운 받고 있습니다------\n",
      "다운 받고 있습니다------\n",
      "다운 받고 있습니다------\n",
      "다운 받고 있습니다------\n",
      "다운 받고 있습니다------\n",
      "다운 받고 있습니다------\n",
      "다운 받고 있습니다------\n",
      "다운 받고 있습니다------\n",
      "다운 받고 있습니다------\n",
      "다운 받고 있습니다------\n",
      "다운 받고 있습니다------\n",
      "다운 받고 있습니다------\n",
      "다운 받고 있습니다------\n",
      "다운 받고 있습니다------\n",
      "다운 받고 있습니다------\n",
      "다운 받고 있습니다------\n",
      "다운 받고 있습니다------\n",
      "다운 받고 있습니다------\n",
      "다운 받고 있습니다------\n",
      "다운 받고 있습니다------\n",
      "다운 받고 있습니다------\n",
      "다운 받고 있습니다------\n"
     ]
    }
   ],
   "source": [
    "\"\"\" 주식종목 뉴스(네이버 파이넌스) Crawling 하기 \"\"\"  \n",
    " \n",
    " \n",
    "from bs4 import BeautifulSoup\n",
    "import requests\n",
    "import re\n",
    "import pandas as pd\n",
    "import os \n",
    " \n",
    " \n",
    "os.chdir('./')\n",
    " \n",
    " \n",
    " \n",
    "def crawler(company_code, maxpage):\n",
    "    \n",
    "    page = 1 \n",
    "    \n",
    "    while page <= int(maxpage): \n",
    "    \n",
    "        url = 'https://finance.naver.com/item/news_news.nhn?code=' + str(company_code) + '&page=' + str(page) \n",
    "        source_code = requests.get(url).text\n",
    "        html = BeautifulSoup(source_code, \"lxml\")\n",
    "     \n",
    " \n",
    "        \n",
    "        # 뉴스 제목 \n",
    "        titles = html.select('.title')\n",
    "        title_result=[]\n",
    "        for title in titles: \n",
    "            title = title.get_text() \n",
    "            title = re.sub('\\n','',title)\n",
    "            title_result.append(title)\n",
    " \n",
    " \n",
    "        # 뉴스 링크\n",
    "        links = html.select('.title') \n",
    " \n",
    "        link_result =[]\n",
    "        for link in links: \n",
    "            add = 'https://finance.naver.com' + link.find('a')['href']\n",
    "            link_result.append(add)\n",
    " \n",
    " \n",
    "        # 뉴스 날짜 \n",
    "        dates = html.select('.date') \n",
    "        date_result = [date.get_text() for date in dates] \n",
    " \n",
    " \n",
    "        # 뉴스 매체     \n",
    "        sources = html.select('.info')\n",
    "        source_result = [source.get_text() for source in sources] \n",
    " \n",
    " \n",
    "        # 변수들 합쳐서 해당 디렉토리에 csv파일로 저장하기 \n",
    " \n",
    "        result= {\"날짜\" : date_result, \"언론사\" : source_result, \"기사제목\" : title_result, \"링크\" : link_result} \n",
    "        df_result = pd.DataFrame(result)\n",
    "        \n",
    "        print(\"다운 받고 있습니다------\")\n",
    "        df_result.to_csv('page' + str(page) + '.csv', mode='w', encoding='utf-8-sig') \n",
    "            \n",
    " \n",
    "        page += 1 \n",
    " \n",
    " \n",
    "    \n",
    " \n",
    "# 종목 리스트 파일 열기  \n",
    "# 회사명을 종목코드로 변환 \n",
    "        \n",
    "def convert_to_code(company, maxpage):\n",
    "    \n",
    "    data = pd.read_csv('company_list.txt', dtype=str, sep='\\t')   # 종목코드 추출 \n",
    "    company_name = data['회사명']\n",
    "    keys = [i for i in company_name]    #데이터프레임에서 리스트로 바꾸기 \n",
    " \n",
    "    company_code = data['종목코드']\n",
    "    values = [j for j in company_code]\n",
    " \n",
    "    dict_result = dict(zip(keys, values))  # 딕셔너리 형태로 회사이름과 종목코드 묶기 \n",
    "    \n",
    "    pattern = '[a-zA-Z가-힣]+' \n",
    "    \n",
    "    if bool(re.match(pattern, company)) == True:         # Input에 이름으로 넣었을 때  \n",
    "        company_code = dict_result.get(str(company))\n",
    "        crawler(company_code, maxpage)\n",
    " \n",
    "    \n",
    "    else:                                                # Input에 종목코드로 넣었을 때       \n",
    "        company_code = str(company)      \n",
    "        crawler(company_code, maxpage)\n",
    "        \n",
    "           \n",
    " \n",
    " \n",
    "def main():\n",
    "    info_main = input(\"=\"*50+\"\\n\"+\"실시간 뉴스기사 다운받기.\"+\"\\n\"+\" 시작하시려면 Enter를 눌러주세요.\"+\"\\n\"+\"=\"*50)\n",
    "    \n",
    "    company = input(\"종목 이름이나 코드 입력: \") \n",
    "    \n",
    "    maxpage = input(\"최대 뉴스 페이지 수 입력: \")  \n",
    " \n",
    "    convert_to_code(company, maxpage) \n",
    " \n",
    " \n",
    " \n",
    "main() "
   ]
  },
  {
   "cell_type": "code",
   "execution_count": null,
   "id": "50c00c2f",
   "metadata": {},
   "outputs": [],
   "source": []
  }
 ],
 "metadata": {
  "kernelspec": {
   "display_name": "Python 3 (ipykernel)",
   "language": "python",
   "name": "python3"
  },
  "language_info": {
   "codemirror_mode": {
    "name": "ipython",
    "version": 3
   },
   "file_extension": ".py",
   "mimetype": "text/x-python",
   "name": "python",
   "nbconvert_exporter": "python",
   "pygments_lexer": "ipython3",
   "version": "3.9.7"
  },
  "toc": {
   "base_numbering": 1,
   "nav_menu": {},
   "number_sections": false,
   "sideBar": true,
   "skip_h1_title": false,
   "title_cell": "Table of Contents",
   "title_sidebar": "Contents",
   "toc_cell": false,
   "toc_position": {},
   "toc_section_display": true,
   "toc_window_display": false
  },
  "varInspector": {
   "cols": {
    "lenName": 16,
    "lenType": 16,
    "lenVar": 40
   },
   "kernels_config": {
    "python": {
     "delete_cmd_postfix": "",
     "delete_cmd_prefix": "del ",
     "library": "var_list.py",
     "varRefreshCmd": "print(var_dic_list())"
    },
    "r": {
     "delete_cmd_postfix": ") ",
     "delete_cmd_prefix": "rm(",
     "library": "var_list.r",
     "varRefreshCmd": "cat(var_dic_list()) "
    }
   },
   "types_to_exclude": [
    "module",
    "function",
    "builtin_function_or_method",
    "instance",
    "_Feature"
   ],
   "window_display": false
  }
 },
 "nbformat": 4,
 "nbformat_minor": 5
}
