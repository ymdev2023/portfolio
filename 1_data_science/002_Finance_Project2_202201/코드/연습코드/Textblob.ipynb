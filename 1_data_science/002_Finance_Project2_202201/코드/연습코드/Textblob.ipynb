{
 "cells": [
  {
   "cell_type": "code",
   "execution_count": 1,
   "id": "0db98b1d",
   "metadata": {
    "ExecuteTime": {
     "end_time": "2022-01-20T01:33:23.543977Z",
     "start_time": "2022-01-20T01:33:22.467490Z"
    }
   },
   "outputs": [],
   "source": [
    "from textblob import TextBlob"
   ]
  },
  {
   "cell_type": "code",
   "execution_count": 2,
   "id": "0e23a324",
   "metadata": {
    "ExecuteTime": {
     "end_time": "2022-01-20T01:33:23.946302Z",
     "start_time": "2022-01-20T01:33:23.804269Z"
    }
   },
   "outputs": [
    {
     "data": {
      "text/plain": [
       "TextBlob(\"Corporate personal post Let's prepare for Corona, books containing investment strategies will continue to be popular\")"
      ]
     },
     "execution_count": 2,
     "metadata": {},
     "output_type": "execute_result"
    }
   ],
   "source": [
    "wiki = TextBlob(\"기업 개인 포스트 코로나 준비하자 투자 전략 담은 도서 인기 이어질 것\")\n",
    "wiki.translate(to='en')"
   ]
  },
  {
   "cell_type": "code",
   "execution_count": 3,
   "id": "477f58f2",
   "metadata": {
    "ExecuteTime": {
     "end_time": "2022-01-20T01:33:44.289037Z",
     "start_time": "2022-01-20T01:33:44.273041Z"
    }
   },
   "outputs": [],
   "source": [
    "from textblob.classifiers import NaiveBayesClassifier\n",
    "\n",
    "train = [\n",
    "    ('I love this sandwich.', 'pos'),\n",
    "    ('This is an amazing place!', 'pos'),\n",
    "    ('I feel very good about these beers.', 'pos'),\n",
    "    ('This is my best work.', 'pos'),\n",
    "    (\"What an awesome view\", 'pos'),\n",
    "    ('I do not like this restaurant', 'neg'),\n",
    "    ('I am tired of this stuff.', 'neg'),\n",
    "    (\"I can't deal with this\", 'neg'),\n",
    "    ('He is my sworn enemy!', 'neg'),\n",
    "    ('My boss is horrible.', 'neg')\n",
    "]\n",
    "test = [\n",
    "    ('The beer was good.', 'pos'),\n",
    "    ('I do not enjoy my job', 'neg'),\n",
    "    (\"I ain't feeling dandy today.\", 'neg'),\n",
    "    (\"I feel amazing!\", 'pos'),\n",
    "    ('Gary is a friend of mine.', 'pos'),\n",
    "    (\"I can't believe I'm doing this.\", 'neg')\n",
    "]"
   ]
  },
  {
   "cell_type": "code",
   "execution_count": 6,
   "id": "d8cf2b7b",
   "metadata": {
    "ExecuteTime": {
     "end_time": "2022-01-20T01:34:21.074938Z",
     "start_time": "2022-01-20T01:34:21.040068Z"
    }
   },
   "outputs": [
    {
     "name": "stderr",
     "output_type": "stream",
     "text": [
      "[nltk_data] Downloading package punkt to\n",
      "[nltk_data]     C:\\Users\\ym\\AppData\\Roaming\\nltk_data...\n",
      "[nltk_data]   Package punkt is already up-to-date!\n"
     ]
    }
   ],
   "source": [
    "import nltk\n",
    "nltk.download('punkt')\n",
    "cl = NaiveBayesClassifier(train)"
   ]
  },
  {
   "cell_type": "code",
   "execution_count": 7,
   "id": "afa9501d",
   "metadata": {
    "ExecuteTime": {
     "end_time": "2022-01-20T01:34:31.425214Z",
     "start_time": "2022-01-20T01:34:31.408266Z"
    }
   },
   "outputs": [
    {
     "data": {
      "text/plain": [
       "'neg'"
      ]
     },
     "execution_count": 7,
     "metadata": {},
     "output_type": "execute_result"
    }
   ],
   "source": [
    "cl.classify(\"Their burgers are amazing\")  # \"pos\"\n",
    "cl.classify(\"I don't like their pizza.\")  # \"neg\""
   ]
  },
  {
   "cell_type": "code",
   "execution_count": 8,
   "id": "99854620",
   "metadata": {
    "ExecuteTime": {
     "end_time": "2022-01-20T01:34:41.672252Z",
     "start_time": "2022-01-20T01:34:41.650017Z"
    }
   },
   "outputs": [
    {
     "data": {
      "text/plain": [
       "'neg'"
      ]
     },
     "execution_count": 8,
     "metadata": {},
     "output_type": "execute_result"
    }
   ],
   "source": [
    "from textblob import TextBlob\n",
    "blob = TextBlob(\"The beer was amazing. \"\n",
    "                \"But the hangover was horrible. My boss was not happy.\",\n",
    "                classifier=cl)\n",
    "blob.classify()  # \"neg\"   "
   ]
  },
  {
   "cell_type": "code",
   "execution_count": 9,
   "id": "7fddd1b1",
   "metadata": {
    "ExecuteTime": {
     "end_time": "2022-01-20T01:34:49.658835Z",
     "start_time": "2022-01-20T01:34:49.646304Z"
    }
   },
   "outputs": [
    {
     "name": "stdout",
     "output_type": "stream",
     "text": [
      "The beer was amazing.\n",
      "pos\n",
      "But the hangover was horrible.\n",
      "neg\n",
      "My boss was not happy.\n",
      "neg\n"
     ]
    }
   ],
   "source": [
    "for sentence in blob.sentences:\n",
    "    print(sentence)\n",
    "    print(sentence.classify())\n",
    "# \"pos\", \"neg\", \"neg\""
   ]
  },
  {
   "cell_type": "code",
   "execution_count": 10,
   "id": "e630c03a",
   "metadata": {
    "ExecuteTime": {
     "end_time": "2022-01-20T01:34:56.667546Z",
     "start_time": "2022-01-20T01:34:56.655899Z"
    }
   },
   "outputs": [
    {
     "data": {
      "text/plain": [
       "0.8333333333333334"
      ]
     },
     "execution_count": 10,
     "metadata": {},
     "output_type": "execute_result"
    }
   ],
   "source": [
    "cl.accuracy(test)\n",
    "# 0.8333333333333334"
   ]
  },
  {
   "cell_type": "code",
   "execution_count": 11,
   "id": "ab134d13",
   "metadata": {
    "ExecuteTime": {
     "end_time": "2022-01-20T01:35:17.350954Z",
     "start_time": "2022-01-20T01:35:17.345262Z"
    }
   },
   "outputs": [
    {
     "name": "stdout",
     "output_type": "stream",
     "text": [
      "Most Informative Features\n",
      "          contains(this) = True              neg : pos    =      2.3 : 1.0\n",
      "          contains(this) = False             pos : neg    =      1.8 : 1.0\n",
      "          contains(This) = False             neg : pos    =      1.6 : 1.0\n",
      "            contains(an) = False             neg : pos    =      1.6 : 1.0\n",
      "             contains(I) = False             pos : neg    =      1.4 : 1.0\n"
     ]
    }
   ],
   "source": [
    "cl.show_informative_features(5)"
   ]
  },
  {
   "cell_type": "code",
   "execution_count": 13,
   "id": "babe06a9",
   "metadata": {
    "ExecuteTime": {
     "end_time": "2022-01-20T01:37:32.843407Z",
     "start_time": "2022-01-20T01:37:32.625009Z"
    }
   },
   "outputs": [
    {
     "name": "stderr",
     "output_type": "stream",
     "text": [
      "C:\\Users\\ym\\AppData\\Roaming\\Python\\Python39\\site-packages\\pkg_resources\\__init__.py:116: PkgResourcesDeprecationWarning: 4.0.0-unsupported is an invalid version and will not be supported in a future release\n",
      "  warnings.warn(\n"
     ]
    },
    {
     "data": {
      "text/plain": [
       "['명사', '해당', '형태소', '추출']"
      ]
     },
     "execution_count": 13,
     "metadata": {},
     "output_type": "execute_result"
    }
   ],
   "source": [
    "from eunjeon import Mecab \n",
    "mecab = Mecab() \n",
    "mecab.pos(\"품사 태깅을 지원합니다\") \n",
    "mecab.morphs(\"형태소 분리를 지원합니다\") \n",
    "mecab.nouns(\"명사에 해당하는 형태소만 추출합니다\")\n"
   ]
  },
  {
   "cell_type": "code",
   "execution_count": 14,
   "id": "918354cb",
   "metadata": {
    "ExecuteTime": {
     "end_time": "2022-01-20T01:37:50.906587Z",
     "start_time": "2022-01-20T01:37:50.891635Z"
    }
   },
   "outputs": [],
   "source": [
    "pos_tagger = Mecab()\n",
    "\n",
    "train = [\n",
    "    ('나는 이 샌드위치를 정말 좋아해.', '긍정'),\n",
    "    ('정말 멋진 곳이에요!', '긍정'),\n",
    "    ('나는 이 맥주들이 아주 좋다고 생각해요.', '긍정'),\n",
    "    ('이것은 나의 최고의 작품입니다.', '긍정'),\n",
    "    (\"정말 멋진 광경이다\", \"긍정\"),\n",
    "    ('난 이 식당 싫어', '부정'),\n",
    "    ('난 이게 지겨워.', '부정'),\n",
    "    (\"이 문제는 처리할 수 없습니다.\", \"부정\"),\n",
    "    ('그는 나의 불구대천의 원수이다.', '부정'),\n",
    "    ('내 상사는 끔찍해.', '부정')\n",
    "]\n",
    "\n",
    "test = [\n",
    "    ('맥주가 좋았습니다.', '긍정'),\n",
    "    ('난 내 일을 즐기지 않는다', '부정'),\n",
    "    ('오늘은 기분이 안 좋아요.', '부정'),\n",
    "    ('놀라워요!', '긍정'),\n",
    "    ('네드는 나의 친구입니다.', '긍정'),\n",
    "    ('제가 이렇게 하고 있다니 믿을 수가 없어요.', '부정')\n",
    "]"
   ]
  },
  {
   "cell_type": "code",
   "execution_count": 15,
   "id": "7d9b41be",
   "metadata": {
    "ExecuteTime": {
     "end_time": "2022-01-20T01:38:39.979665Z",
     "start_time": "2022-01-20T01:38:39.964464Z"
    }
   },
   "outputs": [
    {
     "name": "stdout",
     "output_type": "stream",
     "text": [
      "Most Informative Features\n",
      "            contains(정말) = False              부정 : 긍정     =      2.2 : 1.0\n",
      "            contains(나는) = False              부정 : 긍정     =      1.6 : 1.0\n",
      "             contains(난) = False              긍정 : 부정     =      1.6 : 1.0\n",
      "            contains(멋진) = False              부정 : 긍정     =      1.6 : 1.0\n",
      "          contains(곳이에요) = False              부정 : 긍정     =      1.2 : 1.0\n",
      "          contains(광경이다) = False              부정 : 긍정     =      1.2 : 1.0\n",
      "            contains(그는) = False              긍정 : 부정     =      1.2 : 1.0\n",
      "           contains(끔찍해) = False              긍정 : 부정     =      1.2 : 1.0\n",
      "             contains(내) = False              긍정 : 부정     =      1.2 : 1.0\n",
      "          contains(맥주들이) = False              부정 : 긍정     =      1.2 : 1.0\n"
     ]
    }
   ],
   "source": [
    "cl = NaiveBayesClassifier(train);\n",
    "cl.show_informative_features()"
   ]
  },
  {
   "cell_type": "code",
   "execution_count": 17,
   "id": "2c2a36a1",
   "metadata": {
    "ExecuteTime": {
     "end_time": "2022-01-20T01:39:04.517045Z",
     "start_time": "2022-01-20T01:39:04.497240Z"
    }
   },
   "outputs": [
    {
     "data": {
      "text/plain": [
       "0.5"
      ]
     },
     "execution_count": 17,
     "metadata": {},
     "output_type": "execute_result"
    }
   ],
   "source": [
    "cl.accuracy(test)"
   ]
  },
  {
   "cell_type": "code",
   "execution_count": 18,
   "id": "4dfea430",
   "metadata": {
    "ExecuteTime": {
     "end_time": "2022-01-20T01:39:23.547746Z",
     "start_time": "2022-01-20T01:39:23.539586Z"
    }
   },
   "outputs": [
    {
     "data": {
      "text/plain": [
       "[(['나/NP',\n",
       "   '는/JX',\n",
       "   '이/MM',\n",
       "   '샌드위치/NNG',\n",
       "   '를/JKO',\n",
       "   '정말/MAG',\n",
       "   '좋/VA',\n",
       "   '아/EC',\n",
       "   '해/VX+EF',\n",
       "   './SF'],\n",
       "  '긍정'),\n",
       " (['정말/MAG', '멋진/VA+ETM', '곳/NNG', '이/VCP', '에요/EF', '!/SF'], '긍정'),\n",
       " (['나/NP',\n",
       "   '는/JX',\n",
       "   '이/MM',\n",
       "   '맥주/NNG',\n",
       "   '들/XSN',\n",
       "   '이/JKS',\n",
       "   '아주/MAG',\n",
       "   '좋/VA',\n",
       "   '다고/EC',\n",
       "   '생각/NNG',\n",
       "   '해요/XSV+EF',\n",
       "   './SF'],\n",
       "  '긍정'),\n",
       " (['이것/NP',\n",
       "   '은/JX',\n",
       "   '나/NP',\n",
       "   '의/JKG',\n",
       "   '최고/NNG',\n",
       "   '의/JKG',\n",
       "   '작품/NNG',\n",
       "   '입니다/VCP+EF',\n",
       "   './SF'],\n",
       "  '긍정'),\n",
       " (['정말/MAG', '멋진/VA+ETM', '광경/NNG', '이/VCP', '다/EC'], '긍정'),\n",
       " (['난/NP+JX', '이/MM', '식당/NNG', '싫/VA', '어/EC'], '부정'),\n",
       " (['난/NP+JX', '이게/NP+JKS', '지겨워/VA+EF', './SF'], '부정'),\n",
       " (['이/MM',\n",
       "   '문제/NNG',\n",
       "   '는/JX',\n",
       "   '처리/NNG',\n",
       "   '할/XSV+ETM',\n",
       "   '수/NNB',\n",
       "   '없/VA',\n",
       "   '습니다/EF',\n",
       "   './SF'],\n",
       "  '부정'),\n",
       " (['그/NP',\n",
       "   '는/JX',\n",
       "   '나/NP',\n",
       "   '의/JKG',\n",
       "   '불구대천/NNG',\n",
       "   '의/JKG',\n",
       "   '원수/NNG',\n",
       "   '이/VCP',\n",
       "   '다/EF',\n",
       "   './SF'],\n",
       "  '부정'),\n",
       " (['내/NP+JKG', '상사/NNG', '는/JX', '끔찍/XR', '해/XSA+EF', './SF'], '부정')]"
      ]
     },
     "execution_count": 18,
     "metadata": {},
     "output_type": "execute_result"
    }
   ],
   "source": [
    "train_data = [(['/'.join(token) for token in pos_tagger.pos(sentence)], result) for [sentence, result] in train]\n",
    "train_data"
   ]
  },
  {
   "cell_type": "code",
   "execution_count": 19,
   "id": "0d5d1d89",
   "metadata": {
    "ExecuteTime": {
     "end_time": "2022-01-20T01:39:37.497560Z",
     "start_time": "2022-01-20T01:39:37.476418Z"
    }
   },
   "outputs": [
    {
     "data": {
      "text/plain": [
       "0.5"
      ]
     },
     "execution_count": 19,
     "metadata": {},
     "output_type": "execute_result"
    }
   ],
   "source": [
    "test_data = [(['/'.join(token) for token in pos_tagger.pos(sentence)], result) for [sentence, result] in test]\n",
    "\n",
    "cl.accuracy(test_data)"
   ]
  },
  {
   "cell_type": "code",
   "execution_count": 20,
   "id": "6bcb9cf5",
   "metadata": {
    "ExecuteTime": {
     "end_time": "2022-01-20T01:40:05.683505Z",
     "start_time": "2022-01-20T01:40:05.674034Z"
    }
   },
   "outputs": [
    {
     "name": "stdout",
     "output_type": "stream",
     "text": [
      "Most Informative Features\n",
      "            contains(정말) = False              부정 : 긍정     =      2.2 : 1.0\n",
      "            contains(나는) = False              부정 : 긍정     =      1.6 : 1.0\n",
      "             contains(난) = False              긍정 : 부정     =      1.6 : 1.0\n",
      "            contains(멋진) = False              부정 : 긍정     =      1.6 : 1.0\n",
      "          contains(곳이에요) = False              부정 : 긍정     =      1.2 : 1.0\n",
      "          contains(광경이다) = False              부정 : 긍정     =      1.2 : 1.0\n",
      "            contains(그는) = False              긍정 : 부정     =      1.2 : 1.0\n",
      "           contains(끔찍해) = False              긍정 : 부정     =      1.2 : 1.0\n",
      "             contains(내) = False              긍정 : 부정     =      1.2 : 1.0\n",
      "          contains(맥주들이) = False              부정 : 긍정     =      1.2 : 1.0\n"
     ]
    }
   ],
   "source": [
    "cl.show_informative_features()"
   ]
  },
  {
   "cell_type": "code",
   "execution_count": 21,
   "id": "9b27a080",
   "metadata": {
    "ExecuteTime": {
     "end_time": "2022-01-20T01:40:27.494436Z",
     "start_time": "2022-01-20T01:40:27.470989Z"
    }
   },
   "outputs": [
    {
     "ename": "ModuleNotFoundError",
     "evalue": "No module named 'steem'",
     "output_type": "error",
     "traceback": [
      "\u001b[1;31m---------------------------------------------------------------------------\u001b[0m",
      "\u001b[1;31mModuleNotFoundError\u001b[0m                       Traceback (most recent call last)",
      "\u001b[1;32m~\\AppData\\Local\\Temp/ipykernel_8196/3312037369.py\u001b[0m in \u001b[0;36m<module>\u001b[1;34m\u001b[0m\n\u001b[1;32m----> 1\u001b[1;33m \u001b[1;32mfrom\u001b[0m \u001b[0msteem\u001b[0m \u001b[1;32mimport\u001b[0m \u001b[0mSteem\u001b[0m\u001b[1;33m\u001b[0m\u001b[1;33m\u001b[0m\u001b[0m\n\u001b[0m\u001b[0;32m      2\u001b[0m \u001b[1;32mfrom\u001b[0m \u001b[0msteem\u001b[0m\u001b[1;33m.\u001b[0m\u001b[0mblog\u001b[0m \u001b[1;32mimport\u001b[0m \u001b[0mBlog\u001b[0m\u001b[1;33m\u001b[0m\u001b[1;33m\u001b[0m\u001b[0m\n\u001b[0;32m      3\u001b[0m \u001b[1;33m\u001b[0m\u001b[0m\n\u001b[0;32m      4\u001b[0m \u001b[1;31m# 스팀잇에서 작성한 글 10개 가져오기\u001b[0m\u001b[1;33m\u001b[0m\u001b[1;33m\u001b[0m\u001b[0m\n\u001b[0;32m      5\u001b[0m \u001b[0musername\u001b[0m \u001b[1;33m=\u001b[0m \u001b[1;34m'anpigon'\u001b[0m\u001b[1;33m\u001b[0m\u001b[1;33m\u001b[0m\u001b[0m\n",
      "\u001b[1;31mModuleNotFoundError\u001b[0m: No module named 'steem'"
     ]
    }
   ],
   "source": [
    "from steem import Steem \n",
    "from steem.blog import Blog\n",
    "\n",
    "# 스팀잇에서 작성한 글 10개 가져오기\n",
    "username = 'anpigon'\n",
    "b = Blog(username)\n",
    "posts = b.take(10)\n",
    "\n",
    "for post in posts:\n",
    "  if post.body != \"\":\n",
    "    author = post.author\n",
    "    permlink = post.permlink\n",
    "    title = post.title\n",
    "    body = post.body.replace('\\n', '')\n",
    "    \n",
    "    # 분류기로 분류하기\n",
    "    result = cl.classify(['/'.join(token) for token in pos_tagger.pos(body)])\n",
    "    print(\"(%s) %s(/@%s/%s)\" % (result, title, author, permlink));"
   ]
  },
  {
   "cell_type": "code",
   "execution_count": null,
   "id": "157a68ba",
   "metadata": {},
   "outputs": [],
   "source": []
  }
 ],
 "metadata": {
  "kernelspec": {
   "display_name": "Python 3 (ipykernel)",
   "language": "python",
   "name": "python3"
  },
  "language_info": {
   "codemirror_mode": {
    "name": "ipython",
    "version": 3
   },
   "file_extension": ".py",
   "mimetype": "text/x-python",
   "name": "python",
   "nbconvert_exporter": "python",
   "pygments_lexer": "ipython3",
   "version": "3.9.7"
  },
  "toc": {
   "base_numbering": 1,
   "nav_menu": {},
   "number_sections": false,
   "sideBar": true,
   "skip_h1_title": false,
   "title_cell": "Table of Contents",
   "title_sidebar": "Contents",
   "toc_cell": false,
   "toc_position": {},
   "toc_section_display": true,
   "toc_window_display": false
  },
  "varInspector": {
   "cols": {
    "lenName": 16,
    "lenType": 16,
    "lenVar": 40
   },
   "kernels_config": {
    "python": {
     "delete_cmd_postfix": "",
     "delete_cmd_prefix": "del ",
     "library": "var_list.py",
     "varRefreshCmd": "print(var_dic_list())"
    },
    "r": {
     "delete_cmd_postfix": ") ",
     "delete_cmd_prefix": "rm(",
     "library": "var_list.r",
     "varRefreshCmd": "cat(var_dic_list()) "
    }
   },
   "types_to_exclude": [
    "module",
    "function",
    "builtin_function_or_method",
    "instance",
    "_Feature"
   ],
   "window_display": false
  }
 },
 "nbformat": 4,
 "nbformat_minor": 5
}
