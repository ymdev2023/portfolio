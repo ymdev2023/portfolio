{
 "cells": [
  {
   "cell_type": "markdown",
   "metadata": {},
   "source": [
    "# XG Boost Regressor Model - APPL Stock Prediction"
   ]
  },
  {
   "cell_type": "code",
   "execution_count": 2,
   "metadata": {},
   "outputs": [],
   "source": [
    "#!pip install xgboost"
   ]
  },
  {
   "cell_type": "code",
   "execution_count": 3,
   "metadata": {},
   "outputs": [],
   "source": [
    "#Importing Libraries\n",
    "import numpy as np\n",
    "import pandas as pd\n",
    "import hvplot.pandas\n",
    "from xgboost import XGBRegressor\n",
    "%matplotlib inline\n",
    "from sklearn import metrics"
   ]
  },
  {
   "cell_type": "code",
   "execution_count": 4,
   "metadata": {},
   "outputs": [
    {
     "data": {
      "text/html": [
       "<div>\n",
       "<style scoped>\n",
       "    .dataframe tbody tr th:only-of-type {\n",
       "        vertical-align: middle;\n",
       "    }\n",
       "\n",
       "    .dataframe tbody tr th {\n",
       "        vertical-align: top;\n",
       "    }\n",
       "\n",
       "    .dataframe thead th {\n",
       "        text-align: right;\n",
       "    }\n",
       "</style>\n",
       "<table border=\"1\" class=\"dataframe\">\n",
       "  <thead>\n",
       "    <tr style=\"text-align: right;\">\n",
       "      <th></th>\n",
       "      <th>Open</th>\n",
       "      <th>High</th>\n",
       "      <th>Low</th>\n",
       "      <th>Close</th>\n",
       "      <th>Adj Close</th>\n",
       "      <th>Volume</th>\n",
       "      <th>ts_polarity</th>\n",
       "      <th>twitter_volume</th>\n",
       "    </tr>\n",
       "    <tr>\n",
       "      <th>Date</th>\n",
       "      <th></th>\n",
       "      <th></th>\n",
       "      <th></th>\n",
       "      <th></th>\n",
       "      <th></th>\n",
       "      <th></th>\n",
       "      <th></th>\n",
       "      <th></th>\n",
       "    </tr>\n",
       "  </thead>\n",
       "  <tbody>\n",
       "    <tr>\n",
       "      <th>2019-08-26</th>\n",
       "      <td>51.47</td>\n",
       "      <td>51.80</td>\n",
       "      <td>51.26</td>\n",
       "      <td>51.62</td>\n",
       "      <td>51.12</td>\n",
       "      <td>104174400</td>\n",
       "      <td>0.072340</td>\n",
       "      <td>888.0</td>\n",
       "    </tr>\n",
       "    <tr>\n",
       "      <th>2019-08-27</th>\n",
       "      <td>51.97</td>\n",
       "      <td>52.14</td>\n",
       "      <td>50.88</td>\n",
       "      <td>51.04</td>\n",
       "      <td>50.54</td>\n",
       "      <td>103493200</td>\n",
       "      <td>0.117541</td>\n",
       "      <td>962.0</td>\n",
       "    </tr>\n",
       "    <tr>\n",
       "      <th>2019-08-28</th>\n",
       "      <td>51.03</td>\n",
       "      <td>51.43</td>\n",
       "      <td>50.83</td>\n",
       "      <td>51.38</td>\n",
       "      <td>50.88</td>\n",
       "      <td>63755200</td>\n",
       "      <td>0.061477</td>\n",
       "      <td>895.0</td>\n",
       "    </tr>\n",
       "    <tr>\n",
       "      <th>2019-08-29</th>\n",
       "      <td>52.13</td>\n",
       "      <td>52.33</td>\n",
       "      <td>51.67</td>\n",
       "      <td>52.25</td>\n",
       "      <td>51.74</td>\n",
       "      <td>83962000</td>\n",
       "      <td>0.056460</td>\n",
       "      <td>1083.0</td>\n",
       "    </tr>\n",
       "    <tr>\n",
       "      <th>2019-08-30</th>\n",
       "      <td>52.54</td>\n",
       "      <td>52.61</td>\n",
       "      <td>51.80</td>\n",
       "      <td>52.19</td>\n",
       "      <td>51.67</td>\n",
       "      <td>84573600</td>\n",
       "      <td>0.106096</td>\n",
       "      <td>1005.0</td>\n",
       "    </tr>\n",
       "  </tbody>\n",
       "</table>\n",
       "</div>"
      ],
      "text/plain": [
       "             Open   High    Low  Close  Adj Close     Volume  ts_polarity  \\\n",
       "Date                                                                        \n",
       "2019-08-26  51.47  51.80  51.26  51.62      51.12  104174400     0.072340   \n",
       "2019-08-27  51.97  52.14  50.88  51.04      50.54  103493200     0.117541   \n",
       "2019-08-28  51.03  51.43  50.83  51.38      50.88   63755200     0.061477   \n",
       "2019-08-29  52.13  52.33  51.67  52.25      51.74   83962000     0.056460   \n",
       "2019-08-30  52.54  52.61  51.80  52.19      51.67   84573600     0.106096   \n",
       "\n",
       "            twitter_volume  \n",
       "Date                        \n",
       "2019-08-26           888.0  \n",
       "2019-08-27           962.0  \n",
       "2019-08-28           895.0  \n",
       "2019-08-29          1083.0  \n",
       "2019-08-30          1005.0  "
      ]
     },
     "execution_count": 4,
     "metadata": {},
     "output_type": "execute_result"
    }
   ],
   "source": [
    "# Read APPL.csv contains open, high, low, close, Adj close, Volume of Apple stock with twitter polarity scores and twitter volume\n",
    "df = pd.read_csv('AAPL.csv', index_col=\"Date\", infer_datetime_format=True, parse_dates=True)\n",
    "\n",
    "# Drop null values\n",
    "df.dropna(inplace=True)\n",
    "df.tail()"
   ]
  },
  {
   "cell_type": "code",
   "execution_count": 5,
   "metadata": {},
   "outputs": [
    {
     "data": {
      "text/html": [
       "<div>\n",
       "<style scoped>\n",
       "    .dataframe tbody tr th:only-of-type {\n",
       "        vertical-align: middle;\n",
       "    }\n",
       "\n",
       "    .dataframe tbody tr th {\n",
       "        vertical-align: top;\n",
       "    }\n",
       "\n",
       "    .dataframe thead th {\n",
       "        text-align: right;\n",
       "    }\n",
       "</style>\n",
       "<table border=\"1\" class=\"dataframe\">\n",
       "  <thead>\n",
       "    <tr style=\"text-align: right;\">\n",
       "      <th></th>\n",
       "      <th>Adj Close</th>\n",
       "      <th>ts_polarity</th>\n",
       "      <th>twitter_volume</th>\n",
       "    </tr>\n",
       "    <tr>\n",
       "      <th>Date</th>\n",
       "      <th></th>\n",
       "      <th></th>\n",
       "      <th></th>\n",
       "    </tr>\n",
       "  </thead>\n",
       "  <tbody>\n",
       "    <tr>\n",
       "      <th>2016-01-04</th>\n",
       "      <td>24.44</td>\n",
       "      <td>0.070389</td>\n",
       "      <td>1133.0</td>\n",
       "    </tr>\n",
       "    <tr>\n",
       "      <th>2016-01-05</th>\n",
       "      <td>23.83</td>\n",
       "      <td>0.133635</td>\n",
       "      <td>1430.0</td>\n",
       "    </tr>\n",
       "    <tr>\n",
       "      <th>2016-01-06</th>\n",
       "      <td>23.36</td>\n",
       "      <td>0.072042</td>\n",
       "      <td>1949.0</td>\n",
       "    </tr>\n",
       "    <tr>\n",
       "      <th>2016-01-07</th>\n",
       "      <td>22.38</td>\n",
       "      <td>0.074369</td>\n",
       "      <td>2289.0</td>\n",
       "    </tr>\n",
       "    <tr>\n",
       "      <th>2016-01-08</th>\n",
       "      <td>22.50</td>\n",
       "      <td>0.051595</td>\n",
       "      <td>2235.0</td>\n",
       "    </tr>\n",
       "  </tbody>\n",
       "</table>\n",
       "</div>"
      ],
      "text/plain": [
       "            Adj Close  ts_polarity  twitter_volume\n",
       "Date                                              \n",
       "2016-01-04      24.44     0.070389          1133.0\n",
       "2016-01-05      23.83     0.133635          1430.0\n",
       "2016-01-06      23.36     0.072042          1949.0\n",
       "2016-01-07      22.38     0.074369          2289.0\n",
       "2016-01-08      22.50     0.051595          2235.0"
      ]
     },
     "execution_count": 5,
     "metadata": {},
     "output_type": "execute_result"
    }
   ],
   "source": [
    "# Dataframe with Adj close, ts_polarity, twitter_volume of APPL\n",
    "df = df[[\"Adj Close\", \"ts_polarity\", \"twitter_volume\"]]\n",
    "df.head()"
   ]
  },
  {
   "cell_type": "code",
   "execution_count": 6,
   "metadata": {},
   "outputs": [
    {
     "data": {
      "text/html": [
       "<div>\n",
       "<style scoped>\n",
       "    .dataframe tbody tr th:only-of-type {\n",
       "        vertical-align: middle;\n",
       "    }\n",
       "\n",
       "    .dataframe tbody tr th {\n",
       "        vertical-align: top;\n",
       "    }\n",
       "\n",
       "    .dataframe thead th {\n",
       "        text-align: right;\n",
       "    }\n",
       "</style>\n",
       "<table border=\"1\" class=\"dataframe\">\n",
       "  <thead>\n",
       "    <tr style=\"text-align: right;\">\n",
       "      <th></th>\n",
       "      <th>Adj Close</th>\n",
       "      <th>ts_polarity</th>\n",
       "      <th>twitter_volume</th>\n",
       "      <th>Pct_change</th>\n",
       "    </tr>\n",
       "    <tr>\n",
       "      <th>Date</th>\n",
       "      <th></th>\n",
       "      <th></th>\n",
       "      <th></th>\n",
       "      <th></th>\n",
       "    </tr>\n",
       "  </thead>\n",
       "  <tbody>\n",
       "    <tr>\n",
       "      <th>2016-01-05</th>\n",
       "      <td>23.83</td>\n",
       "      <td>0.133635</td>\n",
       "      <td>1430.0</td>\n",
       "      <td>-0.024959</td>\n",
       "    </tr>\n",
       "    <tr>\n",
       "      <th>2016-01-06</th>\n",
       "      <td>23.36</td>\n",
       "      <td>0.072042</td>\n",
       "      <td>1949.0</td>\n",
       "      <td>-0.019723</td>\n",
       "    </tr>\n",
       "    <tr>\n",
       "      <th>2016-01-07</th>\n",
       "      <td>22.38</td>\n",
       "      <td>0.074369</td>\n",
       "      <td>2289.0</td>\n",
       "      <td>-0.041952</td>\n",
       "    </tr>\n",
       "    <tr>\n",
       "      <th>2016-01-08</th>\n",
       "      <td>22.50</td>\n",
       "      <td>0.051595</td>\n",
       "      <td>2235.0</td>\n",
       "      <td>0.005362</td>\n",
       "    </tr>\n",
       "    <tr>\n",
       "      <th>2016-01-11</th>\n",
       "      <td>22.86</td>\n",
       "      <td>0.019443</td>\n",
       "      <td>1222.0</td>\n",
       "      <td>0.016000</td>\n",
       "    </tr>\n",
       "  </tbody>\n",
       "</table>\n",
       "</div>"
      ],
      "text/plain": [
       "            Adj Close  ts_polarity  twitter_volume  Pct_change\n",
       "Date                                                          \n",
       "2016-01-05      23.83     0.133635          1430.0   -0.024959\n",
       "2016-01-06      23.36     0.072042          1949.0   -0.019723\n",
       "2016-01-07      22.38     0.074369          2289.0   -0.041952\n",
       "2016-01-08      22.50     0.051595          2235.0    0.005362\n",
       "2016-01-11      22.86     0.019443          1222.0    0.016000"
      ]
     },
     "execution_count": 6,
     "metadata": {},
     "output_type": "execute_result"
    }
   ],
   "source": [
    "# pct change based on Adj close value\n",
    "df[\"Pct_change\"] = df[\"Adj Close\"].pct_change()\n",
    "\n",
    "# Drop null values\n",
    "df.dropna(inplace = True)\n",
    "df.head()"
   ]
  },
  {
   "cell_type": "markdown",
   "metadata": {},
   "source": [
    "### Creating the Features `X` and Target `y` Data\n",
    "\n",
    "The first step towards preparing the data was to create the input features `X` and the target vector `y`. We used the `window_data()` function to create these vectors.\n",
    "\n",
    "This function chunks the data up with a rolling window of _X<sub>t</sub> - window_ to predict _X<sub>t</sub>_.\n",
    "\n",
    "The function returns two `numpy` arrays:\n",
    "\n",
    "* `X`: The input features vectors.\n",
    "\n",
    "* `y`: The target vector.\n",
    "\n",
    "The function has the following parameters:\n",
    "\n",
    "* `df`: The original DataFrame with the time series data.\n",
    "\n",
    "* `window`: The window size in days of previous closing prices that will be used for the prediction.\n",
    "\n",
    "* `feature_col_number`: The column number from the original DataFrame where the features are located.\n",
    "\n",
    "* `target_col_number`: The column number from the original DataFrame where the target is located."
   ]
  },
  {
   "cell_type": "code",
   "execution_count": 7,
   "metadata": {},
   "outputs": [],
   "source": [
    "# This function \"window_data\" accepts the column number for the features (X) and the target (y)\n",
    "# It chunks the data up with a rolling window of Xt-n to predict Xt\n",
    "# It returns a numpy array of X any y\n",
    "def window_data(df, window, feature_col_number1, feature_col_number2, feature_col_number3, target_col_number):\n",
    "    # Create empty lists \"X_close\", \"X_polarity\", \"X_volume\" and y\n",
    "    X_close = []\n",
    "    X_polarity = []\n",
    "    X_volume = []\n",
    "    y = []\n",
    "    for i in range(len(df) - window):\n",
    "        \n",
    "        # Get close, ts_polarity, tw_vol, and target in the loop\n",
    "        close = df.iloc[i:(i + window), feature_col_number1]\n",
    "        ts_polarity = df.iloc[i:(i + window), feature_col_number2]\n",
    "        tw_vol = df.iloc[i:(i + window), feature_col_number3]\n",
    "        target = df.iloc[(i + window), target_col_number]\n",
    "        \n",
    "        # Append values in the lists\n",
    "        X_close.append(close)\n",
    "        X_polarity.append(ts_polarity)\n",
    "        X_volume.append(tw_vol)\n",
    "        y.append(target)\n",
    "        \n",
    "    return np.hstack((X_close,X_polarity,X_volume)), np.array(y).reshape(-1, 1)"
   ]
  },
  {
   "cell_type": "code",
   "execution_count": 8,
   "metadata": {},
   "outputs": [],
   "source": [
    "# Predict Closing Prices using a 3 day window of previous closing prices\n",
    "window_size = 3\n",
    "\n",
    "# Column index 0 is the `Adj Close` column\n",
    "# Column index 1 is the `ts_polarity` column\n",
    "# Column index 2 is the `twitter_volume` column\n",
    "feature_col_number1 = 0\n",
    "feature_col_number2 = 1\n",
    "feature_col_number3 = 2\n",
    "target_col_number = 0\n",
    "X, y = window_data(df, window_size, feature_col_number1, feature_col_number2, feature_col_number3, target_col_number)"
   ]
  },
  {
   "cell_type": "code",
   "execution_count": 9,
   "metadata": {},
   "outputs": [],
   "source": [
    "# Use 70% of the data for training and 30% for testing\n",
    "X_split = int(0.7 * len(X))\n",
    "y_split = int(0.7 * len(y))\n",
    "\n",
    "# Set X_train, X_test, y_train, t_test\n",
    "X_train = X[: X_split]\n",
    "X_test = X[X_split:]\n",
    "y_train = y[: y_split]\n",
    "y_test = y[y_split:]"
   ]
  },
  {
   "cell_type": "markdown",
   "metadata": {},
   "source": [
    "# Scaling Data with `MinMaxScaler`\n",
    "\n",
    "We will use the `MinMaxScaler` from `sklearn` to scale all values between `0` and `1`.\n",
    "Note that we scale both features and target sets."
   ]
  },
  {
   "cell_type": "code",
   "execution_count": 10,
   "metadata": {},
   "outputs": [],
   "source": [
    "from sklearn.preprocessing import MinMaxScaler"
   ]
  },
  {
   "cell_type": "code",
   "execution_count": 11,
   "metadata": {},
   "outputs": [],
   "source": [
    "# Use the MinMaxScaler to scale data between 0 and 1.\n",
    "x_train_scaler = MinMaxScaler()\n",
    "x_test_scaler = MinMaxScaler()\n",
    "y_train_scaler = MinMaxScaler()\n",
    "y_test_scaler = MinMaxScaler()\n",
    "\n",
    "# Fit the scaler for the Training Data\n",
    "x_train_scaler.fit(X_train)\n",
    "y_train_scaler.fit(y_train)\n",
    "\n",
    "# Scale the training data\n",
    "X_train = x_train_scaler.transform(X_train)\n",
    "y_train = y_train_scaler.transform(y_train)\n",
    "\n",
    "# Fit the scaler for the Testing Data\n",
    "x_test_scaler.fit(X_test)\n",
    "y_test_scaler.fit(y_test)\n",
    "\n",
    "# Scale the y_test data\n",
    "X_test = x_test_scaler.transform(X_test)\n",
    "y_test = y_test_scaler.transform(y_test)"
   ]
  },
  {
   "cell_type": "code",
   "execution_count": 12,
   "metadata": {},
   "outputs": [],
   "source": [
    "# Create the XG Boost regressor instance\n",
    "model = XGBRegressor(objective='reg:squarederror', n_estimators=1000)"
   ]
  },
  {
   "cell_type": "code",
   "execution_count": 13,
   "metadata": {},
   "outputs": [
    {
     "data": {
      "text/plain": [
       "XGBRegressor(base_score=0.5, booster='gbtree', colsample_bylevel=1,\n",
       "             colsample_bynode=1, colsample_bytree=1, gamma=0, gpu_id=-1,\n",
       "             importance_type='gain', interaction_constraints='',\n",
       "             learning_rate=0.300000012, max_delta_step=0, max_depth=6,\n",
       "             min_child_weight=1, missing=nan, monotone_constraints='()',\n",
       "             n_estimators=1000, n_jobs=0, num_parallel_tree=1, random_state=0,\n",
       "             reg_alpha=0, reg_lambda=1, scale_pos_weight=1, subsample=1,\n",
       "             tree_method='exact', validate_parameters=1, verbosity=None)"
      ]
     },
     "execution_count": 13,
     "metadata": {},
     "output_type": "execute_result"
    }
   ],
   "source": [
    "# Fit the model\n",
    "model.fit(X_train, y_train.ravel())"
   ]
  },
  {
   "cell_type": "markdown",
   "metadata": {},
   "source": [
    "---"
   ]
  },
  {
   "cell_type": "markdown",
   "metadata": {},
   "source": [
    "---"
   ]
  },
  {
   "cell_type": "markdown",
   "metadata": {},
   "source": [
    "## Model Performance\n",
    "\n",
    "In this section, we will evaluate the model using the test data. \n",
    "\n",
    "We will:\n",
    "1. Evaluate the model using the `X_test` and `y_test` data.\n",
    "2. Use the X_test data to make predictions\n",
    "3. Create a DataFrame of Real (y_test) vs predicted values. \n",
    "4. Plot the Real vs predicted values as a line chart\n"
   ]
  },
  {
   "cell_type": "code",
   "execution_count": 14,
   "metadata": {},
   "outputs": [],
   "source": [
    "# Make some predictions\n",
    "predicted = model.predict(X_test)"
   ]
  },
  {
   "cell_type": "code",
   "execution_count": 15,
   "metadata": {},
   "outputs": [
    {
     "name": "stdout",
     "output_type": "stream",
     "text": [
      "Root Mean Squared Error: 0.047662964066284896\n",
      "R-squared : 0.9591505029562791\n"
     ]
    }
   ],
   "source": [
    "# Evaluating the model\n",
    "print('Root Mean Squared Error:', np.sqrt(metrics.mean_squared_error(y_test, predicted)))\n",
    "print('R-squared :', metrics.r2_score(y_test, predicted))"
   ]
  },
  {
   "cell_type": "code",
   "execution_count": 16,
   "metadata": {},
   "outputs": [],
   "source": [
    "# Recover the original prices instead of the scaled version\n",
    "predicted_prices = y_test_scaler.inverse_transform(predicted.reshape(-1, 1))\n",
    "real_prices = y_test_scaler.inverse_transform(y_test.reshape(-1, 1))"
   ]
  },
  {
   "cell_type": "code",
   "execution_count": 17,
   "metadata": {},
   "outputs": [
    {
     "data": {
      "text/html": [
       "<div>\n",
       "<style scoped>\n",
       "    .dataframe tbody tr th:only-of-type {\n",
       "        vertical-align: middle;\n",
       "    }\n",
       "\n",
       "    .dataframe tbody tr th {\n",
       "        vertical-align: top;\n",
       "    }\n",
       "\n",
       "    .dataframe thead th {\n",
       "        text-align: right;\n",
       "    }\n",
       "</style>\n",
       "<table border=\"1\" class=\"dataframe\">\n",
       "  <thead>\n",
       "    <tr style=\"text-align: right;\">\n",
       "      <th></th>\n",
       "      <th>Real</th>\n",
       "      <th>Predicted</th>\n",
       "    </tr>\n",
       "    <tr>\n",
       "      <th>Date</th>\n",
       "      <th></th>\n",
       "      <th></th>\n",
       "    </tr>\n",
       "  </thead>\n",
       "  <tbody>\n",
       "    <tr>\n",
       "      <th>2018-07-27</th>\n",
       "      <td>46.39</td>\n",
       "      <td>47.278919</td>\n",
       "    </tr>\n",
       "    <tr>\n",
       "      <th>2018-07-30</th>\n",
       "      <td>46.13</td>\n",
       "      <td>45.850250</td>\n",
       "    </tr>\n",
       "    <tr>\n",
       "      <th>2018-07-31</th>\n",
       "      <td>46.22</td>\n",
       "      <td>46.335159</td>\n",
       "    </tr>\n",
       "    <tr>\n",
       "      <th>2018-08-01</th>\n",
       "      <td>48.95</td>\n",
       "      <td>45.903019</td>\n",
       "    </tr>\n",
       "    <tr>\n",
       "      <th>2018-08-02</th>\n",
       "      <td>50.38</td>\n",
       "      <td>48.946972</td>\n",
       "    </tr>\n",
       "  </tbody>\n",
       "</table>\n",
       "</div>"
      ],
      "text/plain": [
       "             Real  Predicted\n",
       "Date                        \n",
       "2018-07-27  46.39  47.278919\n",
       "2018-07-30  46.13  45.850250\n",
       "2018-07-31  46.22  46.335159\n",
       "2018-08-01  48.95  45.903019\n",
       "2018-08-02  50.38  48.946972"
      ]
     },
     "execution_count": 17,
     "metadata": {},
     "output_type": "execute_result"
    }
   ],
   "source": [
    "# Create a DataFrame of Real and Predicted values\n",
    "stocks = pd.DataFrame({\n",
    "    \"Real\": real_prices.ravel(),\n",
    "    \"Predicted\": predicted_prices.ravel()\n",
    "}, index = df.index[-len(real_prices): ]) \n",
    "stocks.head()"
   ]
  },
  {
   "cell_type": "code",
   "execution_count": 18,
   "metadata": {},
   "outputs": [
    {
     "data": {
      "application/vnd.holoviews_exec.v0+json": "",
      "text/html": [
       "<div id='1001'>\n",
       "\n",
       "\n",
       "\n",
       "\n",
       "\n",
       "  <div class=\"bk-root\" id=\"493bca1d-5576-4c3d-a618-03c8afaa34f6\" data-root-id=\"1001\"></div>\n",
       "</div>\n",
       "<script type=\"application/javascript\">(function(root) {\n",
       "  function embed_document(root) {\n",
       "  var docs_json = {\"b6038dc6-70ce-498d-beca-6bd5efd52b9d\":{\"roots\":{\"references\":[{\"attributes\":{\"mantissas\":[1,2,5],\"max_interval\":500.0,\"num_minor_ticks\":0},\"id\":\"1057\",\"type\":\"AdaptiveTicker\"},{\"attributes\":{\"axis_label\":\"\",\"bounds\":\"auto\",\"formatter\":{\"id\":\"1040\"},\"major_label_orientation\":\"horizontal\",\"ticker\":{\"id\":\"1021\"}},\"id\":\"1020\",\"type\":\"LinearAxis\"},{\"attributes\":{\"children\":[{\"id\":\"1002\"},{\"id\":\"1007\"},{\"id\":\"1300\"}],\"margin\":[0,0,0,0],\"name\":\"Row01543\",\"tags\":[\"embedded\"]},\"id\":\"1001\",\"type\":\"Row\"},{\"attributes\":{\"label\":{\"value\":\"Predicted\"},\"renderers\":[{\"id\":\"1077\"}]},\"id\":\"1101\",\"type\":\"LegendItem\"},{\"attributes\":{\"line_alpha\":0.1,\"line_color\":\"#1f77b3\",\"line_width\":2,\"x\":{\"field\":\"Date\"},\"y\":{\"field\":\"value\"}},\"id\":\"1045\",\"type\":\"Line\"},{\"attributes\":{\"bottom_units\":\"screen\",\"fill_alpha\":0.5,\"fill_color\":\"lightgrey\",\"left_units\":\"screen\",\"level\":\"overlay\",\"line_alpha\":1.0,\"line_color\":\"black\",\"line_dash\":[4,4],\"line_width\":2,\"right_units\":\"screen\",\"top_units\":\"screen\"},\"id\":\"1029\",\"type\":\"BoxAnnotation\"},{\"attributes\":{\"data_source\":{\"id\":\"1041\"},\"glyph\":{\"id\":\"1044\"},\"hover_glyph\":null,\"muted_glyph\":{\"id\":\"1046\"},\"nonselection_glyph\":{\"id\":\"1045\"},\"selection_glyph\":null,\"view\":{\"id\":\"1048\"}},\"id\":\"1047\",\"type\":\"GlyphRenderer\"},{\"attributes\":{\"label\":{\"value\":\"Real\"},\"renderers\":[{\"id\":\"1047\"}]},\"id\":\"1070\",\"type\":\"LegendItem\"},{\"attributes\":{\"line_color\":\"#ff7e0e\",\"line_width\":2,\"x\":{\"field\":\"Date\"},\"y\":{\"field\":\"value\"}},\"id\":\"1074\",\"type\":\"Line\"},{\"attributes\":{},\"id\":\"1040\",\"type\":\"BasicTickFormatter\"},{\"attributes\":{},\"id\":\"1021\",\"type\":\"BasicTicker\"},{\"attributes\":{\"data\":{\"Date\":{\"__ndarray__\":\"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\",\"dtype\":\"float64\",\"order\":\"little\",\"shape\":[276]},\"Variable\":[\"Real\",\"Real\",\"Real\",\"Real\",\"Real\",\"Real\",\"Real\",\"Real\",\"Real\",\"Real\",\"Real\",\"Real\",\"Real\",\"Real\",\"Real\",\"Real\",\"Real\",\"Real\",\"Real\",\"Real\",\"Real\",\"Real\",\"Real\",\"Real\",\"Real\",\"Real\",\"Real\",\"Real\",\"Real\",\"Real\",\"Real\",\"Real\",\"Real\",\"Real\",\"Real\",\"Real\",\"Real\",\"Real\",\"Real\",\"Real\",\"Real\",\"Real\",\"Real\",\"Real\",\"Real\",\"Real\",\"Real\",\"Real\",\"Real\",\"Real\",\"Real\",\"Real\",\"Real\",\"Real\",\"Real\",\"Real\",\"Real\",\"Real\",\"Real\",\"Real\",\"Real\",\"Real\",\"Real\",\"Real\",\"Real\",\"Real\",\"Real\",\"Real\",\"Real\",\"Real\",\"Real\",\"Real\",\"Real\",\"Real\",\"Real\",\"Real\",\"Real\",\"Real\",\"Real\",\"Real\",\"Real\",\"Real\",\"Real\",\"Real\",\"Real\",\"Real\",\"Real\",\"Real\",\"Real\",\"Real\",\"Real\",\"Real\",\"Real\",\"Real\",\"Real\",\"Real\",\"Real\",\"Real\",\"Real\",\"Real\",\"Real\",\"Real\",\"Real\",\"Real\",\"Real\",\"Real\",\"Real\",\"Real\",\"Real\",\"Real\",\"Real\",\"Real\",\"Real\",\"Real\",\"Real\",\"Real\",\"Real\",\"Real\",\"Real\",\"Real\",\"Real\",\"Real\",\"Real\",\"Real\",\"Real\",\"Real\",\"Real\",\"Real\",\"Real\",\"Real\",\"Real\",\"Real\",\"Real\",\"Real\",\"Real\",\"Real\",\"Real\",\"Real\",\"Real\",\"Real\",\"Real\",\"Real\",\"Real\",\"Real\",\"Real\",\"Real\",\"Real\",\"Real\",\"Real\",\"Real\",\"Real\",\"Real\",\"Real\",\"Real\",\"Real\",\"Real\",\"Real\",\"Real\",\"Real\",\"Real\",\"Real\",\"Real\",\"Real\",\"Real\",\"Real\",\"Real\",\"Real\",\"Real\",\"Real\",\"Real\",\"Real\",\"Real\",\"Real\",\"Real\",\"Real\",\"Real\",\"Real\",\"Real\",\"Real\",\"Real\",\"Real\",\"Real\",\"Real\",\"Real\",\"Real\",\"Real\",\"Real\",\"Real\",\"Real\",\"Real\",\"Real\",\"Real\",\"Real\",\"Real\",\"Real\",\"Real\",\"Real\",\"Real\",\"Real\",\"Real\",\"Real\",\"Real\",\"Real\",\"Real\",\"Real\",\"Real\",\"Real\",\"Real\",\"Real\",\"Real\",\"Real\",\"Real\",\"Real\",\"Real\",\"Real\",\"Real\",\"Real\",\"Real\",\"Real\",\"Real\",\"Real\",\"Real\",\"Real\",\"Real\",\"Real\",\"Real\",\"Real\",\"Real\",\"Real\",\"Real\",\"Real\",\"Real\",\"Real\",\"Real\",\"Real\",\"Real\",\"Real\",\"Real\",\"Real\",\"Real\",\"Real\",\"Real\",\"Real\",\"Real\",\"Real\",\"Real\",\"Real\",\"Real\",\"Real\",\"Real\",\"Real\",\"Real\",\"Real\",\"Real\",\"Real\",\"Real\",\"Real\",\"Real\",\"Real\",\"Real\",\"Real\",\"Real\",\"Real\",\"Real\",\"Real\",\"Real\",\"Real\",\"Real\",\"Real\",\"Real\",\"Real\",\"Real\",\"Real\",\"Real\",\"Real\",\"Real\"],\"value\":{\"__ndarray__\":\"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\",\"dtype\":\"float64\",\"order\":\"little\",\"shape\":[276]}},\"selected\":{\"id\":\"1042\"},\"selection_policy\":{\"id\":\"1056\"}},\"id\":\"1041\",\"type\":\"ColumnDataSource\"},{\"attributes\":{\"months\":[0,2,4,6,8,10]},\"id\":\"1065\",\"type\":\"MonthsTicker\"},{\"attributes\":{\"text\":\"Real vs Predicted values of APPL\",\"text_color\":{\"value\":\"black\"},\"text_font_size\":{\"value\":\"12pt\"}},\"id\":\"1008\",\"type\":\"Title\"},{\"attributes\":{\"end\":1567123200000.0,\"reset_end\":1567123200000.0,\"reset_start\":1532649600000.0,\"start\":1532649600000.0,\"tags\":[[[\"Date\",\"Date\",null]]]},\"id\":\"1003\",\"type\":\"Range1d\"},{\"attributes\":{\"data_source\":{\"id\":\"1071\"},\"glyph\":{\"id\":\"1074\"},\"hover_glyph\":null,\"muted_glyph\":{\"id\":\"1076\"},\"nonselection_glyph\":{\"id\":\"1075\"},\"selection_glyph\":null,\"view\":{\"id\":\"1078\"}},\"id\":\"1077\",\"type\":\"GlyphRenderer\"},{\"attributes\":{},\"id\":\"1072\",\"type\":\"Selection\"},{\"attributes\":{\"months\":[0,6]},\"id\":\"1067\",\"type\":\"MonthsTicker\"},{\"attributes\":{},\"id\":\"1038\",\"type\":\"DatetimeTickFormatter\"},{\"attributes\":{\"num_minor_ticks\":5,\"tickers\":[{\"id\":\"1057\"},{\"id\":\"1058\"},{\"id\":\"1059\"},{\"id\":\"1060\"},{\"id\":\"1061\"},{\"id\":\"1062\"},{\"id\":\"1063\"},{\"id\":\"1064\"},{\"id\":\"1065\"},{\"id\":\"1066\"},{\"id\":\"1067\"},{\"id\":\"1068\"}]},\"id\":\"1017\",\"type\":\"DatetimeTicker\"},{\"attributes\":{},\"id\":\"1056\",\"type\":\"UnionRenderers\"},{\"attributes\":{\"click_policy\":\"mute\",\"items\":[{\"id\":\"1070\"},{\"id\":\"1101\"}],\"location\":[0,0],\"title\":\"Variable\"},\"id\":\"1069\",\"type\":\"Legend\"},{\"attributes\":{\"align\":null,\"below\":[{\"id\":\"1016\"}],\"center\":[{\"id\":\"1019\"},{\"id\":\"1023\"}],\"left\":[{\"id\":\"1020\"}],\"margin\":null,\"min_border_bottom\":10,\"min_border_left\":10,\"min_border_right\":10,\"min_border_top\":10,\"plot_height\":300,\"plot_width\":700,\"renderers\":[{\"id\":\"1047\"},{\"id\":\"1077\"}],\"right\":[{\"id\":\"1069\"}],\"sizing_mode\":\"fixed\",\"title\":{\"id\":\"1008\"},\"toolbar\":{\"id\":\"1030\"},\"x_range\":{\"id\":\"1003\"},\"x_scale\":{\"id\":\"1012\"},\"y_range\":{\"id\":\"1004\"},\"y_scale\":{\"id\":\"1014\"}},\"id\":\"1007\",\"subtype\":\"Figure\",\"type\":\"Plot\"},{\"attributes\":{\"days\":[1,8,15,22]},\"id\":\"1062\",\"type\":\"DaysTicker\"},{\"attributes\":{\"active_drag\":\"auto\",\"active_inspect\":\"auto\",\"active_multi\":null,\"active_scroll\":\"auto\",\"active_tap\":\"auto\",\"tools\":[{\"id\":\"1005\"},{\"id\":\"1024\"},{\"id\":\"1025\"},{\"id\":\"1026\"},{\"id\":\"1027\"},{\"id\":\"1028\"}]},\"id\":\"1030\",\"type\":\"Toolbar\"},{\"attributes\":{\"callback\":null,\"formatters\":{\"@{Date}\":\"datetime\"},\"renderers\":[{\"id\":\"1047\"},{\"id\":\"1077\"}],\"tags\":[\"hv_created\"],\"tooltips\":[[\"Variable\",\"@{Variable}\"],[\"Date\",\"@{Date}{%F %T}\"],[\"value\",\"@{value}\"]]},\"id\":\"1005\",\"type\":\"HoverTool\"},{\"attributes\":{\"line_alpha\":0.2,\"line_color\":\"#ff7e0e\",\"line_width\":2,\"x\":{\"field\":\"Date\"},\"y\":{\"field\":\"value\"}},\"id\":\"1076\",\"type\":\"Line\"},{\"attributes\":{},\"id\":\"1012\",\"type\":\"LinearScale\"},{\"attributes\":{\"days\":[1,15]},\"id\":\"1063\",\"type\":\"DaysTicker\"},{\"attributes\":{},\"id\":\"1042\",\"type\":\"Selection\"},{\"attributes\":{\"source\":{\"id\":\"1041\"}},\"id\":\"1048\",\"type\":\"CDSView\"},{\"attributes\":{},\"id\":\"1088\",\"type\":\"UnionRenderers\"},{\"attributes\":{},\"id\":\"1068\",\"type\":\"YearsTicker\"},{\"attributes\":{\"axis\":{\"id\":\"1016\"},\"grid_line_color\":null,\"ticker\":null},\"id\":\"1019\",\"type\":\"Grid\"},{\"attributes\":{\"line_alpha\":0.1,\"line_color\":\"#ff7e0e\",\"line_width\":2,\"x\":{\"field\":\"Date\"},\"y\":{\"field\":\"value\"}},\"id\":\"1075\",\"type\":\"Line\"},{\"attributes\":{\"end\":58.748999999999995,\"reset_end\":58.748999999999995,\"reset_start\":32.601,\"start\":32.601,\"tags\":[[[\"value\",\"value\",null]]]},\"id\":\"1004\",\"type\":\"Range1d\"},{\"attributes\":{},\"id\":\"1025\",\"type\":\"PanTool\"},{\"attributes\":{},\"id\":\"1028\",\"type\":\"ResetTool\"},{\"attributes\":{\"base\":60,\"mantissas\":[1,2,5,10,15,20,30],\"max_interval\":1800000.0,\"min_interval\":1000.0,\"num_minor_ticks\":0},\"id\":\"1058\",\"type\":\"AdaptiveTicker\"},{\"attributes\":{\"months\":[0,1,2,3,4,5,6,7,8,9,10,11]},\"id\":\"1064\",\"type\":\"MonthsTicker\"},{\"attributes\":{\"margin\":[5,5,5,5],\"name\":\"HSpacer01548\",\"sizing_mode\":\"stretch_width\"},\"id\":\"1300\",\"type\":\"Spacer\"},{\"attributes\":{},\"id\":\"1014\",\"type\":\"LinearScale\"},{\"attributes\":{\"axis_label\":\"Date\",\"bounds\":\"auto\",\"formatter\":{\"id\":\"1038\"},\"major_label_orientation\":\"horizontal\",\"ticker\":{\"id\":\"1017\"}},\"id\":\"1016\",\"type\":\"DatetimeAxis\"},{\"attributes\":{},\"id\":\"1024\",\"type\":\"SaveTool\"},{\"attributes\":{\"source\":{\"id\":\"1071\"}},\"id\":\"1078\",\"type\":\"CDSView\"},{\"attributes\":{\"line_alpha\":0.2,\"line_color\":\"#1f77b3\",\"line_width\":2,\"x\":{\"field\":\"Date\"},\"y\":{\"field\":\"value\"}},\"id\":\"1046\",\"type\":\"Line\"},{\"attributes\":{\"days\":[1,2,3,4,5,6,7,8,9,10,11,12,13,14,15,16,17,18,19,20,21,22,23,24,25,26,27,28,29,30,31]},\"id\":\"1060\",\"type\":\"DaysTicker\"},{\"attributes\":{\"margin\":[5,5,5,5],\"name\":\"HSpacer01547\",\"sizing_mode\":\"stretch_width\"},\"id\":\"1002\",\"type\":\"Spacer\"},{\"attributes\":{},\"id\":\"1026\",\"type\":\"WheelZoomTool\"},{\"attributes\":{\"line_color\":\"#1f77b3\",\"line_width\":2,\"x\":{\"field\":\"Date\"},\"y\":{\"field\":\"value\"}},\"id\":\"1044\",\"type\":\"Line\"},{\"attributes\":{\"days\":[1,4,7,10,13,16,19,22,25,28]},\"id\":\"1061\",\"type\":\"DaysTicker\"},{\"attributes\":{\"axis\":{\"id\":\"1020\"},\"dimension\":1,\"grid_line_color\":null,\"ticker\":null},\"id\":\"1023\",\"type\":\"Grid\"},{\"attributes\":{\"data\":{\"Date\":{\"__ndarray__\":\"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\",\"dtype\":\"float64\",\"order\":\"little\",\"shape\":[276]},\"Variable\":[\"Predicted\",\"Predicted\",\"Predicted\",\"Predicted\",\"Predicted\",\"Predicted\",\"Predicted\",\"Predicted\",\"Predicted\",\"Predicted\",\"Predicted\",\"Predicted\",\"Predicted\",\"Predicted\",\"Predicted\",\"Predicted\",\"Predicted\",\"Predicted\",\"Predicted\",\"Predicted\",\"Predicted\",\"Predicted\",\"Predicted\",\"Predicted\",\"Predicted\",\"Predicted\",\"Predicted\",\"Predicted\",\"Predicted\",\"Predicted\",\"Predicted\",\"Predicted\",\"Predicted\",\"Predicted\",\"Predicted\",\"Predicted\",\"Predicted\",\"Predicted\",\"Predicted\",\"Predicted\",\"Predicted\",\"Predicted\",\"Predicted\",\"Predicted\",\"Predicted\",\"Predicted\",\"Predicted\",\"Predicted\",\"Predicted\",\"Predicted\",\"Predicted\",\"Predicted\",\"Predicted\",\"Predicted\",\"Predicted\",\"Predicted\",\"Predicted\",\"Predicted\",\"Predicted\",\"Predicted\",\"Predicted\",\"Predicted\",\"Predicted\",\"Predicted\",\"Predicted\",\"Predicted\",\"Predicted\",\"Predicted\",\"Predicted\",\"Predicted\",\"Predicted\",\"Predicted\",\"Predicted\",\"Predicted\",\"Predicted\",\"Predicted\",\"Predicted\",\"Predicted\",\"Predicted\",\"Predicted\",\"Predicted\",\"Predicted\",\"Predicted\",\"Predicted\",\"Predicted\",\"Predicted\",\"Predicted\",\"Predicted\",\"Predicted\",\"Predicted\",\"Predicted\",\"Predicted\",\"Predicted\",\"Predicted\",\"Predicted\",\"Predicted\",\"Predicted\",\"Predicted\",\"Predicted\",\"Predicted\",\"Predicted\",\"Predicted\",\"Predicted\",\"Predicted\",\"Predicted\",\"Predicted\",\"Predicted\",\"Predicted\",\"Predicted\",\"Predicted\",\"Predicted\",\"Predicted\",\"Predicted\",\"Predicted\",\"Predicted\",\"Predicted\",\"Predicted\",\"Predicted\",\"Predicted\",\"Predicted\",\"Predicted\",\"Predicted\",\"Predicted\",\"Predicted\",\"Predicted\",\"Predicted\",\"Predicted\",\"Predicted\",\"Predicted\",\"Predicted\",\"Predicted\",\"Predicted\",\"Predicted\",\"Predicted\",\"Predicted\",\"Predicted\",\"Predicted\",\"Predicted\",\"Predicted\",\"Predicted\",\"Predicted\",\"Predicted\",\"Predicted\",\"Predicted\",\"Predicted\",\"Predicted\",\"Predicted\",\"Predicted\",\"Predicted\",\"Predicted\",\"Predicted\",\"Predicted\",\"Predicted\",\"Predicted\",\"Predicted\",\"Predicted\",\"Predicted\",\"Predicted\",\"Predicted\",\"Predicted\",\"Predicted\",\"Predicted\",\"Predicted\",\"Predicted\",\"Predicted\",\"Predicted\",\"Predicted\",\"Predicted\",\"Predicted\",\"Predicted\",\"Predicted\",\"Predicted\",\"Predicted\",\"Predicted\",\"Predicted\",\"Predicted\",\"Predicted\",\"Predicted\",\"Predicted\",\"Predicted\",\"Predicted\",\"Predicted\",\"Predicted\",\"Predicted\",\"Predicted\",\"Predicted\",\"Predicted\",\"Predicted\",\"Predicted\",\"Predicted\",\"Predicted\",\"Predicted\",\"Predicted\",\"Predicted\",\"Predicted\",\"Predicted\",\"Predicted\",\"Predicted\",\"Predicted\",\"Predicted\",\"Predicted\",\"Predicted\",\"Predicted\",\"Predicted\",\"Predicted\",\"Predicted\",\"Predicted\",\"Predicted\",\"Predicted\",\"Predicted\",\"Predicted\",\"Predicted\",\"Predicted\",\"Predicted\",\"Predicted\",\"Predicted\",\"Predicted\",\"Predicted\",\"Predicted\",\"Predicted\",\"Predicted\",\"Predicted\",\"Predicted\",\"Predicted\",\"Predicted\",\"Predicted\",\"Predicted\",\"Predicted\",\"Predicted\",\"Predicted\",\"Predicted\",\"Predicted\",\"Predicted\",\"Predicted\",\"Predicted\",\"Predicted\",\"Predicted\",\"Predicted\",\"Predicted\",\"Predicted\",\"Predicted\",\"Predicted\",\"Predicted\",\"Predicted\",\"Predicted\",\"Predicted\",\"Predicted\",\"Predicted\",\"Predicted\",\"Predicted\",\"Predicted\",\"Predicted\",\"Predicted\",\"Predicted\",\"Predicted\",\"Predicted\",\"Predicted\",\"Predicted\",\"Predicted\",\"Predicted\",\"Predicted\",\"Predicted\",\"Predicted\",\"Predicted\",\"Predicted\",\"Predicted\",\"Predicted\",\"Predicted\",\"Predicted\",\"Predicted\",\"Predicted\",\"Predicted\",\"Predicted\",\"Predicted\",\"Predicted\",\"Predicted\"],\"value\":{\"__ndarray__\":\"nR09QqhmN0I0VzlCsZw3QrPJQ0IYNkxCY+dIQue7SUItAElCl5JLQtiVTEK5sUxCAilOQrjgTkIjRkxC3G1RQqxoUULvL1NCZFlSQryOUkLXdFNCLO9SQo4DVEJA6FRCet5VQve0VkJvWlxCqahcQleQXUKffllC441YQghxU0LGSVlCT8FVQjsQW0JOuFlCSh9SQt3bU0LvulNCTVFWQguDVEKF8VVC6eBYQtfCVUIiNFlCJThYQmSQXEIKtV9CBEZhQvIwXkIi+llCgCNaQmHYWkJZQVNC5dlPQsPjWEI2t1NCXjZZQh8fWkLQnVJCGwJXQqZOVkJy4VlCIKtQQmcjV0KjGVNCKcBNQo6MT0IPkFdC/FlZQhzISUK2JURClOtDQk1+S0LOA0tC1ntIQmTvPkL+Rz1Clys4QkkDPEKPlj1C4VA4QkvSMUK8RDBC1cUuQv+LLEIFfixCIvosQgb5LEILLzBCNv8zQn1PMEJYMTBCCOUoQgtgJkLxHSVCLkAlQrA4JULUPyNCnDEmQldkI0IT4h5CgboaQku8FEJKnw9C8WUaQq6EGkI6aRpCZs0aQunEG0IUiw5CM2ARQmN2EUKpUxRChN4VQjCZFkIMJBVCGSoTQk33FkIz1xdC7BkaQsR7GUKqDBdCgDIYQtEpFUI3jhpCCKYZQhVRFkK+FCJCCiQjQsAiI0IMPCpC2JwqQtkMK0Jc2iZC26AmQnHdJUL3qipCMXolQnICK0LYxyVC4e4qQu0KKkJVtypCVhkrQr05K0KUoi1CcCstQhFzLkLqtSxClMQtQg/fLUKZby5CagMuQiI+LEKKYitC4t4uQhGfMkL1pDRCwYE2QuwjOUK5lzdC6f44QiyKP0J8DTtC5jo6QvePN0IMdDlCwAE6QogJPUK06DxCDxE+QjbqPkLvTz9CEshBQnl5Q0KKeURCum1DQlo6RUJoo0RC5MNEQoI6Q0JgK0dCLD1KQlE9R0LPW0lCZzRMQrUmS0I9QktC2FlMQvvDQ0J0cUxC/7BNQsDST0JjtU1CkZpGQm8YSEKpIkVChN5EQq9FOUI1cTlCVsg9QiB+O0Iu4DpCqZc1QlvAN0Ip4jZCl+MyQoMJMUIJDjBCunAwQqNLMEKQ+S5C4BUxQpqDLkLGYDBC8ls2QuLHO0Lf3j5CRWc/QkzJPkLidD9CZ4A+QhgZP0JEhURCtn9EQhviQ0JQw0NCj4pEQuZAQULolkRChN5EQtBqQ0KI4kdCUMJIQq0qS0INjUtC2GRDQl9kRkIdDklC9h9IQm6qSkKv7UpCp2RMQp9RSkIcgExCNDxHQiAqTkLpIk5CdBlOQl1aTEKdJU5Cvk5OQsn+TULba1NCqvNLQiVnSULJaD9Cj3JEQgtFRUJKD0tCRU5HQrw8RkKryU5C4vNIQq1mR0KfE05Cu6RNQsBXT0KXAVFCxGJSQg6BSEIXbkxC8UpKQgt2S0K2D0xC\",\"dtype\":\"float32\",\"order\":\"little\",\"shape\":[276]}},\"selected\":{\"id\":\"1072\"},\"selection_policy\":{\"id\":\"1088\"}},\"id\":\"1071\",\"type\":\"ColumnDataSource\"},{\"attributes\":{\"months\":[0,4,8]},\"id\":\"1066\",\"type\":\"MonthsTicker\"},{\"attributes\":{\"overlay\":{\"id\":\"1029\"}},\"id\":\"1027\",\"type\":\"BoxZoomTool\"},{\"attributes\":{\"base\":24,\"mantissas\":[1,2,4,6,8,12],\"max_interval\":43200000.0,\"min_interval\":3600000.0,\"num_minor_ticks\":0},\"id\":\"1059\",\"type\":\"AdaptiveTicker\"}],\"root_ids\":[\"1001\"]},\"title\":\"Bokeh Application\",\"version\":\"2.1.1\"}};\n",
       "  var render_items = [{\"docid\":\"b6038dc6-70ce-498d-beca-6bd5efd52b9d\",\"root_ids\":[\"1001\"],\"roots\":{\"1001\":\"493bca1d-5576-4c3d-a618-03c8afaa34f6\"}}];\n",
       "  root.Bokeh.embed.embed_items_notebook(docs_json, render_items);\n",
       "  }\n",
       "if (root.Bokeh !== undefined) {\n",
       "    embed_document(root);\n",
       "  } else {\n",
       "    var attempts = 0;\n",
       "    var timer = setInterval(function(root) {\n",
       "      if (root.Bokeh !== undefined) {\n",
       "        clearInterval(timer);\n",
       "        embed_document(root);\n",
       "      } else if (document.readyState == \"complete\") {\n",
       "        attempts++;\n",
       "        if (attempts > 100) {\n",
       "          clearInterval(timer);\n",
       "          console.log(\"Bokeh: ERROR: Unable to run BokehJS code because BokehJS library is missing\");\n",
       "        }\n",
       "      }\n",
       "    }, 10, root)\n",
       "  }\n",
       "})(window);</script>"
      ],
      "text/plain": [
       ":NdOverlay   [Variable]\n",
       "   :Curve   [Date]   (value)"
      ]
     },
     "execution_count": 18,
     "metadata": {
      "application/vnd.holoviews_exec.v0+json": {
       "id": "1001"
      }
     },
     "output_type": "execute_result"
    }
   ],
   "source": [
    "# Plot the real vs predicted values as a line chart\n",
    "stocks.hvplot(title = \"Real vs Predicted values of APPL\")"
   ]
  },
  {
   "cell_type": "code",
   "execution_count": null,
   "metadata": {},
   "outputs": [],
   "source": []
  }
 ],
 "metadata": {
  "kernelspec": {
   "display_name": "Python [conda env:pyvizenv] *",
   "language": "python",
   "name": "conda-env-pyvizenv-py"
  },
  "language_info": {
   "codemirror_mode": {
    "name": "ipython",
    "version": 3
   },
   "file_extension": ".py",
   "mimetype": "text/x-python",
   "name": "python",
   "nbconvert_exporter": "python",
   "pygments_lexer": "ipython3",
   "version": "3.7.7"
  }
 },
 "nbformat": 4,
 "nbformat_minor": 4
}
