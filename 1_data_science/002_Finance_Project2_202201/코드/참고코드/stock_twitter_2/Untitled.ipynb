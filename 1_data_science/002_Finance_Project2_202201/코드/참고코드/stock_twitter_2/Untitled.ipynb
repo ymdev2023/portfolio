{
 "cells": [
  {
   "cell_type": "code",
   "execution_count": 2,
   "id": "b21bc00e",
   "metadata": {
    "ExecuteTime": {
     "end_time": "2022-01-25T07:44:27.605075Z",
     "start_time": "2022-01-25T07:44:27.580540Z"
    }
   },
   "outputs": [
    {
     "ename": "ModuleNotFoundError",
     "evalue": "No module named 'yahoo_stocks'",
     "output_type": "error",
     "traceback": [
      "\u001b[1;31m---------------------------------------------------------------------------\u001b[0m",
      "\u001b[1;31mModuleNotFoundError\u001b[0m                       Traceback (most recent call last)",
      "\u001b[1;32m~\\AppData\\Local\\Temp/ipykernel_5764/3441217324.py\u001b[0m in \u001b[0;36m<module>\u001b[1;34m\u001b[0m\n\u001b[0;32m      8\u001b[0m \u001b[1;32mfrom\u001b[0m \u001b[0mtweepy\u001b[0m \u001b[1;32mimport\u001b[0m \u001b[0mOAuthHandler\u001b[0m\u001b[1;33m\u001b[0m\u001b[1;33m\u001b[0m\u001b[0m\n\u001b[0;32m      9\u001b[0m \u001b[1;32mfrom\u001b[0m \u001b[0mtweepy\u001b[0m \u001b[1;32mimport\u001b[0m \u001b[0mStream\u001b[0m\u001b[1;33m\u001b[0m\u001b[1;33m\u001b[0m\u001b[0m\n\u001b[1;32m---> 10\u001b[1;33m \u001b[1;32mimport\u001b[0m \u001b[0myahoo_stocks\u001b[0m\u001b[1;33m\u001b[0m\u001b[1;33m\u001b[0m\u001b[0m\n\u001b[0m\u001b[0;32m     11\u001b[0m \u001b[1;32mimport\u001b[0m \u001b[0mdatetime\u001b[0m\u001b[1;33m\u001b[0m\u001b[1;33m\u001b[0m\u001b[0m\n\u001b[0;32m     12\u001b[0m \u001b[1;32mimport\u001b[0m \u001b[0mtime\u001b[0m\u001b[1;33m\u001b[0m\u001b[1;33m\u001b[0m\u001b[0m\n",
      "\u001b[1;31mModuleNotFoundError\u001b[0m: No module named 'yahoo_stocks'"
     ]
    }
   ],
   "source": [
    "'''\n",
    "This python file stores necessary tweet attributes to twitterData/ file \n",
    "and original tweet in json format to twitterData/native/ file\n",
    "'''\n",
    "\n",
    "#Import the necessary methods from tweepy library\n",
    "from tweepy.streaming import StreamListener\n",
    "from tweepy import OAuthHandler\n",
    "from tweepy import Stream\n",
    "import yahoo_stock\n",
    "import datetime\n",
    "import time\n",
    "import json\n",
    "import os,sys\n",
    "import pymongo\n",
    "\n",
    "#change the keyword to fetch stock tweets of choice e.g $AAPL , $TWTR \n",
    "keyword = '$AAPL'\n",
    "       \n",
    "#This is a basic listener that just prints received tweets to stdout.\n",
    "class StdOutListener(StreamListener):\n",
    "    def __init__(self):\n",
    "        self.no_of_tweets = 0\n",
    "        self.keyword = keyword\n",
    "        mongo = pymongo.Connection('localhost', 27017)\n",
    "        db = mongo['Stream'+keyword.strip('$')]\n",
    "        currDate = datetime.datetime.now()\n",
    "        currDate = currDate.strftime(\"%d_%m_%Y\")\n",
    "        self.collection = db[keyword.strip('$')+'_'+str(currDate)]\n",
    "     \n",
    "    def on_data(self, data):\n",
    "        tweet = json.loads(data)\n",
    "        self.collection.save(tweet)\n",
    "        self.no_of_tweets = self.no_of_tweets + 1\n",
    "        print('success')\n",
    "        return True\n",
    "\n",
    "    def on_error(self, status):\n",
    "        print ('Error :(')\n",
    "        print (status)\n",
    "        print ('No of tweets fetched :',self.no_of_tweets)\n",
    "\n",
    "class TweetCollector:\n",
    "    def __init__(self):\n",
    "        self.keyword = keyword\n",
    "        \n",
    "    def parse_config(self):\n",
    "      config = {}\n",
    "      # from file args\n",
    "      if os.path.exists('data/config.json'):\n",
    "          with open('data/config.json') as f:\n",
    "              config.update(json.load(f))\n",
    "      # should have something now\n",
    "      return config\n",
    "\t  \n",
    "    def collect(self):  \n",
    "        config = self.parse_config()\n",
    "        print('\\nConnecting to Twitter API...') \n",
    "        #This handles Twitter authentication and the connection to Twitter Streaming API\n",
    "        l = StdOutListener()\n",
    "        auth = OAuthHandler(config.get('consumer_key'), config.get('consumer_secret'))\n",
    "        auth.set_access_token(config.get('access_token'), config.get('access_token_secret'))\n",
    "        stream = Stream(auth, l)\n",
    "        print('success\\n')\n",
    "\t\n",
    "        print('Fetching tweets... \\nPress Ctrl+C in order to stop execution \\n')\n",
    "        try:\n",
    "            #This line filter Twitter Streams to capture data by the keyword: e.g. '$FB - cashtag for facebook stock'\n",
    "            stream.filter(track=[self.keyword])\n",
    "        except(KeyboardInterrupt):\n",
    "            print ('tweets stored in database')\n",
    "            print ('No of tweets fetched : ',l.no_of_tweets)\n",
    "            os._exit(0)\n",
    "\t\n",
    "if __name__ == '__main__':\n",
    "    t = TweetCollector()\n",
    "    while True:\n",
    "        try:\n",
    "            t.collect()\n",
    "        except:\n",
    "            time.sleep(100)\n",
    "            continue        \n",
    "#To run the program\n",
    "#python retrieve_tweets.py"
   ]
  },
  {
   "cell_type": "code",
   "execution_count": null,
   "id": "b2033958",
   "metadata": {},
   "outputs": [],
   "source": []
  }
 ],
 "metadata": {
  "kernelspec": {
   "display_name": "Python 3 (ipykernel)",
   "language": "python",
   "name": "python3"
  },
  "language_info": {
   "codemirror_mode": {
    "name": "ipython",
    "version": 3
   },
   "file_extension": ".py",
   "mimetype": "text/x-python",
   "name": "python",
   "nbconvert_exporter": "python",
   "pygments_lexer": "ipython3",
   "version": "3.9.7"
  },
  "toc": {
   "base_numbering": 1,
   "nav_menu": {},
   "number_sections": false,
   "sideBar": true,
   "skip_h1_title": false,
   "title_cell": "Table of Contents",
   "title_sidebar": "Contents",
   "toc_cell": false,
   "toc_position": {},
   "toc_section_display": true,
   "toc_window_display": false
  },
  "varInspector": {
   "cols": {
    "lenName": 16,
    "lenType": 16,
    "lenVar": 40
   },
   "kernels_config": {
    "python": {
     "delete_cmd_postfix": "",
     "delete_cmd_prefix": "del ",
     "library": "var_list.py",
     "varRefreshCmd": "print(var_dic_list())"
    },
    "r": {
     "delete_cmd_postfix": ") ",
     "delete_cmd_prefix": "rm(",
     "library": "var_list.r",
     "varRefreshCmd": "cat(var_dic_list()) "
    }
   },
   "types_to_exclude": [
    "module",
    "function",
    "builtin_function_or_method",
    "instance",
    "_Feature"
   ],
   "window_display": false
  }
 },
 "nbformat": 4,
 "nbformat_minor": 5
}
