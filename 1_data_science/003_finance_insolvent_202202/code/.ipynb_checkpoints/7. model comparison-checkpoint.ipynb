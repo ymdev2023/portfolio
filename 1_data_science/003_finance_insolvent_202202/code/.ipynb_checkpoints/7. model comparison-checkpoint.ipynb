{
 "cells": [
  {
   "cell_type": "code",
   "execution_count": 1,
   "metadata": {
    "colab": {
     "base_uri": "https://localhost:8080/"
    },
    "executionInfo": {
     "elapsed": 22440,
     "status": "ok",
     "timestamp": 1640075371065,
     "user": {
      "displayName": "윤영주",
      "photoUrl": "https://lh3.googleusercontent.com/a/default-user=s64",
      "userId": "18155336044487350880"
     },
     "user_tz": -540
    },
    "id": "iRNaJ_QDXenc",
    "outputId": "f6e6979b-126f-493c-903b-42c26a5db94a"
   },
   "outputs": [
    {
     "name": "stdout",
     "output_type": "stream",
     "text": [
      "Mounted at /content/drive\n"
     ]
    }
   ],
   "source": [
    "from google.colab import drive\n",
    "drive.mount('/content/drive')"
   ]
  },
  {
   "cell_type": "code",
   "execution_count": 2,
   "metadata": {
    "colab": {
     "base_uri": "https://localhost:8080/"
    },
    "executionInfo": {
     "elapsed": 13115,
     "status": "ok",
     "timestamp": 1640075388802,
     "user": {
      "displayName": "윤영주",
      "photoUrl": "https://lh3.googleusercontent.com/a/default-user=s64",
      "userId": "18155336044487350880"
     },
     "user_tz": -540
    },
    "id": "IdRJjdnRXpYZ",
    "outputId": "3ccbecc0-2d63-4501-991f-6658565532e3"
   },
   "outputs": [
    {
     "name": "stdout",
     "output_type": "stream",
     "text": [
      "Reading package lists... Done\n",
      "Building dependency tree       \n",
      "Reading state information... Done\n",
      "The following NEW packages will be installed:\n",
      "  fonts-nanum\n",
      "0 upgraded, 1 newly installed, 0 to remove and 37 not upgraded.\n",
      "Need to get 9,604 kB of archives.\n",
      "After this operation, 29.5 MB of additional disk space will be used.\n",
      "Get:1 http://archive.ubuntu.com/ubuntu bionic/universe amd64 fonts-nanum all 20170925-1 [9,604 kB]\n",
      "Fetched 9,604 kB in 1s (6,882 kB/s)\n",
      "debconf: unable to initialize frontend: Dialog\n",
      "debconf: (No usable dialog-like program is installed, so the dialog based frontend cannot be used. at /usr/share/perl5/Debconf/FrontEnd/Dialog.pm line 76, <> line 1.)\n",
      "debconf: falling back to frontend: Readline\n",
      "debconf: unable to initialize frontend: Readline\n",
      "debconf: (This frontend requires a controlling tty.)\n",
      "debconf: falling back to frontend: Teletype\n",
      "dpkg-preconfigure: unable to re-open stdin: \n",
      "Selecting previously unselected package fonts-nanum.\n",
      "(Reading database ... 155222 files and directories currently installed.)\n",
      "Preparing to unpack .../fonts-nanum_20170925-1_all.deb ...\n",
      "Unpacking fonts-nanum (20170925-1) ...\n",
      "Setting up fonts-nanum (20170925-1) ...\n",
      "Processing triggers for fontconfig (2.12.6-0ubuntu2) ...\n",
      "/usr/share/fonts: caching, new cache contents: 0 fonts, 1 dirs\n",
      "/usr/share/fonts/truetype: caching, new cache contents: 0 fonts, 3 dirs\n",
      "/usr/share/fonts/truetype/humor-sans: caching, new cache contents: 1 fonts, 0 dirs\n",
      "/usr/share/fonts/truetype/liberation: caching, new cache contents: 16 fonts, 0 dirs\n",
      "/usr/share/fonts/truetype/nanum: caching, new cache contents: 10 fonts, 0 dirs\n",
      "/usr/local/share/fonts: caching, new cache contents: 0 fonts, 0 dirs\n",
      "/root/.local/share/fonts: skipping, no such directory\n",
      "/root/.fonts: skipping, no such directory\n",
      "/var/cache/fontconfig: cleaning cache directory\n",
      "/root/.cache/fontconfig: not cleaning non-existent cache directory\n",
      "/root/.fontconfig: not cleaning non-existent cache directory\n",
      "fc-cache: succeeded\n"
     ]
    }
   ],
   "source": [
    "!sudo apt-get install -y fonts-nanum\n",
    "!sudo fc-cache -fv\n",
    "!rm ~/.cache/matplotlib -rf\n",
    "\n",
    "# #이후 런타임 다시 시작"
   ]
  },
  {
   "cell_type": "code",
   "execution_count": 1,
   "metadata": {
    "executionInfo": {
     "elapsed": 8,
     "status": "ok",
     "timestamp": 1640075400664,
     "user": {
      "displayName": "윤영주",
      "photoUrl": "https://lh3.googleusercontent.com/a/default-user=s64",
      "userId": "18155336044487350880"
     },
     "user_tz": -540
    },
    "id": "OEG5FJRWXw-D"
   },
   "outputs": [],
   "source": [
    "import warnings   \n",
    "warnings.simplefilter(action='ignore', category=FutureWarning)\n",
    "\n",
    "import matplotlib.pyplot as plt\n",
    "import seaborn as sns\n",
    "\n",
    "plt.rc('font', family='NanumBarunGothic') \n",
    "plt.rcParams[\"font.size\"] = 12\n",
    "plt.rcParams['xtick.labelsize'] = 12.\n",
    "plt.rcParams['ytick.labelsize'] = 12.\n",
    "plt.rcParams['axes.unicode_minus'] = False"
   ]
  },
  {
   "cell_type": "code",
   "execution_count": 2,
   "metadata": {
    "executionInfo": {
     "elapsed": 1426,
     "status": "ok",
     "timestamp": 1640075402083,
     "user": {
      "displayName": "윤영주",
      "photoUrl": "https://lh3.googleusercontent.com/a/default-user=s64",
      "userId": "18155336044487350880"
     },
     "user_tz": -540
    },
    "id": "CHGPnQEmYAeR"
   },
   "outputs": [],
   "source": [
    "import numpy as np\n",
    "import pandas as pd\n",
    "import re\n",
    "from sklearn.linear_model import LogisticRegression\n",
    "from sklearn.linear_model import SGDClassifier\n",
    "from sklearn.neighbors import KNeighborsClassifier\n",
    "from sklearn.tree import DecisionTreeClassifier\n",
    "from sklearn.svm import SVC\n",
    "from sklearn.ensemble import RandomForestClassifier\n",
    "import statsmodels.api as sm\n",
    "\n",
    "from sklearn.metrics import classification_report, confusion_matrix\n",
    "from sklearn.metrics import  accuracy_score, precision_score, recall_score, f1_score"
   ]
  },
  {
   "cell_type": "code",
   "execution_count": 3,
   "metadata": {
    "colab": {
     "base_uri": "https://localhost:8080/"
    },
    "executionInfo": {
     "elapsed": 8,
     "status": "ok",
     "timestamp": 1640075402084,
     "user": {
      "displayName": "윤영주",
      "photoUrl": "https://lh3.googleusercontent.com/a/default-user=s64",
      "userId": "18155336044487350880"
     },
     "user_tz": -540
    },
    "id": "AgryBX7TYDGI",
    "outputId": "651449f1-57d9-4549-8c15-68bb8b9c41d3"
   },
   "outputs": [
    {
     "name": "stdout",
     "output_type": "stream",
     "text": [
      "/content/drive/MyDrive/UBION_final_project/data\n"
     ]
    }
   ],
   "source": [
    "cd /content/drive/MyDrive/UBION_final_project/data"
   ]
  },
  {
   "cell_type": "code",
   "execution_count": 4,
   "metadata": {
    "executionInfo": {
     "elapsed": 501,
     "status": "ok",
     "timestamp": 1640075403003,
     "user": {
      "displayName": "윤영주",
      "photoUrl": "https://lh3.googleusercontent.com/a/default-user=s64",
      "userId": "18155336044487350880"
     },
     "user_tz": -540
    },
    "id": "YHZnBPpL8jHO"
   },
   "outputs": [],
   "source": [
    "df = pd.read_csv('result_all.csv')"
   ]
  },
  {
   "cell_type": "code",
   "execution_count": 5,
   "metadata": {
    "executionInfo": {
     "elapsed": 10,
     "status": "ok",
     "timestamp": 1640075403003,
     "user": {
      "displayName": "윤영주",
      "photoUrl": "https://lh3.googleusercontent.com/a/default-user=s64",
      "userId": "18155336044487350880"
     },
     "user_tz": -540
    },
    "id": "hz0TkeAl8jEg"
   },
   "outputs": [],
   "source": [
    "df = df[(df['변수선택법']!='error') & (df['적용모델']!='sgd')]"
   ]
  },
  {
   "cell_type": "code",
   "execution_count": 6,
   "metadata": {
    "colab": {
     "base_uri": "https://localhost:8080/",
     "height": 749
    },
    "executionInfo": {
     "elapsed": 968,
     "status": "ok",
     "timestamp": 1640075403962,
     "user": {
      "displayName": "윤영주",
      "photoUrl": "https://lh3.googleusercontent.com/a/default-user=s64",
      "userId": "18155336044487350880"
     },
     "user_tz": -540
    },
    "id": "NcPI3Y4iBuLx",
    "outputId": "33081712-1520-48b3-9722-fc3ef87e2c35"
   },
   "outputs": [
    {
     "data": {
      "text/plain": [
       "Text(0.5, 1.0, 'Accuracy')"
      ]
     },
     "execution_count": 6,
     "metadata": {},
     "output_type": "execute_result"
    },
    {
     "data": {
      "image/png": "[encoded data removed]",
      "text/plain": [
       "<Figure size 576x864 with 2 Axes>"
      ]
     },
     "metadata": {
      "needs_background": "light"
     },
     "output_type": "display_data"
    }
   ],
   "source": [
    "fig, axes = plt.subplots(2, 1, figsize=(8,12))\n",
    "#palette=['tomato','orange','seagreen','slateblue']\n",
    "sns.boxplot(y = \"데이터프레임\", x = \"Recall\",hue = 'train_test_split(Y/R)', notch=True, data = df,ax = axes[0])\n",
    "sns.boxplot(y = \"데이터프레임\", x = \"Accuracy\",hue = 'train_test_split(Y/R)', notch=True, data = df,ax = axes[1])\n",
    "axes[0].set_title(\"Recall\")\n",
    "axes[1].set_title(\"Accuracy\")"
   ]
  },
  {
   "cell_type": "code",
   "execution_count": 11,
   "metadata": {
    "colab": {
     "base_uri": "https://localhost:8080/",
     "height": 1000
    },
    "executionInfo": {
     "elapsed": 6954,
     "status": "ok",
     "timestamp": 1640075641385,
     "user": {
      "displayName": "윤영주",
      "photoUrl": "https://lh3.googleusercontent.com/a/default-user=s64",
      "userId": "18155336044487350880"
     },
     "user_tz": -540
    },
    "id": "VoD7fnpJHoQa",
    "outputId": "09cc27ff-e4ef-4c66-af3b-879ea694e96c"
   },
   "outputs": [
    {
     "name": "stderr",
     "output_type": "stream",
     "text": [
      "/usr/local/lib/python3.7/dist-packages/seaborn/categorical.py:1296: UserWarning: 21.1% of the points cannot be placed; you may want to decrease the size of the markers or use stripplot.\n",
      "  warnings.warn(msg, UserWarning)\n",
      "/usr/local/lib/python3.7/dist-packages/seaborn/categorical.py:1296: UserWarning: 21.2% of the points cannot be placed; you may want to decrease the size of the markers or use stripplot.\n",
      "  warnings.warn(msg, UserWarning)\n",
      "/usr/local/lib/python3.7/dist-packages/seaborn/categorical.py:1296: UserWarning: 22.9% of the points cannot be placed; you may want to decrease the size of the markers or use stripplot.\n",
      "  warnings.warn(msg, UserWarning)\n",
      "/usr/local/lib/python3.7/dist-packages/seaborn/categorical.py:1296: UserWarning: 22.9% of the points cannot be placed; you may want to decrease the size of the markers or use stripplot.\n",
      "  warnings.warn(msg, UserWarning)\n",
      "/usr/local/lib/python3.7/dist-packages/seaborn/categorical.py:1296: UserWarning: 25.6% of the points cannot be placed; you may want to decrease the size of the markers or use stripplot.\n",
      "  warnings.warn(msg, UserWarning)\n",
      "/usr/local/lib/python3.7/dist-packages/seaborn/categorical.py:1296: UserWarning: 11.8% of the points cannot be placed; you may want to decrease the size of the markers or use stripplot.\n",
      "  warnings.warn(msg, UserWarning)\n",
      "/usr/local/lib/python3.7/dist-packages/seaborn/categorical.py:1296: UserWarning: 18.0% of the points cannot be placed; you may want to decrease the size of the markers or use stripplot.\n",
      "  warnings.warn(msg, UserWarning)\n"
     ]
    },
    {
     "data": {
      "text/plain": [
       "Text(0.5, 1.0, 'Accuracy')"
      ]
     },
     "execution_count": 11,
     "metadata": {},
     "output_type": "execute_result"
    },
    {
     "data": {
      "image/png": "[encoded data removed]",
      "text/plain": [
       "<Figure size 360x1440 with 4 Axes>"
      ]
     },
     "metadata": {
      "needs_background": "light"
     },
     "output_type": "display_data"
    }
   ],
   "source": [
    "palette=['tomato','orange','seagreen','slateblue']\n",
    "fig, axes = plt.subplots(4, 1, figsize=(5,20))\n",
    "sns.swarmplot(y = \"데이터프레임\", x = \"Recall\", data = df, palette = palette,ax = axes[0], size=2)\n",
    "sns.boxplot(y = \"데이터프레임\", x = \"Recall\", notch=True, data = df,palette = palette,ax = axes[1])\n",
    "sns.swarmplot(y = \"데이터프레임\", x = \"Accuracy\", data = df,palette = palette,ax = axes[2], size=2)\n",
    "sns.boxplot(y = \"데이터프레임\", x = \"Accuracy\", notch=True, data = df,palette = palette,ax = axes[3])\n",
    "axes[0].set_title(\"Recall kde\")\n",
    "axes[1].set_title(\"Recall\")\n",
    "axes[2].set_title(\"Accuracy kde\")\n",
    "axes[3].set_title(\"Accuracy\")"
   ]
  },
  {
   "cell_type": "code",
   "execution_count": null,
   "metadata": {
    "colab": {
     "base_uri": "https://localhost:8080/",
     "height": 281
    },
    "executionInfo": {
     "elapsed": 21,
     "status": "ok",
     "timestamp": 1639966572963,
     "user": {
      "displayName": "윤영주",
      "photoUrl": "https://lh3.googleusercontent.com/a/default-user=s64",
      "userId": "18155336044487350880"
     },
     "user_tz": -540
    },
    "id": "tmfGdChj-X9y",
    "outputId": "ecac74c1-c5c0-4d36-a67a-30a2d1a5206d"
   },
   "outputs": [
    {
     "data": {
      "image/png": "[encoded data removed]",
      "text/plain": [
       "<Figure size 432x288 with 1 Axes>"
      ]
     },
     "metadata": {
      "needs_background": "light"
     },
     "output_type": "display_data"
    }
   ],
   "source": [
    "sns.boxplot(y = \"train_test_split(Y/R)\", x = \"Recall\", notch=True,data = df)\n",
    "plt.show()"
   ]
  },
  {
   "cell_type": "code",
   "execution_count": null,
   "metadata": {
    "colab": {
     "base_uri": "https://localhost:8080/",
     "height": 299
    },
    "executionInfo": {
     "elapsed": 441,
     "status": "ok",
     "timestamp": 1639966573388,
     "user": {
      "displayName": "윤영주",
      "photoUrl": "https://lh3.googleusercontent.com/a/default-user=s64",
      "userId": "18155336044487350880"
     },
     "user_tz": -540
    },
    "id": "ZLLeIRRQ-uAC",
    "outputId": "776f46c7-8a49-478a-8567-70b5e8aa9733"
   },
   "outputs": [
    {
     "data": {
      "text/plain": [
       "<matplotlib.axes._subplots.AxesSubplot at 0x7fb8a6c67690>"
      ]
     },
     "execution_count": 10,
     "metadata": {},
     "output_type": "execute_result"
    },
    {
     "data": {
      "image/png": "[encoded data removed]",
      "text/plain": [
       "<Figure size 432x288 with 1 Axes>"
      ]
     },
     "metadata": {
      "needs_background": "light"
     },
     "output_type": "display_data"
    }
   ],
   "source": [
    "sns.boxplot(y = \"데이터프레임\", x = \"Recall\",hue = 'train_test_split(Y/R)', notch=True, data = df)"
   ]
  },
  {
   "cell_type": "code",
   "execution_count": null,
   "metadata": {
    "colab": {
     "base_uri": "https://localhost:8080/",
     "height": 734
    },
    "executionInfo": {
     "elapsed": 833,
     "status": "ok",
     "timestamp": 1639966574591,
     "user": {
      "displayName": "윤영주",
      "photoUrl": "https://lh3.googleusercontent.com/a/default-user=s64",
      "userId": "18155336044487350880"
     },
     "user_tz": -540
    },
    "id": "VC5KTD8zBciM",
    "outputId": "07e42c5d-6e6a-4e62-d0c9-e948f13d9f7c"
   },
   "outputs": [
    {
     "data": {
      "text/plain": [
       "<matplotlib.axes._subplots.AxesSubplot at 0x7fb8a66e9d10>"
      ]
     },
     "execution_count": 11,
     "metadata": {},
     "output_type": "execute_result"
    },
    {
     "data": {
      "image/png": "[encoded data removed]",
      "text/plain": [
       "<Figure size 288x864 with 1 Axes>"
      ]
     },
     "metadata": {
      "needs_background": "light"
     },
     "output_type": "display_data"
    }
   ],
   "source": [
    "plt.figure(figsize=(4,12))\n",
    "sns.boxplot(y = \"sampling 방식\", x = \"Recall\",hue = '데이터프레임', notch=True, data = df)"
   ]
  },
  {
   "cell_type": "code",
   "execution_count": null,
   "metadata": {
    "colab": {
     "base_uri": "https://localhost:8080/",
     "height": 732
    },
    "executionInfo": {
     "elapsed": 7062,
     "status": "ok",
     "timestamp": 1639966581980,
     "user": {
      "displayName": "윤영주",
      "photoUrl": "https://lh3.googleusercontent.com/a/default-user=s64",
      "userId": "18155336044487350880"
     },
     "user_tz": -540
    },
    "id": "X9Txywf9CURe",
    "outputId": "7c3bfbf6-bd97-4b4f-e4ff-409c65962732"
   },
   "outputs": [
    {
     "name": "stderr",
     "output_type": "stream",
     "text": [
      "/usr/local/lib/python3.7/dist-packages/seaborn/categorical.py:1296: UserWarning: 15.5% of the points cannot be placed; you may want to decrease the size of the markers or use stripplot.\n",
      "  warnings.warn(msg, UserWarning)\n",
      "/usr/local/lib/python3.7/dist-packages/seaborn/categorical.py:1296: UserWarning: 20.7% of the points cannot be placed; you may want to decrease the size of the markers or use stripplot.\n",
      "  warnings.warn(msg, UserWarning)\n",
      "/usr/local/lib/python3.7/dist-packages/seaborn/categorical.py:1296: UserWarning: 18.1% of the points cannot be placed; you may want to decrease the size of the markers or use stripplot.\n",
      "  warnings.warn(msg, UserWarning)\n",
      "/usr/local/lib/python3.7/dist-packages/seaborn/categorical.py:1296: UserWarning: 37.1% of the points cannot be placed; you may want to decrease the size of the markers or use stripplot.\n",
      "  warnings.warn(msg, UserWarning)\n",
      "/usr/local/lib/python3.7/dist-packages/seaborn/categorical.py:1296: UserWarning: 10.8% of the points cannot be placed; you may want to decrease the size of the markers or use stripplot.\n",
      "  warnings.warn(msg, UserWarning)\n",
      "/usr/local/lib/python3.7/dist-packages/seaborn/categorical.py:1296: UserWarning: 11.6% of the points cannot be placed; you may want to decrease the size of the markers or use stripplot.\n",
      "  warnings.warn(msg, UserWarning)\n",
      "/usr/local/lib/python3.7/dist-packages/seaborn/categorical.py:1296: UserWarning: 24.6% of the points cannot be placed; you may want to decrease the size of the markers or use stripplot.\n",
      "  warnings.warn(msg, UserWarning)\n",
      "/usr/local/lib/python3.7/dist-packages/seaborn/categorical.py:1296: UserWarning: 27.2% of the points cannot be placed; you may want to decrease the size of the markers or use stripplot.\n",
      "  warnings.warn(msg, UserWarning)\n",
      "/usr/local/lib/python3.7/dist-packages/seaborn/categorical.py:1296: UserWarning: 13.4% of the points cannot be placed; you may want to decrease the size of the markers or use stripplot.\n",
      "  warnings.warn(msg, UserWarning)\n",
      "/usr/local/lib/python3.7/dist-packages/seaborn/categorical.py:1296: UserWarning: 39.7% of the points cannot be placed; you may want to decrease the size of the markers or use stripplot.\n",
      "  warnings.warn(msg, UserWarning)\n"
     ]
    },
    {
     "data": {
      "text/plain": [
       "Text(0.5, 1.0, 'Accuracy')"
      ]
     },
     "execution_count": 12,
     "metadata": {},
     "output_type": "execute_result"
    },
    {
     "data": {
      "image/png": "[encoded data removed]",
      "text/plain": [
       "<Figure size 1440x360 with 4 Axes>"
      ]
     },
     "metadata": {
      "needs_background": "light"
     },
     "output_type": "display_data"
    }
   ],
   "source": [
    "fig, axes = plt.subplots(1, 4, figsize=(20,5))\n",
    "sns.swarmplot(y = \"적용모델\", x = \"Recall\", data = df,ax = axes[0], size=2)\n",
    "sns.boxplot(y = \"적용모델\", x = \"Recall\", notch=True, data = df,ax = axes[1])\n",
    "sns.swarmplot(y = \"적용모델\", x = \"Accuracy\", data = df,ax = axes[2], size=2)\n",
    "sns.boxplot(y = \"적용모델\", x = \"Accuracy\", notch=True, data = df,ax = axes[3])\n",
    "axes[0].set_title(\"Recall kde\")\n",
    "axes[1].set_title(\"Recall\")\n",
    "axes[2].set_title(\"Accuracy kde\")\n",
    "axes[3].set_title(\"Accuracy\")"
   ]
  },
  {
   "cell_type": "code",
   "execution_count": null,
   "metadata": {
    "id": "3OON9d6UCo4X"
   },
   "outputs": [],
   "source": [
    "# 위의 accuracy 분포는 상위 recall인것만 보여주기"
   ]
  },
  {
   "cell_type": "code",
   "execution_count": null,
   "metadata": {
    "colab": {
     "base_uri": "https://localhost:8080/"
    },
    "executionInfo": {
     "elapsed": 22,
     "status": "ok",
     "timestamp": 1639966581985,
     "user": {
      "displayName": "윤영주",
      "photoUrl": "https://lh3.googleusercontent.com/a/default-user=s64",
      "userId": "18155336044487350880"
     },
     "user_tz": -540
    },
    "id": "zE40wV4P-8PP",
    "outputId": "24f3caf5-e8dd-4495-a7a0-f267ca43d745"
   },
   "outputs": [
    {
     "data": {
      "text/plain": [
       "Index(['데이터프레임', 'train_test_split(Y/R)', 't-test(Y/N)', '변수선택법', 'VIF(Y/N)',\n",
       "       'sampling 방식', '적용모델', '선택된 변수', '혼동행렬', 'Accuracy', 'Precision',\n",
       "       'Recall', 'F1-score', 'hyperparameter 변경'],\n",
       "      dtype='object')"
      ]
     },
     "execution_count": 14,
     "metadata": {},
     "output_type": "execute_result"
    }
   ],
   "source": [
    "df.columns"
   ]
  },
  {
   "cell_type": "code",
   "execution_count": null,
   "metadata": {
    "colab": {
     "base_uri": "https://localhost:8080/",
     "height": 394
    },
    "executionInfo": {
     "elapsed": 21,
     "status": "ok",
     "timestamp": 1639966581987,
     "user": {
      "displayName": "윤영주",
      "photoUrl": "https://lh3.googleusercontent.com/a/default-user=s64",
      "userId": "18155336044487350880"
     },
     "user_tz": -540
    },
    "id": "zKCgEpFL_CpO",
    "outputId": "10b21eac-5c11-40b7-b9b4-2c129bf2fd50"
   },
   "outputs": [
    {
     "data": {
      "text/html": [
       "\n",
       "  <div id=\"df-2bc8718c-0daf-4521-9b6c-84242dd64f24\">\n",
       "    <div class=\"colab-df-container\">\n",
       "      <div>\n",
       "<style scoped>\n",
       "    .dataframe tbody tr th:only-of-type {\n",
       "        vertical-align: middle;\n",
       "    }\n",
       "\n",
       "    .dataframe tbody tr th {\n",
       "        vertical-align: top;\n",
       "    }\n",
       "\n",
       "    .dataframe thead tr th {\n",
       "        text-align: left;\n",
       "    }\n",
       "</style>\n",
       "<table border=\"1\" class=\"dataframe\">\n",
       "  <thead>\n",
       "    <tr>\n",
       "      <th></th>\n",
       "      <th>t-test(Y/N)</th>\n",
       "      <th>변수선택법</th>\n",
       "      <th>VIF(Y/N)</th>\n",
       "      <th colspan=\"8\" halign=\"left\">Recall</th>\n",
       "    </tr>\n",
       "    <tr>\n",
       "      <th></th>\n",
       "      <th></th>\n",
       "      <th></th>\n",
       "      <th></th>\n",
       "      <th>count</th>\n",
       "      <th>mean</th>\n",
       "      <th>std</th>\n",
       "      <th>min</th>\n",
       "      <th>25%</th>\n",
       "      <th>50%</th>\n",
       "      <th>75%</th>\n",
       "      <th>max</th>\n",
       "    </tr>\n",
       "  </thead>\n",
       "  <tbody>\n",
       "    <tr>\n",
       "      <th>0</th>\n",
       "      <td>t_Y</td>\n",
       "      <td>Lasso</td>\n",
       "      <td>v_N</td>\n",
       "      <td>192.0</td>\n",
       "      <td>0.391870</td>\n",
       "      <td>0.359677</td>\n",
       "      <td>0.0</td>\n",
       "      <td>0.02600</td>\n",
       "      <td>0.2630</td>\n",
       "      <td>0.79175</td>\n",
       "      <td>0.943</td>\n",
       "    </tr>\n",
       "    <tr>\n",
       "      <th>1</th>\n",
       "      <td>t_Y</td>\n",
       "      <td>Lasso</td>\n",
       "      <td>v_Y</td>\n",
       "      <td>144.0</td>\n",
       "      <td>0.397840</td>\n",
       "      <td>0.356821</td>\n",
       "      <td>0.0</td>\n",
       "      <td>0.03200</td>\n",
       "      <td>0.3055</td>\n",
       "      <td>0.79175</td>\n",
       "      <td>0.943</td>\n",
       "    </tr>\n",
       "    <tr>\n",
       "      <th>2</th>\n",
       "      <td>t_Y</td>\n",
       "      <td>None</td>\n",
       "      <td>v_N</td>\n",
       "      <td>192.0</td>\n",
       "      <td>0.402083</td>\n",
       "      <td>0.362082</td>\n",
       "      <td>0.0</td>\n",
       "      <td>0.02600</td>\n",
       "      <td>0.3375</td>\n",
       "      <td>0.78900</td>\n",
       "      <td>0.943</td>\n",
       "    </tr>\n",
       "    <tr>\n",
       "      <th>3</th>\n",
       "      <td>t_Y</td>\n",
       "      <td>None</td>\n",
       "      <td>v_Y</td>\n",
       "      <td>144.0</td>\n",
       "      <td>0.429194</td>\n",
       "      <td>0.369142</td>\n",
       "      <td>0.0</td>\n",
       "      <td>0.02850</td>\n",
       "      <td>0.3710</td>\n",
       "      <td>0.81925</td>\n",
       "      <td>0.943</td>\n",
       "    </tr>\n",
       "    <tr>\n",
       "      <th>4</th>\n",
       "      <td>t_Y</td>\n",
       "      <td>backward</td>\n",
       "      <td>v_N</td>\n",
       "      <td>72.0</td>\n",
       "      <td>0.354611</td>\n",
       "      <td>0.325152</td>\n",
       "      <td>0.0</td>\n",
       "      <td>0.03300</td>\n",
       "      <td>0.2805</td>\n",
       "      <td>0.65350</td>\n",
       "      <td>0.947</td>\n",
       "    </tr>\n",
       "    <tr>\n",
       "      <th>5</th>\n",
       "      <td>t_Y</td>\n",
       "      <td>backward</td>\n",
       "      <td>v_Y</td>\n",
       "      <td>48.0</td>\n",
       "      <td>0.324833</td>\n",
       "      <td>0.313090</td>\n",
       "      <td>0.0</td>\n",
       "      <td>0.02025</td>\n",
       "      <td>0.1755</td>\n",
       "      <td>0.66925</td>\n",
       "      <td>0.833</td>\n",
       "    </tr>\n",
       "    <tr>\n",
       "      <th>6</th>\n",
       "      <td>t_Y</td>\n",
       "      <td>forward</td>\n",
       "      <td>v_N</td>\n",
       "      <td>144.0</td>\n",
       "      <td>0.420875</td>\n",
       "      <td>0.356069</td>\n",
       "      <td>0.0</td>\n",
       "      <td>0.03200</td>\n",
       "      <td>0.3725</td>\n",
       "      <td>0.78900</td>\n",
       "      <td>0.974</td>\n",
       "    </tr>\n",
       "    <tr>\n",
       "      <th>7</th>\n",
       "      <td>t_Y</td>\n",
       "      <td>forward</td>\n",
       "      <td>v_Y</td>\n",
       "      <td>144.0</td>\n",
       "      <td>0.424736</td>\n",
       "      <td>0.363824</td>\n",
       "      <td>0.0</td>\n",
       "      <td>0.03200</td>\n",
       "      <td>0.4140</td>\n",
       "      <td>0.80000</td>\n",
       "      <td>0.974</td>\n",
       "    </tr>\n",
       "    <tr>\n",
       "      <th>8</th>\n",
       "      <td>t_Y</td>\n",
       "      <td>stepwise</td>\n",
       "      <td>v_N</td>\n",
       "      <td>168.0</td>\n",
       "      <td>0.420232</td>\n",
       "      <td>0.357643</td>\n",
       "      <td>0.0</td>\n",
       "      <td>0.03300</td>\n",
       "      <td>0.4000</td>\n",
       "      <td>0.80000</td>\n",
       "      <td>0.947</td>\n",
       "    </tr>\n",
       "    <tr>\n",
       "      <th>9</th>\n",
       "      <td>t_Y</td>\n",
       "      <td>stepwise</td>\n",
       "      <td>v_Y</td>\n",
       "      <td>144.0</td>\n",
       "      <td>0.422882</td>\n",
       "      <td>0.360829</td>\n",
       "      <td>0.0</td>\n",
       "      <td>0.03300</td>\n",
       "      <td>0.4185</td>\n",
       "      <td>0.80000</td>\n",
       "      <td>0.943</td>\n",
       "    </tr>\n",
       "  </tbody>\n",
       "</table>\n",
       "</div>\n",
       "      <button class=\"colab-df-convert\" onclick=\"convertToInteractive('df-2bc8718c-0daf-4521-9b6c-84242dd64f24')\"\n",
       "              title=\"Convert this dataframe to an interactive table.\"\n",
       "              style=\"display:none;\">\n",
       "        \n",
       "  <svg xmlns=\"http://www.w3.org/2000/svg\" height=\"24px\"viewBox=\"0 0 24 24\"\n",
       "       width=\"24px\">\n",
       "    <path d=\"M0 0h24v24H0V0z\" fill=\"none\"/>\n",
       "    <path d=\"M18.56 5.44l.94 2.06.94-2.06 2.06-.94-2.06-.94-.94-2.06-.94 2.06-2.06.94zm-11 1L8.5 8.5l.94-2.06 2.06-.94-2.06-.94L8.5 2.5l-.94 2.06-2.06.94zm10 10l.94 2.06.94-2.06 2.06-.94-2.06-.94-.94-2.06-.94 2.06-2.06.94z\"/><path d=\"M17.41 7.96l-1.37-1.37c-.4-.4-.92-.59-1.43-.59-.52 0-1.04.2-1.43.59L10.3 9.45l-7.72 7.72c-.78.78-.78 2.05 0 2.83L4 21.41c.39.39.9.59 1.41.59.51 0 1.02-.2 1.41-.59l7.78-7.78 2.81-2.81c.8-.78.8-2.07 0-2.86zM5.41 20L4 18.59l7.72-7.72 1.47 1.35L5.41 20z\"/>\n",
       "  </svg>\n",
       "      </button>\n",
       "      \n",
       "  <style>\n",
       "    .colab-df-container {\n",
       "      display:flex;\n",
       "      flex-wrap:wrap;\n",
       "      gap: 12px;\n",
       "    }\n",
       "\n",
       "    .colab-df-convert {\n",
       "      background-color: #E8F0FE;\n",
       "      border: none;\n",
       "      border-radius: 50%;\n",
       "      cursor: pointer;\n",
       "      display: none;\n",
       "      fill: #1967D2;\n",
       "      height: 32px;\n",
       "      padding: 0 0 0 0;\n",
       "      width: 32px;\n",
       "    }\n",
       "\n",
       "    .colab-df-convert:hover {\n",
       "      background-color: #E2EBFA;\n",
       "      box-shadow: 0px 1px 2px rgba(60, 64, 67, 0.3), 0px 1px 3px 1px rgba(60, 64, 67, 0.15);\n",
       "      fill: #174EA6;\n",
       "    }\n",
       "\n",
       "    [theme=dark] .colab-df-convert {\n",
       "      background-color: #3B4455;\n",
       "      fill: #D2E3FC;\n",
       "    }\n",
       "\n",
       "    [theme=dark] .colab-df-convert:hover {\n",
       "      background-color: #434B5C;\n",
       "      box-shadow: 0px 1px 3px 1px rgba(0, 0, 0, 0.15);\n",
       "      filter: drop-shadow(0px 1px 2px rgba(0, 0, 0, 0.3));\n",
       "      fill: #FFFFFF;\n",
       "    }\n",
       "  </style>\n",
       "\n",
       "      <script>\n",
       "        const buttonEl =\n",
       "          document.querySelector('#df-2bc8718c-0daf-4521-9b6c-84242dd64f24 button.colab-df-convert');\n",
       "        buttonEl.style.display =\n",
       "          google.colab.kernel.accessAllowed ? 'block' : 'none';\n",
       "\n",
       "        async function convertToInteractive(key) {\n",
       "          const element = document.querySelector('#df-2bc8718c-0daf-4521-9b6c-84242dd64f24');\n",
       "          const dataTable =\n",
       "            await google.colab.kernel.invokeFunction('convertToInteractive',\n",
       "                                                     [key], {});\n",
       "          if (!dataTable) return;\n",
       "\n",
       "          const docLinkHtml = 'Like what you see? Visit the ' +\n",
       "            '<a target=\"_blank\" href=https://colab.research.google.com/notebooks/data_table.ipynb>data table notebook</a>'\n",
       "            + ' to learn more about interactive tables.';\n",
       "          element.innerHTML = '';\n",
       "          dataTable['output_type'] = 'display_data';\n",
       "          await google.colab.output.renderOutput(dataTable, element);\n",
       "          const docLink = document.createElement('div');\n",
       "          docLink.innerHTML = docLinkHtml;\n",
       "          element.appendChild(docLink);\n",
       "        }\n",
       "      </script>\n",
       "    </div>\n",
       "  </div>\n",
       "  "
      ],
      "text/plain": [
       "  t-test(Y/N)     변수선택법 VIF(Y/N) Recall  ...                                 \n",
       "                                  count  ...      25%     50%      75%    max\n",
       "0         t_Y     Lasso      v_N  192.0  ...  0.02600  0.2630  0.79175  0.943\n",
       "1         t_Y     Lasso      v_Y  144.0  ...  0.03200  0.3055  0.79175  0.943\n",
       "2         t_Y      None      v_N  192.0  ...  0.02600  0.3375  0.78900  0.943\n",
       "3         t_Y      None      v_Y  144.0  ...  0.02850  0.3710  0.81925  0.943\n",
       "4         t_Y  backward      v_N   72.0  ...  0.03300  0.2805  0.65350  0.947\n",
       "5         t_Y  backward      v_Y   48.0  ...  0.02025  0.1755  0.66925  0.833\n",
       "6         t_Y   forward      v_N  144.0  ...  0.03200  0.3725  0.78900  0.974\n",
       "7         t_Y   forward      v_Y  144.0  ...  0.03200  0.4140  0.80000  0.974\n",
       "8         t_Y  stepwise      v_N  168.0  ...  0.03300  0.4000  0.80000  0.947\n",
       "9         t_Y  stepwise      v_Y  144.0  ...  0.03300  0.4185  0.80000  0.943\n",
       "\n",
       "[10 rows x 11 columns]"
      ]
     },
     "execution_count": 15,
     "metadata": {},
     "output_type": "execute_result"
    }
   ],
   "source": [
    "df.groupby(['t-test(Y/N)', '변수선택법', 'VIF(Y/N)'])[['Recall']].describe().reset_index()"
   ]
  },
  {
   "cell_type": "code",
   "execution_count": null,
   "metadata": {
    "colab": {
     "base_uri": "https://localhost:8080/",
     "height": 866
    },
    "executionInfo": {
     "elapsed": 6,
     "status": "ok",
     "timestamp": 1639966836951,
     "user": {
      "displayName": "윤영주",
      "photoUrl": "https://lh3.googleusercontent.com/a/default-user=s64",
      "userId": "18155336044487350880"
     },
     "user_tz": -540
    },
    "id": "HXvm8CHto6J3",
    "outputId": "3aedd8f9-646b-4aa0-ae71-c3a3b32e943f"
   },
   "outputs": [
    {
     "data": {
      "text/html": [
       "\n",
       "  <div id=\"df-b8acb80a-52e2-4f74-a9a1-31656fb479af\">\n",
       "    <div class=\"colab-df-container\">\n",
       "      <div>\n",
       "<style scoped>\n",
       "    .dataframe tbody tr th:only-of-type {\n",
       "        vertical-align: middle;\n",
       "    }\n",
       "\n",
       "    .dataframe tbody tr th {\n",
       "        vertical-align: top;\n",
       "    }\n",
       "\n",
       "    .dataframe thead th {\n",
       "        text-align: right;\n",
       "    }\n",
       "</style>\n",
       "<table border=\"1\" class=\"dataframe\">\n",
       "  <thead>\n",
       "    <tr style=\"text-align: right;\">\n",
       "      <th></th>\n",
       "      <th>데이터프레임</th>\n",
       "      <th>train_test_split(Y/R)</th>\n",
       "      <th>t-test(Y/N)</th>\n",
       "      <th>변수선택법</th>\n",
       "      <th>VIF(Y/N)</th>\n",
       "      <th>sampling 방식</th>\n",
       "      <th>적용모델</th>\n",
       "      <th>선택된 변수</th>\n",
       "      <th>혼동행렬</th>\n",
       "      <th>Accuracy</th>\n",
       "      <th>Precision</th>\n",
       "      <th>Recall</th>\n",
       "      <th>F1-score</th>\n",
       "      <th>hyperparameter 변경</th>\n",
       "    </tr>\n",
       "  </thead>\n",
       "  <tbody>\n",
       "    <tr>\n",
       "      <th>0</th>\n",
       "      <td>small_business_df</td>\n",
       "      <td>R</td>\n",
       "      <td>t_Y</td>\n",
       "      <td>Lasso</td>\n",
       "      <td>v_N</td>\n",
       "      <td>SMOTE</td>\n",
       "      <td>lg</td>\n",
       "      <td>['자기자본증가율', '종업원1인당 인건비증가율', '총자본순이익률', '자기자본순...</td>\n",
       "      <td>[[1786  366]\\n [   3   32]]</td>\n",
       "      <td>0.831</td>\n",
       "      <td>0.080</td>\n",
       "      <td>0.914</td>\n",
       "      <td>0.148</td>\n",
       "      <td>none</td>\n",
       "    </tr>\n",
       "    <tr>\n",
       "      <th>1</th>\n",
       "      <td>small_business_df</td>\n",
       "      <td>R</td>\n",
       "      <td>t_Y</td>\n",
       "      <td>forward</td>\n",
       "      <td>v_N</td>\n",
       "      <td>ROSE</td>\n",
       "      <td>lg</td>\n",
       "      <td>['총자본사업이익률', '자기자본구성비율', '종업원수', '단기차입금 대 총차입금...</td>\n",
       "      <td>[[1778  374]\\n [   3   32]]</td>\n",
       "      <td>0.828</td>\n",
       "      <td>0.079</td>\n",
       "      <td>0.914</td>\n",
       "      <td>0.145</td>\n",
       "      <td>none</td>\n",
       "    </tr>\n",
       "    <tr>\n",
       "      <th>2</th>\n",
       "      <td>small_business_df</td>\n",
       "      <td>R</td>\n",
       "      <td>t_Y</td>\n",
       "      <td>Lasso</td>\n",
       "      <td>v_Y</td>\n",
       "      <td>RUSE</td>\n",
       "      <td>rf</td>\n",
       "      <td>['자기자본증가율', '종업원1인당 인건비증가율', '총자본순이익률', '자기자본순...</td>\n",
       "      <td>[[1748  404]\\n [   3   32]]</td>\n",
       "      <td>0.814</td>\n",
       "      <td>0.073</td>\n",
       "      <td>0.914</td>\n",
       "      <td>0.136</td>\n",
       "      <td>none</td>\n",
       "    </tr>\n",
       "    <tr>\n",
       "      <th>3</th>\n",
       "      <td>small_business_df</td>\n",
       "      <td>R</td>\n",
       "      <td>t_Y</td>\n",
       "      <td>forward</td>\n",
       "      <td>v_N</td>\n",
       "      <td>RUSE</td>\n",
       "      <td>lg</td>\n",
       "      <td>['총자본사업이익률', '자기자본구성비율', '종업원수', '단기차입금 대 총차입금...</td>\n",
       "      <td>[[1819  333]\\n [   4   31]]</td>\n",
       "      <td>0.846</td>\n",
       "      <td>0.085</td>\n",
       "      <td>0.886</td>\n",
       "      <td>0.155</td>\n",
       "      <td>none</td>\n",
       "    </tr>\n",
       "    <tr>\n",
       "      <th>4</th>\n",
       "      <td>small_business_df</td>\n",
       "      <td>R</td>\n",
       "      <td>t_Y</td>\n",
       "      <td>forward</td>\n",
       "      <td>v_N</td>\n",
       "      <td>SMOTE</td>\n",
       "      <td>lg</td>\n",
       "      <td>['총자본사업이익률', '자기자본구성비율', '종업원수', '단기차입금 대 총차입금...</td>\n",
       "      <td>[[1802  350]\\n [   4   31]]</td>\n",
       "      <td>0.838</td>\n",
       "      <td>0.081</td>\n",
       "      <td>0.886</td>\n",
       "      <td>0.149</td>\n",
       "      <td>none</td>\n",
       "    </tr>\n",
       "    <tr>\n",
       "      <th>...</th>\n",
       "      <td>...</td>\n",
       "      <td>...</td>\n",
       "      <td>...</td>\n",
       "      <td>...</td>\n",
       "      <td>...</td>\n",
       "      <td>...</td>\n",
       "      <td>...</td>\n",
       "      <td>...</td>\n",
       "      <td>...</td>\n",
       "      <td>...</td>\n",
       "      <td>...</td>\n",
       "      <td>...</td>\n",
       "      <td>...</td>\n",
       "      <td>...</td>\n",
       "    </tr>\n",
       "    <tr>\n",
       "      <th>87</th>\n",
       "      <td>binning_final_df</td>\n",
       "      <td>R</td>\n",
       "      <td>t_Y</td>\n",
       "      <td>Lasso</td>\n",
       "      <td>v_N</td>\n",
       "      <td>RUSE</td>\n",
       "      <td>rf</td>\n",
       "      <td>['종업원1인당 부가가치증가율', '비유동자산증가율', '종업원1인당 인건비증가율'...</td>\n",
       "      <td>[[2651  593]\\n [   8   30]]</td>\n",
       "      <td>0.817</td>\n",
       "      <td>0.048</td>\n",
       "      <td>0.789</td>\n",
       "      <td>0.091</td>\n",
       "      <td>none</td>\n",
       "    </tr>\n",
       "    <tr>\n",
       "      <th>88</th>\n",
       "      <td>binning_final_df</td>\n",
       "      <td>Y</td>\n",
       "      <td>t_Y</td>\n",
       "      <td>backward</td>\n",
       "      <td>v_N</td>\n",
       "      <td>ROSE</td>\n",
       "      <td>lg</td>\n",
       "      <td>['비유동자산증가율', '총자본영업이익률', '경영자본순이익률', '자기자본배당률'...</td>\n",
       "      <td>[[2641  596]\\n [   8   30]]</td>\n",
       "      <td>0.816</td>\n",
       "      <td>0.048</td>\n",
       "      <td>0.789</td>\n",
       "      <td>0.090</td>\n",
       "      <td>none</td>\n",
       "    </tr>\n",
       "    <tr>\n",
       "      <th>89</th>\n",
       "      <td>basic_final_df</td>\n",
       "      <td>Y</td>\n",
       "      <td>t_Y</td>\n",
       "      <td>forward</td>\n",
       "      <td>v_N</td>\n",
       "      <td>RUSE</td>\n",
       "      <td>rf</td>\n",
       "      <td>['총자본사업이익률', '자기자본구성비율', '자본금회전률', 'CASH FLOW ...</td>\n",
       "      <td>[[2632  605]\\n [   8   30]]</td>\n",
       "      <td>0.813</td>\n",
       "      <td>0.047</td>\n",
       "      <td>0.789</td>\n",
       "      <td>0.089</td>\n",
       "      <td>none</td>\n",
       "    </tr>\n",
       "    <tr>\n",
       "      <th>90</th>\n",
       "      <td>basic_final_df</td>\n",
       "      <td>R</td>\n",
       "      <td>t_Y</td>\n",
       "      <td>forward</td>\n",
       "      <td>v_N</td>\n",
       "      <td>SMOTE</td>\n",
       "      <td>lg</td>\n",
       "      <td>['총자본사업이익률', '자기자본구성비율', '순운전자본회전률', '경영자본회전률'...</td>\n",
       "      <td>[[2635  609]\\n [   8   30]]</td>\n",
       "      <td>0.812</td>\n",
       "      <td>0.047</td>\n",
       "      <td>0.789</td>\n",
       "      <td>0.089</td>\n",
       "      <td>none</td>\n",
       "    </tr>\n",
       "    <tr>\n",
       "      <th>91</th>\n",
       "      <td>basic_final_df</td>\n",
       "      <td>R</td>\n",
       "      <td>t_Y</td>\n",
       "      <td>None</td>\n",
       "      <td>v_N</td>\n",
       "      <td>RUSE</td>\n",
       "      <td>pr</td>\n",
       "      <td>['자기자본증가율', '종업원1인당 인건비증가율', '총자본사업이익률', '총자본영...</td>\n",
       "      <td>[[2623  621]\\n [   8   30]]</td>\n",
       "      <td>0.808</td>\n",
       "      <td>0.046</td>\n",
       "      <td>0.789</td>\n",
       "      <td>0.087</td>\n",
       "      <td>none</td>\n",
       "    </tr>\n",
       "  </tbody>\n",
       "</table>\n",
       "<p>92 rows × 14 columns</p>\n",
       "</div>\n",
       "      <button class=\"colab-df-convert\" onclick=\"convertToInteractive('df-b8acb80a-52e2-4f74-a9a1-31656fb479af')\"\n",
       "              title=\"Convert this dataframe to an interactive table.\"\n",
       "              style=\"display:none;\">\n",
       "        \n",
       "  <svg xmlns=\"http://www.w3.org/2000/svg\" height=\"24px\"viewBox=\"0 0 24 24\"\n",
       "       width=\"24px\">\n",
       "    <path d=\"M0 0h24v24H0V0z\" fill=\"none\"/>\n",
       "    <path d=\"M18.56 5.44l.94 2.06.94-2.06 2.06-.94-2.06-.94-.94-2.06-.94 2.06-2.06.94zm-11 1L8.5 8.5l.94-2.06 2.06-.94-2.06-.94L8.5 2.5l-.94 2.06-2.06.94zm10 10l.94 2.06.94-2.06 2.06-.94-2.06-.94-.94-2.06-.94 2.06-2.06.94z\"/><path d=\"M17.41 7.96l-1.37-1.37c-.4-.4-.92-.59-1.43-.59-.52 0-1.04.2-1.43.59L10.3 9.45l-7.72 7.72c-.78.78-.78 2.05 0 2.83L4 21.41c.39.39.9.59 1.41.59.51 0 1.02-.2 1.41-.59l7.78-7.78 2.81-2.81c.8-.78.8-2.07 0-2.86zM5.41 20L4 18.59l7.72-7.72 1.47 1.35L5.41 20z\"/>\n",
       "  </svg>\n",
       "      </button>\n",
       "      \n",
       "  <style>\n",
       "    .colab-df-container {\n",
       "      display:flex;\n",
       "      flex-wrap:wrap;\n",
       "      gap: 12px;\n",
       "    }\n",
       "\n",
       "    .colab-df-convert {\n",
       "      background-color: #E8F0FE;\n",
       "      border: none;\n",
       "      border-radius: 50%;\n",
       "      cursor: pointer;\n",
       "      display: none;\n",
       "      fill: #1967D2;\n",
       "      height: 32px;\n",
       "      padding: 0 0 0 0;\n",
       "      width: 32px;\n",
       "    }\n",
       "\n",
       "    .colab-df-convert:hover {\n",
       "      background-color: #E2EBFA;\n",
       "      box-shadow: 0px 1px 2px rgba(60, 64, 67, 0.3), 0px 1px 3px 1px rgba(60, 64, 67, 0.15);\n",
       "      fill: #174EA6;\n",
       "    }\n",
       "\n",
       "    [theme=dark] .colab-df-convert {\n",
       "      background-color: #3B4455;\n",
       "      fill: #D2E3FC;\n",
       "    }\n",
       "\n",
       "    [theme=dark] .colab-df-convert:hover {\n",
       "      background-color: #434B5C;\n",
       "      box-shadow: 0px 1px 3px 1px rgba(0, 0, 0, 0.15);\n",
       "      filter: drop-shadow(0px 1px 2px rgba(0, 0, 0, 0.3));\n",
       "      fill: #FFFFFF;\n",
       "    }\n",
       "  </style>\n",
       "\n",
       "      <script>\n",
       "        const buttonEl =\n",
       "          document.querySelector('#df-b8acb80a-52e2-4f74-a9a1-31656fb479af button.colab-df-convert');\n",
       "        buttonEl.style.display =\n",
       "          google.colab.kernel.accessAllowed ? 'block' : 'none';\n",
       "\n",
       "        async function convertToInteractive(key) {\n",
       "          const element = document.querySelector('#df-b8acb80a-52e2-4f74-a9a1-31656fb479af');\n",
       "          const dataTable =\n",
       "            await google.colab.kernel.invokeFunction('convertToInteractive',\n",
       "                                                     [key], {});\n",
       "          if (!dataTable) return;\n",
       "\n",
       "          const docLinkHtml = 'Like what you see? Visit the ' +\n",
       "            '<a target=\"_blank\" href=https://colab.research.google.com/notebooks/data_table.ipynb>data table notebook</a>'\n",
       "            + ' to learn more about interactive tables.';\n",
       "          element.innerHTML = '';\n",
       "          dataTable['output_type'] = 'display_data';\n",
       "          await google.colab.output.renderOutput(dataTable, element);\n",
       "          const docLink = document.createElement('div');\n",
       "          docLink.innerHTML = docLinkHtml;\n",
       "          element.appendChild(docLink);\n",
       "        }\n",
       "      </script>\n",
       "    </div>\n",
       "  </div>\n",
       "  "
      ],
      "text/plain": [
       "               데이터프레임 train_test_split(Y/R)  ... F1-score hyperparameter 변경\n",
       "0   small_business_df                     R  ...    0.148              none\n",
       "1   small_business_df                     R  ...    0.145              none\n",
       "2   small_business_df                     R  ...    0.136              none\n",
       "3   small_business_df                     R  ...    0.155              none\n",
       "4   small_business_df                     R  ...    0.149              none\n",
       "..                ...                   ...  ...      ...               ...\n",
       "87   binning_final_df                     R  ...    0.091              none\n",
       "88   binning_final_df                     Y  ...    0.090              none\n",
       "89     basic_final_df                     Y  ...    0.089              none\n",
       "90     basic_final_df                     R  ...    0.089              none\n",
       "91     basic_final_df                     R  ...    0.087              none\n",
       "\n",
       "[92 rows x 14 columns]"
      ]
     },
     "execution_count": 19,
     "metadata": {},
     "output_type": "execute_result"
    }
   ],
   "source": [
    "target = pd.read_csv('target_92.csv')"
   ]
  },
  {
   "cell_type": "code",
   "execution_count": null,
   "metadata": {
    "id": "4jDngtJctsMQ"
   },
   "outputs": [],
   "source": [
    "all_df = pd.read_csv('result_all.csv')"
   ]
  },
  {
   "cell_type": "code",
   "execution_count": null,
   "metadata": {
    "colab": {
     "base_uri": "https://localhost:8080/"
    },
    "executionInfo": {
     "elapsed": 20,
     "status": "ok",
     "timestamp": 1639973894064,
     "user": {
      "displayName": "윤영주",
      "photoUrl": "https://lh3.googleusercontent.com/a/default-user=s64",
      "userId": "18155336044487350880"
     },
     "user_tz": -540
    },
    "id": "dddVHFVntsKR",
    "outputId": "20d8cd88-77c7-4fc3-814b-ee7a00cf450a"
   },
   "outputs": [
    {
     "name": "stderr",
     "output_type": "stream",
     "text": [
      "/usr/local/lib/python3.7/dist-packages/ipykernel_launcher.py:4: SettingWithCopyWarning: \n",
      "A value is trying to be set on a copy of a slice from a DataFrame\n",
      "\n",
      "See the caveats in the documentation: https://pandas.pydata.org/pandas-docs/stable/user_guide/indexing.html#returning-a-view-versus-a-copy\n",
      "  after removing the cwd from sys.path.\n",
      "/usr/local/lib/python3.7/dist-packages/pandas/core/frame.py:4174: SettingWithCopyWarning: \n",
      "A value is trying to be set on a copy of a slice from a DataFrame\n",
      "\n",
      "See the caveats in the documentation: https://pandas.pydata.org/pandas-docs/stable/user_guide/indexing.html#returning-a-view-versus-a-copy\n",
      "  errors=errors,\n"
     ]
    }
   ],
   "source": [
    "all_df.loc[all_df['sampling 방식']=='SMOTE', 'sampling 방식'] = 'ROSE'\n",
    "all_df = all_df[all_df['sampling 방식']!= 'None']\n",
    "\n",
    "all_df.sort_values(by=['데이터프레임','train_test_split(Y/R)', 'sampling 방식'], ascending=False, inplace=True, ignore_index=True)\n",
    "all_df.drop(['t-test(Y/N)','변수선택법','VIF(Y/N)','선택된 변수'], axis=1, inplace=True)"
   ]
  },
  {
   "cell_type": "code",
   "execution_count": null,
   "metadata": {
    "colab": {
     "base_uri": "https://localhost:8080/",
     "height": 551
    },
    "executionInfo": {
     "elapsed": 20,
     "status": "ok",
     "timestamp": 1639973899350,
     "user": {
      "displayName": "윤영주",
      "photoUrl": "https://lh3.googleusercontent.com/a/default-user=s64",
      "userId": "18155336044487350880"
     },
     "user_tz": -540
    },
    "id": "EcBG1oKxucoq",
    "outputId": "8037904f-7a35-4800-ad4e-abc396a85f9a"
   },
   "outputs": [
    {
     "data": {
      "text/html": [
       "\n",
       "  <div id=\"df-fc1c82b2-b2e1-43a1-9039-bd2906fee275\">\n",
       "    <div class=\"colab-df-container\">\n",
       "      <div>\n",
       "<style scoped>\n",
       "    .dataframe tbody tr th:only-of-type {\n",
       "        vertical-align: middle;\n",
       "    }\n",
       "\n",
       "    .dataframe tbody tr th {\n",
       "        vertical-align: top;\n",
       "    }\n",
       "\n",
       "    .dataframe thead th {\n",
       "        text-align: right;\n",
       "    }\n",
       "</style>\n",
       "<table border=\"1\" class=\"dataframe\">\n",
       "  <thead>\n",
       "    <tr style=\"text-align: right;\">\n",
       "      <th></th>\n",
       "      <th>데이터프레임</th>\n",
       "      <th>train_test_split(Y/R)</th>\n",
       "      <th>sampling 방식</th>\n",
       "      <th>적용모델</th>\n",
       "      <th>혼동행렬</th>\n",
       "      <th>Accuracy</th>\n",
       "      <th>Precision</th>\n",
       "      <th>Recall</th>\n",
       "      <th>F1-score</th>\n",
       "      <th>hyperparameter 변경</th>\n",
       "    </tr>\n",
       "  </thead>\n",
       "  <tbody>\n",
       "    <tr>\n",
       "      <th>54</th>\n",
       "      <td>small_business_df</td>\n",
       "      <td>Y</td>\n",
       "      <td>RUSE</td>\n",
       "      <td>pr</td>\n",
       "      <td>[[1231  906]\\n [   2   33]]</td>\n",
       "      <td>0.582</td>\n",
       "      <td>0.035</td>\n",
       "      <td>0.943</td>\n",
       "      <td>0.068</td>\n",
       "      <td>none</td>\n",
       "    </tr>\n",
       "    <tr>\n",
       "      <th>145</th>\n",
       "      <td>small_business_df</td>\n",
       "      <td>Y</td>\n",
       "      <td>ROSE</td>\n",
       "      <td>pr</td>\n",
       "      <td>[[1440  697]\\n [   2   33]]</td>\n",
       "      <td>0.678</td>\n",
       "      <td>0.045</td>\n",
       "      <td>0.943</td>\n",
       "      <td>0.086</td>\n",
       "      <td>none</td>\n",
       "    </tr>\n",
       "    <tr>\n",
       "      <th>213</th>\n",
       "      <td>small_business_df</td>\n",
       "      <td>R</td>\n",
       "      <td>RUSE</td>\n",
       "      <td>svm</td>\n",
       "      <td>[[ 927 1225]\\n [   2   33]]</td>\n",
       "      <td>0.439</td>\n",
       "      <td>0.026</td>\n",
       "      <td>0.943</td>\n",
       "      <td>0.051</td>\n",
       "      <td>none</td>\n",
       "    </tr>\n",
       "    <tr>\n",
       "      <th>344</th>\n",
       "      <td>small_business_df</td>\n",
       "      <td>R</td>\n",
       "      <td>ROSE</td>\n",
       "      <td>sgd</td>\n",
       "      <td>[[1513  639]\\n [   1   34]]</td>\n",
       "      <td>0.707</td>\n",
       "      <td>0.051</td>\n",
       "      <td>0.971</td>\n",
       "      <td>0.096</td>\n",
       "      <td>none</td>\n",
       "    </tr>\n",
       "    <tr>\n",
       "      <th>431</th>\n",
       "      <td>diff_df</td>\n",
       "      <td>Y</td>\n",
       "      <td>RUSE</td>\n",
       "      <td>dt</td>\n",
       "      <td>[[2195  854]\\n [   3   34]]</td>\n",
       "      <td>0.722</td>\n",
       "      <td>0.038</td>\n",
       "      <td>0.919</td>\n",
       "      <td>0.074</td>\n",
       "      <td>none</td>\n",
       "    </tr>\n",
       "    <tr>\n",
       "      <th>498</th>\n",
       "      <td>diff_df</td>\n",
       "      <td>Y</td>\n",
       "      <td>ROSE</td>\n",
       "      <td>sgd</td>\n",
       "      <td>[[ 391 2658]\\n [   2   35]]</td>\n",
       "      <td>0.138</td>\n",
       "      <td>0.013</td>\n",
       "      <td>0.946</td>\n",
       "      <td>0.026</td>\n",
       "      <td>none</td>\n",
       "    </tr>\n",
       "    <tr>\n",
       "      <th>664</th>\n",
       "      <td>diff_df</td>\n",
       "      <td>R</td>\n",
       "      <td>RUSE</td>\n",
       "      <td>rf</td>\n",
       "      <td>[[2214  643]\\n [   2   28]]</td>\n",
       "      <td>0.777</td>\n",
       "      <td>0.042</td>\n",
       "      <td>0.933</td>\n",
       "      <td>0.080</td>\n",
       "      <td>none</td>\n",
       "    </tr>\n",
       "    <tr>\n",
       "      <th>708</th>\n",
       "      <td>diff_df</td>\n",
       "      <td>R</td>\n",
       "      <td>ROSE</td>\n",
       "      <td>sgd</td>\n",
       "      <td>[[ 362 2495]\\n [   2   28]]</td>\n",
       "      <td>0.135</td>\n",
       "      <td>0.011</td>\n",
       "      <td>0.933</td>\n",
       "      <td>0.022</td>\n",
       "      <td>none</td>\n",
       "    </tr>\n",
       "    <tr>\n",
       "      <th>869</th>\n",
       "      <td>binning_final_df</td>\n",
       "      <td>Y</td>\n",
       "      <td>RUSE</td>\n",
       "      <td>sgd</td>\n",
       "      <td>[[ 154 3083]\\n [   0   38]]</td>\n",
       "      <td>0.059</td>\n",
       "      <td>0.012</td>\n",
       "      <td>1.000</td>\n",
       "      <td>0.024</td>\n",
       "      <td>none</td>\n",
       "    </tr>\n",
       "    <tr>\n",
       "      <th>922</th>\n",
       "      <td>binning_final_df</td>\n",
       "      <td>Y</td>\n",
       "      <td>ROSE</td>\n",
       "      <td>pr</td>\n",
       "      <td>[[2212 1025]\\n [   2   36]]</td>\n",
       "      <td>0.686</td>\n",
       "      <td>0.034</td>\n",
       "      <td>0.947</td>\n",
       "      <td>0.066</td>\n",
       "      <td>none</td>\n",
       "    </tr>\n",
       "    <tr>\n",
       "      <th>967</th>\n",
       "      <td>binning_final_df</td>\n",
       "      <td>R</td>\n",
       "      <td>RUSE</td>\n",
       "      <td>sgd</td>\n",
       "      <td>[[1225 2019]\\n [   0   38]]</td>\n",
       "      <td>0.385</td>\n",
       "      <td>0.018</td>\n",
       "      <td>1.000</td>\n",
       "      <td>0.036</td>\n",
       "      <td>none</td>\n",
       "    </tr>\n",
       "    <tr>\n",
       "      <th>985</th>\n",
       "      <td>binning_final_df</td>\n",
       "      <td>R</td>\n",
       "      <td>ROSE</td>\n",
       "      <td>pr</td>\n",
       "      <td>[[2178 1066]\\n [   4   34]]</td>\n",
       "      <td>0.674</td>\n",
       "      <td>0.031</td>\n",
       "      <td>0.895</td>\n",
       "      <td>0.060</td>\n",
       "      <td>none</td>\n",
       "    </tr>\n",
       "    <tr>\n",
       "      <th>1081</th>\n",
       "      <td>basic_final_df</td>\n",
       "      <td>Y</td>\n",
       "      <td>RUSE</td>\n",
       "      <td>svm</td>\n",
       "      <td>[[1442 1795]\\n [   1   37]]</td>\n",
       "      <td>0.452</td>\n",
       "      <td>0.020</td>\n",
       "      <td>0.974</td>\n",
       "      <td>0.040</td>\n",
       "      <td>none</td>\n",
       "    </tr>\n",
       "    <tr>\n",
       "      <th>1174</th>\n",
       "      <td>basic_final_df</td>\n",
       "      <td>Y</td>\n",
       "      <td>ROSE</td>\n",
       "      <td>pr</td>\n",
       "      <td>[[2487  750]\\n [   3   35]]</td>\n",
       "      <td>0.770</td>\n",
       "      <td>0.045</td>\n",
       "      <td>0.921</td>\n",
       "      <td>0.085</td>\n",
       "      <td>none</td>\n",
       "    </tr>\n",
       "    <tr>\n",
       "      <th>1291</th>\n",
       "      <td>basic_final_df</td>\n",
       "      <td>R</td>\n",
       "      <td>RUSE</td>\n",
       "      <td>svm</td>\n",
       "      <td>[[1270 1974]\\n [   2   36]]</td>\n",
       "      <td>0.398</td>\n",
       "      <td>0.018</td>\n",
       "      <td>0.947</td>\n",
       "      <td>0.035</td>\n",
       "      <td>none</td>\n",
       "    </tr>\n",
       "    <tr>\n",
       "      <th>1429</th>\n",
       "      <td>basic_final_df</td>\n",
       "      <td>R</td>\n",
       "      <td>ROSE</td>\n",
       "      <td>sgd</td>\n",
       "      <td>[[1442 1802]\\n [   2   36]]</td>\n",
       "      <td>0.450</td>\n",
       "      <td>0.020</td>\n",
       "      <td>0.947</td>\n",
       "      <td>0.038</td>\n",
       "      <td>none</td>\n",
       "    </tr>\n",
       "  </tbody>\n",
       "</table>\n",
       "</div>\n",
       "      <button class=\"colab-df-convert\" onclick=\"convertToInteractive('df-fc1c82b2-b2e1-43a1-9039-bd2906fee275')\"\n",
       "              title=\"Convert this dataframe to an interactive table.\"\n",
       "              style=\"display:none;\">\n",
       "        \n",
       "  <svg xmlns=\"http://www.w3.org/2000/svg\" height=\"24px\"viewBox=\"0 0 24 24\"\n",
       "       width=\"24px\">\n",
       "    <path d=\"M0 0h24v24H0V0z\" fill=\"none\"/>\n",
       "    <path d=\"M18.56 5.44l.94 2.06.94-2.06 2.06-.94-2.06-.94-.94-2.06-.94 2.06-2.06.94zm-11 1L8.5 8.5l.94-2.06 2.06-.94-2.06-.94L8.5 2.5l-.94 2.06-2.06.94zm10 10l.94 2.06.94-2.06 2.06-.94-2.06-.94-.94-2.06-.94 2.06-2.06.94z\"/><path d=\"M17.41 7.96l-1.37-1.37c-.4-.4-.92-.59-1.43-.59-.52 0-1.04.2-1.43.59L10.3 9.45l-7.72 7.72c-.78.78-.78 2.05 0 2.83L4 21.41c.39.39.9.59 1.41.59.51 0 1.02-.2 1.41-.59l7.78-7.78 2.81-2.81c.8-.78.8-2.07 0-2.86zM5.41 20L4 18.59l7.72-7.72 1.47 1.35L5.41 20z\"/>\n",
       "  </svg>\n",
       "      </button>\n",
       "      \n",
       "  <style>\n",
       "    .colab-df-container {\n",
       "      display:flex;\n",
       "      flex-wrap:wrap;\n",
       "      gap: 12px;\n",
       "    }\n",
       "\n",
       "    .colab-df-convert {\n",
       "      background-color: #E8F0FE;\n",
       "      border: none;\n",
       "      border-radius: 50%;\n",
       "      cursor: pointer;\n",
       "      display: none;\n",
       "      fill: #1967D2;\n",
       "      height: 32px;\n",
       "      padding: 0 0 0 0;\n",
       "      width: 32px;\n",
       "    }\n",
       "\n",
       "    .colab-df-convert:hover {\n",
       "      background-color: #E2EBFA;\n",
       "      box-shadow: 0px 1px 2px rgba(60, 64, 67, 0.3), 0px 1px 3px 1px rgba(60, 64, 67, 0.15);\n",
       "      fill: #174EA6;\n",
       "    }\n",
       "\n",
       "    [theme=dark] .colab-df-convert {\n",
       "      background-color: #3B4455;\n",
       "      fill: #D2E3FC;\n",
       "    }\n",
       "\n",
       "    [theme=dark] .colab-df-convert:hover {\n",
       "      background-color: #434B5C;\n",
       "      box-shadow: 0px 1px 3px 1px rgba(0, 0, 0, 0.15);\n",
       "      filter: drop-shadow(0px 1px 2px rgba(0, 0, 0, 0.3));\n",
       "      fill: #FFFFFF;\n",
       "    }\n",
       "  </style>\n",
       "\n",
       "      <script>\n",
       "        const buttonEl =\n",
       "          document.querySelector('#df-fc1c82b2-b2e1-43a1-9039-bd2906fee275 button.colab-df-convert');\n",
       "        buttonEl.style.display =\n",
       "          google.colab.kernel.accessAllowed ? 'block' : 'none';\n",
       "\n",
       "        async function convertToInteractive(key) {\n",
       "          const element = document.querySelector('#df-fc1c82b2-b2e1-43a1-9039-bd2906fee275');\n",
       "          const dataTable =\n",
       "            await google.colab.kernel.invokeFunction('convertToInteractive',\n",
       "                                                     [key], {});\n",
       "          if (!dataTable) return;\n",
       "\n",
       "          const docLinkHtml = 'Like what you see? Visit the ' +\n",
       "            '<a target=\"_blank\" href=https://colab.research.google.com/notebooks/data_table.ipynb>data table notebook</a>'\n",
       "            + ' to learn more about interactive tables.';\n",
       "          element.innerHTML = '';\n",
       "          dataTable['output_type'] = 'display_data';\n",
       "          await google.colab.output.renderOutput(dataTable, element);\n",
       "          const docLink = document.createElement('div');\n",
       "          docLink.innerHTML = docLinkHtml;\n",
       "          element.appendChild(docLink);\n",
       "        }\n",
       "      </script>\n",
       "    </div>\n",
       "  </div>\n",
       "  "
      ],
      "text/plain": [
       "                 데이터프레임 train_test_split(Y/R)  ... F1-score hyperparameter 변경\n",
       "54    small_business_df                     Y  ...    0.068              none\n",
       "145   small_business_df                     Y  ...    0.086              none\n",
       "213   small_business_df                     R  ...    0.051              none\n",
       "344   small_business_df                     R  ...    0.096              none\n",
       "431             diff_df                     Y  ...    0.074              none\n",
       "498             diff_df                     Y  ...    0.026              none\n",
       "664             diff_df                     R  ...    0.080              none\n",
       "708             diff_df                     R  ...    0.022              none\n",
       "869    binning_final_df                     Y  ...    0.024              none\n",
       "922    binning_final_df                     Y  ...    0.066              none\n",
       "967    binning_final_df                     R  ...    0.036              none\n",
       "985    binning_final_df                     R  ...    0.060              none\n",
       "1081     basic_final_df                     Y  ...    0.040              none\n",
       "1174     basic_final_df                     Y  ...    0.085              none\n",
       "1291     basic_final_df                     R  ...    0.035              none\n",
       "1429     basic_final_df                     R  ...    0.038              none\n",
       "\n",
       "[16 rows x 10 columns]"
      ]
     },
     "execution_count": 108,
     "metadata": {},
     "output_type": "execute_result"
    }
   ],
   "source": [
    "by_recall = all_df\n",
    "by_recall.sort_values(by=['데이터프레임','train_test_split(Y/R)', 'sampling 방식', 'Recall'], ascending=False, inplace=True)\n",
    "by_recall.drop_duplicates(subset =['데이터프레임', 'train_test_split(Y/R)', 'sampling 방식'], keep='first')"
   ]
  },
  {
   "cell_type": "code",
   "execution_count": null,
   "metadata": {
    "colab": {
     "base_uri": "https://localhost:8080/",
     "height": 551
    },
    "executionInfo": {
     "elapsed": 10,
     "status": "ok",
     "timestamp": 1639973900045,
     "user": {
      "displayName": "윤영주",
      "photoUrl": "https://lh3.googleusercontent.com/a/default-user=s64",
      "userId": "18155336044487350880"
     },
     "user_tz": -540
    },
    "id": "9m0b7MxkCL_L",
    "outputId": "bfa7358f-2bee-4c42-9f2d-42ad9a26af51"
   },
   "outputs": [
    {
     "data": {
      "text/html": [
       "\n",
       "  <div id=\"df-a45ace79-3026-418e-b651-462af7cee598\">\n",
       "    <div class=\"colab-df-container\">\n",
       "      <div>\n",
       "<style scoped>\n",
       "    .dataframe tbody tr th:only-of-type {\n",
       "        vertical-align: middle;\n",
       "    }\n",
       "\n",
       "    .dataframe tbody tr th {\n",
       "        vertical-align: top;\n",
       "    }\n",
       "\n",
       "    .dataframe thead th {\n",
       "        text-align: right;\n",
       "    }\n",
       "</style>\n",
       "<table border=\"1\" class=\"dataframe\">\n",
       "  <thead>\n",
       "    <tr style=\"text-align: right;\">\n",
       "      <th></th>\n",
       "      <th>데이터프레임</th>\n",
       "      <th>train_test_split(Y/R)</th>\n",
       "      <th>sampling 방식</th>\n",
       "      <th>적용모델</th>\n",
       "      <th>혼동행렬</th>\n",
       "      <th>Accuracy</th>\n",
       "      <th>Precision</th>\n",
       "      <th>Recall</th>\n",
       "      <th>F1-score</th>\n",
       "      <th>hyperparameter 변경</th>\n",
       "    </tr>\n",
       "  </thead>\n",
       "  <tbody>\n",
       "    <tr>\n",
       "      <th>29</th>\n",
       "      <td>small_business_df</td>\n",
       "      <td>Y</td>\n",
       "      <td>RUSE</td>\n",
       "      <td>sgd</td>\n",
       "      <td>[[1963  174]\\n [  24   11]]</td>\n",
       "      <td>0.909</td>\n",
       "      <td>0.059</td>\n",
       "      <td>0.314</td>\n",
       "      <td>0.100</td>\n",
       "      <td>none</td>\n",
       "    </tr>\n",
       "    <tr>\n",
       "      <th>76</th>\n",
       "      <td>small_business_df</td>\n",
       "      <td>Y</td>\n",
       "      <td>ROSE</td>\n",
       "      <td>rf</td>\n",
       "      <td>[[2134    3]\\n [  35    0]]</td>\n",
       "      <td>0.983</td>\n",
       "      <td>0.000</td>\n",
       "      <td>0.000</td>\n",
       "      <td>0.000</td>\n",
       "      <td>none</td>\n",
       "    </tr>\n",
       "    <tr>\n",
       "      <th>260</th>\n",
       "      <td>small_business_df</td>\n",
       "      <td>R</td>\n",
       "      <td>RUSE</td>\n",
       "      <td>sgd</td>\n",
       "      <td>[[2015  137]\\n [  20   15]]</td>\n",
       "      <td>0.928</td>\n",
       "      <td>0.099</td>\n",
       "      <td>0.429</td>\n",
       "      <td>0.160</td>\n",
       "      <td>none</td>\n",
       "    </tr>\n",
       "    <tr>\n",
       "      <th>328</th>\n",
       "      <td>small_business_df</td>\n",
       "      <td>R</td>\n",
       "      <td>ROSE</td>\n",
       "      <td>rf</td>\n",
       "      <td>[[2150    2]\\n [  34    1]]</td>\n",
       "      <td>0.984</td>\n",
       "      <td>0.333</td>\n",
       "      <td>0.029</td>\n",
       "      <td>0.053</td>\n",
       "      <td>none</td>\n",
       "    </tr>\n",
       "    <tr>\n",
       "      <th>430</th>\n",
       "      <td>diff_df</td>\n",
       "      <td>Y</td>\n",
       "      <td>RUSE</td>\n",
       "      <td>svm</td>\n",
       "      <td>[[3005   44]\\n [  34    3]]</td>\n",
       "      <td>0.975</td>\n",
       "      <td>0.064</td>\n",
       "      <td>0.081</td>\n",
       "      <td>0.071</td>\n",
       "      <td>none</td>\n",
       "    </tr>\n",
       "    <tr>\n",
       "      <th>566</th>\n",
       "      <td>diff_df</td>\n",
       "      <td>Y</td>\n",
       "      <td>ROSE</td>\n",
       "      <td>rf</td>\n",
       "      <td>[[3049    0]\\n [  36    1]]</td>\n",
       "      <td>0.988</td>\n",
       "      <td>1.000</td>\n",
       "      <td>0.027</td>\n",
       "      <td>0.053</td>\n",
       "      <td>none</td>\n",
       "    </tr>\n",
       "    <tr>\n",
       "      <th>654</th>\n",
       "      <td>diff_df</td>\n",
       "      <td>R</td>\n",
       "      <td>RUSE</td>\n",
       "      <td>svm</td>\n",
       "      <td>[[2853    4]\\n [  29    1]]</td>\n",
       "      <td>0.989</td>\n",
       "      <td>0.200</td>\n",
       "      <td>0.033</td>\n",
       "      <td>0.057</td>\n",
       "      <td>none</td>\n",
       "    </tr>\n",
       "    <tr>\n",
       "      <th>731</th>\n",
       "      <td>diff_df</td>\n",
       "      <td>R</td>\n",
       "      <td>ROSE</td>\n",
       "      <td>svm</td>\n",
       "      <td>[[2857    0]\\n [  29    1]]</td>\n",
       "      <td>0.990</td>\n",
       "      <td>1.000</td>\n",
       "      <td>0.033</td>\n",
       "      <td>0.065</td>\n",
       "      <td>none</td>\n",
       "    </tr>\n",
       "    <tr>\n",
       "      <th>848</th>\n",
       "      <td>binning_final_df</td>\n",
       "      <td>Y</td>\n",
       "      <td>RUSE</td>\n",
       "      <td>sgd</td>\n",
       "      <td>[[3217   20]\\n [  36    2]]</td>\n",
       "      <td>0.983</td>\n",
       "      <td>0.091</td>\n",
       "      <td>0.053</td>\n",
       "      <td>0.067</td>\n",
       "      <td>none</td>\n",
       "    </tr>\n",
       "    <tr>\n",
       "      <th>909</th>\n",
       "      <td>binning_final_df</td>\n",
       "      <td>Y</td>\n",
       "      <td>ROSE</td>\n",
       "      <td>rf</td>\n",
       "      <td>[[3235    2]\\n [  38    0]]</td>\n",
       "      <td>0.988</td>\n",
       "      <td>0.000</td>\n",
       "      <td>0.000</td>\n",
       "      <td>0.000</td>\n",
       "      <td>none</td>\n",
       "    </tr>\n",
       "    <tr>\n",
       "      <th>947</th>\n",
       "      <td>binning_final_df</td>\n",
       "      <td>R</td>\n",
       "      <td>RUSE</td>\n",
       "      <td>knn</td>\n",
       "      <td>[[2757  487]\\n [  12   26]]</td>\n",
       "      <td>0.848</td>\n",
       "      <td>0.051</td>\n",
       "      <td>0.684</td>\n",
       "      <td>0.094</td>\n",
       "      <td>none</td>\n",
       "    </tr>\n",
       "    <tr>\n",
       "      <th>1000</th>\n",
       "      <td>binning_final_df</td>\n",
       "      <td>R</td>\n",
       "      <td>ROSE</td>\n",
       "      <td>rf</td>\n",
       "      <td>[[3240    4]\\n [  37    1]]</td>\n",
       "      <td>0.988</td>\n",
       "      <td>0.200</td>\n",
       "      <td>0.026</td>\n",
       "      <td>0.047</td>\n",
       "      <td>none</td>\n",
       "    </tr>\n",
       "    <tr>\n",
       "      <th>1113</th>\n",
       "      <td>basic_final_df</td>\n",
       "      <td>Y</td>\n",
       "      <td>RUSE</td>\n",
       "      <td>lg</td>\n",
       "      <td>[[3234    3]\\n [  38    0]]</td>\n",
       "      <td>0.987</td>\n",
       "      <td>0.000</td>\n",
       "      <td>0.000</td>\n",
       "      <td>0.000</td>\n",
       "      <td>none</td>\n",
       "    </tr>\n",
       "    <tr>\n",
       "      <th>1140</th>\n",
       "      <td>basic_final_df</td>\n",
       "      <td>Y</td>\n",
       "      <td>ROSE</td>\n",
       "      <td>rf</td>\n",
       "      <td>[[3234    3]\\n [  37    1]]</td>\n",
       "      <td>0.988</td>\n",
       "      <td>0.250</td>\n",
       "      <td>0.026</td>\n",
       "      <td>0.048</td>\n",
       "      <td>none</td>\n",
       "    </tr>\n",
       "    <tr>\n",
       "      <th>1260</th>\n",
       "      <td>basic_final_df</td>\n",
       "      <td>R</td>\n",
       "      <td>RUSE</td>\n",
       "      <td>lg</td>\n",
       "      <td>[[3235    9]\\n [  35    3]]</td>\n",
       "      <td>0.987</td>\n",
       "      <td>0.250</td>\n",
       "      <td>0.079</td>\n",
       "      <td>0.120</td>\n",
       "      <td>none</td>\n",
       "    </tr>\n",
       "    <tr>\n",
       "      <th>1336</th>\n",
       "      <td>basic_final_df</td>\n",
       "      <td>R</td>\n",
       "      <td>ROSE</td>\n",
       "      <td>rf</td>\n",
       "      <td>[[3242    2]\\n [  37    1]]</td>\n",
       "      <td>0.988</td>\n",
       "      <td>0.333</td>\n",
       "      <td>0.026</td>\n",
       "      <td>0.049</td>\n",
       "      <td>none</td>\n",
       "    </tr>\n",
       "  </tbody>\n",
       "</table>\n",
       "</div>\n",
       "      <button class=\"colab-df-convert\" onclick=\"convertToInteractive('df-a45ace79-3026-418e-b651-462af7cee598')\"\n",
       "              title=\"Convert this dataframe to an interactive table.\"\n",
       "              style=\"display:none;\">\n",
       "        \n",
       "  <svg xmlns=\"http://www.w3.org/2000/svg\" height=\"24px\"viewBox=\"0 0 24 24\"\n",
       "       width=\"24px\">\n",
       "    <path d=\"M0 0h24v24H0V0z\" fill=\"none\"/>\n",
       "    <path d=\"M18.56 5.44l.94 2.06.94-2.06 2.06-.94-2.06-.94-.94-2.06-.94 2.06-2.06.94zm-11 1L8.5 8.5l.94-2.06 2.06-.94-2.06-.94L8.5 2.5l-.94 2.06-2.06.94zm10 10l.94 2.06.94-2.06 2.06-.94-2.06-.94-.94-2.06-.94 2.06-2.06.94z\"/><path d=\"M17.41 7.96l-1.37-1.37c-.4-.4-.92-.59-1.43-.59-.52 0-1.04.2-1.43.59L10.3 9.45l-7.72 7.72c-.78.78-.78 2.05 0 2.83L4 21.41c.39.39.9.59 1.41.59.51 0 1.02-.2 1.41-.59l7.78-7.78 2.81-2.81c.8-.78.8-2.07 0-2.86zM5.41 20L4 18.59l7.72-7.72 1.47 1.35L5.41 20z\"/>\n",
       "  </svg>\n",
       "      </button>\n",
       "      \n",
       "  <style>\n",
       "    .colab-df-container {\n",
       "      display:flex;\n",
       "      flex-wrap:wrap;\n",
       "      gap: 12px;\n",
       "    }\n",
       "\n",
       "    .colab-df-convert {\n",
       "      background-color: #E8F0FE;\n",
       "      border: none;\n",
       "      border-radius: 50%;\n",
       "      cursor: pointer;\n",
       "      display: none;\n",
       "      fill: #1967D2;\n",
       "      height: 32px;\n",
       "      padding: 0 0 0 0;\n",
       "      width: 32px;\n",
       "    }\n",
       "\n",
       "    .colab-df-convert:hover {\n",
       "      background-color: #E2EBFA;\n",
       "      box-shadow: 0px 1px 2px rgba(60, 64, 67, 0.3), 0px 1px 3px 1px rgba(60, 64, 67, 0.15);\n",
       "      fill: #174EA6;\n",
       "    }\n",
       "\n",
       "    [theme=dark] .colab-df-convert {\n",
       "      background-color: #3B4455;\n",
       "      fill: #D2E3FC;\n",
       "    }\n",
       "\n",
       "    [theme=dark] .colab-df-convert:hover {\n",
       "      background-color: #434B5C;\n",
       "      box-shadow: 0px 1px 3px 1px rgba(0, 0, 0, 0.15);\n",
       "      filter: drop-shadow(0px 1px 2px rgba(0, 0, 0, 0.3));\n",
       "      fill: #FFFFFF;\n",
       "    }\n",
       "  </style>\n",
       "\n",
       "      <script>\n",
       "        const buttonEl =\n",
       "          document.querySelector('#df-a45ace79-3026-418e-b651-462af7cee598 button.colab-df-convert');\n",
       "        buttonEl.style.display =\n",
       "          google.colab.kernel.accessAllowed ? 'block' : 'none';\n",
       "\n",
       "        async function convertToInteractive(key) {\n",
       "          const element = document.querySelector('#df-a45ace79-3026-418e-b651-462af7cee598');\n",
       "          const dataTable =\n",
       "            await google.colab.kernel.invokeFunction('convertToInteractive',\n",
       "                                                     [key], {});\n",
       "          if (!dataTable) return;\n",
       "\n",
       "          const docLinkHtml = 'Like what you see? Visit the ' +\n",
       "            '<a target=\"_blank\" href=https://colab.research.google.com/notebooks/data_table.ipynb>data table notebook</a>'\n",
       "            + ' to learn more about interactive tables.';\n",
       "          element.innerHTML = '';\n",
       "          dataTable['output_type'] = 'display_data';\n",
       "          await google.colab.output.renderOutput(dataTable, element);\n",
       "          const docLink = document.createElement('div');\n",
       "          docLink.innerHTML = docLinkHtml;\n",
       "          element.appendChild(docLink);\n",
       "        }\n",
       "      </script>\n",
       "    </div>\n",
       "  </div>\n",
       "  "
      ],
      "text/plain": [
       "                 데이터프레임 train_test_split(Y/R)  ... F1-score hyperparameter 변경\n",
       "29    small_business_df                     Y  ...    0.100              none\n",
       "76    small_business_df                     Y  ...    0.000              none\n",
       "260   small_business_df                     R  ...    0.160              none\n",
       "328   small_business_df                     R  ...    0.053              none\n",
       "430             diff_df                     Y  ...    0.071              none\n",
       "566             diff_df                     Y  ...    0.053              none\n",
       "654             diff_df                     R  ...    0.057              none\n",
       "731             diff_df                     R  ...    0.065              none\n",
       "848    binning_final_df                     Y  ...    0.067              none\n",
       "909    binning_final_df                     Y  ...    0.000              none\n",
       "947    binning_final_df                     R  ...    0.094              none\n",
       "1000   binning_final_df                     R  ...    0.047              none\n",
       "1113     basic_final_df                     Y  ...    0.000              none\n",
       "1140     basic_final_df                     Y  ...    0.048              none\n",
       "1260     basic_final_df                     R  ...    0.120              none\n",
       "1336     basic_final_df                     R  ...    0.049              none\n",
       "\n",
       "[16 rows x 10 columns]"
      ]
     },
     "execution_count": 109,
     "metadata": {},
     "output_type": "execute_result"
    }
   ],
   "source": [
    "by_acc = all_df\n",
    "by_acc.sort_values(by=['데이터프레임','train_test_split(Y/R)', 'sampling 방식', 'Accuracy'], ascending=False, inplace=True)\n",
    "by_acc.drop_duplicates(subset =['데이터프레임', 'train_test_split(Y/R)', 'sampling 방식'], keep='first')"
   ]
  },
  {
   "cell_type": "code",
   "execution_count": null,
   "metadata": {
    "colab": {
     "base_uri": "https://localhost:8080/",
     "height": 551
    },
    "executionInfo": {
     "elapsed": 8,
     "status": "ok",
     "timestamp": 1639973908359,
     "user": {
      "displayName": "윤영주",
      "photoUrl": "https://lh3.googleusercontent.com/a/default-user=s64",
      "userId": "18155336044487350880"
     },
     "user_tz": -540
    },
    "id": "xGK_chRED0B6",
    "outputId": "501cb524-c80a-478a-8d22-d7842e8f7d99"
   },
   "outputs": [
    {
     "data": {
      "text/html": [
       "\n",
       "  <div id=\"df-9ca89556-0969-4481-af5b-829aabf70ff3\">\n",
       "    <div class=\"colab-df-container\">\n",
       "      <div>\n",
       "<style scoped>\n",
       "    .dataframe tbody tr th:only-of-type {\n",
       "        vertical-align: middle;\n",
       "    }\n",
       "\n",
       "    .dataframe tbody tr th {\n",
       "        vertical-align: top;\n",
       "    }\n",
       "\n",
       "    .dataframe thead th {\n",
       "        text-align: right;\n",
       "    }\n",
       "</style>\n",
       "<table border=\"1\" class=\"dataframe\">\n",
       "  <thead>\n",
       "    <tr style=\"text-align: right;\">\n",
       "      <th></th>\n",
       "      <th>데이터프레임</th>\n",
       "      <th>train_test_split(Y/R)</th>\n",
       "      <th>sampling 방식</th>\n",
       "      <th>적용모델</th>\n",
       "      <th>혼동행렬</th>\n",
       "      <th>Accuracy</th>\n",
       "      <th>Precision</th>\n",
       "      <th>Recall</th>\n",
       "      <th>F1-score</th>\n",
       "      <th>hyperparameter 변경</th>\n",
       "    </tr>\n",
       "  </thead>\n",
       "  <tbody>\n",
       "    <tr>\n",
       "      <th>28</th>\n",
       "      <td>small_business_df</td>\n",
       "      <td>Y</td>\n",
       "      <td>RUSE</td>\n",
       "      <td>lg</td>\n",
       "      <td>[[1842  295]\\n [   9   26]]</td>\n",
       "      <td>0.860</td>\n",
       "      <td>0.081</td>\n",
       "      <td>0.743</td>\n",
       "      <td>0.146</td>\n",
       "      <td>none</td>\n",
       "    </tr>\n",
       "    <tr>\n",
       "      <th>83</th>\n",
       "      <td>small_business_df</td>\n",
       "      <td>Y</td>\n",
       "      <td>ROSE</td>\n",
       "      <td>rf</td>\n",
       "      <td>[[2075   62]\\n [  22   13]]</td>\n",
       "      <td>0.961</td>\n",
       "      <td>0.173</td>\n",
       "      <td>0.371</td>\n",
       "      <td>0.236</td>\n",
       "      <td>none</td>\n",
       "    </tr>\n",
       "    <tr>\n",
       "      <th>260</th>\n",
       "      <td>small_business_df</td>\n",
       "      <td>R</td>\n",
       "      <td>RUSE</td>\n",
       "      <td>sgd</td>\n",
       "      <td>[[2015  137]\\n [  20   15]]</td>\n",
       "      <td>0.928</td>\n",
       "      <td>0.099</td>\n",
       "      <td>0.429</td>\n",
       "      <td>0.160</td>\n",
       "      <td>none</td>\n",
       "    </tr>\n",
       "    <tr>\n",
       "      <th>293</th>\n",
       "      <td>small_business_df</td>\n",
       "      <td>R</td>\n",
       "      <td>ROSE</td>\n",
       "      <td>rf</td>\n",
       "      <td>[[2089   63]\\n [  21   14]]</td>\n",
       "      <td>0.962</td>\n",
       "      <td>0.182</td>\n",
       "      <td>0.400</td>\n",
       "      <td>0.250</td>\n",
       "      <td>none</td>\n",
       "    </tr>\n",
       "    <tr>\n",
       "      <th>453</th>\n",
       "      <td>diff_df</td>\n",
       "      <td>Y</td>\n",
       "      <td>RUSE</td>\n",
       "      <td>pr</td>\n",
       "      <td>[[2688  361]\\n [  12   25]]</td>\n",
       "      <td>0.879</td>\n",
       "      <td>0.065</td>\n",
       "      <td>0.676</td>\n",
       "      <td>0.118</td>\n",
       "      <td>none</td>\n",
       "    </tr>\n",
       "    <tr>\n",
       "      <th>531</th>\n",
       "      <td>diff_df</td>\n",
       "      <td>Y</td>\n",
       "      <td>ROSE</td>\n",
       "      <td>rf</td>\n",
       "      <td>[[3001   48]\\n [  28    9]]</td>\n",
       "      <td>0.975</td>\n",
       "      <td>0.158</td>\n",
       "      <td>0.243</td>\n",
       "      <td>0.191</td>\n",
       "      <td>none</td>\n",
       "    </tr>\n",
       "    <tr>\n",
       "      <th>635</th>\n",
       "      <td>diff_df</td>\n",
       "      <td>R</td>\n",
       "      <td>RUSE</td>\n",
       "      <td>pr</td>\n",
       "      <td>[[2485  372]\\n [   7   23]]</td>\n",
       "      <td>0.869</td>\n",
       "      <td>0.058</td>\n",
       "      <td>0.767</td>\n",
       "      <td>0.108</td>\n",
       "      <td>none</td>\n",
       "    </tr>\n",
       "    <tr>\n",
       "      <th>811</th>\n",
       "      <td>diff_df</td>\n",
       "      <td>R</td>\n",
       "      <td>ROSE</td>\n",
       "      <td>rf</td>\n",
       "      <td>[[2790   67]\\n [  19   11]]</td>\n",
       "      <td>0.970</td>\n",
       "      <td>0.141</td>\n",
       "      <td>0.367</td>\n",
       "      <td>0.204</td>\n",
       "      <td>none</td>\n",
       "    </tr>\n",
       "    <tr>\n",
       "      <th>841</th>\n",
       "      <td>binning_final_df</td>\n",
       "      <td>Y</td>\n",
       "      <td>RUSE</td>\n",
       "      <td>sgd</td>\n",
       "      <td>[[3031  206]\\n [  21   17]]</td>\n",
       "      <td>0.931</td>\n",
       "      <td>0.076</td>\n",
       "      <td>0.447</td>\n",
       "      <td>0.130</td>\n",
       "      <td>none</td>\n",
       "    </tr>\n",
       "    <tr>\n",
       "      <th>906</th>\n",
       "      <td>binning_final_df</td>\n",
       "      <td>Y</td>\n",
       "      <td>ROSE</td>\n",
       "      <td>svm</td>\n",
       "      <td>[[3151   86]\\n [  24   14]]</td>\n",
       "      <td>0.966</td>\n",
       "      <td>0.140</td>\n",
       "      <td>0.368</td>\n",
       "      <td>0.203</td>\n",
       "      <td>none</td>\n",
       "    </tr>\n",
       "    <tr>\n",
       "      <th>948</th>\n",
       "      <td>binning_final_df</td>\n",
       "      <td>R</td>\n",
       "      <td>RUSE</td>\n",
       "      <td>svm</td>\n",
       "      <td>[[2718  526]\\n [   8   30]]</td>\n",
       "      <td>0.837</td>\n",
       "      <td>0.054</td>\n",
       "      <td>0.789</td>\n",
       "      <td>0.101</td>\n",
       "      <td>none</td>\n",
       "    </tr>\n",
       "    <tr>\n",
       "      <th>1009</th>\n",
       "      <td>binning_final_df</td>\n",
       "      <td>R</td>\n",
       "      <td>ROSE</td>\n",
       "      <td>sgd</td>\n",
       "      <td>[[3118  126]\\n [  21   17]]</td>\n",
       "      <td>0.955</td>\n",
       "      <td>0.119</td>\n",
       "      <td>0.447</td>\n",
       "      <td>0.188</td>\n",
       "      <td>none</td>\n",
       "    </tr>\n",
       "    <tr>\n",
       "      <th>1072</th>\n",
       "      <td>basic_final_df</td>\n",
       "      <td>Y</td>\n",
       "      <td>RUSE</td>\n",
       "      <td>sgd</td>\n",
       "      <td>[[3052  185]\\n [  19   19]]</td>\n",
       "      <td>0.938</td>\n",
       "      <td>0.093</td>\n",
       "      <td>0.500</td>\n",
       "      <td>0.157</td>\n",
       "      <td>none</td>\n",
       "    </tr>\n",
       "    <tr>\n",
       "      <th>1245</th>\n",
       "      <td>basic_final_df</td>\n",
       "      <td>Y</td>\n",
       "      <td>ROSE</td>\n",
       "      <td>rf</td>\n",
       "      <td>[[3165   72]\\n [  26   12]]</td>\n",
       "      <td>0.970</td>\n",
       "      <td>0.143</td>\n",
       "      <td>0.316</td>\n",
       "      <td>0.197</td>\n",
       "      <td>none</td>\n",
       "    </tr>\n",
       "    <tr>\n",
       "      <th>1303</th>\n",
       "      <td>basic_final_df</td>\n",
       "      <td>R</td>\n",
       "      <td>RUSE</td>\n",
       "      <td>sgd</td>\n",
       "      <td>[[3040  204]\\n [  16   22]]</td>\n",
       "      <td>0.933</td>\n",
       "      <td>0.097</td>\n",
       "      <td>0.579</td>\n",
       "      <td>0.167</td>\n",
       "      <td>none</td>\n",
       "    </tr>\n",
       "    <tr>\n",
       "      <th>1334</th>\n",
       "      <td>basic_final_df</td>\n",
       "      <td>R</td>\n",
       "      <td>ROSE</td>\n",
       "      <td>dt</td>\n",
       "      <td>[[3210   34]\\n [  30    8]]</td>\n",
       "      <td>0.980</td>\n",
       "      <td>0.190</td>\n",
       "      <td>0.211</td>\n",
       "      <td>0.200</td>\n",
       "      <td>none</td>\n",
       "    </tr>\n",
       "  </tbody>\n",
       "</table>\n",
       "</div>\n",
       "      <button class=\"colab-df-convert\" onclick=\"convertToInteractive('df-9ca89556-0969-4481-af5b-829aabf70ff3')\"\n",
       "              title=\"Convert this dataframe to an interactive table.\"\n",
       "              style=\"display:none;\">\n",
       "        \n",
       "  <svg xmlns=\"http://www.w3.org/2000/svg\" height=\"24px\"viewBox=\"0 0 24 24\"\n",
       "       width=\"24px\">\n",
       "    <path d=\"M0 0h24v24H0V0z\" fill=\"none\"/>\n",
       "    <path d=\"M18.56 5.44l.94 2.06.94-2.06 2.06-.94-2.06-.94-.94-2.06-.94 2.06-2.06.94zm-11 1L8.5 8.5l.94-2.06 2.06-.94-2.06-.94L8.5 2.5l-.94 2.06-2.06.94zm10 10l.94 2.06.94-2.06 2.06-.94-2.06-.94-.94-2.06-.94 2.06-2.06.94z\"/><path d=\"M17.41 7.96l-1.37-1.37c-.4-.4-.92-.59-1.43-.59-.52 0-1.04.2-1.43.59L10.3 9.45l-7.72 7.72c-.78.78-.78 2.05 0 2.83L4 21.41c.39.39.9.59 1.41.59.51 0 1.02-.2 1.41-.59l7.78-7.78 2.81-2.81c.8-.78.8-2.07 0-2.86zM5.41 20L4 18.59l7.72-7.72 1.47 1.35L5.41 20z\"/>\n",
       "  </svg>\n",
       "      </button>\n",
       "      \n",
       "  <style>\n",
       "    .colab-df-container {\n",
       "      display:flex;\n",
       "      flex-wrap:wrap;\n",
       "      gap: 12px;\n",
       "    }\n",
       "\n",
       "    .colab-df-convert {\n",
       "      background-color: #E8F0FE;\n",
       "      border: none;\n",
       "      border-radius: 50%;\n",
       "      cursor: pointer;\n",
       "      display: none;\n",
       "      fill: #1967D2;\n",
       "      height: 32px;\n",
       "      padding: 0 0 0 0;\n",
       "      width: 32px;\n",
       "    }\n",
       "\n",
       "    .colab-df-convert:hover {\n",
       "      background-color: #E2EBFA;\n",
       "      box-shadow: 0px 1px 2px rgba(60, 64, 67, 0.3), 0px 1px 3px 1px rgba(60, 64, 67, 0.15);\n",
       "      fill: #174EA6;\n",
       "    }\n",
       "\n",
       "    [theme=dark] .colab-df-convert {\n",
       "      background-color: #3B4455;\n",
       "      fill: #D2E3FC;\n",
       "    }\n",
       "\n",
       "    [theme=dark] .colab-df-convert:hover {\n",
       "      background-color: #434B5C;\n",
       "      box-shadow: 0px 1px 3px 1px rgba(0, 0, 0, 0.15);\n",
       "      filter: drop-shadow(0px 1px 2px rgba(0, 0, 0, 0.3));\n",
       "      fill: #FFFFFF;\n",
       "    }\n",
       "  </style>\n",
       "\n",
       "      <script>\n",
       "        const buttonEl =\n",
       "          document.querySelector('#df-9ca89556-0969-4481-af5b-829aabf70ff3 button.colab-df-convert');\n",
       "        buttonEl.style.display =\n",
       "          google.colab.kernel.accessAllowed ? 'block' : 'none';\n",
       "\n",
       "        async function convertToInteractive(key) {\n",
       "          const element = document.querySelector('#df-9ca89556-0969-4481-af5b-829aabf70ff3');\n",
       "          const dataTable =\n",
       "            await google.colab.kernel.invokeFunction('convertToInteractive',\n",
       "                                                     [key], {});\n",
       "          if (!dataTable) return;\n",
       "\n",
       "          const docLinkHtml = 'Like what you see? Visit the ' +\n",
       "            '<a target=\"_blank\" href=https://colab.research.google.com/notebooks/data_table.ipynb>data table notebook</a>'\n",
       "            + ' to learn more about interactive tables.';\n",
       "          element.innerHTML = '';\n",
       "          dataTable['output_type'] = 'display_data';\n",
       "          await google.colab.output.renderOutput(dataTable, element);\n",
       "          const docLink = document.createElement('div');\n",
       "          docLink.innerHTML = docLinkHtml;\n",
       "          element.appendChild(docLink);\n",
       "        }\n",
       "      </script>\n",
       "    </div>\n",
       "  </div>\n",
       "  "
      ],
      "text/plain": [
       "                 데이터프레임 train_test_split(Y/R)  ... F1-score hyperparameter 변경\n",
       "28    small_business_df                     Y  ...    0.146              none\n",
       "83    small_business_df                     Y  ...    0.236              none\n",
       "260   small_business_df                     R  ...    0.160              none\n",
       "293   small_business_df                     R  ...    0.250              none\n",
       "453             diff_df                     Y  ...    0.118              none\n",
       "531             diff_df                     Y  ...    0.191              none\n",
       "635             diff_df                     R  ...    0.108              none\n",
       "811             diff_df                     R  ...    0.204              none\n",
       "841    binning_final_df                     Y  ...    0.130              none\n",
       "906    binning_final_df                     Y  ...    0.203              none\n",
       "948    binning_final_df                     R  ...    0.101              none\n",
       "1009   binning_final_df                     R  ...    0.188              none\n",
       "1072     basic_final_df                     Y  ...    0.157              none\n",
       "1245     basic_final_df                     Y  ...    0.197              none\n",
       "1303     basic_final_df                     R  ...    0.167              none\n",
       "1334     basic_final_df                     R  ...    0.200              none\n",
       "\n",
       "[16 rows x 10 columns]"
      ]
     },
     "execution_count": 110,
     "metadata": {},
     "output_type": "execute_result"
    }
   ],
   "source": [
    "by_f1 = all_df\n",
    "by_f1.sort_values(by=['데이터프레임','train_test_split(Y/R)', 'sampling 방식', 'F1-score'], ascending=False, inplace=True)\n",
    "by_f1.drop_duplicates(subset =['데이터프레임', 'train_test_split(Y/R)', 'sampling 방식'], keep='first')"
   ]
  },
  {
   "cell_type": "code",
   "execution_count": null,
   "metadata": {
    "id": "OkUmBtkE_Cmw"
   },
   "outputs": [],
   "source": [
    "# hyperparameter before cutoff \n",
    "ac_auc = pd.read_csv('grid_cut_result_auc.csv') #AUC기준 하이퍼파라미터\n",
    "ac_acc = pd.read_csv('grid_cut_result_accuracy.csv') # Accuracy기준 하이퍼파라미터\n",
    "\n",
    "# hyperparameter after cutoff\n",
    "bc_auc = pd.read_csv('grid_result_auc.csv')\n",
    "bc_acc = pd.read_csv('grid_result_accuracy.csv')"
   ]
  },
  {
   "cell_type": "code",
   "execution_count": null,
   "metadata": {
    "colab": {
     "base_uri": "https://localhost:8080/"
    },
    "executionInfo": {
     "elapsed": 10,
     "status": "ok",
     "timestamp": 1639975869332,
     "user": {
      "displayName": "윤영주",
      "photoUrl": "https://lh3.googleusercontent.com/a/default-user=s64",
      "userId": "18155336044487350880"
     },
     "user_tz": -540
    },
    "id": "PGpxJZ-TLX50",
    "outputId": "c6071e4b-c706-4f3f-e2a8-96275d6b3187"
   },
   "outputs": [
    {
     "data": {
      "text/plain": [
       "small_business_df    12\n",
       "diff_df               2\n",
       "basic_final_df        2\n",
       "Name: 데이터프레임, dtype: int64"
      ]
     },
     "execution_count": 127,
     "metadata": {},
     "output_type": "execute_result"
    }
   ],
   "source": [
    "bc_auc['데이터프레임'].value_counts()"
   ]
  },
  {
   "cell_type": "code",
   "execution_count": null,
   "metadata": {
    "colab": {
     "base_uri": "https://localhost:8080/",
     "height": 549
    },
    "executionInfo": {
     "elapsed": 13,
     "status": "ok",
     "timestamp": 1639974489794,
     "user": {
      "displayName": "윤영주",
      "photoUrl": "https://lh3.googleusercontent.com/a/default-user=s64",
      "userId": "18155336044487350880"
     },
     "user_tz": -540
    },
    "id": "-iZn4SFR_IlP",
    "outputId": "8e102ff2-e78b-466c-8a68-51d54701614b"
   },
   "outputs": [
    {
     "data": {
      "text/html": [
       "\n",
       "  <div id=\"df-10dbc979-5adf-45bb-af7f-56c2a142aa82\">\n",
       "    <div class=\"colab-df-container\">\n",
       "      <div>\n",
       "<style scoped>\n",
       "    .dataframe tbody tr th:only-of-type {\n",
       "        vertical-align: middle;\n",
       "    }\n",
       "\n",
       "    .dataframe tbody tr th {\n",
       "        vertical-align: top;\n",
       "    }\n",
       "\n",
       "    .dataframe thead th {\n",
       "        text-align: right;\n",
       "    }\n",
       "</style>\n",
       "<table border=\"1\" class=\"dataframe\">\n",
       "  <thead>\n",
       "    <tr style=\"text-align: right;\">\n",
       "      <th></th>\n",
       "      <th>데이터프레임</th>\n",
       "      <th>train_test_split(Y/R)</th>\n",
       "      <th>t-test(Y/N)</th>\n",
       "      <th>변수선택법</th>\n",
       "      <th>VIF(Y/N)</th>\n",
       "      <th>sampling 방식</th>\n",
       "      <th>적용모델</th>\n",
       "      <th>선택된 변수</th>\n",
       "      <th>혼동행렬</th>\n",
       "      <th>Accuracy</th>\n",
       "      <th>Precision</th>\n",
       "      <th>Recall</th>\n",
       "      <th>F1-score</th>\n",
       "      <th>ROC_AUC</th>\n",
       "      <th>hyperparameter 변경</th>\n",
       "      <th>cut-off</th>\n",
       "    </tr>\n",
       "  </thead>\n",
       "  <tbody>\n",
       "    <tr>\n",
       "      <th>10</th>\n",
       "      <td>small_business_df</td>\n",
       "      <td>R</td>\n",
       "      <td>t_Y</td>\n",
       "      <td>Lasso</td>\n",
       "      <td>v_Y</td>\n",
       "      <td>RUSE</td>\n",
       "      <td>rf</td>\n",
       "      <td>['자기자본증가율', '종업원1인당 인건비증가율', '총자본순이익률', '자기자본순...</td>\n",
       "      <td>[[1667  485]\\n [   3   32]]</td>\n",
       "      <td>0.777</td>\n",
       "      <td>0.062</td>\n",
       "      <td>0.914</td>\n",
       "      <td>0.116</td>\n",
       "      <td>0.923</td>\n",
       "      <td>{'max_depth': 10, 'min_samples_leaf': 1, 'min_...</td>\n",
       "      <td>N</td>\n",
       "    </tr>\n",
       "    <tr>\n",
       "      <th>7</th>\n",
       "      <td>small_business_df</td>\n",
       "      <td>R</td>\n",
       "      <td>t_Y</td>\n",
       "      <td>None</td>\n",
       "      <td>v_N</td>\n",
       "      <td>ROSE</td>\n",
       "      <td>lg</td>\n",
       "      <td>['자기자본증가율', '종업원1인당 인건비증가율', '총자본사업이익률', '총자본영...</td>\n",
       "      <td>[[1759  393]\\n [   4   31]]</td>\n",
       "      <td>0.818</td>\n",
       "      <td>0.073</td>\n",
       "      <td>0.886</td>\n",
       "      <td>0.135</td>\n",
       "      <td>0.916</td>\n",
       "      <td>{'C': 0.001}</td>\n",
       "      <td>N</td>\n",
       "    </tr>\n",
       "    <tr>\n",
       "      <th>9</th>\n",
       "      <td>diff_df</td>\n",
       "      <td>R</td>\n",
       "      <td>t_Y</td>\n",
       "      <td>None</td>\n",
       "      <td>v_N</td>\n",
       "      <td>RUSE</td>\n",
       "      <td>rf</td>\n",
       "      <td>['growth_rate_수지비율', 'growth_rate_사내유보 대 자기자본비...</td>\n",
       "      <td>[[2289  568]\\n [   2   28]]</td>\n",
       "      <td>0.803</td>\n",
       "      <td>0.047</td>\n",
       "      <td>0.933</td>\n",
       "      <td>0.089</td>\n",
       "      <td>0.919</td>\n",
       "      <td>{'max_depth': 4, 'min_samples_leaf': 4, 'min_s...</td>\n",
       "      <td>N</td>\n",
       "    </tr>\n",
       "    <tr>\n",
       "      <th>11</th>\n",
       "      <td>basic_final_df</td>\n",
       "      <td>R</td>\n",
       "      <td>t_Y</td>\n",
       "      <td>None</td>\n",
       "      <td>v_Y</td>\n",
       "      <td>RUSE</td>\n",
       "      <td>rf</td>\n",
       "      <td>['자기자본증가율', '종업원1인당 인건비증가율', '자기자본영업이익률', '자기자...</td>\n",
       "      <td>[[2650  594]\\n [   5   33]]</td>\n",
       "      <td>0.817</td>\n",
       "      <td>0.053</td>\n",
       "      <td>0.868</td>\n",
       "      <td>0.099</td>\n",
       "      <td>0.911</td>\n",
       "      <td>{'max_depth': 3, 'min_samples_leaf': 1, 'min_s...</td>\n",
       "      <td>N</td>\n",
       "    </tr>\n",
       "  </tbody>\n",
       "</table>\n",
       "</div>\n",
       "      <button class=\"colab-df-convert\" onclick=\"convertToInteractive('df-10dbc979-5adf-45bb-af7f-56c2a142aa82')\"\n",
       "              title=\"Convert this dataframe to an interactive table.\"\n",
       "              style=\"display:none;\">\n",
       "        \n",
       "  <svg xmlns=\"http://www.w3.org/2000/svg\" height=\"24px\"viewBox=\"0 0 24 24\"\n",
       "       width=\"24px\">\n",
       "    <path d=\"M0 0h24v24H0V0z\" fill=\"none\"/>\n",
       "    <path d=\"M18.56 5.44l.94 2.06.94-2.06 2.06-.94-2.06-.94-.94-2.06-.94 2.06-2.06.94zm-11 1L8.5 8.5l.94-2.06 2.06-.94-2.06-.94L8.5 2.5l-.94 2.06-2.06.94zm10 10l.94 2.06.94-2.06 2.06-.94-2.06-.94-.94-2.06-.94 2.06-2.06.94z\"/><path d=\"M17.41 7.96l-1.37-1.37c-.4-.4-.92-.59-1.43-.59-.52 0-1.04.2-1.43.59L10.3 9.45l-7.72 7.72c-.78.78-.78 2.05 0 2.83L4 21.41c.39.39.9.59 1.41.59.51 0 1.02-.2 1.41-.59l7.78-7.78 2.81-2.81c.8-.78.8-2.07 0-2.86zM5.41 20L4 18.59l7.72-7.72 1.47 1.35L5.41 20z\"/>\n",
       "  </svg>\n",
       "      </button>\n",
       "      \n",
       "  <style>\n",
       "    .colab-df-container {\n",
       "      display:flex;\n",
       "      flex-wrap:wrap;\n",
       "      gap: 12px;\n",
       "    }\n",
       "\n",
       "    .colab-df-convert {\n",
       "      background-color: #E8F0FE;\n",
       "      border: none;\n",
       "      border-radius: 50%;\n",
       "      cursor: pointer;\n",
       "      display: none;\n",
       "      fill: #1967D2;\n",
       "      height: 32px;\n",
       "      padding: 0 0 0 0;\n",
       "      width: 32px;\n",
       "    }\n",
       "\n",
       "    .colab-df-convert:hover {\n",
       "      background-color: #E2EBFA;\n",
       "      box-shadow: 0px 1px 2px rgba(60, 64, 67, 0.3), 0px 1px 3px 1px rgba(60, 64, 67, 0.15);\n",
       "      fill: #174EA6;\n",
       "    }\n",
       "\n",
       "    [theme=dark] .colab-df-convert {\n",
       "      background-color: #3B4455;\n",
       "      fill: #D2E3FC;\n",
       "    }\n",
       "\n",
       "    [theme=dark] .colab-df-convert:hover {\n",
       "      background-color: #434B5C;\n",
       "      box-shadow: 0px 1px 3px 1px rgba(0, 0, 0, 0.15);\n",
       "      filter: drop-shadow(0px 1px 2px rgba(0, 0, 0, 0.3));\n",
       "      fill: #FFFFFF;\n",
       "    }\n",
       "  </style>\n",
       "\n",
       "      <script>\n",
       "        const buttonEl =\n",
       "          document.querySelector('#df-10dbc979-5adf-45bb-af7f-56c2a142aa82 button.colab-df-convert');\n",
       "        buttonEl.style.display =\n",
       "          google.colab.kernel.accessAllowed ? 'block' : 'none';\n",
       "\n",
       "        async function convertToInteractive(key) {\n",
       "          const element = document.querySelector('#df-10dbc979-5adf-45bb-af7f-56c2a142aa82');\n",
       "          const dataTable =\n",
       "            await google.colab.kernel.invokeFunction('convertToInteractive',\n",
       "                                                     [key], {});\n",
       "          if (!dataTable) return;\n",
       "\n",
       "          const docLinkHtml = 'Like what you see? Visit the ' +\n",
       "            '<a target=\"_blank\" href=https://colab.research.google.com/notebooks/data_table.ipynb>data table notebook</a>'\n",
       "            + ' to learn more about interactive tables.';\n",
       "          element.innerHTML = '';\n",
       "          dataTable['output_type'] = 'display_data';\n",
       "          await google.colab.output.renderOutput(dataTable, element);\n",
       "          const docLink = document.createElement('div');\n",
       "          docLink.innerHTML = docLinkHtml;\n",
       "          element.appendChild(docLink);\n",
       "        }\n",
       "      </script>\n",
       "    </div>\n",
       "  </div>\n",
       "  "
      ],
      "text/plain": [
       "               데이터프레임  ... cut-off\n",
       "10  small_business_df  ...       N\n",
       "7   small_business_df  ...       N\n",
       "9             diff_df  ...       N\n",
       "11     basic_final_df  ...       N\n",
       "\n",
       "[4 rows x 16 columns]"
      ]
     },
     "execution_count": 113,
     "metadata": {},
     "output_type": "execute_result"
    }
   ],
   "source": [
    "bc_auc_copy = bc_auc\n",
    "bc_auc_copy.loc[bc_auc_copy['sampling 방식']=='SMOTE', 'sampling 방식'] = 'ROSE'\n",
    "bc_auc_copy = bc_auc_copy[bc_auc_copy['sampling 방식']!= 'None']\n",
    "bc_auc_copy.sort_values(by=['데이터프레임', 'Recall'], ascending=False, inplace=True)\n",
    "bc_auc_copy.drop_duplicates(subset =['데이터프레임', 'train_test_split(Y/R)', 'sampling 방식'], keep='first', inplace=True)\n",
    "bc_auc_copy"
   ]
  },
  {
   "cell_type": "code",
   "execution_count": null,
   "metadata": {
    "colab": {
     "base_uri": "https://localhost:8080/",
     "height": 1000
    },
    "executionInfo": {
     "elapsed": 810,
     "status": "ok",
     "timestamp": 1639975191004,
     "user": {
      "displayName": "윤영주",
      "photoUrl": "https://lh3.googleusercontent.com/a/default-user=s64",
      "userId": "18155336044487350880"
     },
     "user_tz": -540
    },
    "id": "gRRIJfi-9-4a",
    "outputId": "6b5eee81-5fac-4854-9ddb-702372cbb474"
   },
   "outputs": [
    {
     "data": {
      "text/html": [
       "\n",
       "  <div id=\"df-e35df91c-2ee0-4d2a-b19f-b6a9d71bd47f\">\n",
       "    <div class=\"colab-df-container\">\n",
       "      <div>\n",
       "<style scoped>\n",
       "    .dataframe tbody tr th:only-of-type {\n",
       "        vertical-align: middle;\n",
       "    }\n",
       "\n",
       "    .dataframe tbody tr th {\n",
       "        vertical-align: top;\n",
       "    }\n",
       "\n",
       "    .dataframe thead th {\n",
       "        text-align: right;\n",
       "    }\n",
       "</style>\n",
       "<table border=\"1\" class=\"dataframe\">\n",
       "  <thead>\n",
       "    <tr style=\"text-align: right;\">\n",
       "      <th></th>\n",
       "      <th>데이터프레임</th>\n",
       "      <th>변수선택법</th>\n",
       "      <th>VIF(Y/N)</th>\n",
       "      <th>sampling 방식</th>\n",
       "      <th>적용모델</th>\n",
       "      <th>선택된 변수</th>\n",
       "      <th>혼동행렬</th>\n",
       "      <th>Accuracy</th>\n",
       "      <th>Precision</th>\n",
       "      <th>Recall</th>\n",
       "      <th>F1-score</th>\n",
       "      <th>ROC_AUC</th>\n",
       "      <th>hyperparameter 변경</th>\n",
       "      <th>cut-off</th>\n",
       "    </tr>\n",
       "  </thead>\n",
       "  <tbody>\n",
       "    <tr>\n",
       "      <th>9</th>\n",
       "      <td>diff_df</td>\n",
       "      <td>None</td>\n",
       "      <td>v_N</td>\n",
       "      <td>RUSE</td>\n",
       "      <td>rf</td>\n",
       "      <td>['growth_rate_수지비율', 'growth_rate_사내유보 대 자기자본비...</td>\n",
       "      <td>[[2289  568]\\n [   2   28]]</td>\n",
       "      <td>0.803</td>\n",
       "      <td>0.047</td>\n",
       "      <td>0.933</td>\n",
       "      <td>0.089</td>\n",
       "      <td>0.919</td>\n",
       "      <td>{'max_depth': 4, 'min_samples_leaf': 4, 'min_s...</td>\n",
       "      <td>N</td>\n",
       "    </tr>\n",
       "    <tr>\n",
       "      <th>10</th>\n",
       "      <td>small_business_df</td>\n",
       "      <td>Lasso</td>\n",
       "      <td>v_Y</td>\n",
       "      <td>RUSE</td>\n",
       "      <td>rf</td>\n",
       "      <td>['자기자본증가율', '종업원1인당 인건비증가율', '총자본순이익률', '자기자본순...</td>\n",
       "      <td>[[1667  485]\\n [   3   32]]</td>\n",
       "      <td>0.777</td>\n",
       "      <td>0.062</td>\n",
       "      <td>0.914</td>\n",
       "      <td>0.116</td>\n",
       "      <td>0.923</td>\n",
       "      <td>{'max_depth': 10, 'min_samples_leaf': 1, 'min_...</td>\n",
       "      <td>N</td>\n",
       "    </tr>\n",
       "    <tr>\n",
       "      <th>0</th>\n",
       "      <td>small_business_df</td>\n",
       "      <td>forward</td>\n",
       "      <td>v_N</td>\n",
       "      <td>RUSE</td>\n",
       "      <td>lg</td>\n",
       "      <td>['총자본사업이익률', '자기자본구성비율', '종업원수', '단기차입금 대 총차입금...</td>\n",
       "      <td>[[1792  360]\\n [   4   31]]</td>\n",
       "      <td>0.834</td>\n",
       "      <td>0.079</td>\n",
       "      <td>0.886</td>\n",
       "      <td>0.146</td>\n",
       "      <td>0.924</td>\n",
       "      <td>{'C': 0.1}</td>\n",
       "      <td>N</td>\n",
       "    </tr>\n",
       "    <tr>\n",
       "      <th>7</th>\n",
       "      <td>small_business_df</td>\n",
       "      <td>None</td>\n",
       "      <td>v_N</td>\n",
       "      <td>SMOTE</td>\n",
       "      <td>lg</td>\n",
       "      <td>['자기자본증가율', '종업원1인당 인건비증가율', '총자본사업이익률', '총자본영...</td>\n",
       "      <td>[[1759  393]\\n [   4   31]]</td>\n",
       "      <td>0.818</td>\n",
       "      <td>0.073</td>\n",
       "      <td>0.886</td>\n",
       "      <td>0.135</td>\n",
       "      <td>0.916</td>\n",
       "      <td>{'C': 0.001}</td>\n",
       "      <td>N</td>\n",
       "    </tr>\n",
       "    <tr>\n",
       "      <th>8</th>\n",
       "      <td>small_business_df</td>\n",
       "      <td>Lasso</td>\n",
       "      <td>v_N</td>\n",
       "      <td>RUSE</td>\n",
       "      <td>lg</td>\n",
       "      <td>['자기자본증가율', '종업원1인당 인건비증가율', '총자본순이익률', '자기자본순...</td>\n",
       "      <td>[[1754  398]\\n [   4   31]]</td>\n",
       "      <td>0.816</td>\n",
       "      <td>0.072</td>\n",
       "      <td>0.886</td>\n",
       "      <td>0.134</td>\n",
       "      <td>0.918</td>\n",
       "      <td>{'C': 0.001}</td>\n",
       "      <td>N</td>\n",
       "    </tr>\n",
       "    <tr>\n",
       "      <th>12</th>\n",
       "      <td>small_business_df</td>\n",
       "      <td>None</td>\n",
       "      <td>v_Y</td>\n",
       "      <td>RUSE</td>\n",
       "      <td>rf</td>\n",
       "      <td>['자기자본증가율', '종업원1인당 인건비증가율', '자기자본순이익률', '경영자본...</td>\n",
       "      <td>[[1743  409]\\n [   4   31]]</td>\n",
       "      <td>0.811</td>\n",
       "      <td>0.070</td>\n",
       "      <td>0.886</td>\n",
       "      <td>0.131</td>\n",
       "      <td>0.916</td>\n",
       "      <td>{'max_depth': 8, 'min_samples_leaf': 1, 'min_s...</td>\n",
       "      <td>N</td>\n",
       "    </tr>\n",
       "    <tr>\n",
       "      <th>11</th>\n",
       "      <td>basic_final_df</td>\n",
       "      <td>None</td>\n",
       "      <td>v_Y</td>\n",
       "      <td>RUSE</td>\n",
       "      <td>rf</td>\n",
       "      <td>['자기자본증가율', '종업원1인당 인건비증가율', '자기자본영업이익률', '자기자...</td>\n",
       "      <td>[[2650  594]\\n [   5   33]]</td>\n",
       "      <td>0.817</td>\n",
       "      <td>0.053</td>\n",
       "      <td>0.868</td>\n",
       "      <td>0.099</td>\n",
       "      <td>0.911</td>\n",
       "      <td>{'max_depth': 3, 'min_samples_leaf': 1, 'min_s...</td>\n",
       "      <td>N</td>\n",
       "    </tr>\n",
       "    <tr>\n",
       "      <th>6</th>\n",
       "      <td>small_business_df</td>\n",
       "      <td>Lasso</td>\n",
       "      <td>v_N</td>\n",
       "      <td>SMOTE</td>\n",
       "      <td>lg</td>\n",
       "      <td>['자기자본증가율', '종업원1인당 인건비증가율', '총자본순이익률', '자기자본순...</td>\n",
       "      <td>[[1855  297]\\n [   5   30]]</td>\n",
       "      <td>0.862</td>\n",
       "      <td>0.092</td>\n",
       "      <td>0.857</td>\n",
       "      <td>0.166</td>\n",
       "      <td>0.919</td>\n",
       "      <td>{'C': 0.1}</td>\n",
       "      <td>N</td>\n",
       "    </tr>\n",
       "    <tr>\n",
       "      <th>2</th>\n",
       "      <td>small_business_df</td>\n",
       "      <td>stepwise</td>\n",
       "      <td>v_N</td>\n",
       "      <td>SMOTE</td>\n",
       "      <td>lg</td>\n",
       "      <td>['자기자본구성비율', '종업원수', '단기차입금 대 총차입금비율', 'CASH F...</td>\n",
       "      <td>[[1802  350]\\n [   5   30]]</td>\n",
       "      <td>0.838</td>\n",
       "      <td>0.079</td>\n",
       "      <td>0.857</td>\n",
       "      <td>0.145</td>\n",
       "      <td>0.928</td>\n",
       "      <td>{'C': 0.1}</td>\n",
       "      <td>N</td>\n",
       "    </tr>\n",
       "    <tr>\n",
       "      <th>4</th>\n",
       "      <td>small_business_df</td>\n",
       "      <td>forward</td>\n",
       "      <td>v_N</td>\n",
       "      <td>SMOTE</td>\n",
       "      <td>lg</td>\n",
       "      <td>['총자본사업이익률', '자기자본구성비율', '종업원수', '단기차입금 대 총차입금...</td>\n",
       "      <td>[[1799  353]\\n [   5   30]]</td>\n",
       "      <td>0.836</td>\n",
       "      <td>0.078</td>\n",
       "      <td>0.857</td>\n",
       "      <td>0.144</td>\n",
       "      <td>0.928</td>\n",
       "      <td>{'C': 0.01}</td>\n",
       "      <td>N</td>\n",
       "    </tr>\n",
       "    <tr>\n",
       "      <th>5</th>\n",
       "      <td>small_business_df</td>\n",
       "      <td>stepwise</td>\n",
       "      <td>v_N</td>\n",
       "      <td>ROSE</td>\n",
       "      <td>lg</td>\n",
       "      <td>['자기자본구성비율', '종업원수', '단기차입금 대 총차입금비율', 'CASH F...</td>\n",
       "      <td>[[1785  367]\\n [   5   30]]</td>\n",
       "      <td>0.830</td>\n",
       "      <td>0.076</td>\n",
       "      <td>0.857</td>\n",
       "      <td>0.139</td>\n",
       "      <td>0.926</td>\n",
       "      <td>{'C': 0.01}</td>\n",
       "      <td>N</td>\n",
       "    </tr>\n",
       "    <tr>\n",
       "      <th>3</th>\n",
       "      <td>small_business_df</td>\n",
       "      <td>forward</td>\n",
       "      <td>v_N</td>\n",
       "      <td>ROSE</td>\n",
       "      <td>lg</td>\n",
       "      <td>['총자본사업이익률', '자기자본구성비율', '종업원수', '단기차입금 대 총차입금...</td>\n",
       "      <td>[[1779  373]\\n [   5   30]]</td>\n",
       "      <td>0.827</td>\n",
       "      <td>0.074</td>\n",
       "      <td>0.857</td>\n",
       "      <td>0.137</td>\n",
       "      <td>0.925</td>\n",
       "      <td>{'C': 0.01}</td>\n",
       "      <td>N</td>\n",
       "    </tr>\n",
       "    <tr>\n",
       "      <th>1</th>\n",
       "      <td>small_business_df</td>\n",
       "      <td>stepwise</td>\n",
       "      <td>v_N</td>\n",
       "      <td>RUSE</td>\n",
       "      <td>lg</td>\n",
       "      <td>['자기자본구성비율', '종업원수', '단기차입금 대 총차입금비율', 'CASH F...</td>\n",
       "      <td>[[1768  384]\\n [   5   30]]</td>\n",
       "      <td>0.822</td>\n",
       "      <td>0.072</td>\n",
       "      <td>0.857</td>\n",
       "      <td>0.134</td>\n",
       "      <td>0.915</td>\n",
       "      <td>{'C': 0.1}</td>\n",
       "      <td>N</td>\n",
       "    </tr>\n",
       "    <tr>\n",
       "      <th>14</th>\n",
       "      <td>small_business_df</td>\n",
       "      <td>None</td>\n",
       "      <td>v_N</td>\n",
       "      <td>ROSE</td>\n",
       "      <td>lg</td>\n",
       "      <td>['자기자본증가율', '종업원1인당 인건비증가율', '총자본사업이익률', '총자본영...</td>\n",
       "      <td>[[1741  411]\\n [   5   30]]</td>\n",
       "      <td>0.810</td>\n",
       "      <td>0.068</td>\n",
       "      <td>0.857</td>\n",
       "      <td>0.126</td>\n",
       "      <td>0.910</td>\n",
       "      <td>{'C': 0.001}</td>\n",
       "      <td>N</td>\n",
       "    </tr>\n",
       "    <tr>\n",
       "      <th>13</th>\n",
       "      <td>diff_df</td>\n",
       "      <td>Lasso</td>\n",
       "      <td>v_Y</td>\n",
       "      <td>RUSE</td>\n",
       "      <td>rf</td>\n",
       "      <td>['growth_rate_사내유보율', 'growth_rate_사내유보 대 자기자본...</td>\n",
       "      <td>[[2347  510]\\n [   5   25]]</td>\n",
       "      <td>0.822</td>\n",
       "      <td>0.047</td>\n",
       "      <td>0.833</td>\n",
       "      <td>0.088</td>\n",
       "      <td>0.891</td>\n",
       "      <td>{'max_depth': 12, 'min_samples_leaf': 1, 'min_...</td>\n",
       "      <td>N</td>\n",
       "    </tr>\n",
       "    <tr>\n",
       "      <th>15</th>\n",
       "      <td>basic_final_df</td>\n",
       "      <td>stepwise</td>\n",
       "      <td>v_N</td>\n",
       "      <td>RUSE</td>\n",
       "      <td>rf</td>\n",
       "      <td>['자기자본구성비율', '순운전자본회전률', '경영자본회전률', '이자부담률', '...</td>\n",
       "      <td>[[2646  598]\\n [   7   31]]</td>\n",
       "      <td>0.816</td>\n",
       "      <td>0.049</td>\n",
       "      <td>0.816</td>\n",
       "      <td>0.093</td>\n",
       "      <td>0.915</td>\n",
       "      <td>{'max_depth': 8, 'min_samples_leaf': 6, 'min_s...</td>\n",
       "      <td>N</td>\n",
       "    </tr>\n",
       "  </tbody>\n",
       "</table>\n",
       "</div>\n",
       "      <button class=\"colab-df-convert\" onclick=\"convertToInteractive('df-e35df91c-2ee0-4d2a-b19f-b6a9d71bd47f')\"\n",
       "              title=\"Convert this dataframe to an interactive table.\"\n",
       "              style=\"display:none;\">\n",
       "        \n",
       "  <svg xmlns=\"http://www.w3.org/2000/svg\" height=\"24px\"viewBox=\"0 0 24 24\"\n",
       "       width=\"24px\">\n",
       "    <path d=\"M0 0h24v24H0V0z\" fill=\"none\"/>\n",
       "    <path d=\"M18.56 5.44l.94 2.06.94-2.06 2.06-.94-2.06-.94-.94-2.06-.94 2.06-2.06.94zm-11 1L8.5 8.5l.94-2.06 2.06-.94-2.06-.94L8.5 2.5l-.94 2.06-2.06.94zm10 10l.94 2.06.94-2.06 2.06-.94-2.06-.94-.94-2.06-.94 2.06-2.06.94z\"/><path d=\"M17.41 7.96l-1.37-1.37c-.4-.4-.92-.59-1.43-.59-.52 0-1.04.2-1.43.59L10.3 9.45l-7.72 7.72c-.78.78-.78 2.05 0 2.83L4 21.41c.39.39.9.59 1.41.59.51 0 1.02-.2 1.41-.59l7.78-7.78 2.81-2.81c.8-.78.8-2.07 0-2.86zM5.41 20L4 18.59l7.72-7.72 1.47 1.35L5.41 20z\"/>\n",
       "  </svg>\n",
       "      </button>\n",
       "      \n",
       "  <style>\n",
       "    .colab-df-container {\n",
       "      display:flex;\n",
       "      flex-wrap:wrap;\n",
       "      gap: 12px;\n",
       "    }\n",
       "\n",
       "    .colab-df-convert {\n",
       "      background-color: #E8F0FE;\n",
       "      border: none;\n",
       "      border-radius: 50%;\n",
       "      cursor: pointer;\n",
       "      display: none;\n",
       "      fill: #1967D2;\n",
       "      height: 32px;\n",
       "      padding: 0 0 0 0;\n",
       "      width: 32px;\n",
       "    }\n",
       "\n",
       "    .colab-df-convert:hover {\n",
       "      background-color: #E2EBFA;\n",
       "      box-shadow: 0px 1px 2px rgba(60, 64, 67, 0.3), 0px 1px 3px 1px rgba(60, 64, 67, 0.15);\n",
       "      fill: #174EA6;\n",
       "    }\n",
       "\n",
       "    [theme=dark] .colab-df-convert {\n",
       "      background-color: #3B4455;\n",
       "      fill: #D2E3FC;\n",
       "    }\n",
       "\n",
       "    [theme=dark] .colab-df-convert:hover {\n",
       "      background-color: #434B5C;\n",
       "      box-shadow: 0px 1px 3px 1px rgba(0, 0, 0, 0.15);\n",
       "      filter: drop-shadow(0px 1px 2px rgba(0, 0, 0, 0.3));\n",
       "      fill: #FFFFFF;\n",
       "    }\n",
       "  </style>\n",
       "\n",
       "      <script>\n",
       "        const buttonEl =\n",
       "          document.querySelector('#df-e35df91c-2ee0-4d2a-b19f-b6a9d71bd47f button.colab-df-convert');\n",
       "        buttonEl.style.display =\n",
       "          google.colab.kernel.accessAllowed ? 'block' : 'none';\n",
       "\n",
       "        async function convertToInteractive(key) {\n",
       "          const element = document.querySelector('#df-e35df91c-2ee0-4d2a-b19f-b6a9d71bd47f');\n",
       "          const dataTable =\n",
       "            await google.colab.kernel.invokeFunction('convertToInteractive',\n",
       "                                                     [key], {});\n",
       "          if (!dataTable) return;\n",
       "\n",
       "          const docLinkHtml = 'Like what you see? Visit the ' +\n",
       "            '<a target=\"_blank\" href=https://colab.research.google.com/notebooks/data_table.ipynb>data table notebook</a>'\n",
       "            + ' to learn more about interactive tables.';\n",
       "          element.innerHTML = '';\n",
       "          dataTable['output_type'] = 'display_data';\n",
       "          await google.colab.output.renderOutput(dataTable, element);\n",
       "          const docLink = document.createElement('div');\n",
       "          docLink.innerHTML = docLinkHtml;\n",
       "          element.appendChild(docLink);\n",
       "        }\n",
       "      </script>\n",
       "    </div>\n",
       "  </div>\n",
       "  "
      ],
      "text/plain": [
       "               데이터프레임  ... cut-off\n",
       "9             diff_df  ...       N\n",
       "10  small_business_df  ...       N\n",
       "0   small_business_df  ...       N\n",
       "7   small_business_df  ...       N\n",
       "8   small_business_df  ...       N\n",
       "12  small_business_df  ...       N\n",
       "11     basic_final_df  ...       N\n",
       "6   small_business_df  ...       N\n",
       "2   small_business_df  ...       N\n",
       "4   small_business_df  ...       N\n",
       "5   small_business_df  ...       N\n",
       "3   small_business_df  ...       N\n",
       "1   small_business_df  ...       N\n",
       "14  small_business_df  ...       N\n",
       "13            diff_df  ...       N\n",
       "15     basic_final_df  ...       N\n",
       "\n",
       "[16 rows x 14 columns]"
      ]
     },
     "execution_count": 122,
     "metadata": {},
     "output_type": "execute_result"
    }
   ],
   "source": [
    "bc_auc.sort_values(by=['Recall', 'Accuracy'], ascending = [False, False])"
   ]
  },
  {
   "cell_type": "code",
   "execution_count": null,
   "metadata": {
    "colab": {
     "base_uri": "https://localhost:8080/",
     "height": 300
    },
    "executionInfo": {
     "elapsed": 357,
     "status": "ok",
     "timestamp": 1639974820518,
     "user": {
      "displayName": "윤영주",
      "photoUrl": "https://lh3.googleusercontent.com/a/default-user=s64",
      "userId": "18155336044487350880"
     },
     "user_tz": -540
    },
    "id": "y_av2gTt9jOc",
    "outputId": "4fccc238-1bc0-461b-8648-496eda554670"
   },
   "outputs": [
    {
     "data": {
      "text/html": [
       "\n",
       "  <div id=\"df-3de322c3-dae7-4c14-906f-0ea175a6a279\">\n",
       "    <div class=\"colab-df-container\">\n",
       "      <div>\n",
       "<style scoped>\n",
       "    .dataframe tbody tr th:only-of-type {\n",
       "        vertical-align: middle;\n",
       "    }\n",
       "\n",
       "    .dataframe tbody tr th {\n",
       "        vertical-align: top;\n",
       "    }\n",
       "\n",
       "    .dataframe thead th {\n",
       "        text-align: right;\n",
       "    }\n",
       "</style>\n",
       "<table border=\"1\" class=\"dataframe\">\n",
       "  <thead>\n",
       "    <tr style=\"text-align: right;\">\n",
       "      <th></th>\n",
       "      <th>데이터프레임</th>\n",
       "      <th>VIF(Y/N)</th>\n",
       "      <th>sampling 방식</th>\n",
       "      <th>적용모델</th>\n",
       "      <th>ROC_AUC</th>\n",
       "    </tr>\n",
       "  </thead>\n",
       "  <tbody>\n",
       "    <tr>\n",
       "      <th>0</th>\n",
       "      <td>basic_final_df</td>\n",
       "      <td>v_N</td>\n",
       "      <td>RUSE</td>\n",
       "      <td>rf</td>\n",
       "      <td>0.915000</td>\n",
       "    </tr>\n",
       "    <tr>\n",
       "      <th>1</th>\n",
       "      <td>basic_final_df</td>\n",
       "      <td>v_Y</td>\n",
       "      <td>RUSE</td>\n",
       "      <td>rf</td>\n",
       "      <td>0.911000</td>\n",
       "    </tr>\n",
       "    <tr>\n",
       "      <th>2</th>\n",
       "      <td>diff_df</td>\n",
       "      <td>v_N</td>\n",
       "      <td>RUSE</td>\n",
       "      <td>rf</td>\n",
       "      <td>0.919000</td>\n",
       "    </tr>\n",
       "    <tr>\n",
       "      <th>3</th>\n",
       "      <td>diff_df</td>\n",
       "      <td>v_Y</td>\n",
       "      <td>RUSE</td>\n",
       "      <td>rf</td>\n",
       "      <td>0.891000</td>\n",
       "    </tr>\n",
       "    <tr>\n",
       "      <th>4</th>\n",
       "      <td>small_business_df</td>\n",
       "      <td>v_N</td>\n",
       "      <td>ROSE</td>\n",
       "      <td>lg</td>\n",
       "      <td>0.920333</td>\n",
       "    </tr>\n",
       "    <tr>\n",
       "      <th>5</th>\n",
       "      <td>small_business_df</td>\n",
       "      <td>v_N</td>\n",
       "      <td>RUSE</td>\n",
       "      <td>lg</td>\n",
       "      <td>0.919000</td>\n",
       "    </tr>\n",
       "    <tr>\n",
       "      <th>6</th>\n",
       "      <td>small_business_df</td>\n",
       "      <td>v_N</td>\n",
       "      <td>SMOTE</td>\n",
       "      <td>lg</td>\n",
       "      <td>0.922750</td>\n",
       "    </tr>\n",
       "    <tr>\n",
       "      <th>7</th>\n",
       "      <td>small_business_df</td>\n",
       "      <td>v_Y</td>\n",
       "      <td>RUSE</td>\n",
       "      <td>rf</td>\n",
       "      <td>0.919500</td>\n",
       "    </tr>\n",
       "  </tbody>\n",
       "</table>\n",
       "</div>\n",
       "      <button class=\"colab-df-convert\" onclick=\"convertToInteractive('df-3de322c3-dae7-4c14-906f-0ea175a6a279')\"\n",
       "              title=\"Convert this dataframe to an interactive table.\"\n",
       "              style=\"display:none;\">\n",
       "        \n",
       "  <svg xmlns=\"http://www.w3.org/2000/svg\" height=\"24px\"viewBox=\"0 0 24 24\"\n",
       "       width=\"24px\">\n",
       "    <path d=\"M0 0h24v24H0V0z\" fill=\"none\"/>\n",
       "    <path d=\"M18.56 5.44l.94 2.06.94-2.06 2.06-.94-2.06-.94-.94-2.06-.94 2.06-2.06.94zm-11 1L8.5 8.5l.94-2.06 2.06-.94-2.06-.94L8.5 2.5l-.94 2.06-2.06.94zm10 10l.94 2.06.94-2.06 2.06-.94-2.06-.94-.94-2.06-.94 2.06-2.06.94z\"/><path d=\"M17.41 7.96l-1.37-1.37c-.4-.4-.92-.59-1.43-.59-.52 0-1.04.2-1.43.59L10.3 9.45l-7.72 7.72c-.78.78-.78 2.05 0 2.83L4 21.41c.39.39.9.59 1.41.59.51 0 1.02-.2 1.41-.59l7.78-7.78 2.81-2.81c.8-.78.8-2.07 0-2.86zM5.41 20L4 18.59l7.72-7.72 1.47 1.35L5.41 20z\"/>\n",
       "  </svg>\n",
       "      </button>\n",
       "      \n",
       "  <style>\n",
       "    .colab-df-container {\n",
       "      display:flex;\n",
       "      flex-wrap:wrap;\n",
       "      gap: 12px;\n",
       "    }\n",
       "\n",
       "    .colab-df-convert {\n",
       "      background-color: #E8F0FE;\n",
       "      border: none;\n",
       "      border-radius: 50%;\n",
       "      cursor: pointer;\n",
       "      display: none;\n",
       "      fill: #1967D2;\n",
       "      height: 32px;\n",
       "      padding: 0 0 0 0;\n",
       "      width: 32px;\n",
       "    }\n",
       "\n",
       "    .colab-df-convert:hover {\n",
       "      background-color: #E2EBFA;\n",
       "      box-shadow: 0px 1px 2px rgba(60, 64, 67, 0.3), 0px 1px 3px 1px rgba(60, 64, 67, 0.15);\n",
       "      fill: #174EA6;\n",
       "    }\n",
       "\n",
       "    [theme=dark] .colab-df-convert {\n",
       "      background-color: #3B4455;\n",
       "      fill: #D2E3FC;\n",
       "    }\n",
       "\n",
       "    [theme=dark] .colab-df-convert:hover {\n",
       "      background-color: #434B5C;\n",
       "      box-shadow: 0px 1px 3px 1px rgba(0, 0, 0, 0.15);\n",
       "      filter: drop-shadow(0px 1px 2px rgba(0, 0, 0, 0.3));\n",
       "      fill: #FFFFFF;\n",
       "    }\n",
       "  </style>\n",
       "\n",
       "      <script>\n",
       "        const buttonEl =\n",
       "          document.querySelector('#df-3de322c3-dae7-4c14-906f-0ea175a6a279 button.colab-df-convert');\n",
       "        buttonEl.style.display =\n",
       "          google.colab.kernel.accessAllowed ? 'block' : 'none';\n",
       "\n",
       "        async function convertToInteractive(key) {\n",
       "          const element = document.querySelector('#df-3de322c3-dae7-4c14-906f-0ea175a6a279');\n",
       "          const dataTable =\n",
       "            await google.colab.kernel.invokeFunction('convertToInteractive',\n",
       "                                                     [key], {});\n",
       "          if (!dataTable) return;\n",
       "\n",
       "          const docLinkHtml = 'Like what you see? Visit the ' +\n",
       "            '<a target=\"_blank\" href=https://colab.research.google.com/notebooks/data_table.ipynb>data table notebook</a>'\n",
       "            + ' to learn more about interactive tables.';\n",
       "          element.innerHTML = '';\n",
       "          dataTable['output_type'] = 'display_data';\n",
       "          await google.colab.output.renderOutput(dataTable, element);\n",
       "          const docLink = document.createElement('div');\n",
       "          docLink.innerHTML = docLinkHtml;\n",
       "          element.appendChild(docLink);\n",
       "        }\n",
       "      </script>\n",
       "    </div>\n",
       "  </div>\n",
       "  "
      ],
      "text/plain": [
       "              데이터프레임 VIF(Y/N) sampling 방식 적용모델   ROC_AUC\n",
       "0     basic_final_df      v_N        RUSE   rf  0.915000\n",
       "1     basic_final_df      v_Y        RUSE   rf  0.911000\n",
       "2            diff_df      v_N        RUSE   rf  0.919000\n",
       "3            diff_df      v_Y        RUSE   rf  0.891000\n",
       "4  small_business_df      v_N        ROSE   lg  0.920333\n",
       "5  small_business_df      v_N        RUSE   lg  0.919000\n",
       "6  small_business_df      v_N       SMOTE   lg  0.922750\n",
       "7  small_business_df      v_Y        RUSE   rf  0.919500"
      ]
     },
     "execution_count": 120,
     "metadata": {},
     "output_type": "execute_result"
    }
   ],
   "source": [
    "bc_auc = pd.read_csv('grid_result_auc.csv')\n",
    "bc_auc.drop(['train_test_split(Y/R)','t-test(Y/N)'], axis=1, inplace=True)\n",
    "check = bc_auc.groupby(['데이터프레임','VIF(Y/N)','sampling 방식','적용모델'])['ROC_AUC'].mean().reset_index()\n",
    "check"
   ]
  },
  {
   "cell_type": "code",
   "execution_count": null,
   "metadata": {
    "colab": {
     "base_uri": "https://localhost:8080/",
     "height": 300
    },
    "executionInfo": {
     "elapsed": 380,
     "status": "ok",
     "timestamp": 1639974826282,
     "user": {
      "displayName": "윤영주",
      "photoUrl": "https://lh3.googleusercontent.com/a/default-user=s64",
      "userId": "18155336044487350880"
     },
     "user_tz": -540
    },
    "id": "um7gU-DXHQX4",
    "outputId": "9ef4310e-e91e-4b05-d5be-9a7be657cd49"
   },
   "outputs": [
    {
     "data": {
      "text/html": [
       "\n",
       "  <div id=\"df-a21bccdd-2d68-4ed4-9999-cb9ffbd3fc22\">\n",
       "    <div class=\"colab-df-container\">\n",
       "      <div>\n",
       "<style scoped>\n",
       "    .dataframe tbody tr th:only-of-type {\n",
       "        vertical-align: middle;\n",
       "    }\n",
       "\n",
       "    .dataframe tbody tr th {\n",
       "        vertical-align: top;\n",
       "    }\n",
       "\n",
       "    .dataframe thead th {\n",
       "        text-align: right;\n",
       "    }\n",
       "</style>\n",
       "<table border=\"1\" class=\"dataframe\">\n",
       "  <thead>\n",
       "    <tr style=\"text-align: right;\">\n",
       "      <th></th>\n",
       "      <th>데이터프레임</th>\n",
       "      <th>VIF(Y/N)</th>\n",
       "      <th>sampling 방식</th>\n",
       "      <th>적용모델</th>\n",
       "      <th>ROC_AUC</th>\n",
       "    </tr>\n",
       "  </thead>\n",
       "  <tbody>\n",
       "    <tr>\n",
       "      <th>6</th>\n",
       "      <td>small_business_df</td>\n",
       "      <td>v_N</td>\n",
       "      <td>SMOTE</td>\n",
       "      <td>lg</td>\n",
       "      <td>0.922750</td>\n",
       "    </tr>\n",
       "    <tr>\n",
       "      <th>4</th>\n",
       "      <td>small_business_df</td>\n",
       "      <td>v_N</td>\n",
       "      <td>ROSE</td>\n",
       "      <td>lg</td>\n",
       "      <td>0.920333</td>\n",
       "    </tr>\n",
       "    <tr>\n",
       "      <th>7</th>\n",
       "      <td>small_business_df</td>\n",
       "      <td>v_Y</td>\n",
       "      <td>RUSE</td>\n",
       "      <td>rf</td>\n",
       "      <td>0.919500</td>\n",
       "    </tr>\n",
       "    <tr>\n",
       "      <th>2</th>\n",
       "      <td>diff_df</td>\n",
       "      <td>v_N</td>\n",
       "      <td>RUSE</td>\n",
       "      <td>rf</td>\n",
       "      <td>0.919000</td>\n",
       "    </tr>\n",
       "    <tr>\n",
       "      <th>5</th>\n",
       "      <td>small_business_df</td>\n",
       "      <td>v_N</td>\n",
       "      <td>RUSE</td>\n",
       "      <td>lg</td>\n",
       "      <td>0.919000</td>\n",
       "    </tr>\n",
       "    <tr>\n",
       "      <th>0</th>\n",
       "      <td>basic_final_df</td>\n",
       "      <td>v_N</td>\n",
       "      <td>RUSE</td>\n",
       "      <td>rf</td>\n",
       "      <td>0.915000</td>\n",
       "    </tr>\n",
       "    <tr>\n",
       "      <th>1</th>\n",
       "      <td>basic_final_df</td>\n",
       "      <td>v_Y</td>\n",
       "      <td>RUSE</td>\n",
       "      <td>rf</td>\n",
       "      <td>0.911000</td>\n",
       "    </tr>\n",
       "    <tr>\n",
       "      <th>3</th>\n",
       "      <td>diff_df</td>\n",
       "      <td>v_Y</td>\n",
       "      <td>RUSE</td>\n",
       "      <td>rf</td>\n",
       "      <td>0.891000</td>\n",
       "    </tr>\n",
       "  </tbody>\n",
       "</table>\n",
       "</div>\n",
       "      <button class=\"colab-df-convert\" onclick=\"convertToInteractive('df-a21bccdd-2d68-4ed4-9999-cb9ffbd3fc22')\"\n",
       "              title=\"Convert this dataframe to an interactive table.\"\n",
       "              style=\"display:none;\">\n",
       "        \n",
       "  <svg xmlns=\"http://www.w3.org/2000/svg\" height=\"24px\"viewBox=\"0 0 24 24\"\n",
       "       width=\"24px\">\n",
       "    <path d=\"M0 0h24v24H0V0z\" fill=\"none\"/>\n",
       "    <path d=\"M18.56 5.44l.94 2.06.94-2.06 2.06-.94-2.06-.94-.94-2.06-.94 2.06-2.06.94zm-11 1L8.5 8.5l.94-2.06 2.06-.94-2.06-.94L8.5 2.5l-.94 2.06-2.06.94zm10 10l.94 2.06.94-2.06 2.06-.94-2.06-.94-.94-2.06-.94 2.06-2.06.94z\"/><path d=\"M17.41 7.96l-1.37-1.37c-.4-.4-.92-.59-1.43-.59-.52 0-1.04.2-1.43.59L10.3 9.45l-7.72 7.72c-.78.78-.78 2.05 0 2.83L4 21.41c.39.39.9.59 1.41.59.51 0 1.02-.2 1.41-.59l7.78-7.78 2.81-2.81c.8-.78.8-2.07 0-2.86zM5.41 20L4 18.59l7.72-7.72 1.47 1.35L5.41 20z\"/>\n",
       "  </svg>\n",
       "      </button>\n",
       "      \n",
       "  <style>\n",
       "    .colab-df-container {\n",
       "      display:flex;\n",
       "      flex-wrap:wrap;\n",
       "      gap: 12px;\n",
       "    }\n",
       "\n",
       "    .colab-df-convert {\n",
       "      background-color: #E8F0FE;\n",
       "      border: none;\n",
       "      border-radius: 50%;\n",
       "      cursor: pointer;\n",
       "      display: none;\n",
       "      fill: #1967D2;\n",
       "      height: 32px;\n",
       "      padding: 0 0 0 0;\n",
       "      width: 32px;\n",
       "    }\n",
       "\n",
       "    .colab-df-convert:hover {\n",
       "      background-color: #E2EBFA;\n",
       "      box-shadow: 0px 1px 2px rgba(60, 64, 67, 0.3), 0px 1px 3px 1px rgba(60, 64, 67, 0.15);\n",
       "      fill: #174EA6;\n",
       "    }\n",
       "\n",
       "    [theme=dark] .colab-df-convert {\n",
       "      background-color: #3B4455;\n",
       "      fill: #D2E3FC;\n",
       "    }\n",
       "\n",
       "    [theme=dark] .colab-df-convert:hover {\n",
       "      background-color: #434B5C;\n",
       "      box-shadow: 0px 1px 3px 1px rgba(0, 0, 0, 0.15);\n",
       "      filter: drop-shadow(0px 1px 2px rgba(0, 0, 0, 0.3));\n",
       "      fill: #FFFFFF;\n",
       "    }\n",
       "  </style>\n",
       "\n",
       "      <script>\n",
       "        const buttonEl =\n",
       "          document.querySelector('#df-a21bccdd-2d68-4ed4-9999-cb9ffbd3fc22 button.colab-df-convert');\n",
       "        buttonEl.style.display =\n",
       "          google.colab.kernel.accessAllowed ? 'block' : 'none';\n",
       "\n",
       "        async function convertToInteractive(key) {\n",
       "          const element = document.querySelector('#df-a21bccdd-2d68-4ed4-9999-cb9ffbd3fc22');\n",
       "          const dataTable =\n",
       "            await google.colab.kernel.invokeFunction('convertToInteractive',\n",
       "                                                     [key], {});\n",
       "          if (!dataTable) return;\n",
       "\n",
       "          const docLinkHtml = 'Like what you see? Visit the ' +\n",
       "            '<a target=\"_blank\" href=https://colab.research.google.com/notebooks/data_table.ipynb>data table notebook</a>'\n",
       "            + ' to learn more about interactive tables.';\n",
       "          element.innerHTML = '';\n",
       "          dataTable['output_type'] = 'display_data';\n",
       "          await google.colab.output.renderOutput(dataTable, element);\n",
       "          const docLink = document.createElement('div');\n",
       "          docLink.innerHTML = docLinkHtml;\n",
       "          element.appendChild(docLink);\n",
       "        }\n",
       "      </script>\n",
       "    </div>\n",
       "  </div>\n",
       "  "
      ],
      "text/plain": [
       "              데이터프레임 VIF(Y/N) sampling 방식 적용모델   ROC_AUC\n",
       "6  small_business_df      v_N       SMOTE   lg  0.922750\n",
       "4  small_business_df      v_N        ROSE   lg  0.920333\n",
       "7  small_business_df      v_Y        RUSE   rf  0.919500\n",
       "2            diff_df      v_N        RUSE   rf  0.919000\n",
       "5  small_business_df      v_N        RUSE   lg  0.919000\n",
       "0     basic_final_df      v_N        RUSE   rf  0.915000\n",
       "1     basic_final_df      v_Y        RUSE   rf  0.911000\n",
       "3            diff_df      v_Y        RUSE   rf  0.891000"
      ]
     },
     "execution_count": 121,
     "metadata": {},
     "output_type": "execute_result"
    }
   ],
   "source": [
    "check.sort_values(by='ROC_AUC', ascending=False)"
   ]
  },
  {
   "cell_type": "code",
   "execution_count": null,
   "metadata": {
    "id": "0iidklhhE-xT"
   },
   "outputs": [],
   "source": [
    "auc.sort_values(by='ROC_AUC', ascending=False, inplace=True)\n",
    "acc.sort_values(by='ROC_accuracy', ascending=False, inplace=True)"
   ]
  },
  {
   "cell_type": "code",
   "execution_count": null,
   "metadata": {
    "colab": {
     "base_uri": "https://localhost:8080/",
     "height": 422
    },
    "executionInfo": {
     "elapsed": 26,
     "status": "ok",
     "timestamp": 1639890715465,
     "user": {
      "displayName": "윤영주",
      "photoUrl": "https://lh3.googleusercontent.com/a/default-user=s64",
      "userId": "18155336044487350880"
     },
     "user_tz": -540
    },
    "id": "HhubC1V4FHvS",
    "outputId": "4c7236ca-6c42-4496-b944-613f9459f0d3"
   },
   "outputs": [
    {
     "data": {
      "text/html": [
       "\n",
       "  <div id=\"df-ed159aa0-4311-4516-b8c7-a418c40d5f52\">\n",
       "    <div class=\"colab-df-container\">\n",
       "      <div>\n",
       "<style scoped>\n",
       "    .dataframe tbody tr th:only-of-type {\n",
       "        vertical-align: middle;\n",
       "    }\n",
       "\n",
       "    .dataframe tbody tr th {\n",
       "        vertical-align: top;\n",
       "    }\n",
       "\n",
       "    .dataframe thead th {\n",
       "        text-align: right;\n",
       "    }\n",
       "</style>\n",
       "<table border=\"1\" class=\"dataframe\">\n",
       "  <thead>\n",
       "    <tr style=\"text-align: right;\">\n",
       "      <th></th>\n",
       "      <th>데이터프레임</th>\n",
       "      <th>train_test_split(Y/R)</th>\n",
       "      <th>t-test(Y/N)</th>\n",
       "      <th>변수선택법</th>\n",
       "      <th>VIF(Y/N)</th>\n",
       "      <th>sampling 방식</th>\n",
       "      <th>적용모델</th>\n",
       "      <th>선택된 변수</th>\n",
       "      <th>혼동행렬</th>\n",
       "      <th>Accuracy</th>\n",
       "      <th>Precision</th>\n",
       "      <th>Recall</th>\n",
       "      <th>F1-score</th>\n",
       "      <th>ROC_AUC</th>\n",
       "      <th>hyperparameter 변경</th>\n",
       "      <th>cut-off</th>\n",
       "    </tr>\n",
       "  </thead>\n",
       "  <tbody>\n",
       "    <tr>\n",
       "      <th>1</th>\n",
       "      <td>small_business_df</td>\n",
       "      <td>R</td>\n",
       "      <td>t_Y</td>\n",
       "      <td>stepwise</td>\n",
       "      <td>v_N</td>\n",
       "      <td>RUSE</td>\n",
       "      <td>lg</td>\n",
       "      <td>['자기자본구성비율', '종업원수', '단기차입금 대 총차입금비율', 'CASH F...</td>\n",
       "      <td>[[1811  341]\\n [   3   32]]</td>\n",
       "      <td>0.843</td>\n",
       "      <td>0.086</td>\n",
       "      <td>0.914</td>\n",
       "      <td>0.157</td>\n",
       "      <td>0.932</td>\n",
       "      <td>{'C': 10}</td>\n",
       "      <td>cutoff</td>\n",
       "    </tr>\n",
       "  </tbody>\n",
       "</table>\n",
       "</div>\n",
       "      <button class=\"colab-df-convert\" onclick=\"convertToInteractive('df-ed159aa0-4311-4516-b8c7-a418c40d5f52')\"\n",
       "              title=\"Convert this dataframe to an interactive table.\"\n",
       "              style=\"display:none;\">\n",
       "        \n",
       "  <svg xmlns=\"http://www.w3.org/2000/svg\" height=\"24px\"viewBox=\"0 0 24 24\"\n",
       "       width=\"24px\">\n",
       "    <path d=\"M0 0h24v24H0V0z\" fill=\"none\"/>\n",
       "    <path d=\"M18.56 5.44l.94 2.06.94-2.06 2.06-.94-2.06-.94-.94-2.06-.94 2.06-2.06.94zm-11 1L8.5 8.5l.94-2.06 2.06-.94-2.06-.94L8.5 2.5l-.94 2.06-2.06.94zm10 10l.94 2.06.94-2.06 2.06-.94-2.06-.94-.94-2.06-.94 2.06-2.06.94z\"/><path d=\"M17.41 7.96l-1.37-1.37c-.4-.4-.92-.59-1.43-.59-.52 0-1.04.2-1.43.59L10.3 9.45l-7.72 7.72c-.78.78-.78 2.05 0 2.83L4 21.41c.39.39.9.59 1.41.59.51 0 1.02-.2 1.41-.59l7.78-7.78 2.81-2.81c.8-.78.8-2.07 0-2.86zM5.41 20L4 18.59l7.72-7.72 1.47 1.35L5.41 20z\"/>\n",
       "  </svg>\n",
       "      </button>\n",
       "      \n",
       "  <style>\n",
       "    .colab-df-container {\n",
       "      display:flex;\n",
       "      flex-wrap:wrap;\n",
       "      gap: 12px;\n",
       "    }\n",
       "\n",
       "    .colab-df-convert {\n",
       "      background-color: #E8F0FE;\n",
       "      border: none;\n",
       "      border-radius: 50%;\n",
       "      cursor: pointer;\n",
       "      display: none;\n",
       "      fill: #1967D2;\n",
       "      height: 32px;\n",
       "      padding: 0 0 0 0;\n",
       "      width: 32px;\n",
       "    }\n",
       "\n",
       "    .colab-df-convert:hover {\n",
       "      background-color: #E2EBFA;\n",
       "      box-shadow: 0px 1px 2px rgba(60, 64, 67, 0.3), 0px 1px 3px 1px rgba(60, 64, 67, 0.15);\n",
       "      fill: #174EA6;\n",
       "    }\n",
       "\n",
       "    [theme=dark] .colab-df-convert {\n",
       "      background-color: #3B4455;\n",
       "      fill: #D2E3FC;\n",
       "    }\n",
       "\n",
       "    [theme=dark] .colab-df-convert:hover {\n",
       "      background-color: #434B5C;\n",
       "      box-shadow: 0px 1px 3px 1px rgba(0, 0, 0, 0.15);\n",
       "      filter: drop-shadow(0px 1px 2px rgba(0, 0, 0, 0.3));\n",
       "      fill: #FFFFFF;\n",
       "    }\n",
       "  </style>\n",
       "\n",
       "      <script>\n",
       "        const buttonEl =\n",
       "          document.querySelector('#df-ed159aa0-4311-4516-b8c7-a418c40d5f52 button.colab-df-convert');\n",
       "        buttonEl.style.display =\n",
       "          google.colab.kernel.accessAllowed ? 'block' : 'none';\n",
       "\n",
       "        async function convertToInteractive(key) {\n",
       "          const element = document.querySelector('#df-ed159aa0-4311-4516-b8c7-a418c40d5f52');\n",
       "          const dataTable =\n",
       "            await google.colab.kernel.invokeFunction('convertToInteractive',\n",
       "                                                     [key], {});\n",
       "          if (!dataTable) return;\n",
       "\n",
       "          const docLinkHtml = 'Like what you see? Visit the ' +\n",
       "            '<a target=\"_blank\" href=https://colab.research.google.com/notebooks/data_table.ipynb>data table notebook</a>'\n",
       "            + ' to learn more about interactive tables.';\n",
       "          element.innerHTML = '';\n",
       "          dataTable['output_type'] = 'display_data';\n",
       "          await google.colab.output.renderOutput(dataTable, element);\n",
       "          const docLink = document.createElement('div');\n",
       "          docLink.innerHTML = docLinkHtml;\n",
       "          element.appendChild(docLink);\n",
       "        }\n",
       "      </script>\n",
       "    </div>\n",
       "  </div>\n",
       "  "
      ],
      "text/plain": [
       "              데이터프레임 train_test_split(Y/R)  ... hyperparameter 변경 cut-off\n",
       "1  small_business_df                     R  ...         {'C': 10}  cutoff\n",
       "\n",
       "[1 rows x 16 columns]"
      ]
     },
     "execution_count": 17,
     "metadata": {},
     "output_type": "execute_result"
    }
   ],
   "source": [
    "auc.head(1)"
   ]
  },
  {
   "cell_type": "code",
   "execution_count": null,
   "metadata": {
    "colab": {
     "base_uri": "https://localhost:8080/",
     "height": 718
    },
    "executionInfo": {
     "elapsed": 298,
     "status": "ok",
     "timestamp": 1639890724754,
     "user": {
      "displayName": "윤영주",
      "photoUrl": "https://lh3.googleusercontent.com/a/default-user=s64",
      "userId": "18155336044487350880"
     },
     "user_tz": -540
    },
    "id": "UQqH1yhEGpb-",
    "outputId": "d7efb902-2725-4001-d58e-1ceed015b494"
   },
   "outputs": [
    {
     "data": {
      "text/html": [
       "\n",
       "  <div id=\"df-ee1adebc-19e5-4387-af5c-9802fee83821\">\n",
       "    <div class=\"colab-df-container\">\n",
       "      <div>\n",
       "<style scoped>\n",
       "    .dataframe tbody tr th:only-of-type {\n",
       "        vertical-align: middle;\n",
       "    }\n",
       "\n",
       "    .dataframe tbody tr th {\n",
       "        vertical-align: top;\n",
       "    }\n",
       "\n",
       "    .dataframe thead th {\n",
       "        text-align: right;\n",
       "    }\n",
       "</style>\n",
       "<table border=\"1\" class=\"dataframe\">\n",
       "  <thead>\n",
       "    <tr style=\"text-align: right;\">\n",
       "      <th></th>\n",
       "      <th>데이터프레임</th>\n",
       "      <th>train_test_split(Y/R)</th>\n",
       "      <th>t-test(Y/N)</th>\n",
       "      <th>변수선택법</th>\n",
       "      <th>VIF(Y/N)</th>\n",
       "      <th>sampling 방식</th>\n",
       "      <th>적용모델</th>\n",
       "      <th>선택된 변수</th>\n",
       "      <th>혼동행렬</th>\n",
       "      <th>Accuracy</th>\n",
       "      <th>Precision</th>\n",
       "      <th>Recall</th>\n",
       "      <th>F1-score</th>\n",
       "      <th>ROC_accuracy</th>\n",
       "      <th>hyperparameter 변경</th>\n",
       "      <th>cut-off</th>\n",
       "    </tr>\n",
       "  </thead>\n",
       "  <tbody>\n",
       "    <tr>\n",
       "      <th>4</th>\n",
       "      <td>small_business_df</td>\n",
       "      <td>R</td>\n",
       "      <td>t_Y</td>\n",
       "      <td>forward</td>\n",
       "      <td>v_N</td>\n",
       "      <td>SMOTE</td>\n",
       "      <td>lg</td>\n",
       "      <td>['총자본사업이익률', '자기자본구성비율', '종업원수', '단기차입금 대 총차입금...</td>\n",
       "      <td>[[1895  257]\\n [   5   30]]</td>\n",
       "      <td>0.88</td>\n",
       "      <td>0.105</td>\n",
       "      <td>0.857</td>\n",
       "      <td>0.186</td>\n",
       "      <td>0.928</td>\n",
       "      <td>{'C': 0.1}</td>\n",
       "      <td>cutoff</td>\n",
       "    </tr>\n",
       "  </tbody>\n",
       "</table>\n",
       "</div>\n",
       "      <button class=\"colab-df-convert\" onclick=\"convertToInteractive('df-ee1adebc-19e5-4387-af5c-9802fee83821')\"\n",
       "              title=\"Convert this dataframe to an interactive table.\"\n",
       "              style=\"display:none;\">\n",
       "        \n",
       "  <svg xmlns=\"http://www.w3.org/2000/svg\" height=\"24px\"viewBox=\"0 0 24 24\"\n",
       "       width=\"24px\">\n",
       "    <path d=\"M0 0h24v24H0V0z\" fill=\"none\"/>\n",
       "    <path d=\"M18.56 5.44l.94 2.06.94-2.06 2.06-.94-2.06-.94-.94-2.06-.94 2.06-2.06.94zm-11 1L8.5 8.5l.94-2.06 2.06-.94-2.06-.94L8.5 2.5l-.94 2.06-2.06.94zm10 10l.94 2.06.94-2.06 2.06-.94-2.06-.94-.94-2.06-.94 2.06-2.06.94z\"/><path d=\"M17.41 7.96l-1.37-1.37c-.4-.4-.92-.59-1.43-.59-.52 0-1.04.2-1.43.59L10.3 9.45l-7.72 7.72c-.78.78-.78 2.05 0 2.83L4 21.41c.39.39.9.59 1.41.59.51 0 1.02-.2 1.41-.59l7.78-7.78 2.81-2.81c.8-.78.8-2.07 0-2.86zM5.41 20L4 18.59l7.72-7.72 1.47 1.35L5.41 20z\"/>\n",
       "  </svg>\n",
       "      </button>\n",
       "      \n",
       "  <style>\n",
       "    .colab-df-container {\n",
       "      display:flex;\n",
       "      flex-wrap:wrap;\n",
       "      gap: 12px;\n",
       "    }\n",
       "\n",
       "    .colab-df-convert {\n",
       "      background-color: #E8F0FE;\n",
       "      border: none;\n",
       "      border-radius: 50%;\n",
       "      cursor: pointer;\n",
       "      display: none;\n",
       "      fill: #1967D2;\n",
       "      height: 32px;\n",
       "      padding: 0 0 0 0;\n",
       "      width: 32px;\n",
       "    }\n",
       "\n",
       "    .colab-df-convert:hover {\n",
       "      background-color: #E2EBFA;\n",
       "      box-shadow: 0px 1px 2px rgba(60, 64, 67, 0.3), 0px 1px 3px 1px rgba(60, 64, 67, 0.15);\n",
       "      fill: #174EA6;\n",
       "    }\n",
       "\n",
       "    [theme=dark] .colab-df-convert {\n",
       "      background-color: #3B4455;\n",
       "      fill: #D2E3FC;\n",
       "    }\n",
       "\n",
       "    [theme=dark] .colab-df-convert:hover {\n",
       "      background-color: #434B5C;\n",
       "      box-shadow: 0px 1px 3px 1px rgba(0, 0, 0, 0.15);\n",
       "      filter: drop-shadow(0px 1px 2px rgba(0, 0, 0, 0.3));\n",
       "      fill: #FFFFFF;\n",
       "    }\n",
       "  </style>\n",
       "\n",
       "      <script>\n",
       "        const buttonEl =\n",
       "          document.querySelector('#df-ee1adebc-19e5-4387-af5c-9802fee83821 button.colab-df-convert');\n",
       "        buttonEl.style.display =\n",
       "          google.colab.kernel.accessAllowed ? 'block' : 'none';\n",
       "\n",
       "        async function convertToInteractive(key) {\n",
       "          const element = document.querySelector('#df-ee1adebc-19e5-4387-af5c-9802fee83821');\n",
       "          const dataTable =\n",
       "            await google.colab.kernel.invokeFunction('convertToInteractive',\n",
       "                                                     [key], {});\n",
       "          if (!dataTable) return;\n",
       "\n",
       "          const docLinkHtml = 'Like what you see? Visit the ' +\n",
       "            '<a target=\"_blank\" href=https://colab.research.google.com/notebooks/data_table.ipynb>data table notebook</a>'\n",
       "            + ' to learn more about interactive tables.';\n",
       "          element.innerHTML = '';\n",
       "          dataTable['output_type'] = 'display_data';\n",
       "          await google.colab.output.renderOutput(dataTable, element);\n",
       "          const docLink = document.createElement('div');\n",
       "          docLink.innerHTML = docLinkHtml;\n",
       "          element.appendChild(docLink);\n",
       "        }\n",
       "      </script>\n",
       "    </div>\n",
       "  </div>\n",
       "  "
      ],
      "text/plain": [
       "              데이터프레임 train_test_split(Y/R)  ... hyperparameter 변경 cut-off\n",
       "4  small_business_df                     R  ...        {'C': 0.1}  cutoff\n",
       "\n",
       "[1 rows x 16 columns]"
      ]
     },
     "execution_count": 18,
     "metadata": {},
     "output_type": "execute_result"
    }
   ],
   "source": [
    "acc.head(1)"
   ]
  },
  {
   "cell_type": "markdown",
   "metadata": {
    "id": "0Dt0ZgtY_AIM"
   },
   "source": [
    "# ~"
   ]
  },
  {
   "cell_type": "code",
   "execution_count": null,
   "metadata": {
    "id": "cZj59J2pXFfT"
   },
   "outputs": [],
   "source": [
    "final_df = pd.read_csv('basic_final_df.csv')"
   ]
  },
  {
   "cell_type": "code",
   "execution_count": null,
   "metadata": {
    "id": "2sn8ZKctXFY3"
   },
   "outputs": [],
   "source": [
    "columns_list = final_df.columns"
   ]
  },
  {
   "cell_type": "code",
   "execution_count": null,
   "metadata": {
    "id": "gAdHTRqMes_p"
   },
   "outputs": [],
   "source": [
    "for each_df in ['basic_final_df', 'diff_df','binning_final_df', 'small_business_df']:\n",
    "    result = df[df['데이터프레임']== each_df]\n",
    "    col_list = []\n",
    "    for idx,col in result.iterrows():\n",
    "        seleted_variables = re.sub(\"\\[|\\]|\\'|\\'|\", \"\",col[7]).split(', ')\n",
    "        col_list.extend(seleted_variables)\n",
    "        \n",
    "        result = Counter(col_list)\n",
    "\n",
    "        result = pd.DataFrame.from_dict(result, orient='index').reset_index()\n",
    "        result.rename(columns = {0:'count', 'index':'feature'}, inplace=True)\n",
    "        result.sort_values(by='count', ascending=False, inplace=True)\n",
    "\n",
    "    plt.figure(figsize=(5,20))\n",
    "    plt.title(each_df)\n",
    "    sns.barplot( data= result, x= \"count\", y= \"feature\")\n",
    "    plt.show()"
   ]
  },
  {
   "cell_type": "code",
   "execution_count": null,
   "metadata": {
    "id": "VhEHnrf3sGDn"
   },
   "outputs": [],
   "source": [
    "df[df['데이터프레임']== 'binning_final_df']"
   ]
  },
  {
   "cell_type": "code",
   "execution_count": null,
   "metadata": {
    "colab": {
     "base_uri": "https://localhost:8080/",
     "height": 1000
    },
    "executionInfo": {
     "elapsed": 4104,
     "status": "ok",
     "timestamp": 1639732278144,
     "user": {
      "displayName": "윤영주",
      "photoUrl": "https://lh3.googleusercontent.com/a/default-user=s64",
      "userId": "18155336044487350880"
     },
     "user_tz": -540
    },
    "id": "8WxOJ0-DpxUs",
    "outputId": "42d408cf-0926-4aae-8a43-4414ab6d9cf5"
   },
   "outputs": [
    {
     "data": {
      "text/plain": [
       "<matplotlib.axes._subplots.AxesSubplot at 0x7f8e8eeb3290>"
      ]
     },
     "execution_count": 118,
     "metadata": {},
     "output_type": "execute_result"
    },
    {
     "data": {
      "image/png": "[encoded data removed]",
      "text/plain": [
       "<Figure size 360x1440 with 1 Axes>"
      ]
     },
     "metadata": {
      "needs_background": "light"
     },
     "output_type": "display_data"
    }
   ],
   "source": [
    "for each_df in ['basic_final_df', 'diff_df','binning_final_df', 'small_business_df']:\n",
    "    result = df[df['데이터프레임']== each_df]\n",
    "    col_list = []\n",
    "    for idx,col in result.iterrows():\n",
    "        seleted_variables = re.sub(\"\\[|\\]|\\'|\\'|\", \"\",col[7]).split(', ')\n",
    "        col_list.extend(seleted_variables)\n",
    "        \n",
    "        result = Counter(col_list)\n",
    "\n",
    "        result = pd.DataFrame.from_dict(result, orient='index').reset_index()\n",
    "        result.rename(columns = {0:'count', 'index':'feature'}, inplace=True)\n",
    "        result.sort_values(by='count', ascending=False, inplace=True)\n",
    "\n",
    "    plt.figure(figsize=(5,20))\n",
    "    plt.title(each_df)\n",
    "    sns.barplot( data= result, x= \"count\", y= \"feature\")\n",
    "    plt.show()"
   ]
  },
  {
   "cell_type": "markdown",
   "metadata": {
    "id": "SEfcoaF2VTC3"
   },
   "source": [
    "# top_92"
   ]
  },
  {
   "cell_type": "code",
   "execution_count": null,
   "metadata": {
    "id": "aZr_KXv98jBW"
   },
   "outputs": [],
   "source": [
    "df.sort_values(by=['Recall', 'Accuracy'], ascending=[False, False],inplace=True)"
   ]
  },
  {
   "cell_type": "code",
   "execution_count": null,
   "metadata": {
    "id": "swYcRli58i-B"
   },
   "outputs": [],
   "source": [
    "Recall_75_value = np.percentile(df['Recall'], [75], interpolation='lower')\n",
    "target = df.loc[df['Recall']>=Recall_75_value[0]]\n",
    "\n",
    "Accuracy_75_value = np.percentile(target['Accuracy'], [75], interpolation='lower')\n",
    "target = target.loc[target['Accuracy']>=Accuracy_75_value[0]]"
   ]
  },
  {
   "cell_type": "code",
   "execution_count": null,
   "metadata": {
    "colab": {
     "base_uri": "https://localhost:8080/"
    },
    "executionInfo": {
     "elapsed": 4,
     "status": "ok",
     "timestamp": 1639726156048,
     "user": {
      "displayName": "윤영주",
      "photoUrl": "https://lh3.googleusercontent.com/a/default-user=s64",
      "userId": "18155336044487350880"
     },
     "user_tz": -540
    },
    "id": "sifoXBg28i4f",
    "outputId": "e2a0316d-2ed3-4e4e-d861-7f3bbd9ffdb9"
   },
   "outputs": [
    {
     "data": {
      "text/plain": [
       "small_business_df    36\n",
       "basic_final_df       29\n",
       "binning_final_df     17\n",
       "diff_df              10\n",
       "Name: 데이터프레임, dtype: int64"
      ]
     },
     "execution_count": 59,
     "metadata": {},
     "output_type": "execute_result"
    }
   ],
   "source": [
    "target['데이터프레임'].value_counts()"
   ]
  },
  {
   "cell_type": "code",
   "execution_count": null,
   "metadata": {
    "colab": {
     "base_uri": "https://localhost:8080/"
    },
    "executionInfo": {
     "elapsed": 547,
     "status": "ok",
     "timestamp": 1639726169456,
     "user": {
      "displayName": "윤영주",
      "photoUrl": "https://lh3.googleusercontent.com/a/default-user=s64",
      "userId": "18155336044487350880"
     },
     "user_tz": -540
    },
    "id": "VgV_BUFI8i2I",
    "outputId": "7b31a8ed-30b5-4c57-cca7-df3638b88680"
   },
   "outputs": [
    {
     "data": {
      "text/plain": [
       "lg     34\n",
       "pr     28\n",
       "rf     23\n",
       "svm     4\n",
       "knn     3\n",
       "Name: 적용모델, dtype: int64"
      ]
     },
     "execution_count": 60,
     "metadata": {},
     "output_type": "execute_result"
    }
   ],
   "source": [
    "target['적용모델'].value_counts()"
   ]
  },
  {
   "cell_type": "code",
   "execution_count": null,
   "metadata": {
    "id": "5Nd1y-aE8i0A"
   },
   "outputs": [],
   "source": [
    "target.to_csv('target_92.csv', index=False)"
   ]
  },
  {
   "cell_type": "code",
   "execution_count": null,
   "metadata": {
    "colab": {
     "base_uri": "https://localhost:8080/"
    },
    "executionInfo": {
     "elapsed": 495,
     "status": "ok",
     "timestamp": 1639729034099,
     "user": {
      "displayName": "윤영주",
      "photoUrl": "https://lh3.googleusercontent.com/a/default-user=s64",
      "userId": "18155336044487350880"
     },
     "user_tz": -540
    },
    "id": "aMq5wONCdqnc",
    "outputId": "64f687e8-0cc3-4828-9d4a-8ebe81f5ece9"
   },
   "outputs": [
    {
     "data": {
      "text/plain": [
       "R    60\n",
       "Y    32\n",
       "Name: train_test_split(Y/R), dtype: int64"
      ]
     },
     "execution_count": 72,
     "metadata": {},
     "output_type": "execute_result"
    }
   ],
   "source": [
    "target['train_test_split(Y/R)'].value_counts()"
   ]
  },
  {
   "cell_type": "markdown",
   "metadata": {
    "id": "NkrkD9tm8EET"
   },
   "source": [
    "# 필요 X"
   ]
  },
  {
   "cell_type": "code",
   "execution_count": null,
   "metadata": {
    "id": "RjF523Rr8DJb"
   },
   "outputs": [],
   "source": []
  },
  {
   "cell_type": "code",
   "execution_count": null,
   "metadata": {
    "colab": {
     "base_uri": "https://localhost:8080/"
    },
    "executionInfo": {
     "elapsed": 320,
     "status": "ok",
     "timestamp": 1639560706378,
     "user": {
      "displayName": "윤영주",
      "photoUrl": "https://lh3.googleusercontent.com/a/default-user=s64",
      "userId": "18155336044487350880"
     },
     "user_tz": -540
    },
    "id": "Al1FpfNiEr6F",
    "outputId": "701a09a9-fbd7-4f90-97f7-959f0655cf32"
   },
   "outputs": [
    {
     "data": {
      "text/plain": [
       "336"
      ]
     },
     "execution_count": 8,
     "metadata": {},
     "output_type": "execute_result"
    }
   ],
   "source": [
    "len( result_df[result_df['변수선택법']=='error'] )"
   ]
  },
  {
   "cell_type": "code",
   "execution_count": null,
   "metadata": {
    "id": "cx4TnWT1C7-9"
   },
   "outputs": [],
   "source": [
    "result_df = result_df[result_df['변수선택법']!='error']"
   ]
  },
  {
   "cell_type": "code",
   "execution_count": null,
   "metadata": {
    "colab": {
     "base_uri": "https://localhost:8080/"
    },
    "executionInfo": {
     "elapsed": 378,
     "status": "ok",
     "timestamp": 1639560709719,
     "user": {
      "displayName": "윤영주",
      "photoUrl": "https://lh3.googleusercontent.com/a/default-user=s64",
      "userId": "18155336044487350880"
     },
     "user_tz": -540
    },
    "id": "uXLfwDEDCiRa",
    "outputId": "20eea7a2-6dbc-4353-aa00-c5242ad6861d"
   },
   "outputs": [
    {
     "data": {
      "text/plain": [
       "1624"
      ]
     },
     "execution_count": 10,
     "metadata": {},
     "output_type": "execute_result"
    }
   ],
   "source": [
    "len(result_df)"
   ]
  },
  {
   "cell_type": "code",
   "execution_count": null,
   "metadata": {
    "colab": {
     "base_uri": "https://localhost:8080/",
     "height": 299
    },
    "executionInfo": {
     "elapsed": 753,
     "status": "ok",
     "timestamp": 1639560711661,
     "user": {
      "displayName": "윤영주",
      "photoUrl": "https://lh3.googleusercontent.com/a/default-user=s64",
      "userId": "18155336044487350880"
     },
     "user_tz": -540
    },
    "id": "IL79LHj__AID",
    "outputId": "f649d834-86a9-4030-cb24-a741ae8e3245"
   },
   "outputs": [
    {
     "data": {
      "text/plain": [
       "<matplotlib.axes._subplots.AxesSubplot at 0x7ff4013f8510>"
      ]
     },
     "execution_count": 11,
     "metadata": {},
     "output_type": "execute_result"
    },
    {
     "data": {
      "image/png": "[encoded data removed]",
      "text/plain": [
       "<Figure size 432x288 with 1 Axes>"
      ]
     },
     "metadata": {
      "needs_background": "light"
     },
     "output_type": "display_data"
    }
   ],
   "source": [
    "sns.set_palette('twilight')\n",
    "sns.scatterplot(x = 'Recall', y='Accuracy',hue='데이터프레임', style = '데이터프레임', data = result_df)"
   ]
  },
  {
   "cell_type": "code",
   "execution_count": null,
   "metadata": {
    "colab": {
     "base_uri": "https://localhost:8080/"
    },
    "executionInfo": {
     "elapsed": 399,
     "status": "ok",
     "timestamp": 1639560713342,
     "user": {
      "displayName": "윤영주",
      "photoUrl": "https://lh3.googleusercontent.com/a/default-user=s64",
      "userId": "18155336044487350880"
     },
     "user_tz": -540
    },
    "id": "Lva8atax_t5l",
    "outputId": "f7981b7b-892e-4012-d53c-98cb42132a07"
   },
   "outputs": [
    {
     "data": {
      "text/plain": [
       "0.868"
      ]
     },
     "execution_count": 12,
     "metadata": {},
     "output_type": "execute_result"
    }
   ],
   "source": [
    "Recall_top10_value = np.percentile(result_df['Recall'], [90], interpolation='lower')\n",
    "Recall_top10_value[0]"
   ]
  },
  {
   "cell_type": "code",
   "execution_count": null,
   "metadata": {
    "colab": {
     "base_uri": "https://localhost:8080/",
     "height": 304
    },
    "executionInfo": {
     "elapsed": 395,
     "status": "ok",
     "timestamp": 1639560714743,
     "user": {
      "displayName": "윤영주",
      "photoUrl": "https://lh3.googleusercontent.com/a/default-user=s64",
      "userId": "18155336044487350880"
     },
     "user_tz": -540
    },
    "id": "0p1VY9Vc_eYM",
    "outputId": "7a0dee69-6f36-4ca1-9370-c5536839cc17"
   },
   "outputs": [
    {
     "data": {
      "text/plain": [
       "(0.0, 1.0)"
      ]
     },
     "execution_count": 13,
     "metadata": {},
     "output_type": "execute_result"
    },
    {
     "data": {
      "image/png": "[encoded data removed]",
      "text/plain": [
       "<Figure size 432x288 with 1 Axes>"
      ]
     },
     "metadata": {
      "needs_background": "light"
     },
     "output_type": "display_data"
    }
   ],
   "source": [
    "Recall_top10 = result_df.loc[result_df['Recall']>Recall_top10_value[0]]\n",
    "sns.set_palette('twilight')\n",
    "sns.scatterplot(x = 'Recall', y='Accuracy',hue='데이터프레임', style = '데이터프레임', data = Recall_top10)\n",
    "plt.xlim(0,1)\n",
    "plt.ylim(0,1)"
   ]
  },
  {
   "cell_type": "code",
   "execution_count": null,
   "metadata": {
    "colab": {
     "base_uri": "https://localhost:8080/"
    },
    "executionInfo": {
     "elapsed": 17,
     "status": "ok",
     "timestamp": 1639560774861,
     "user": {
      "displayName": "윤영주",
      "photoUrl": "https://lh3.googleusercontent.com/a/default-user=s64",
      "userId": "18155336044487350880"
     },
     "user_tz": -540
    },
    "id": "X4QjaP_4A4Ei",
    "outputId": "f0b83da7-3383-4a08-952e-d2d463d14625"
   },
   "outputs": [
    {
     "data": {
      "text/plain": [
       "0.799"
      ]
     },
     "execution_count": 17,
     "metadata": {},
     "output_type": "execute_result"
    }
   ],
   "source": [
    "Accuracy_top10_value = np.percentile(Recall_top10['Accuracy'], [90], interpolation='lower')\n",
    "Accuracy_top10_value[0]"
   ]
  },
  {
   "cell_type": "code",
   "execution_count": null,
   "metadata": {
    "colab": {
     "base_uri": "https://localhost:8080/",
     "height": 304
    },
    "executionInfo": {
     "elapsed": 481,
     "status": "ok",
     "timestamp": 1639560776701,
     "user": {
      "displayName": "윤영주",
      "photoUrl": "https://lh3.googleusercontent.com/a/default-user=s64",
      "userId": "18155336044487350880"
     },
     "user_tz": -540
    },
    "id": "DG7oWNN7FCIJ",
    "outputId": "0c6ed2d3-ce3b-43fa-f2f0-56a0cfbf7275"
   },
   "outputs": [
    {
     "data": {
      "text/plain": [
       "(0.0, 1.0)"
      ]
     },
     "execution_count": 18,
     "metadata": {},
     "output_type": "execute_result"
    },
    {
     "data": {
      "image/png": "[encoded data removed]",
      "text/plain": [
       "<Figure size 432x288 with 1 Axes>"
      ]
     },
     "metadata": {
      "needs_background": "light"
     },
     "output_type": "display_data"
    }
   ],
   "source": [
    "Accuracy_top10 = Recall_top10.loc[Recall_top10['Accuracy']>Accuracy_top10_value[0]]\n",
    "sns.set_palette('twilight')\n",
    "sns.scatterplot(x = 'Recall', y='Accuracy',hue='데이터프레임', style = '데이터프레임',  data = Accuracy_top10)\n",
    "plt.xlim(0,1)\n",
    "plt.ylim(0,1)"
   ]
  },
  {
   "cell_type": "code",
   "execution_count": null,
   "metadata": {
    "colab": {
     "base_uri": "https://localhost:8080/",
     "height": 304
    },
    "executionInfo": {
     "elapsed": 951,
     "status": "ok",
     "timestamp": 1639560785536,
     "user": {
      "displayName": "윤영주",
      "photoUrl": "https://lh3.googleusercontent.com/a/default-user=s64",
      "userId": "18155336044487350880"
     },
     "user_tz": -540
    },
    "id": "umPNRdL1BU8w",
    "outputId": "93da78e7-aba9-46fa-f084-0ce36f919862"
   },
   "outputs": [
    {
     "data": {
      "text/plain": [
       "(0.78, 0.9)"
      ]
     },
     "execution_count": 19,
     "metadata": {},
     "output_type": "execute_result"
    },
    {
     "data": {
      "image/png": "[encoded data removed]",
      "text/plain": [
       "<Figure size 432x288 with 1 Axes>"
      ]
     },
     "metadata": {
      "needs_background": "light"
     },
     "output_type": "display_data"
    }
   ],
   "source": [
    "sns.scatterplot(x = 'Recall', y='Accuracy',hue='데이터프레임', style = '데이터프레임',  data = Accuracy_top10)\n",
    "plt.xlim(0.85,0.95)\n",
    "plt.ylim(0.78,0.9)"
   ]
  },
  {
   "cell_type": "code",
   "execution_count": null,
   "metadata": {
    "id": "SRQbG0p9cSWk"
   },
   "outputs": [],
   "source": []
  },
  {
   "cell_type": "code",
   "execution_count": null,
   "metadata": {
    "colab": {
     "base_uri": "https://localhost:8080/"
    },
    "executionInfo": {
     "elapsed": 299,
     "status": "ok",
     "timestamp": 1639560842340,
     "user": {
      "displayName": "윤영주",
      "photoUrl": "https://lh3.googleusercontent.com/a/default-user=s64",
      "userId": "18155336044487350880"
     },
     "user_tz": -540
    },
    "id": "XccJe6QHCNQw",
    "outputId": "7736c7dc-c1e0-4613-9c97-d8c9c638e96c"
   },
   "outputs": [
    {
     "data": {
      "text/plain": [
       "16"
      ]
     },
     "execution_count": 20,
     "metadata": {},
     "output_type": "execute_result"
    }
   ],
   "source": [
    "len( Accuracy_top10 )"
   ]
  },
  {
   "cell_type": "code",
   "execution_count": null,
   "metadata": {
    "id": "8UYgbE8FcQhq"
   },
   "outputs": [],
   "source": []
  }
 ],
 "metadata": {
  "colab": {
   "collapsed_sections": [
    "0Dt0ZgtY_AIM",
    "SEfcoaF2VTC3",
    "NkrkD9tm8EET"
   ],
   "name": "7. model comparison.ipynb",
   "provenance": []
  },
  "kernelspec": {
   "display_name": "Python 3 (ipykernel)",
   "language": "python",
   "name": "python3"
  },
  "language_info": {
   "codemirror_mode": {
    "name": "ipython",
    "version": 3
   },
   "file_extension": ".py",
   "mimetype": "text/x-python",
   "name": "python",
   "nbconvert_exporter": "python",
   "pygments_lexer": "ipython3",
   "version": "3.9.7"
  },
  "toc": {
   "base_numbering": 1,
   "nav_menu": {},
   "number_sections": false,
   "sideBar": true,
   "skip_h1_title": false,
   "title_cell": "Table of Contents",
   "title_sidebar": "Contents",
   "toc_cell": false,
   "toc_position": {},
   "toc_section_display": true,
   "toc_window_display": false
  },
  "varInspector": {
   "cols": {
    "lenName": 16,
    "lenType": 16,
    "lenVar": 40
   },
   "kernels_config": {
    "python": {
     "delete_cmd_postfix": "",
     "delete_cmd_prefix": "del ",
     "library": "var_list.py",
     "varRefreshCmd": "print(var_dic_list())"
    },
    "r": {
     "delete_cmd_postfix": ") ",
     "delete_cmd_prefix": "rm(",
     "library": "var_list.r",
     "varRefreshCmd": "cat(var_dic_list()) "
    }
   },
   "types_to_exclude": [
    "module",
    "function",
    "builtin_function_or_method",
    "instance",
    "_Feature"
   ],
   "window_display": false
  }
 },
 "nbformat": 4,
 "nbformat_minor": 1
}
