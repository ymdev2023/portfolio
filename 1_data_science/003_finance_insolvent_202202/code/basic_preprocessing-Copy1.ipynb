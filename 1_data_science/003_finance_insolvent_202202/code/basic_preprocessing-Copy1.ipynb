{
 "cells": [
  {
   "cell_type": "code",
   "execution_count": 5,
   "metadata": {
    "ExecuteTime": {
     "end_time": "2022-02-28T07:55:09.588602Z",
     "start_time": "2022-02-28T07:55:09.573270Z"
    },
    "colab": {
     "base_uri": "https://localhost:8080/"
    },
    "id": "jdJ1wPpJ5Cdv",
    "outputId": "2fec023f-41fa-4127-cd80-5c879fe7cdec"
   },
   "outputs": [],
   "source": [
    "# from google.colab import drive\n",
    "# drive.mount('/content/drive')"
   ]
  },
  {
   "cell_type": "code",
   "execution_count": 6,
   "metadata": {
    "ExecuteTime": {
     "end_time": "2022-02-28T07:55:10.054506Z",
     "start_time": "2022-02-28T07:55:10.037356Z"
    },
    "colab": {
     "base_uri": "https://localhost:8080/"
    },
    "id": "ShO-cY61lRG4",
    "outputId": "73843ee2-6196-4505-e607-fccfac1007e0"
   },
   "outputs": [],
   "source": [
    "# cd /content/drive/MyDrive/UBION_final_project/data"
   ]
  },
  {
   "cell_type": "code",
   "execution_count": 7,
   "metadata": {
    "ExecuteTime": {
     "end_time": "2022-02-28T07:55:10.472601Z",
     "start_time": "2022-02-28T07:55:10.455438Z"
    },
    "id": "ItcNHQhSlbEI"
   },
   "outputs": [],
   "source": [
    "import pandas as pd\n",
    "import numpy as np\n",
    "from tqdm import tqdm"
   ]
  },
  {
   "cell_type": "code",
   "execution_count": 8,
   "metadata": {
    "ExecuteTime": {
     "end_time": "2022-02-28T07:55:49.657227Z",
     "start_time": "2022-02-28T07:55:11.059677Z"
    },
    "colab": {
     "base_uri": "https://localhost:8080/",
     "height": 808
    },
    "id": "U5CN0GhJlSty",
    "outputId": "db8b4893-68cd-49b3-ce5b-f7576f3629b9"
   },
   "outputs": [
    {
     "data": {
      "text/html": [
       "<div>\n",
       "<style scoped>\n",
       "    .dataframe tbody tr th:only-of-type {\n",
       "        vertical-align: middle;\n",
       "    }\n",
       "\n",
       "    .dataframe tbody tr th {\n",
       "        vertical-align: top;\n",
       "    }\n",
       "\n",
       "    .dataframe thead th {\n",
       "        text-align: right;\n",
       "    }\n",
       "</style>\n",
       "<table border=\"1\" class=\"dataframe\">\n",
       "  <thead>\n",
       "    <tr style=\"text-align: right;\">\n",
       "      <th></th>\n",
       "      <th>회사명</th>\n",
       "      <th>거래소코드</th>\n",
       "      <th>산업코드</th>\n",
       "      <th>산업명</th>\n",
       "      <th>회계연도</th>\n",
       "      <th>설립일</th>\n",
       "      <th>상장일</th>\n",
       "      <th>상장폐지일</th>\n",
       "      <th>감사의견코드(IFRS)</th>\n",
       "      <th>총자본증가율(IFRS)</th>\n",
       "      <th>...</th>\n",
       "      <th>PCR(최고)(IFRS)</th>\n",
       "      <th>PCR(최저)(IFRS)</th>\n",
       "      <th>PSR(최고)(IFRS)</th>\n",
       "      <th>PSR(최저)(IFRS)</th>\n",
       "      <th>기업가치(EV)(IFRS)(백만원)</th>\n",
       "      <th>EBITDA(IFRS)(백만원)</th>\n",
       "      <th>EBITDA/매출액(IFRS)(%)</th>\n",
       "      <th>EBITDA/금융비용(IFRS)(배)</th>\n",
       "      <th>EBITDA/평균발행주식수(IFRS)(백만원)</th>\n",
       "      <th>EV/EBITDA(IFRS)(배)</th>\n",
       "    </tr>\n",
       "  </thead>\n",
       "  <tbody>\n",
       "    <tr>\n",
       "      <th>0</th>\n",
       "      <td>CMG제약</td>\n",
       "      <td>58820</td>\n",
       "      <td>32102</td>\n",
       "      <td>의료용 물질 및 의약품 제조업</td>\n",
       "      <td>2007/12</td>\n",
       "      <td>2001/08/01</td>\n",
       "      <td>2001/08/31</td>\n",
       "      <td>NaN</td>\n",
       "      <td>NaN</td>\n",
       "      <td>0.00</td>\n",
       "      <td>...</td>\n",
       "      <td>0.0</td>\n",
       "      <td>0.0</td>\n",
       "      <td>153.61</td>\n",
       "      <td>21.46</td>\n",
       "      <td>69545.33</td>\n",
       "      <td>-1288.45</td>\n",
       "      <td>-71.74</td>\n",
       "      <td>0.00</td>\n",
       "      <td>-101.81</td>\n",
       "      <td>0.00</td>\n",
       "    </tr>\n",
       "    <tr>\n",
       "      <th>1</th>\n",
       "      <td>CMG제약</td>\n",
       "      <td>58820</td>\n",
       "      <td>32102</td>\n",
       "      <td>의료용 물질 및 의약품 제조업</td>\n",
       "      <td>2008/12</td>\n",
       "      <td>2001/08/01</td>\n",
       "      <td>2001/08/31</td>\n",
       "      <td>NaN</td>\n",
       "      <td>NaN</td>\n",
       "      <td>56.55</td>\n",
       "      <td>...</td>\n",
       "      <td>0.0</td>\n",
       "      <td>0.0</td>\n",
       "      <td>9.13</td>\n",
       "      <td>1.49</td>\n",
       "      <td>-454.50</td>\n",
       "      <td>-3419.79</td>\n",
       "      <td>-31.64</td>\n",
       "      <td>-4.56</td>\n",
       "      <td>-221.19</td>\n",
       "      <td>NaN</td>\n",
       "    </tr>\n",
       "    <tr>\n",
       "      <th>2</th>\n",
       "      <td>CMG제약</td>\n",
       "      <td>58820</td>\n",
       "      <td>32102</td>\n",
       "      <td>의료용 물질 및 의약품 제조업</td>\n",
       "      <td>2009/12</td>\n",
       "      <td>2001/08/01</td>\n",
       "      <td>2001/08/31</td>\n",
       "      <td>NaN</td>\n",
       "      <td>NaN</td>\n",
       "      <td>-33.92</td>\n",
       "      <td>...</td>\n",
       "      <td>0.0</td>\n",
       "      <td>0.0</td>\n",
       "      <td>8.40</td>\n",
       "      <td>1.72</td>\n",
       "      <td>26517.58</td>\n",
       "      <td>-7100.69</td>\n",
       "      <td>-69.98</td>\n",
       "      <td>-6.80</td>\n",
       "      <td>-443.98</td>\n",
       "      <td>NaN</td>\n",
       "    </tr>\n",
       "    <tr>\n",
       "      <th>3</th>\n",
       "      <td>CMG제약</td>\n",
       "      <td>58820</td>\n",
       "      <td>32102</td>\n",
       "      <td>의료용 물질 및 의약품 제조업</td>\n",
       "      <td>2010/12</td>\n",
       "      <td>2001/08/01</td>\n",
       "      <td>2001/08/31</td>\n",
       "      <td>NaN</td>\n",
       "      <td>NaN</td>\n",
       "      <td>17.25</td>\n",
       "      <td>...</td>\n",
       "      <td>0.0</td>\n",
       "      <td>0.0</td>\n",
       "      <td>5.77</td>\n",
       "      <td>1.87</td>\n",
       "      <td>32738.22</td>\n",
       "      <td>-6296.81</td>\n",
       "      <td>-55.48</td>\n",
       "      <td>-6.20</td>\n",
       "      <td>-152.92</td>\n",
       "      <td>NaN</td>\n",
       "    </tr>\n",
       "    <tr>\n",
       "      <th>4</th>\n",
       "      <td>CMG제약</td>\n",
       "      <td>58820</td>\n",
       "      <td>32102</td>\n",
       "      <td>의료용 물질 및 의약품 제조업</td>\n",
       "      <td>2011/12</td>\n",
       "      <td>2001/08/01</td>\n",
       "      <td>2001/08/31</td>\n",
       "      <td>NaN</td>\n",
       "      <td>UQ</td>\n",
       "      <td>2.89</td>\n",
       "      <td>...</td>\n",
       "      <td>0.0</td>\n",
       "      <td>0.0</td>\n",
       "      <td>3.15</td>\n",
       "      <td>1.06</td>\n",
       "      <td>37758.74</td>\n",
       "      <td>2055.10</td>\n",
       "      <td>11.58</td>\n",
       "      <td>11.33</td>\n",
       "      <td>47.03</td>\n",
       "      <td>18.37</td>\n",
       "    </tr>\n",
       "  </tbody>\n",
       "</table>\n",
       "<p>5 rows × 172 columns</p>\n",
       "</div>"
      ],
      "text/plain": [
       "     회사명  거래소코드   산업코드               산업명     회계연도         설립일         상장일  \\\n",
       "0  CMG제약  58820  32102  의료용 물질 및 의약품 제조업  2007/12  2001/08/01  2001/08/31   \n",
       "1  CMG제약  58820  32102  의료용 물질 및 의약품 제조업  2008/12  2001/08/01  2001/08/31   \n",
       "2  CMG제약  58820  32102  의료용 물질 및 의약품 제조업  2009/12  2001/08/01  2001/08/31   \n",
       "3  CMG제약  58820  32102  의료용 물질 및 의약품 제조업  2010/12  2001/08/01  2001/08/31   \n",
       "4  CMG제약  58820  32102  의료용 물질 및 의약품 제조업  2011/12  2001/08/01  2001/08/31   \n",
       "\n",
       "  상장폐지일 감사의견코드(IFRS)  총자본증가율(IFRS)  ...  PCR(최고)(IFRS)  PCR(최저)(IFRS)  \\\n",
       "0   NaN          NaN          0.00  ...            0.0            0.0   \n",
       "1   NaN          NaN         56.55  ...            0.0            0.0   \n",
       "2   NaN          NaN        -33.92  ...            0.0            0.0   \n",
       "3   NaN          NaN         17.25  ...            0.0            0.0   \n",
       "4   NaN           UQ          2.89  ...            0.0            0.0   \n",
       "\n",
       "   PSR(최고)(IFRS)  PSR(최저)(IFRS)  기업가치(EV)(IFRS)(백만원)  EBITDA(IFRS)(백만원)  \\\n",
       "0         153.61          21.46             69545.33           -1288.45   \n",
       "1           9.13           1.49              -454.50           -3419.79   \n",
       "2           8.40           1.72             26517.58           -7100.69   \n",
       "3           5.77           1.87             32738.22           -6296.81   \n",
       "4           3.15           1.06             37758.74            2055.10   \n",
       "\n",
       "   EBITDA/매출액(IFRS)(%)  EBITDA/금융비용(IFRS)(배)  EBITDA/평균발행주식수(IFRS)(백만원)  \\\n",
       "0               -71.74                  0.00                    -101.81   \n",
       "1               -31.64                 -4.56                    -221.19   \n",
       "2               -69.98                 -6.80                    -443.98   \n",
       "3               -55.48                 -6.20                    -152.92   \n",
       "4                11.58                 11.33                      47.03   \n",
       "\n",
       "   EV/EBITDA(IFRS)(배)  \n",
       "0                0.00  \n",
       "1                 NaN  \n",
       "2                 NaN  \n",
       "3                 NaN  \n",
       "4               18.37  \n",
       "\n",
       "[5 rows x 172 columns]"
      ]
     },
     "execution_count": 8,
     "metadata": {},
     "output_type": "execute_result"
    }
   ],
   "source": [
    "df = pd.read_excel(\"07~19.xlsx\")\n",
    "df.head()"
   ]
  },
  {
   "cell_type": "markdown",
   "metadata": {
    "id": "sX7wCoHKTTTx"
   },
   "source": [
    "# 같은 회사명에 거래소 코드가 여러개인 애가 있음"
   ]
  },
  {
   "cell_type": "code",
   "execution_count": 9,
   "metadata": {
    "ExecuteTime": {
     "end_time": "2022-02-28T07:56:42.168711Z",
     "start_time": "2022-02-28T07:56:42.158670Z"
    },
    "id": "DUfMaGc8Pl7g"
   },
   "outputs": [],
   "source": [
    "check = df.groupby(['회사명'])['거래소코드'].nunique().reset_index()\n",
    "check.rename(columns={'거래소코드':'거래소코드_갯수'}, inplace=True)\n",
    "check = check[ check['거래소코드_갯수']>1]"
   ]
  },
  {
   "cell_type": "code",
   "execution_count": 10,
   "metadata": {
    "ExecuteTime": {
     "end_time": "2022-02-28T07:56:42.975459Z",
     "start_time": "2022-02-28T07:56:42.933042Z"
    },
    "colab": {
     "base_uri": "https://localhost:8080/"
    },
    "id": "mGa6-pp0c9H0",
    "outputId": "c5350f48-0a61-4b93-adae-7c6186faa063"
   },
   "outputs": [
    {
     "data": {
      "text/html": [
       "<div>\n",
       "<style scoped>\n",
       "    .dataframe tbody tr th:only-of-type {\n",
       "        vertical-align: middle;\n",
       "    }\n",
       "\n",
       "    .dataframe tbody tr th {\n",
       "        vertical-align: top;\n",
       "    }\n",
       "\n",
       "    .dataframe thead th {\n",
       "        text-align: right;\n",
       "    }\n",
       "</style>\n",
       "<table border=\"1\" class=\"dataframe\">\n",
       "  <thead>\n",
       "    <tr style=\"text-align: right;\">\n",
       "      <th></th>\n",
       "      <th>index</th>\n",
       "      <th>회사명</th>\n",
       "      <th>거래소코드</th>\n",
       "      <th>산업코드</th>\n",
       "      <th>산업명</th>\n",
       "      <th>회계연도</th>\n",
       "      <th>설립일</th>\n",
       "      <th>상장일</th>\n",
       "      <th>상장폐지일</th>\n",
       "      <th>감사의견코드(IFRS)</th>\n",
       "      <th>...</th>\n",
       "      <th>PCR(최고)(IFRS)</th>\n",
       "      <th>PCR(최저)(IFRS)</th>\n",
       "      <th>PSR(최고)(IFRS)</th>\n",
       "      <th>PSR(최저)(IFRS)</th>\n",
       "      <th>기업가치(EV)(IFRS)(백만원)</th>\n",
       "      <th>EBITDA(IFRS)(백만원)</th>\n",
       "      <th>EBITDA/매출액(IFRS)(%)</th>\n",
       "      <th>EBITDA/금융비용(IFRS)(배)</th>\n",
       "      <th>EBITDA/평균발행주식수(IFRS)(백만원)</th>\n",
       "      <th>EV/EBITDA(IFRS)(배)</th>\n",
       "    </tr>\n",
       "  </thead>\n",
       "  <tbody>\n",
       "    <tr>\n",
       "      <th>0</th>\n",
       "      <td>273</td>\n",
       "      <td>고려시멘트</td>\n",
       "      <td>198440</td>\n",
       "      <td>32303</td>\n",
       "      <td>비금속 광물제품 제조업</td>\n",
       "      <td>2017/12</td>\n",
       "      <td>2014/04/28</td>\n",
       "      <td>2014/08/13</td>\n",
       "      <td>NaN</td>\n",
       "      <td>UQ</td>\n",
       "      <td>...</td>\n",
       "      <td>30.75</td>\n",
       "      <td>16.24</td>\n",
       "      <td>1.11</td>\n",
       "      <td>0.59</td>\n",
       "      <td>61980.59</td>\n",
       "      <td>5456.83</td>\n",
       "      <td>6.22</td>\n",
       "      <td>30.36</td>\n",
       "      <td>179.03</td>\n",
       "      <td>11.36</td>\n",
       "    </tr>\n",
       "    <tr>\n",
       "      <th>1</th>\n",
       "      <td>274</td>\n",
       "      <td>고려시멘트</td>\n",
       "      <td>198440</td>\n",
       "      <td>32303</td>\n",
       "      <td>비금속 광물제품 제조업</td>\n",
       "      <td>2018/12</td>\n",
       "      <td>2014/04/28</td>\n",
       "      <td>2014/08/13</td>\n",
       "      <td>NaN</td>\n",
       "      <td>UQ</td>\n",
       "      <td>...</td>\n",
       "      <td>82.41</td>\n",
       "      <td>29.69</td>\n",
       "      <td>1.66</td>\n",
       "      <td>0.60</td>\n",
       "      <td>96116.63</td>\n",
       "      <td>6331.58</td>\n",
       "      <td>7.38</td>\n",
       "      <td>15.18</td>\n",
       "      <td>197.99</td>\n",
       "      <td>15.18</td>\n",
       "    </tr>\n",
       "    <tr>\n",
       "      <th>2</th>\n",
       "      <td>275</td>\n",
       "      <td>고려시멘트</td>\n",
       "      <td>198440</td>\n",
       "      <td>32303</td>\n",
       "      <td>비금속 광물제품 제조업</td>\n",
       "      <td>2019/12</td>\n",
       "      <td>2014/04/28</td>\n",
       "      <td>2014/08/13</td>\n",
       "      <td>NaN</td>\n",
       "      <td>UQ</td>\n",
       "      <td>...</td>\n",
       "      <td>52.01</td>\n",
       "      <td>21.56</td>\n",
       "      <td>2.10</td>\n",
       "      <td>0.87</td>\n",
       "      <td>105972.63</td>\n",
       "      <td>1955.41</td>\n",
       "      <td>2.76</td>\n",
       "      <td>4.60</td>\n",
       "      <td>61.14</td>\n",
       "      <td>54.19</td>\n",
       "    </tr>\n",
       "    <tr>\n",
       "      <th>3</th>\n",
       "      <td>3140</td>\n",
       "      <td>본느</td>\n",
       "      <td>226340</td>\n",
       "      <td>32004</td>\n",
       "      <td>화학물질 및 화학제품 제조업; 의약품 제외</td>\n",
       "      <td>2018/12</td>\n",
       "      <td>2015/07/28</td>\n",
       "      <td>2015/11/05</td>\n",
       "      <td>NaN</td>\n",
       "      <td>UQ</td>\n",
       "      <td>...</td>\n",
       "      <td>0.00</td>\n",
       "      <td>0.00</td>\n",
       "      <td>4.32</td>\n",
       "      <td>1.88</td>\n",
       "      <td>60529.18</td>\n",
       "      <td>3873.97</td>\n",
       "      <td>15.59</td>\n",
       "      <td>22.67</td>\n",
       "      <td>133.14</td>\n",
       "      <td>15.62</td>\n",
       "    </tr>\n",
       "    <tr>\n",
       "      <th>4</th>\n",
       "      <td>3141</td>\n",
       "      <td>본느</td>\n",
       "      <td>242420</td>\n",
       "      <td>32004</td>\n",
       "      <td>화학물질 및 화학제품 제조업; 의약품 제외</td>\n",
       "      <td>2017/12</td>\n",
       "      <td>2009/03/09</td>\n",
       "      <td>2016/05/16</td>\n",
       "      <td>2018/10/29</td>\n",
       "      <td>UQ</td>\n",
       "      <td>...</td>\n",
       "      <td>0.00</td>\n",
       "      <td>0.00</td>\n",
       "      <td>0.00</td>\n",
       "      <td>0.00</td>\n",
       "      <td>-3492.36</td>\n",
       "      <td>3261.57</td>\n",
       "      <td>16.13</td>\n",
       "      <td>24.32</td>\n",
       "      <td>1005.82</td>\n",
       "      <td>-1.07</td>\n",
       "    </tr>\n",
       "    <tr>\n",
       "      <th>...</th>\n",
       "      <td>...</td>\n",
       "      <td>...</td>\n",
       "      <td>...</td>\n",
       "      <td>...</td>\n",
       "      <td>...</td>\n",
       "      <td>...</td>\n",
       "      <td>...</td>\n",
       "      <td>...</td>\n",
       "      <td>...</td>\n",
       "      <td>...</td>\n",
       "      <td>...</td>\n",
       "      <td>...</td>\n",
       "      <td>...</td>\n",
       "      <td>...</td>\n",
       "      <td>...</td>\n",
       "      <td>...</td>\n",
       "      <td>...</td>\n",
       "      <td>...</td>\n",
       "      <td>...</td>\n",
       "      <td>...</td>\n",
       "      <td>...</td>\n",
       "    </tr>\n",
       "    <tr>\n",
       "      <th>141</th>\n",
       "      <td>19959</td>\n",
       "      <td>케이엠제약</td>\n",
       "      <td>225430</td>\n",
       "      <td>32004</td>\n",
       "      <td>화학물질 및 화학제품 제조업; 의약품 제외</td>\n",
       "      <td>2018/12</td>\n",
       "      <td>2015/07/10</td>\n",
       "      <td>2015/10/08</td>\n",
       "      <td>NaN</td>\n",
       "      <td>UQ</td>\n",
       "      <td>...</td>\n",
       "      <td>173.25</td>\n",
       "      <td>32.44</td>\n",
       "      <td>12.18</td>\n",
       "      <td>2.28</td>\n",
       "      <td>62361.95</td>\n",
       "      <td>2025.84</td>\n",
       "      <td>11.71</td>\n",
       "      <td>7.63</td>\n",
       "      <td>101.87</td>\n",
       "      <td>30.78</td>\n",
       "    </tr>\n",
       "    <tr>\n",
       "      <th>142</th>\n",
       "      <td>19960</td>\n",
       "      <td>케이엠제약</td>\n",
       "      <td>225430</td>\n",
       "      <td>32004</td>\n",
       "      <td>화학물질 및 화학제품 제조업; 의약품 제외</td>\n",
       "      <td>2019/12</td>\n",
       "      <td>2015/07/10</td>\n",
       "      <td>2015/10/08</td>\n",
       "      <td>NaN</td>\n",
       "      <td>UQ</td>\n",
       "      <td>...</td>\n",
       "      <td>0.00</td>\n",
       "      <td>0.00</td>\n",
       "      <td>4.83</td>\n",
       "      <td>1.85</td>\n",
       "      <td>75815.07</td>\n",
       "      <td>-810.57</td>\n",
       "      <td>-3.99</td>\n",
       "      <td>-3.08</td>\n",
       "      <td>-37.90</td>\n",
       "      <td>0.00</td>\n",
       "    </tr>\n",
       "    <tr>\n",
       "      <th>143</th>\n",
       "      <td>20513</td>\n",
       "      <td>패션플랫폼</td>\n",
       "      <td>256090</td>\n",
       "      <td>31401</td>\n",
       "      <td>의복, 의복 액세서리 및 모피제품 제조업</td>\n",
       "      <td>2016/12</td>\n",
       "      <td>2015/07/15</td>\n",
       "      <td>2015/10/05</td>\n",
       "      <td>NaN</td>\n",
       "      <td>UQ</td>\n",
       "      <td>...</td>\n",
       "      <td>0.00</td>\n",
       "      <td>0.00</td>\n",
       "      <td>0.00</td>\n",
       "      <td>0.00</td>\n",
       "      <td>43.48</td>\n",
       "      <td>7033.65</td>\n",
       "      <td>12.69</td>\n",
       "      <td>76.54</td>\n",
       "      <td>1618.42</td>\n",
       "      <td>0.01</td>\n",
       "    </tr>\n",
       "    <tr>\n",
       "      <th>144</th>\n",
       "      <td>20514</td>\n",
       "      <td>패션플랫폼</td>\n",
       "      <td>225590</td>\n",
       "      <td>31401</td>\n",
       "      <td>의복, 의복 액세서리 및 모피제품 제조업</td>\n",
       "      <td>2018/12</td>\n",
       "      <td>2015/07/15</td>\n",
       "      <td>2015/10/05</td>\n",
       "      <td>NaN</td>\n",
       "      <td>UQ</td>\n",
       "      <td>...</td>\n",
       "      <td>13.04</td>\n",
       "      <td>5.28</td>\n",
       "      <td>0.96</td>\n",
       "      <td>0.39</td>\n",
       "      <td>29116.49</td>\n",
       "      <td>5565.48</td>\n",
       "      <td>7.49</td>\n",
       "      <td>61.11</td>\n",
       "      <td>212.41</td>\n",
       "      <td>5.23</td>\n",
       "    </tr>\n",
       "    <tr>\n",
       "      <th>145</th>\n",
       "      <td>20515</td>\n",
       "      <td>패션플랫폼</td>\n",
       "      <td>225590</td>\n",
       "      <td>31401</td>\n",
       "      <td>의복, 의복 액세서리 및 모피제품 제조업</td>\n",
       "      <td>2019/12</td>\n",
       "      <td>2015/07/15</td>\n",
       "      <td>2015/10/05</td>\n",
       "      <td>NaN</td>\n",
       "      <td>UQ</td>\n",
       "      <td>...</td>\n",
       "      <td>6.56</td>\n",
       "      <td>4.09</td>\n",
       "      <td>0.61</td>\n",
       "      <td>0.38</td>\n",
       "      <td>33911.28</td>\n",
       "      <td>9795.64</td>\n",
       "      <td>12.34</td>\n",
       "      <td>58.30</td>\n",
       "      <td>373.85</td>\n",
       "      <td>3.46</td>\n",
       "    </tr>\n",
       "  </tbody>\n",
       "</table>\n",
       "<p>146 rows × 173 columns</p>\n",
       "</div>"
      ],
      "text/plain": [
       "     index    회사명   거래소코드   산업코드                      산업명     회계연도  \\\n",
       "0      273  고려시멘트  198440  32303             비금속 광물제품 제조업  2017/12   \n",
       "1      274  고려시멘트  198440  32303             비금속 광물제품 제조업  2018/12   \n",
       "2      275  고려시멘트  198440  32303             비금속 광물제품 제조업  2019/12   \n",
       "3     3140     본느  226340  32004  화학물질 및 화학제품 제조업; 의약품 제외  2018/12   \n",
       "4     3141     본느  242420  32004  화학물질 및 화학제품 제조업; 의약품 제외  2017/12   \n",
       "..     ...    ...     ...    ...                      ...      ...   \n",
       "141  19959  케이엠제약  225430  32004  화학물질 및 화학제품 제조업; 의약품 제외  2018/12   \n",
       "142  19960  케이엠제약  225430  32004  화학물질 및 화학제품 제조업; 의약품 제외  2019/12   \n",
       "143  20513  패션플랫폼  256090  31401   의복, 의복 액세서리 및 모피제품 제조업  2016/12   \n",
       "144  20514  패션플랫폼  225590  31401   의복, 의복 액세서리 및 모피제품 제조업  2018/12   \n",
       "145  20515  패션플랫폼  225590  31401   의복, 의복 액세서리 및 모피제품 제조업  2019/12   \n",
       "\n",
       "            설립일         상장일       상장폐지일 감사의견코드(IFRS)  ...  PCR(최고)(IFRS)  \\\n",
       "0    2014/04/28  2014/08/13         NaN           UQ  ...          30.75   \n",
       "1    2014/04/28  2014/08/13         NaN           UQ  ...          82.41   \n",
       "2    2014/04/28  2014/08/13         NaN           UQ  ...          52.01   \n",
       "3    2015/07/28  2015/11/05         NaN           UQ  ...           0.00   \n",
       "4    2009/03/09  2016/05/16  2018/10/29           UQ  ...           0.00   \n",
       "..          ...         ...         ...          ...  ...            ...   \n",
       "141  2015/07/10  2015/10/08         NaN           UQ  ...         173.25   \n",
       "142  2015/07/10  2015/10/08         NaN           UQ  ...           0.00   \n",
       "143  2015/07/15  2015/10/05         NaN           UQ  ...           0.00   \n",
       "144  2015/07/15  2015/10/05         NaN           UQ  ...          13.04   \n",
       "145  2015/07/15  2015/10/05         NaN           UQ  ...           6.56   \n",
       "\n",
       "     PCR(최저)(IFRS)  PSR(최고)(IFRS)  PSR(최저)(IFRS)  기업가치(EV)(IFRS)(백만원)  \\\n",
       "0            16.24           1.11           0.59             61980.59   \n",
       "1            29.69           1.66           0.60             96116.63   \n",
       "2            21.56           2.10           0.87            105972.63   \n",
       "3             0.00           4.32           1.88             60529.18   \n",
       "4             0.00           0.00           0.00             -3492.36   \n",
       "..             ...            ...            ...                  ...   \n",
       "141          32.44          12.18           2.28             62361.95   \n",
       "142           0.00           4.83           1.85             75815.07   \n",
       "143           0.00           0.00           0.00                43.48   \n",
       "144           5.28           0.96           0.39             29116.49   \n",
       "145           4.09           0.61           0.38             33911.28   \n",
       "\n",
       "     EBITDA(IFRS)(백만원)  EBITDA/매출액(IFRS)(%)  EBITDA/금융비용(IFRS)(배)  \\\n",
       "0              5456.83                 6.22                 30.36   \n",
       "1              6331.58                 7.38                 15.18   \n",
       "2              1955.41                 2.76                  4.60   \n",
       "3              3873.97                15.59                 22.67   \n",
       "4              3261.57                16.13                 24.32   \n",
       "..                 ...                  ...                   ...   \n",
       "141            2025.84                11.71                  7.63   \n",
       "142            -810.57                -3.99                 -3.08   \n",
       "143            7033.65                12.69                 76.54   \n",
       "144            5565.48                 7.49                 61.11   \n",
       "145            9795.64                12.34                 58.30   \n",
       "\n",
       "     EBITDA/평균발행주식수(IFRS)(백만원)  EV/EBITDA(IFRS)(배)  \n",
       "0                       179.03               11.36  \n",
       "1                       197.99               15.18  \n",
       "2                        61.14               54.19  \n",
       "3                       133.14               15.62  \n",
       "4                      1005.82               -1.07  \n",
       "..                         ...                 ...  \n",
       "141                     101.87               30.78  \n",
       "142                     -37.90                0.00  \n",
       "143                    1618.42                0.01  \n",
       "144                     212.41                5.23  \n",
       "145                     373.85                3.46  \n",
       "\n",
       "[146 rows x 173 columns]"
      ]
     },
     "execution_count": 10,
     "metadata": {},
     "output_type": "execute_result"
    }
   ],
   "source": [
    "check_df = df[df['회사명'].isin(check['회사명'].tolist())]\n",
    "check_df = check_df.reset_index()\n",
    "check_df"
   ]
  },
  {
   "cell_type": "code",
   "execution_count": 11,
   "metadata": {
    "ExecuteTime": {
     "end_time": "2022-02-28T07:56:50.994290Z",
     "start_time": "2022-02-28T07:56:50.970242Z"
    },
    "colab": {
     "base_uri": "https://localhost:8080/"
    },
    "id": "WO1Zi0d7QRM5",
    "outputId": "b3d64875-870e-4e08-ed9c-04bf4fa0a387"
   },
   "outputs": [
    {
     "data": {
      "text/html": [
       "<div>\n",
       "<style scoped>\n",
       "    .dataframe tbody tr th:only-of-type {\n",
       "        vertical-align: middle;\n",
       "    }\n",
       "\n",
       "    .dataframe tbody tr th {\n",
       "        vertical-align: top;\n",
       "    }\n",
       "\n",
       "    .dataframe thead th {\n",
       "        text-align: right;\n",
       "    }\n",
       "</style>\n",
       "<table border=\"1\" class=\"dataframe\">\n",
       "  <thead>\n",
       "    <tr style=\"text-align: right;\">\n",
       "      <th></th>\n",
       "      <th>회사명</th>\n",
       "      <th>거래소코드</th>\n",
       "      <th>index</th>\n",
       "    </tr>\n",
       "  </thead>\n",
       "  <tbody>\n",
       "    <tr>\n",
       "      <th>0</th>\n",
       "      <td>고려시멘트</td>\n",
       "      <td>3660</td>\n",
       "      <td>1</td>\n",
       "    </tr>\n",
       "    <tr>\n",
       "      <th>1</th>\n",
       "      <td>고려시멘트</td>\n",
       "      <td>198440</td>\n",
       "      <td>3</td>\n",
       "    </tr>\n",
       "    <tr>\n",
       "      <th>2</th>\n",
       "      <td>나무기술</td>\n",
       "      <td>167380</td>\n",
       "      <td>1</td>\n",
       "    </tr>\n",
       "    <tr>\n",
       "      <th>3</th>\n",
       "      <td>나무기술</td>\n",
       "      <td>242040</td>\n",
       "      <td>2</td>\n",
       "    </tr>\n",
       "    <tr>\n",
       "      <th>4</th>\n",
       "      <td>본느</td>\n",
       "      <td>226340</td>\n",
       "      <td>2</td>\n",
       "    </tr>\n",
       "    <tr>\n",
       "      <th>5</th>\n",
       "      <td>본느</td>\n",
       "      <td>242420</td>\n",
       "      <td>1</td>\n",
       "    </tr>\n",
       "    <tr>\n",
       "      <th>6</th>\n",
       "      <td>삼성물산</td>\n",
       "      <td>830</td>\n",
       "      <td>8</td>\n",
       "    </tr>\n",
       "    <tr>\n",
       "      <th>7</th>\n",
       "      <td>삼성물산</td>\n",
       "      <td>28260</td>\n",
       "      <td>6</td>\n",
       "    </tr>\n",
       "    <tr>\n",
       "      <th>8</th>\n",
       "      <td>세화피앤씨</td>\n",
       "      <td>85980</td>\n",
       "      <td>4</td>\n",
       "    </tr>\n",
       "    <tr>\n",
       "      <th>9</th>\n",
       "      <td>세화피앤씨</td>\n",
       "      <td>252500</td>\n",
       "      <td>3</td>\n",
       "    </tr>\n",
       "    <tr>\n",
       "      <th>10</th>\n",
       "      <td>신성이엔지</td>\n",
       "      <td>11930</td>\n",
       "      <td>13</td>\n",
       "    </tr>\n",
       "    <tr>\n",
       "      <th>11</th>\n",
       "      <td>신성이엔지</td>\n",
       "      <td>104110</td>\n",
       "      <td>7</td>\n",
       "    </tr>\n",
       "    <tr>\n",
       "      <th>12</th>\n",
       "      <td>씨아이에스</td>\n",
       "      <td>144630</td>\n",
       "      <td>2</td>\n",
       "    </tr>\n",
       "    <tr>\n",
       "      <th>13</th>\n",
       "      <td>씨아이에스</td>\n",
       "      <td>222080</td>\n",
       "      <td>3</td>\n",
       "    </tr>\n",
       "    <tr>\n",
       "      <th>14</th>\n",
       "      <td>아이엘사이언스</td>\n",
       "      <td>122050</td>\n",
       "      <td>1</td>\n",
       "    </tr>\n",
       "    <tr>\n",
       "      <th>15</th>\n",
       "      <td>아이엘사이언스</td>\n",
       "      <td>307180</td>\n",
       "      <td>1</td>\n",
       "    </tr>\n",
       "    <tr>\n",
       "      <th>16</th>\n",
       "      <td>알로이스</td>\n",
       "      <td>271400</td>\n",
       "      <td>1</td>\n",
       "    </tr>\n",
       "    <tr>\n",
       "      <th>17</th>\n",
       "      <td>알로이스</td>\n",
       "      <td>297570</td>\n",
       "      <td>1</td>\n",
       "    </tr>\n",
       "    <tr>\n",
       "      <th>18</th>\n",
       "      <td>에스와이</td>\n",
       "      <td>4530</td>\n",
       "      <td>1</td>\n",
       "    </tr>\n",
       "    <tr>\n",
       "      <th>19</th>\n",
       "      <td>에스와이</td>\n",
       "      <td>109610</td>\n",
       "      <td>5</td>\n",
       "    </tr>\n",
       "    <tr>\n",
       "      <th>20</th>\n",
       "      <td>에스케이</td>\n",
       "      <td>3600</td>\n",
       "      <td>8</td>\n",
       "    </tr>\n",
       "    <tr>\n",
       "      <th>21</th>\n",
       "      <td>에스케이</td>\n",
       "      <td>34730</td>\n",
       "      <td>11</td>\n",
       "    </tr>\n",
       "    <tr>\n",
       "      <th>22</th>\n",
       "      <td>엔에이치엔</td>\n",
       "      <td>35420</td>\n",
       "      <td>1</td>\n",
       "    </tr>\n",
       "    <tr>\n",
       "      <th>23</th>\n",
       "      <td>엔에이치엔</td>\n",
       "      <td>181710</td>\n",
       "      <td>6</td>\n",
       "    </tr>\n",
       "    <tr>\n",
       "      <th>24</th>\n",
       "      <td>엔케이맥스</td>\n",
       "      <td>182400</td>\n",
       "      <td>5</td>\n",
       "    </tr>\n",
       "    <tr>\n",
       "      <th>25</th>\n",
       "      <td>엔케이맥스</td>\n",
       "      <td>262760</td>\n",
       "      <td>1</td>\n",
       "    </tr>\n",
       "    <tr>\n",
       "      <th>26</th>\n",
       "      <td>인산가</td>\n",
       "      <td>62580</td>\n",
       "      <td>2</td>\n",
       "    </tr>\n",
       "    <tr>\n",
       "      <th>27</th>\n",
       "      <td>인산가</td>\n",
       "      <td>277410</td>\n",
       "      <td>2</td>\n",
       "    </tr>\n",
       "    <tr>\n",
       "      <th>28</th>\n",
       "      <td>자비스</td>\n",
       "      <td>230400</td>\n",
       "      <td>1</td>\n",
       "    </tr>\n",
       "    <tr>\n",
       "      <th>29</th>\n",
       "      <td>자비스</td>\n",
       "      <td>254120</td>\n",
       "      <td>1</td>\n",
       "    </tr>\n",
       "    <tr>\n",
       "      <th>30</th>\n",
       "      <td>정다운</td>\n",
       "      <td>208140</td>\n",
       "      <td>4</td>\n",
       "    </tr>\n",
       "    <tr>\n",
       "      <th>31</th>\n",
       "      <td>정다운</td>\n",
       "      <td>224090</td>\n",
       "      <td>1</td>\n",
       "    </tr>\n",
       "    <tr>\n",
       "      <th>32</th>\n",
       "      <td>줌인터넷</td>\n",
       "      <td>229480</td>\n",
       "      <td>3</td>\n",
       "    </tr>\n",
       "    <tr>\n",
       "      <th>33</th>\n",
       "      <td>줌인터넷</td>\n",
       "      <td>239340</td>\n",
       "      <td>1</td>\n",
       "    </tr>\n",
       "    <tr>\n",
       "      <th>34</th>\n",
       "      <td>케이엠에이치</td>\n",
       "      <td>9690</td>\n",
       "      <td>2</td>\n",
       "    </tr>\n",
       "    <tr>\n",
       "      <th>35</th>\n",
       "      <td>케이엠에이치</td>\n",
       "      <td>122450</td>\n",
       "      <td>9</td>\n",
       "    </tr>\n",
       "    <tr>\n",
       "      <th>36</th>\n",
       "      <td>케이엠제약</td>\n",
       "      <td>225430</td>\n",
       "      <td>2</td>\n",
       "    </tr>\n",
       "    <tr>\n",
       "      <th>37</th>\n",
       "      <td>케이엠제약</td>\n",
       "      <td>237720</td>\n",
       "      <td>3</td>\n",
       "    </tr>\n",
       "    <tr>\n",
       "      <th>38</th>\n",
       "      <td>패션플랫폼</td>\n",
       "      <td>225590</td>\n",
       "      <td>2</td>\n",
       "    </tr>\n",
       "    <tr>\n",
       "      <th>39</th>\n",
       "      <td>패션플랫폼</td>\n",
       "      <td>256090</td>\n",
       "      <td>1</td>\n",
       "    </tr>\n",
       "    <tr>\n",
       "      <th>40</th>\n",
       "      <td>포인트엔지니어링</td>\n",
       "      <td>176560</td>\n",
       "      <td>2</td>\n",
       "    </tr>\n",
       "    <tr>\n",
       "      <th>41</th>\n",
       "      <td>포인트엔지니어링</td>\n",
       "      <td>256630</td>\n",
       "      <td>1</td>\n",
       "    </tr>\n",
       "    <tr>\n",
       "      <th>42</th>\n",
       "      <td>한국비엔씨</td>\n",
       "      <td>226610</td>\n",
       "      <td>3</td>\n",
       "    </tr>\n",
       "    <tr>\n",
       "      <th>43</th>\n",
       "      <td>한국비엔씨</td>\n",
       "      <td>256840</td>\n",
       "      <td>1</td>\n",
       "    </tr>\n",
       "    <tr>\n",
       "      <th>44</th>\n",
       "      <td>핸디소프트</td>\n",
       "      <td>32380</td>\n",
       "      <td>3</td>\n",
       "    </tr>\n",
       "    <tr>\n",
       "      <th>45</th>\n",
       "      <td>핸디소프트</td>\n",
       "      <td>220180</td>\n",
       "      <td>4</td>\n",
       "    </tr>\n",
       "  </tbody>\n",
       "</table>\n",
       "</div>"
      ],
      "text/plain": [
       "         회사명   거래소코드  index\n",
       "0      고려시멘트    3660      1\n",
       "1      고려시멘트  198440      3\n",
       "2       나무기술  167380      1\n",
       "3       나무기술  242040      2\n",
       "4         본느  226340      2\n",
       "5         본느  242420      1\n",
       "6       삼성물산     830      8\n",
       "7       삼성물산   28260      6\n",
       "8      세화피앤씨   85980      4\n",
       "9      세화피앤씨  252500      3\n",
       "10     신성이엔지   11930     13\n",
       "11     신성이엔지  104110      7\n",
       "12     씨아이에스  144630      2\n",
       "13     씨아이에스  222080      3\n",
       "14   아이엘사이언스  122050      1\n",
       "15   아이엘사이언스  307180      1\n",
       "16      알로이스  271400      1\n",
       "17      알로이스  297570      1\n",
       "18      에스와이    4530      1\n",
       "19      에스와이  109610      5\n",
       "20      에스케이    3600      8\n",
       "21      에스케이   34730     11\n",
       "22     엔에이치엔   35420      1\n",
       "23     엔에이치엔  181710      6\n",
       "24     엔케이맥스  182400      5\n",
       "25     엔케이맥스  262760      1\n",
       "26       인산가   62580      2\n",
       "27       인산가  277410      2\n",
       "28       자비스  230400      1\n",
       "29       자비스  254120      1\n",
       "30       정다운  208140      4\n",
       "31       정다운  224090      1\n",
       "32      줌인터넷  229480      3\n",
       "33      줌인터넷  239340      1\n",
       "34    케이엠에이치    9690      2\n",
       "35    케이엠에이치  122450      9\n",
       "36     케이엠제약  225430      2\n",
       "37     케이엠제약  237720      3\n",
       "38     패션플랫폼  225590      2\n",
       "39     패션플랫폼  256090      1\n",
       "40  포인트엔지니어링  176560      2\n",
       "41  포인트엔지니어링  256630      1\n",
       "42     한국비엔씨  226610      3\n",
       "43     한국비엔씨  256840      1\n",
       "44     핸디소프트   32380      3\n",
       "45     핸디소프트  220180      4"
      ]
     },
     "execution_count": 11,
     "metadata": {},
     "output_type": "execute_result"
    }
   ],
   "source": [
    "check_df.groupby(['회사명','거래소코드'])['index'].count().reset_index()"
   ]
  },
  {
   "cell_type": "code",
   "execution_count": 12,
   "metadata": {
    "ExecuteTime": {
     "end_time": "2022-02-28T07:58:13.993256Z",
     "start_time": "2022-02-28T07:58:13.965757Z"
    },
    "id": "GruMdMoVeXjO"
   },
   "outputs": [],
   "source": [
    "# 합병등과 같은 이유로 거래소코드가 2개인 경우 데이터프레임에서 삭제\n",
    "df = df[~df['회사명'].isin(check_df['회사명'])]"
   ]
  },
  {
   "cell_type": "markdown",
   "metadata": {
    "id": "K9pHaLLLtA74"
   },
   "source": [
    "# 거래소코드가 같은데 회사명이 두개인 경우가 있었음"
   ]
  },
  {
   "cell_type": "code",
   "execution_count": 13,
   "metadata": {
    "ExecuteTime": {
     "end_time": "2022-02-28T07:58:17.610030Z",
     "start_time": "2022-02-28T07:58:17.588400Z"
    },
    "colab": {
     "base_uri": "https://localhost:8080/"
    },
    "id": "d3dHhQ7wqJXC",
    "outputId": "65f9628a-f762-4b06-e680-a27059aabbec"
   },
   "outputs": [
    {
     "data": {
      "text/html": [
       "<div>\n",
       "<style scoped>\n",
       "    .dataframe tbody tr th:only-of-type {\n",
       "        vertical-align: middle;\n",
       "    }\n",
       "\n",
       "    .dataframe tbody tr th {\n",
       "        vertical-align: top;\n",
       "    }\n",
       "\n",
       "    .dataframe thead th {\n",
       "        text-align: right;\n",
       "    }\n",
       "</style>\n",
       "<table border=\"1\" class=\"dataframe\">\n",
       "  <thead>\n",
       "    <tr style=\"text-align: right;\">\n",
       "      <th></th>\n",
       "      <th>거래소코드</th>\n",
       "      <th>회사명</th>\n",
       "    </tr>\n",
       "  </thead>\n",
       "  <tbody>\n",
       "    <tr>\n",
       "      <th>744</th>\n",
       "      <td>30790</td>\n",
       "      <td>2</td>\n",
       "    </tr>\n",
       "    <tr>\n",
       "      <th>774</th>\n",
       "      <td>32640</td>\n",
       "      <td>2</td>\n",
       "    </tr>\n",
       "  </tbody>\n",
       "</table>\n",
       "</div>"
      ],
      "text/plain": [
       "     거래소코드  회사명\n",
       "744  30790    2\n",
       "774  32640    2"
      ]
     },
     "execution_count": 13,
     "metadata": {},
     "output_type": "execute_result"
    }
   ],
   "source": [
    "check = df.groupby(['거래소코드'])['회사명'].nunique().reset_index()\n",
    "check[check['회사명']>1]"
   ]
  },
  {
   "cell_type": "code",
   "execution_count": 14,
   "metadata": {
    "ExecuteTime": {
     "end_time": "2022-02-28T07:58:34.216141Z",
     "start_time": "2022-02-28T07:58:34.208003Z"
    },
    "colab": {
     "base_uri": "https://localhost:8080/"
    },
    "id": "QS00WPlUslAa",
    "outputId": "6c86ecca-f2ca-4f81-deff-1447a889fd87"
   },
   "outputs": [
    {
     "name": "stdout",
     "output_type": "stream",
     "text": [
      "['동양시스템즈' '비케이탑스']\n"
     ]
    }
   ],
   "source": [
    "print( df[df['거래소코드']==30790]['회사명'].unique() )\n",
    "# '동양시스템즈(주) -> '비케이탑스(주)'\n",
    "\n",
    "df.loc[df['회사명']=='동양시스템즈(주)', '회사명'] = '비케이탑스(주)'"
   ]
  },
  {
   "cell_type": "code",
   "execution_count": 15,
   "metadata": {
    "ExecuteTime": {
     "end_time": "2022-02-28T07:58:37.878309Z",
     "start_time": "2022-02-28T07:58:37.869257Z"
    },
    "colab": {
     "base_uri": "https://localhost:8080/"
    },
    "id": "8ku1t3oAtPVy",
    "outputId": "f80e91e1-c6a2-423e-8a15-802bd379c7ce"
   },
   "outputs": [
    {
     "name": "stdout",
     "output_type": "stream",
     "text": [
      "['엘지유플러스' '엘지텔레콤']\n"
     ]
    }
   ],
   "source": [
    "print( df[df['거래소코드']==32640]['회사명'].unique() )\n",
    "#'(주)엘지텔레콤' -> '(주)엘지유플러스'\n",
    "\n",
    "df.loc[df['회사명']=='(주)엘지텔레콤', '회사명'] = '(주)엘지유플러스'"
   ]
  },
  {
   "cell_type": "code",
   "execution_count": 16,
   "metadata": {
    "ExecuteTime": {
     "end_time": "2022-02-28T07:58:39.886599Z",
     "start_time": "2022-02-28T07:58:39.863225Z"
    },
    "colab": {
     "base_uri": "https://localhost:8080/"
    },
    "id": "0dI6X3T6tcJJ",
    "outputId": "f036a0f6-4db8-492d-d330-1ad1592427c4"
   },
   "outputs": [
    {
     "data": {
      "text/html": [
       "<div>\n",
       "<style scoped>\n",
       "    .dataframe tbody tr th:only-of-type {\n",
       "        vertical-align: middle;\n",
       "    }\n",
       "\n",
       "    .dataframe tbody tr th {\n",
       "        vertical-align: top;\n",
       "    }\n",
       "\n",
       "    .dataframe thead th {\n",
       "        text-align: right;\n",
       "    }\n",
       "</style>\n",
       "<table border=\"1\" class=\"dataframe\">\n",
       "  <thead>\n",
       "    <tr style=\"text-align: right;\">\n",
       "      <th></th>\n",
       "      <th>거래소코드</th>\n",
       "      <th>회사명</th>\n",
       "    </tr>\n",
       "  </thead>\n",
       "  <tbody>\n",
       "    <tr>\n",
       "      <th>744</th>\n",
       "      <td>30790</td>\n",
       "      <td>2</td>\n",
       "    </tr>\n",
       "    <tr>\n",
       "      <th>774</th>\n",
       "      <td>32640</td>\n",
       "      <td>2</td>\n",
       "    </tr>\n",
       "  </tbody>\n",
       "</table>\n",
       "</div>"
      ],
      "text/plain": [
       "     거래소코드  회사명\n",
       "744  30790    2\n",
       "774  32640    2"
      ]
     },
     "execution_count": 16,
     "metadata": {},
     "output_type": "execute_result"
    }
   ],
   "source": [
    "check = df.groupby(['거래소코드'])['회사명'].nunique().reset_index()\n",
    "check[check['회사명']>1]"
   ]
  },
  {
   "cell_type": "markdown",
   "metadata": {
    "id": "cocEFQEalts9"
   },
   "source": [
    "# preprocessing"
   ]
  },
  {
   "cell_type": "code",
   "execution_count": 17,
   "metadata": {
    "ExecuteTime": {
     "end_time": "2022-02-28T07:58:47.002693Z",
     "start_time": "2022-02-28T07:58:46.973977Z"
    },
    "id": "psj4dxX6vJbV"
   },
   "outputs": [],
   "source": [
    "df = df[~df['산업코드'].isnull()]"
   ]
  },
  {
   "cell_type": "code",
   "execution_count": 18,
   "metadata": {
    "ExecuteTime": {
     "end_time": "2022-02-28T07:58:47.450554Z",
     "start_time": "2022-02-28T07:58:47.416917Z"
    },
    "id": "OvWKOAkHuaj1"
   },
   "outputs": [],
   "source": [
    "df['산업코드'] = df['산업코드'].astype(int)\n",
    "df['산업코드'] = df['산업코드'].astype(str).str.zfill(6)\n",
    "df['산업대분류'] = df['산업코드'].str[:2]"
   ]
  },
  {
   "cell_type": "code",
   "execution_count": 19,
   "metadata": {
    "ExecuteTime": {
     "end_time": "2022-02-28T07:58:47.914301Z",
     "start_time": "2022-02-28T07:58:47.889877Z"
    },
    "id": "GoE-G8kmvgVk"
   },
   "outputs": [],
   "source": [
    "df = df[df['산업대분류'].isin(['03','10','07'])]"
   ]
  },
  {
   "cell_type": "markdown",
   "metadata": {
    "id": "MvUhsIj7Ypbn"
   },
   "source": [
    "# 결측치"
   ]
  },
  {
   "cell_type": "code",
   "execution_count": 20,
   "metadata": {
    "ExecuteTime": {
     "end_time": "2022-02-28T07:58:49.972549Z",
     "start_time": "2022-02-28T07:58:49.939731Z"
    },
    "colab": {
     "base_uri": "https://localhost:8080/",
     "height": 676
    },
    "id": "D4OJdVf0h3WL",
    "outputId": "4139b5dd-f4cc-4a86-aa34-0f4dff5cd2c6"
   },
   "outputs": [
    {
     "data": {
      "text/html": [
       "<div>\n",
       "<style scoped>\n",
       "    .dataframe tbody tr th:only-of-type {\n",
       "        vertical-align: middle;\n",
       "    }\n",
       "\n",
       "    .dataframe tbody tr th {\n",
       "        vertical-align: top;\n",
       "    }\n",
       "\n",
       "    .dataframe thead th {\n",
       "        text-align: right;\n",
       "    }\n",
       "</style>\n",
       "<table border=\"1\" class=\"dataframe\">\n",
       "  <thead>\n",
       "    <tr style=\"text-align: right;\">\n",
       "      <th></th>\n",
       "      <th>index</th>\n",
       "      <th>0</th>\n",
       "    </tr>\n",
       "  </thead>\n",
       "  <tbody>\n",
       "    <tr>\n",
       "      <th>7</th>\n",
       "      <td>상장폐지일</td>\n",
       "      <td>16794</td>\n",
       "    </tr>\n",
       "    <tr>\n",
       "      <th>8</th>\n",
       "      <td>감사의견코드(IFRS)</td>\n",
       "      <td>5380</td>\n",
       "    </tr>\n",
       "    <tr>\n",
       "      <th>171</th>\n",
       "      <td>EV/EBITDA(IFRS)(배)</td>\n",
       "      <td>828</td>\n",
       "    </tr>\n",
       "    <tr>\n",
       "      <th>157</th>\n",
       "      <td>평균근속연수</td>\n",
       "      <td>231</td>\n",
       "    </tr>\n",
       "    <tr>\n",
       "      <th>156</th>\n",
       "      <td>연간총급여(천원)</td>\n",
       "      <td>62</td>\n",
       "    </tr>\n",
       "    <tr>\n",
       "      <th>132</th>\n",
       "      <td>종업원1인당 순이익(IFRS)(백만원)</td>\n",
       "      <td>1</td>\n",
       "    </tr>\n",
       "    <tr>\n",
       "      <th>139</th>\n",
       "      <td>기계투자효율(IFRS)</td>\n",
       "      <td>1</td>\n",
       "    </tr>\n",
       "    <tr>\n",
       "      <th>147</th>\n",
       "      <td>금융비용(IFRS)(백만원)</td>\n",
       "      <td>1</td>\n",
       "    </tr>\n",
       "    <tr>\n",
       "      <th>145</th>\n",
       "      <td>법인세비용차감전(계속사업)손익(IFRS)(백만원)</td>\n",
       "      <td>1</td>\n",
       "    </tr>\n",
       "    <tr>\n",
       "      <th>144</th>\n",
       "      <td>부가가치(IFRS)(백만원).1</td>\n",
       "      <td>1</td>\n",
       "    </tr>\n",
       "    <tr>\n",
       "      <th>143</th>\n",
       "      <td>이윤분배율(IFRS)</td>\n",
       "      <td>1</td>\n",
       "    </tr>\n",
       "    <tr>\n",
       "      <th>142</th>\n",
       "      <td>자본분배율(IFRS)</td>\n",
       "      <td>1</td>\n",
       "    </tr>\n",
       "    <tr>\n",
       "      <th>141</th>\n",
       "      <td>노동소득분배율(IFRS)</td>\n",
       "      <td>1</td>\n",
       "    </tr>\n",
       "    <tr>\n",
       "      <th>140</th>\n",
       "      <td>부가가치율(IFRS)</td>\n",
       "      <td>1</td>\n",
       "    </tr>\n",
       "    <tr>\n",
       "      <th>137</th>\n",
       "      <td>총자본투자효율(IFRS)</td>\n",
       "      <td>1</td>\n",
       "    </tr>\n",
       "    <tr>\n",
       "      <th>138</th>\n",
       "      <td>설비투자효율(IFRS)</td>\n",
       "      <td>1</td>\n",
       "    </tr>\n",
       "    <tr>\n",
       "      <th>149</th>\n",
       "      <td>세금과공과(IFRS)(백만원)</td>\n",
       "      <td>1</td>\n",
       "    </tr>\n",
       "    <tr>\n",
       "      <th>136</th>\n",
       "      <td>자본집약도(IFRS)</td>\n",
       "      <td>1</td>\n",
       "    </tr>\n",
       "    <tr>\n",
       "      <th>135</th>\n",
       "      <td>기계장비율(IFRS)</td>\n",
       "      <td>1</td>\n",
       "    </tr>\n",
       "    <tr>\n",
       "      <th>134</th>\n",
       "      <td>노동장비율(IFRS)</td>\n",
       "      <td>1</td>\n",
       "    </tr>\n",
       "  </tbody>\n",
       "</table>\n",
       "</div>"
      ],
      "text/plain": [
       "                           index      0\n",
       "7                          상장폐지일  16794\n",
       "8                   감사의견코드(IFRS)   5380\n",
       "171           EV/EBITDA(IFRS)(배)    828\n",
       "157                       평균근속연수    231\n",
       "156                    연간총급여(천원)     62\n",
       "132        종업원1인당 순이익(IFRS)(백만원)      1\n",
       "139                 기계투자효율(IFRS)      1\n",
       "147              금융비용(IFRS)(백만원)      1\n",
       "145  법인세비용차감전(계속사업)손익(IFRS)(백만원)      1\n",
       "144            부가가치(IFRS)(백만원).1      1\n",
       "143                  이윤분배율(IFRS)      1\n",
       "142                  자본분배율(IFRS)      1\n",
       "141                노동소득분배율(IFRS)      1\n",
       "140                  부가가치율(IFRS)      1\n",
       "137                총자본투자효율(IFRS)      1\n",
       "138                 설비투자효율(IFRS)      1\n",
       "149             세금과공과(IFRS)(백만원)      1\n",
       "136                  자본집약도(IFRS)      1\n",
       "135                  기계장비율(IFRS)      1\n",
       "134                  노동장비율(IFRS)      1"
      ]
     },
     "execution_count": 20,
     "metadata": {},
     "output_type": "execute_result"
    }
   ],
   "source": [
    "# 컬럼을 기준으로 nan 값 개수를 출력해본다\n",
    "df.isnull().sum(0).reset_index().sort_values(by=0, ascending=False).head(20)"
   ]
  },
  {
   "cell_type": "code",
   "execution_count": 21,
   "metadata": {
    "ExecuteTime": {
     "end_time": "2022-02-28T07:59:27.155653Z",
     "start_time": "2022-02-28T07:59:27.042212Z"
    },
    "id": "xNPXpT2ZihSz"
   },
   "outputs": [
    {
     "ename": "KeyError",
     "evalue": "'EBITDA(백만원)'",
     "output_type": "error",
     "traceback": [
      "\u001b[1;31m---------------------------------------------------------------------------\u001b[0m",
      "\u001b[1;31mKeyError\u001b[0m                                  Traceback (most recent call last)",
      "\u001b[1;32m~\\anaconda3\\lib\\site-packages\\pandas\\core\\indexes\\base.py\u001b[0m in \u001b[0;36mget_loc\u001b[1;34m(self, key, method, tolerance)\u001b[0m\n\u001b[0;32m   3360\u001b[0m             \u001b[1;32mtry\u001b[0m\u001b[1;33m:\u001b[0m\u001b[1;33m\u001b[0m\u001b[1;33m\u001b[0m\u001b[0m\n\u001b[1;32m-> 3361\u001b[1;33m                 \u001b[1;32mreturn\u001b[0m \u001b[0mself\u001b[0m\u001b[1;33m.\u001b[0m\u001b[0m_engine\u001b[0m\u001b[1;33m.\u001b[0m\u001b[0mget_loc\u001b[0m\u001b[1;33m(\u001b[0m\u001b[0mcasted_key\u001b[0m\u001b[1;33m)\u001b[0m\u001b[1;33m\u001b[0m\u001b[1;33m\u001b[0m\u001b[0m\n\u001b[0m\u001b[0;32m   3362\u001b[0m             \u001b[1;32mexcept\u001b[0m \u001b[0mKeyError\u001b[0m \u001b[1;32mas\u001b[0m \u001b[0merr\u001b[0m\u001b[1;33m:\u001b[0m\u001b[1;33m\u001b[0m\u001b[1;33m\u001b[0m\u001b[0m\n",
      "\u001b[1;32m~\\anaconda3\\lib\\site-packages\\pandas\\_libs\\index.pyx\u001b[0m in \u001b[0;36mpandas._libs.index.IndexEngine.get_loc\u001b[1;34m()\u001b[0m\n",
      "\u001b[1;32m~\\anaconda3\\lib\\site-packages\\pandas\\_libs\\index.pyx\u001b[0m in \u001b[0;36mpandas._libs.index.IndexEngine.get_loc\u001b[1;34m()\u001b[0m\n",
      "\u001b[1;32mpandas\\_libs\\hashtable_class_helper.pxi\u001b[0m in \u001b[0;36mpandas._libs.hashtable.PyObjectHashTable.get_item\u001b[1;34m()\u001b[0m\n",
      "\u001b[1;32mpandas\\_libs\\hashtable_class_helper.pxi\u001b[0m in \u001b[0;36mpandas._libs.hashtable.PyObjectHashTable.get_item\u001b[1;34m()\u001b[0m\n",
      "\u001b[1;31mKeyError\u001b[0m: 'EBITDA(백만원)'",
      "\nThe above exception was the direct cause of the following exception:\n",
      "\u001b[1;31mKeyError\u001b[0m                                  Traceback (most recent call last)",
      "\u001b[1;32m~\\AppData\\Local\\Temp/ipykernel_6652/1504417085.py\u001b[0m in \u001b[0;36m<module>\u001b[1;34m\u001b[0m\n\u001b[0;32m      7\u001b[0m \u001b[1;31m# df[(df['기업가치(EV)(백만원)'] > 0)&(df['EBITDA(백만원)'] > 0)  &(df['EV/EBITDA(배)'] >0)]\u001b[0m\u001b[1;33m\u001b[0m\u001b[1;33m\u001b[0m\u001b[0m\n\u001b[0;32m      8\u001b[0m \u001b[1;31m# df[df['EBITDA(백만원)']==0]\u001b[0m\u001b[1;33m\u001b[0m\u001b[1;33m\u001b[0m\u001b[0m\n\u001b[1;32m----> 9\u001b[1;33m \u001b[0mdf\u001b[0m \u001b[1;33m=\u001b[0m \u001b[0mdf\u001b[0m\u001b[1;33m.\u001b[0m\u001b[0mloc\u001b[0m\u001b[1;33m[\u001b[0m\u001b[0mdf\u001b[0m\u001b[1;33m[\u001b[0m\u001b[1;34m'EBITDA(백만원)'\u001b[0m\u001b[1;33m]\u001b[0m\u001b[1;33m!=\u001b[0m\u001b[1;36m0\u001b[0m\u001b[1;33m]\u001b[0m\u001b[1;33m\u001b[0m\u001b[1;33m\u001b[0m\u001b[0m\n\u001b[0m\u001b[0;32m     10\u001b[0m \u001b[0mdf\u001b[0m\u001b[1;33m[\u001b[0m\u001b[1;34m'EV/EBITDA(배)'\u001b[0m\u001b[1;33m]\u001b[0m \u001b[1;33m=\u001b[0m \u001b[0mround\u001b[0m\u001b[1;33m(\u001b[0m\u001b[0mdf\u001b[0m\u001b[1;33m[\u001b[0m\u001b[1;34m'기업가치(EV)(백만원)'\u001b[0m\u001b[1;33m]\u001b[0m\u001b[1;33m/\u001b[0m\u001b[0mdf\u001b[0m\u001b[1;33m[\u001b[0m\u001b[1;34m'EBITDA(백만원)'\u001b[0m\u001b[1;33m]\u001b[0m\u001b[1;33m,\u001b[0m \u001b[1;36m3\u001b[0m\u001b[1;33m)\u001b[0m\u001b[1;33m\u001b[0m\u001b[1;33m\u001b[0m\u001b[0m\n\u001b[0;32m     11\u001b[0m \u001b[0mdf\u001b[0m\u001b[1;33m.\u001b[0m\u001b[0mloc\u001b[0m\u001b[1;33m[\u001b[0m\u001b[1;33m(\u001b[0m\u001b[0mdf\u001b[0m\u001b[1;33m[\u001b[0m\u001b[1;34m'EV/EBITDA(배)'\u001b[0m\u001b[1;33m]\u001b[0m \u001b[1;33m<\u001b[0m \u001b[1;36m0\u001b[0m\u001b[1;33m)\u001b[0m\u001b[1;33m,\u001b[0m \u001b[1;34m'EV/EBITDA(배)'\u001b[0m\u001b[1;33m]\u001b[0m \u001b[1;33m=\u001b[0m \u001b[1;36m0\u001b[0m\u001b[1;33m\u001b[0m\u001b[1;33m\u001b[0m\u001b[0m\n",
      "\u001b[1;32m~\\anaconda3\\lib\\site-packages\\pandas\\core\\frame.py\u001b[0m in \u001b[0;36m__getitem__\u001b[1;34m(self, key)\u001b[0m\n\u001b[0;32m   3456\u001b[0m             \u001b[1;32mif\u001b[0m \u001b[0mself\u001b[0m\u001b[1;33m.\u001b[0m\u001b[0mcolumns\u001b[0m\u001b[1;33m.\u001b[0m\u001b[0mnlevels\u001b[0m \u001b[1;33m>\u001b[0m \u001b[1;36m1\u001b[0m\u001b[1;33m:\u001b[0m\u001b[1;33m\u001b[0m\u001b[1;33m\u001b[0m\u001b[0m\n\u001b[0;32m   3457\u001b[0m                 \u001b[1;32mreturn\u001b[0m \u001b[0mself\u001b[0m\u001b[1;33m.\u001b[0m\u001b[0m_getitem_multilevel\u001b[0m\u001b[1;33m(\u001b[0m\u001b[0mkey\u001b[0m\u001b[1;33m)\u001b[0m\u001b[1;33m\u001b[0m\u001b[1;33m\u001b[0m\u001b[0m\n\u001b[1;32m-> 3458\u001b[1;33m             \u001b[0mindexer\u001b[0m \u001b[1;33m=\u001b[0m \u001b[0mself\u001b[0m\u001b[1;33m.\u001b[0m\u001b[0mcolumns\u001b[0m\u001b[1;33m.\u001b[0m\u001b[0mget_loc\u001b[0m\u001b[1;33m(\u001b[0m\u001b[0mkey\u001b[0m\u001b[1;33m)\u001b[0m\u001b[1;33m\u001b[0m\u001b[1;33m\u001b[0m\u001b[0m\n\u001b[0m\u001b[0;32m   3459\u001b[0m             \u001b[1;32mif\u001b[0m \u001b[0mis_integer\u001b[0m\u001b[1;33m(\u001b[0m\u001b[0mindexer\u001b[0m\u001b[1;33m)\u001b[0m\u001b[1;33m:\u001b[0m\u001b[1;33m\u001b[0m\u001b[1;33m\u001b[0m\u001b[0m\n\u001b[0;32m   3460\u001b[0m                 \u001b[0mindexer\u001b[0m \u001b[1;33m=\u001b[0m \u001b[1;33m[\u001b[0m\u001b[0mindexer\u001b[0m\u001b[1;33m]\u001b[0m\u001b[1;33m\u001b[0m\u001b[1;33m\u001b[0m\u001b[0m\n",
      "\u001b[1;32m~\\anaconda3\\lib\\site-packages\\pandas\\core\\indexes\\base.py\u001b[0m in \u001b[0;36mget_loc\u001b[1;34m(self, key, method, tolerance)\u001b[0m\n\u001b[0;32m   3361\u001b[0m                 \u001b[1;32mreturn\u001b[0m \u001b[0mself\u001b[0m\u001b[1;33m.\u001b[0m\u001b[0m_engine\u001b[0m\u001b[1;33m.\u001b[0m\u001b[0mget_loc\u001b[0m\u001b[1;33m(\u001b[0m\u001b[0mcasted_key\u001b[0m\u001b[1;33m)\u001b[0m\u001b[1;33m\u001b[0m\u001b[1;33m\u001b[0m\u001b[0m\n\u001b[0;32m   3362\u001b[0m             \u001b[1;32mexcept\u001b[0m \u001b[0mKeyError\u001b[0m \u001b[1;32mas\u001b[0m \u001b[0merr\u001b[0m\u001b[1;33m:\u001b[0m\u001b[1;33m\u001b[0m\u001b[1;33m\u001b[0m\u001b[0m\n\u001b[1;32m-> 3363\u001b[1;33m                 \u001b[1;32mraise\u001b[0m \u001b[0mKeyError\u001b[0m\u001b[1;33m(\u001b[0m\u001b[0mkey\u001b[0m\u001b[1;33m)\u001b[0m \u001b[1;32mfrom\u001b[0m \u001b[0merr\u001b[0m\u001b[1;33m\u001b[0m\u001b[1;33m\u001b[0m\u001b[0m\n\u001b[0m\u001b[0;32m   3364\u001b[0m \u001b[1;33m\u001b[0m\u001b[0m\n\u001b[0;32m   3365\u001b[0m         \u001b[1;32mif\u001b[0m \u001b[0mis_scalar\u001b[0m\u001b[1;33m(\u001b[0m\u001b[0mkey\u001b[0m\u001b[1;33m)\u001b[0m \u001b[1;32mand\u001b[0m \u001b[0misna\u001b[0m\u001b[1;33m(\u001b[0m\u001b[0mkey\u001b[0m\u001b[1;33m)\u001b[0m \u001b[1;32mand\u001b[0m \u001b[1;32mnot\u001b[0m \u001b[0mself\u001b[0m\u001b[1;33m.\u001b[0m\u001b[0mhasnans\u001b[0m\u001b[1;33m:\u001b[0m\u001b[1;33m\u001b[0m\u001b[1;33m\u001b[0m\u001b[0m\n",
      "\u001b[1;31mKeyError\u001b[0m: 'EBITDA(백만원)'"
     ]
    }
   ],
   "source": [
    "# EV/EBITDA(배) NULL값이 너무 많기 때문에 값 채우기\n",
    "\n",
    "# 여러가지 경우의 수를 확인하는 작업\n",
    "# df[(df['기업가치(EV)(백만원)'] < 0)&(df['EBITDA(백만원)'] < 0)]['EV/EBITDA(배)'].value_counts()\n",
    "# df[(df['기업가치(EV)(백만원)'] > 0)&(df['EBITDA(백만원)'] < 0)]['EV/EBITDA(배)'].value_counts()\n",
    "# df[(df['기업가치(EV)(백만원)'] < 0)&(df['EBITDA(백만원)'] > 0) &(df['EV/EBITDA(배)'] <0)]\n",
    "# df[(df['기업가치(EV)(백만원)'] > 0)&(df['EBITDA(백만원)'] > 0)  &(df['EV/EBITDA(배)'] >0)]\n",
    "# df[df['EBITDA(백만원)']==0]\n",
    "df = df.loc[df['EBITDA(백만원)']!=0]\n",
    "df['EV/EBITDA(배)'] = round(df['기업가치(EV)(백만원)']/df['EBITDA(백만원)'], 3)\n",
    "df.loc[(df['EV/EBITDA(배)'] < 0), 'EV/EBITDA(배)'] = 0"
   ]
  },
  {
   "cell_type": "code",
   "execution_count": null,
   "metadata": {},
   "outputs": [],
   "source": [
    "df[df['회사명'] == '(주)차바이오텍']"
   ]
  },
  {
   "cell_type": "code",
   "execution_count": null,
   "metadata": {
    "colab": {
     "base_uri": "https://localhost:8080/",
     "height": 676
    },
    "id": "xWH7ShEYmo6C",
    "outputId": "837bf5d2-eecf-43a6-90b6-f4aca9e94da4"
   },
   "outputs": [],
   "source": [
    "df.isnull().sum(0).reset_index().sort_values(by=0, ascending=False).head(20)"
   ]
  },
  {
   "cell_type": "code",
   "execution_count": null,
   "metadata": {
    "id": "J77FXJsVlZcS"
   },
   "outputs": [],
   "source": [
    "# 2007이전 발생한 항목은 nan값이 너무 많고, 우리가 시행하는 기간 기준에도 부합하지 않아 삭제한다.\n",
    "col_list = df.columns\n",
    "\n",
    "drop_col = [s for s in col_list if \"2007\" in s] \n",
    "df.drop(drop_col, axis=1, inplace=True)"
   ]
  },
  {
   "cell_type": "code",
   "execution_count": null,
   "metadata": {
    "colab": {
     "base_uri": "https://localhost:8080/",
     "height": 676
    },
    "id": "VAnnEX2lllyj",
    "outputId": "c4381935-7ce5-4c9e-e024-3e45efbffe67"
   },
   "outputs": [],
   "source": [
    "df.isnull().sum(0).reset_index().sort_values(by=0, ascending=False).head(20)"
   ]
  },
  {
   "cell_type": "code",
   "execution_count": null,
   "metadata": {
    "colab": {
     "base_uri": "https://localhost:8080/"
    },
    "id": "fzBc6qwin74c",
    "outputId": "3aa7f0e8-e4c6-4ace-a4e1-6d5b17914370"
   },
   "outputs": [],
   "source": [
    "# 행 기준으로 nan 값을많이 가지고 있는 것을 뽑는다.\n",
    "df['NaN_cnt'] = df.isnull().sum(1)\n",
    "df['NaN_cnt'].value_counts().reset_index()"
   ]
  },
  {
   "cell_type": "code",
   "execution_count": null,
   "metadata": {
    "colab": {
     "base_uri": "https://localhost:8080/",
     "height": 717
    },
    "id": "PZvayhh2oz8K",
    "outputId": "7fe1bff0-5867-42b2-c6c9-31e0ac6979d4"
   },
   "outputs": [],
   "source": [
    "df[df['NaN_cnt'] == 16]"
   ]
  },
  {
   "cell_type": "code",
   "execution_count": null,
   "metadata": {
    "colab": {
     "base_uri": "https://localhost:8080/"
    },
    "id": "WsYx3keViz9B",
    "outputId": "9965bc57-94d9-4c54-d634-74e63606d6bd"
   },
   "outputs": [],
   "source": [
    "df = df[df['NaN_cnt'] < 16]\n",
    "df['NaN_cnt'].value_counts()"
   ]
  },
  {
   "cell_type": "code",
   "execution_count": null,
   "metadata": {},
   "outputs": [],
   "source": [
    "# 컬럼기준으로 nan 값을 확인해보면, 상장폐지일 컬럼에만 nan값이 있는 것을 확인할 수 있다.\n",
    "# df.isnull().sum(0).reset_index().sort_values(by=0, ascending=False)"
   ]
  },
  {
   "cell_type": "code",
   "execution_count": null,
   "metadata": {
    "colab": {
     "base_uri": "https://localhost:8080/"
    },
    "id": "8894oiI76xhB",
    "outputId": "bbe97469-ba53-4a02-93f8-6b5d2a939ed5"
   },
   "outputs": [],
   "source": [
    "df['회계년도'] = df['회계년도'].str[0:4].astype(int)"
   ]
  },
  {
   "cell_type": "code",
   "execution_count": null,
   "metadata": {
    "colab": {
     "base_uri": "https://localhost:8080/"
    },
    "id": "kmPNI02xsCs6",
    "outputId": "8423a414-d304-4a34-eed7-39d92d2478a0"
   },
   "outputs": [],
   "source": [
    "df.sort_values(by=['회사명', '회계년도'], ascending=[True, True], inplace=True)"
   ]
  },
  {
   "cell_type": "code",
   "execution_count": null,
   "metadata": {
    "id": "Pwsl9AtHekQ8"
   },
   "outputs": [],
   "source": [
    "# df_03 = df[df['산업대분류'] == '03']\n",
    "# df_07 = df[df['산업대분류'] == '07']\n",
    "# df_10 = df[df['산업대분류'] == '10']"
   ]
  },
  {
   "cell_type": "code",
   "execution_count": null,
   "metadata": {
    "colab": {
     "base_uri": "https://localhost:8080/",
     "height": 402
    },
    "id": "M9sy6w8muDA4",
    "outputId": "657f06a1-826b-45e1-edc2-147a901655cc"
   },
   "outputs": [],
   "source": [
    "# df_07.describe()"
   ]
  },
  {
   "cell_type": "code",
   "execution_count": null,
   "metadata": {},
   "outputs": [],
   "source": [
    "df = df.drop(columns={'NaN_cnt','상장폐지일'})\n",
    "df"
   ]
  },
  {
   "cell_type": "code",
   "execution_count": null,
   "metadata": {},
   "outputs": [],
   "source": [
    "# 부도여부 칼럼 형성\n",
    "df.loc[((df['감사의견코드'] == 'DS') | \n",
    "          (df['감사의견코드'] == 'DU')) & \n",
    "         (df['소속코드'].isin([3,4,6])), \n",
    "         '부도여부'] = '1'\n",
    "\n",
    "df['부도여부'] = df['부도여부'].fillna('0')"
   ]
  },
  {
   "cell_type": "code",
   "execution_count": null,
   "metadata": {},
   "outputs": [],
   "source": [
    "df['부도여부'].value_counts()"
   ]
  },
  {
   "cell_type": "markdown",
   "metadata": {},
   "source": [
    "# 방법2 채택을 위한 작업"
   ]
  },
  {
   "cell_type": "code",
   "execution_count": null,
   "metadata": {},
   "outputs": [],
   "source": [
    "df['left_on'] = df['회계년도']-1\n",
    "\n",
    "left_df = df[['회사명', '거래소코드','부도여부','left_on']]"
   ]
  },
  {
   "cell_type": "code",
   "execution_count": null,
   "metadata": {},
   "outputs": [],
   "source": [
    "merged_df = pd.merge(left_df, df, left_on=['회사명','거래소코드','left_on'], \n",
    "                     right_on = ['회사명','거래소코드','회계년도'], how='left')\n",
    "merged_df.head()\n",
    "# 여기에 Nan값이 나오는 이유\n",
    "# left_on_x의 처음 값이 2006년인데, 우리는 데이터셋을 에초에 2007년부터 불러왔기 때문에 없는 것임.\n",
    "# 따라서 해당 행을 drop해야 한다."
   ]
  },
  {
   "cell_type": "code",
   "execution_count": null,
   "metadata": {},
   "outputs": [],
   "source": [
    "merged_df[merged_df['회사명']=='(주)차바이오텍']"
   ]
  },
  {
   "cell_type": "code",
   "execution_count": null,
   "metadata": {},
   "outputs": [],
   "source": [
    "merged_df.isnull().sum().value_counts()"
   ]
  },
  {
   "cell_type": "code",
   "execution_count": null,
   "metadata": {},
   "outputs": [],
   "source": [
    "# 2006년 데이터는 애초에 없기에 그런 행들을 삭제해준다.\n",
    "merged_df = merged_df[~merged_df['회계년도'].isnull()]\n",
    "\n",
    "merged_df.drop(columns = ['부도여부_y','left_on_x','left_on_y'], inplace=True)\n",
    "merged_df.rename(columns = {'부도여부_x': '차기부도여부'}, inplace=True)\n",
    "merged_df.sort_values(by=['회사명', '회계년도'], inplace=True)\n",
    "merged_df.shape\n",
    "\n",
    "# 18723 행"
   ]
  },
  {
   "cell_type": "code",
   "execution_count": null,
   "metadata": {},
   "outputs": [],
   "source": [
    "print('부도 기업의 데이터 행 수 : {}'.format(merged_df['차기부도여부'].value_counts()[1]))\n",
    "print('다음 사업연도에 감삭결과가 DS, DU 이거나 관리종목 혹은 상장 폐지로 되는 기업의 개수 : {}'.\n",
    "      format(merged_df[merged_df['차기부도여부']=='1']['회사명'].nunique()))"
   ]
  },
  {
   "cell_type": "code",
   "execution_count": null,
   "metadata": {},
   "outputs": [],
   "source": [
    "first_bankruptcy=pd.DataFrame(columns=['회사명'])\n",
    "first_bankruptcy['회사명'] = merged_df['회사명'].unique()\n",
    "\n",
    "# merged_df에서 고유한 회사명만 가져가게 된다.\n",
    "# first_bankruptcy"
   ]
  },
  {
   "cell_type": "code",
   "execution_count": null,
   "metadata": {},
   "outputs": [],
   "source": [
    "# check에는 234개의 부도 데이터가 들어가게 된다. (즉, 기업이 중복되는 행이 존재하는 것)\n",
    "check = merged_df[merged_df['차기부도여부']=='1'][['회사명','회계년도','차기부도여부']].sort_values(by=['회사명', '회계년도', '차기부도여부'], ascending=[True, True, True])\n",
    "# 중복되는 기업 행을 제거하기 위해 시행하는 것으로 keep first는 중복되는 값 중 앞에 있는 것을 남기겠다는 것\n",
    "check = check.drop_duplicates(['회사명'], keep='first')\n",
    "check.drop(columns='차기부도여부', inplace=True)\n",
    "# 따라서 check는 214개의 부도 데이터를 가져가게 된다.\n",
    "# check"
   ]
  },
  {
   "cell_type": "code",
   "execution_count": null,
   "metadata": {},
   "outputs": [],
   "source": [
    "# 고유한 기업 2126개에 부도 기업 214개를 merge 하게되면 회계년도 부도난 시점이 들어가게 됨.\n",
    "first_bankruptcy = pd.merge(first_bankruptcy, check, how ='left', on='회사명')\n",
    "# 하지만, 정상기업의 경우는 Nan 값이 들어가기 때문에 fillna를 시행한다\n",
    "first_bankruptcy['회계년도'] = first_bankruptcy['회계년도'].fillna(2021.0)\n",
    "# 여기서 회계년도 + 1 년에 부도가 발생한 것이기 때문에 회계년도 를 첫부도일 -1 이라는 더 직관적인 명칭으로 변경한다\n",
    "first_bankruptcy.rename(columns={'회계년도' : '첫_부도일-1'}, inplace=True)\n",
    "# first_bankruptcy"
   ]
  },
  {
   "cell_type": "code",
   "execution_count": null,
   "metadata": {},
   "outputs": [],
   "source": [
    "# 2021.0이 아닌 값을 가지게 되는 기업은 총 214개로 이는 고유한 부도기업 데이터임\n",
    "first_bankruptcy[first_bankruptcy['첫_부도일-1']!=2021.0]"
   ]
  },
  {
   "cell_type": "code",
   "execution_count": null,
   "metadata": {},
   "outputs": [],
   "source": [
    "# 먼저 빈 데이터 프레임, 리스트를 형성해준다.\n",
    "final_df  = pd.DataFrame()\n",
    "tmp_list = []\n",
    "\n",
    "for row, col  in first_bankruptcy.iterrows():\n",
    "  tmp = merged_df[(merged_df['회사명'] == col['회사명']) & (merged_df['회계년도']<= col['첫_부도일-1'])]\n",
    "  tmp_list.append(tmp)\n",
    "final_df = pd.concat(tmp_list)\n",
    "final_df.reset_index(inplace=True)\n",
    "final_df.drop(columns='index', inplace = True)"
   ]
  },
  {
   "cell_type": "code",
   "execution_count": null,
   "metadata": {},
   "outputs": [],
   "source": [
    "final_df"
   ]
  },
  {
   "cell_type": "code",
   "execution_count": null,
   "metadata": {},
   "outputs": [],
   "source": [
    "print('부도 기업의 데이터 행 수 : {}'.format(final_df['차기부도여부'].value_counts()[1]))\n",
    "print('다음 사업연도에 감삭결과가 DS, DU 이거나 관리종목 혹은 상장 폐지로 되는 기업의 개수 : {}'.\n",
    "      format(final_df[final_df['차기부도여부']=='1']['회사명'].nunique()))"
   ]
  },
  {
   "cell_type": "code",
   "execution_count": null,
   "metadata": {},
   "outputs": [],
   "source": [
    "final_df.rename(columns={'상품':'제품회전률', '원':'부재료회전률'}, inplace=True)"
   ]
  },
  {
   "cell_type": "code",
   "execution_count": null,
   "metadata": {},
   "outputs": [],
   "source": [
    "final_df.to_csv('dataset/basic_final_df.csv')"
   ]
  }
 ],
 "metadata": {
  "colab": {
   "collapsed_sections": [],
   "name": "2. preprocessing_mod.ipynb",
   "provenance": []
  },
  "kernelspec": {
   "display_name": "Python 3 (ipykernel)",
   "language": "python",
   "name": "python3"
  },
  "language_info": {
   "codemirror_mode": {
    "name": "ipython",
    "version": 3
   },
   "file_extension": ".py",
   "mimetype": "text/x-python",
   "name": "python",
   "nbconvert_exporter": "python",
   "pygments_lexer": "ipython3",
   "version": "3.9.7"
  },
  "toc": {
   "base_numbering": 1,
   "nav_menu": {},
   "number_sections": false,
   "sideBar": true,
   "skip_h1_title": false,
   "title_cell": "Table of Contents",
   "title_sidebar": "Contents",
   "toc_cell": false,
   "toc_position": {},
   "toc_section_display": true,
   "toc_window_display": false
  },
  "varInspector": {
   "cols": {
    "lenName": 16,
    "lenType": 16,
    "lenVar": 40
   },
   "kernels_config": {
    "python": {
     "delete_cmd_postfix": "",
     "delete_cmd_prefix": "del ",
     "library": "var_list.py",
     "varRefreshCmd": "print(var_dic_list())"
    },
    "r": {
     "delete_cmd_postfix": ") ",
     "delete_cmd_prefix": "rm(",
     "library": "var_list.r",
     "varRefreshCmd": "cat(var_dic_list()) "
    }
   },
   "types_to_exclude": [
    "module",
    "function",
    "builtin_function_or_method",
    "instance",
    "_Feature"
   ],
   "window_display": false
  }
 },
 "nbformat": 4,
 "nbformat_minor": 1
}
