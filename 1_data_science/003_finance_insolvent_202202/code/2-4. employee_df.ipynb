{
 "cells": [
  {
   "cell_type": "code",
   "execution_count": 1,
   "metadata": {
    "colab": {
     "base_uri": "https://localhost:8080/"
    },
    "executionInfo": {
     "elapsed": 25952,
     "status": "ok",
     "timestamp": 1639723143849,
     "user": {
      "displayName": "윤영주",
      "photoUrl": "https://lh3.googleusercontent.com/a/default-user=s64",
      "userId": "18155336044487350880"
     },
     "user_tz": -540
    },
    "id": "SaaxgNjjeX5G",
    "outputId": "c1fe4f5c-5945-468b-fe38-71cadaf95947"
   },
   "outputs": [
    {
     "name": "stdout",
     "output_type": "stream",
     "text": [
      "Mounted at /content/drive\n"
     ]
    }
   ],
   "source": [
    "from google.colab import drive\n",
    "drive.mount('/content/drive')"
   ]
  },
  {
   "cell_type": "code",
   "execution_count": 2,
   "metadata": {
    "colab": {
     "base_uri": "https://localhost:8080/"
    },
    "executionInfo": {
     "elapsed": 44156,
     "status": "ok",
     "timestamp": 1639723187984,
     "user": {
      "displayName": "윤영주",
      "photoUrl": "https://lh3.googleusercontent.com/a/default-user=s64",
      "userId": "18155336044487350880"
     },
     "user_tz": -540
    },
    "id": "f7kpNyIIeY0u",
    "outputId": "5aaa296c-226f-4c81-86e9-b5b71d7d710b"
   },
   "outputs": [
    {
     "name": "stdout",
     "output_type": "stream",
     "text": [
      "Reading package lists... Done\n",
      "Building dependency tree       \n",
      "Reading state information... Done\n",
      "The following NEW packages will be installed:\n",
      "  fonts-nanum\n",
      "0 upgraded, 1 newly installed, 0 to remove and 37 not upgraded.\n",
      "Need to get 9,604 kB of archives.\n",
      "After this operation, 29.5 MB of additional disk space will be used.\n",
      "Get:1 http://archive.ubuntu.com/ubuntu bionic/universe amd64 fonts-nanum all 20170925-1 [9,604 kB]\n",
      "Fetched 9,604 kB in 36s (269 kB/s)\n",
      "debconf: unable to initialize frontend: Dialog\n",
      "debconf: (No usable dialog-like program is installed, so the dialog based frontend cannot be used. at /usr/share/perl5/Debconf/FrontEnd/Dialog.pm line 76, <> line 1.)\n",
      "debconf: falling back to frontend: Readline\n",
      "debconf: unable to initialize frontend: Readline\n",
      "debconf: (This frontend requires a controlling tty.)\n",
      "debconf: falling back to frontend: Teletype\n",
      "dpkg-preconfigure: unable to re-open stdin: \n",
      "Selecting previously unselected package fonts-nanum.\n",
      "(Reading database ... 155222 files and directories currently installed.)\n",
      "Preparing to unpack .../fonts-nanum_20170925-1_all.deb ...\n",
      "Unpacking fonts-nanum (20170925-1) ...\n",
      "Setting up fonts-nanum (20170925-1) ...\n",
      "Processing triggers for fontconfig (2.12.6-0ubuntu2) ...\n",
      "/usr/share/fonts: caching, new cache contents: 0 fonts, 1 dirs\n",
      "/usr/share/fonts/truetype: caching, new cache contents: 0 fonts, 3 dirs\n",
      "/usr/share/fonts/truetype/humor-sans: caching, new cache contents: 1 fonts, 0 dirs\n",
      "/usr/share/fonts/truetype/liberation: caching, new cache contents: 16 fonts, 0 dirs\n",
      "/usr/share/fonts/truetype/nanum: caching, new cache contents: 10 fonts, 0 dirs\n",
      "/usr/local/share/fonts: caching, new cache contents: 0 fonts, 0 dirs\n",
      "/root/.local/share/fonts: skipping, no such directory\n",
      "/root/.fonts: skipping, no such directory\n",
      "/var/cache/fontconfig: cleaning cache directory\n",
      "/root/.cache/fontconfig: not cleaning non-existent cache directory\n",
      "/root/.fontconfig: not cleaning non-existent cache directory\n",
      "fc-cache: succeeded\n"
     ]
    }
   ],
   "source": [
    "!sudo apt-get install -y fonts-nanum\n",
    "!sudo fc-cache -fv\n",
    "!rm ~/.cache/matplotlib -rf\n",
    "\n",
    "# #이후 런타임 다시 시작"
   ]
  },
  {
   "cell_type": "code",
   "execution_count": 1,
   "metadata": {
    "executionInfo": {
     "elapsed": 475,
     "status": "ok",
     "timestamp": 1639723232298,
     "user": {
      "displayName": "윤영주",
      "photoUrl": "https://lh3.googleusercontent.com/a/default-user=s64",
      "userId": "18155336044487350880"
     },
     "user_tz": -540
    },
    "id": "q7PgGa1reaKO"
   },
   "outputs": [],
   "source": [
    "import warnings   \n",
    "warnings.simplefilter(action='ignore', category=FutureWarning)\n",
    "\n",
    "import matplotlib.pyplot as plt\n",
    "import seaborn as sns\n",
    "\n",
    "plt.rc('font', family='NanumBarunGothic') \n",
    "plt.rcParams[\"font.size\"] = 12\n",
    "plt.rcParams['xtick.labelsize'] = 12.\n",
    "plt.rcParams['ytick.labelsize'] = 12.\n",
    "plt.rcParams['axes.unicode_minus'] = False"
   ]
  },
  {
   "cell_type": "code",
   "execution_count": 2,
   "metadata": {
    "executionInfo": {
     "elapsed": 1827,
     "status": "ok",
     "timestamp": 1639723238145,
     "user": {
      "displayName": "윤영주",
      "photoUrl": "https://lh3.googleusercontent.com/a/default-user=s64",
      "userId": "18155336044487350880"
     },
     "user_tz": -540
    },
    "id": "MakrZwV2eiht"
   },
   "outputs": [],
   "source": [
    "import numpy as np\n",
    "import pandas as pd\n",
    "\n",
    "from sklearn.linear_model import LogisticRegression\n",
    "from sklearn.linear_model import SGDClassifier\n",
    "from sklearn.neighbors import KNeighborsClassifier\n",
    "from sklearn.tree import DecisionTreeClassifier\n",
    "from sklearn.svm import SVC\n",
    "from sklearn.ensemble import RandomForestClassifier\n",
    "import statsmodels.api as sm\n",
    "\n",
    "from sklearn.metrics import classification_report, confusion_matrix\n",
    "from sklearn.metrics import  accuracy_score, precision_score, recall_score, f1_score"
   ]
  },
  {
   "cell_type": "code",
   "execution_count": 3,
   "metadata": {
    "colab": {
     "base_uri": "https://localhost:8080/"
    },
    "executionInfo": {
     "elapsed": 19,
     "status": "ok",
     "timestamp": 1639723238146,
     "user": {
      "displayName": "윤영주",
      "photoUrl": "https://lh3.googleusercontent.com/a/default-user=s64",
      "userId": "18155336044487350880"
     },
     "user_tz": -540
    },
    "id": "Jso2QOtaekwp",
    "outputId": "64242435-daeb-4c2e-9b47-6a001d684522"
   },
   "outputs": [
    {
     "name": "stdout",
     "output_type": "stream",
     "text": [
      "/content/drive/MyDrive/UBION_final_project/data\n"
     ]
    }
   ],
   "source": [
    "cd /content/drive/MyDrive/UBION_final_project/data"
   ]
  },
  {
   "cell_type": "code",
   "execution_count": 19,
   "metadata": {
    "executionInfo": {
     "elapsed": 976,
     "status": "ok",
     "timestamp": 1639724459774,
     "user": {
      "displayName": "윤영주",
      "photoUrl": "https://lh3.googleusercontent.com/a/default-user=s64",
      "userId": "18155336044487350880"
     },
     "user_tz": -540
    },
    "id": "mI1eABmPengy"
   },
   "outputs": [],
   "source": [
    "df = pd.read_csv('basic_final_df.csv')"
   ]
  },
  {
   "cell_type": "markdown",
   "metadata": {
    "id": "hX5Va2Yl2Yyy"
   },
   "source": [
    "![image.png](data:image/png;base64,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)"
   ]
  },
  {
   "cell_type": "code",
   "execution_count": 20,
   "metadata": {
    "colab": {
     "base_uri": "https://localhost:8080/"
    },
    "executionInfo": {
     "elapsed": 338,
     "status": "ok",
     "timestamp": 1639724461723,
     "user": {
      "displayName": "윤영주",
      "photoUrl": "https://lh3.googleusercontent.com/a/default-user=s64",
      "userId": "18155336044487350880"
     },
     "user_tz": -540
    },
    "id": "r776IwKJ_9CU",
    "outputId": "f729d799-1354-43ae-ebe3-5aefa4c4eb78"
   },
   "outputs": [
    {
     "data": {
      "text/plain": [
       "0    6161\n",
       "1      16\n",
       "Name: 차기부도여부, dtype: int64"
      ]
     },
     "execution_count": 20,
     "metadata": {},
     "output_type": "execute_result"
    }
   ],
   "source": [
    "df[(df['종업원수'] >= 300) ]['차기부도여부'].value_counts()"
   ]
  },
  {
   "cell_type": "code",
   "execution_count": 21,
   "metadata": {
    "colab": {
     "base_uri": "https://localhost:8080/"
    },
    "executionInfo": {
     "elapsed": 10,
     "status": "ok",
     "timestamp": 1639724462245,
     "user": {
      "displayName": "윤영주",
      "photoUrl": "https://lh3.googleusercontent.com/a/default-user=s64",
      "userId": "18155336044487350880"
     },
     "user_tz": -540
    },
    "id": "BFBtxJH_HzZH",
    "outputId": "0a0ea019-3be1-4d05-dd61-460f7becbced"
   },
   "outputs": [
    {
     "data": {
      "text/plain": [
       "0    12062\n",
       "1      198\n",
       "Name: 차기부도여부, dtype: int64"
      ]
     },
     "execution_count": 21,
     "metadata": {},
     "output_type": "execute_result"
    }
   ],
   "source": [
    "df[(df['종업원수']< 300) ]['차기부도여부'].value_counts()"
   ]
  },
  {
   "cell_type": "code",
   "execution_count": 22,
   "metadata": {
    "executionInfo": {
     "elapsed": 10,
     "status": "ok",
     "timestamp": 1639724462698,
     "user": {
      "displayName": "윤영주",
      "photoUrl": "https://lh3.googleusercontent.com/a/default-user=s64",
      "userId": "18155336044487350880"
     },
     "user_tz": -540
    },
    "id": "pBzYOPgk2pEd"
   },
   "outputs": [],
   "source": [
    "df['기업규모'] = 'Nan'"
   ]
  },
  {
   "cell_type": "code",
   "execution_count": 23,
   "metadata": {
    "executionInfo": {
     "elapsed": 4,
     "status": "ok",
     "timestamp": 1639724463124,
     "user": {
      "displayName": "윤영주",
      "photoUrl": "https://lh3.googleusercontent.com/a/default-user=s64",
      "userId": "18155336044487350880"
     },
     "user_tz": -540
    },
    "id": "baeYK_5H1xse"
   },
   "outputs": [],
   "source": [
    "df.loc[df['종업원수']<=300, '기업규모'] = '중소기업'\n",
    "df.loc[(df['종업원수'] > 300) , '기업규모'] = '중견&대기업'"
   ]
  },
  {
   "cell_type": "code",
   "execution_count": 24,
   "metadata": {
    "colab": {
     "base_uri": "https://localhost:8080/",
     "height": 299
    },
    "executionInfo": {
     "elapsed": 545,
     "status": "ok",
     "timestamp": 1639724464952,
     "user": {
      "displayName": "윤영주",
      "photoUrl": "https://lh3.googleusercontent.com/a/default-user=s64",
      "userId": "18155336044487350880"
     },
     "user_tz": -540
    },
    "id": "mhwNxKr21SUp",
    "outputId": "e9e3f1cb-61ae-4164-a17a-aabf8886eacd"
   },
   "outputs": [
    {
     "data": {
      "text/plain": [
       "<matplotlib.axes._subplots.AxesSubplot at 0x7f4bb00dfad0>"
      ]
     },
     "execution_count": 24,
     "metadata": {},
     "output_type": "execute_result"
    },
    {
     "data": {
      "image/png": "[encoded data removed]",
      "text/plain": [
       "<Figure size 432x288 with 1 Axes>"
      ]
     },
     "metadata": {
      "needs_background": "light"
     },
     "output_type": "display_data"
    }
   ],
   "source": [
    "sns.countplot(x=\"기업규모\", hue=\"차기부도여부\", data=df)"
   ]
  },
  {
   "cell_type": "code",
   "execution_count": 25,
   "metadata": {
    "colab": {
     "base_uri": "https://localhost:8080/"
    },
    "executionInfo": {
     "elapsed": 9,
     "status": "ok",
     "timestamp": 1639724466388,
     "user": {
      "displayName": "윤영주",
      "photoUrl": "https://lh3.googleusercontent.com/a/default-user=s64",
      "userId": "18155336044487350880"
     },
     "user_tz": -540
    },
    "id": "bLMEvkJOH7BF",
    "outputId": "e61fdb36-3aea-42b0-b8af-92167916e3ff"
   },
   "outputs": [
    {
     "name": "stdout",
     "output_type": "stream",
     "text": [
      "1703\n",
      "818\n"
     ]
    }
   ],
   "source": [
    "print(df.loc[df['기업규모']=='중소기업', '회사명'].nunique())\n",
    "print(df.loc[df['기업규모']=='중견&대기업', '회사명'].nunique())"
   ]
  },
  {
   "cell_type": "code",
   "execution_count": 26,
   "metadata": {
    "colab": {
     "base_uri": "https://localhost:8080/"
    },
    "executionInfo": {
     "elapsed": 7,
     "status": "ok",
     "timestamp": 1639724467994,
     "user": {
      "displayName": "윤영주",
      "photoUrl": "https://lh3.googleusercontent.com/a/default-user=s64",
      "userId": "18155336044487350880"
     },
     "user_tz": -540
    },
    "id": "z3zHd34uIjcD",
    "outputId": "a14f5f49-47ad-41eb-ff44-36e5920269f1"
   },
   "outputs": [
    {
     "name": "stdout",
     "output_type": "stream",
     "text": [
      "1670\n",
      "198\n",
      "815\n",
      "16\n"
     ]
    }
   ],
   "source": [
    "print(df.loc[(df['기업규모']=='중소기업')& (df['차기부도여부']==0), '회사명'].nunique())\n",
    "print(df.loc[(df['기업규모']=='중소기업')& (df['차기부도여부']==1), '회사명'].nunique())\n",
    "\n",
    "print(df.loc[(df['기업규모']=='중견&대기업')& (df['차기부도여부']==0), '회사명'].nunique())\n",
    "print(df.loc[(df['기업규모']=='중견&대기업')& (df['차기부도여부']==1), '회사명'].nunique())"
   ]
  },
  {
   "cell_type": "code",
   "execution_count": null,
   "metadata": {
    "colab": {
     "base_uri": "https://localhost:8080/"
    },
    "executionInfo": {
     "elapsed": 3592,
     "status": "ok",
     "timestamp": 1639467436443,
     "user": {
      "displayName": "윤영주",
      "photoUrl": "https://lh3.googleusercontent.com/a/default-user=s64",
      "userId": "18155336044487350880"
     },
     "user_tz": -540
    },
    "id": "4G6a_7qC3WMI",
    "outputId": "5befa1b6-ef9e-4607-d3de-2473f14c27fe"
   },
   "outputs": [
    {
     "name": "stderr",
     "output_type": "stream",
     "text": [
      "/usr/local/lib/python3.7/dist-packages/pandas/core/frame.py:4174: SettingWithCopyWarning: \n",
      "A value is trying to be set on a copy of a slice from a DataFrame\n",
      "\n",
      "See the caveats in the documentation: https://pandas.pydata.org/pandas-docs/stable/user_guide/indexing.html#returning-a-view-versus-a-copy\n",
      "  errors=errors,\n"
     ]
    }
   ],
   "source": [
    "small_business_df = df[df['기업규모']=='중소기업']\n",
    "small_business_df.drop(['기업규모'], axis= 1, inplace=True)\n",
    "small_business_df.to_csv('small_business_df.csv', index=False)"
   ]
  },
  {
   "cell_type": "code",
   "execution_count": null,
   "metadata": {
    "id": "_YGYJdmA3zu3"
   },
   "outputs": [],
   "source": []
  }
 ],
 "metadata": {
  "colab": {
   "collapsed_sections": [],
   "name": "2-4. employee_df.ipynb",
   "provenance": []
  },
  "kernelspec": {
   "display_name": "Python 3 (ipykernel)",
   "language": "python",
   "name": "python3"
  },
  "language_info": {
   "codemirror_mode": {
    "name": "ipython",
    "version": 3
   },
   "file_extension": ".py",
   "mimetype": "text/x-python",
   "name": "python",
   "nbconvert_exporter": "python",
   "pygments_lexer": "ipython3",
   "version": "3.9.7"
  },
  "toc": {
   "base_numbering": 1,
   "nav_menu": {},
   "number_sections": false,
   "sideBar": true,
   "skip_h1_title": false,
   "title_cell": "Table of Contents",
   "title_sidebar": "Contents",
   "toc_cell": false,
   "toc_position": {},
   "toc_section_display": true,
   "toc_window_display": false
  },
  "varInspector": {
   "cols": {
    "lenName": 16,
    "lenType": 16,
    "lenVar": 40
   },
   "kernels_config": {
    "python": {
     "delete_cmd_postfix": "",
     "delete_cmd_prefix": "del ",
     "library": "var_list.py",
     "varRefreshCmd": "print(var_dic_list())"
    },
    "r": {
     "delete_cmd_postfix": ") ",
     "delete_cmd_prefix": "rm(",
     "library": "var_list.r",
     "varRefreshCmd": "cat(var_dic_list()) "
    }
   },
   "types_to_exclude": [
    "module",
    "function",
    "builtin_function_or_method",
    "instance",
    "_Feature"
   ],
   "window_display": false
  }
 },
 "nbformat": 4,
 "nbformat_minor": 1
}
