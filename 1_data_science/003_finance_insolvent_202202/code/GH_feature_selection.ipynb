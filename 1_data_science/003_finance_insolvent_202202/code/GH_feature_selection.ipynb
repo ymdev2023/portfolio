{
 "cells": [
  {
   "cell_type": "code",
   "execution_count": null,
   "metadata": {
    "id": "0p8drmRQRprI"
   },
   "outputs": [],
   "source": [
    "import pandas as pd\n",
    "import matplotlib.pyplot as plt\n",
    "import numpy as np\n",
    "import seaborn as sns\n",
    "\n",
    "from matplotlib import rc\n",
    "rc('font', family='AppleGothic')\n",
    "\n",
    "plt.rcParams['axes.unicode_minus'] = False\n",
    "path = 'dataset/'"
   ]
  },
  {
   "cell_type": "code",
   "execution_count": null,
   "metadata": {
    "id": "MvO-ZHc7RprO",
    "outputId": "f95f9eec-427d-4b89-af54-b9c4d3859158"
   },
   "outputs": [
    {
     "data": {
      "text/html": [
       "<div>\n",
       "<style scoped>\n",
       "    .dataframe tbody tr th:only-of-type {\n",
       "        vertical-align: middle;\n",
       "    }\n",
       "\n",
       "    .dataframe tbody tr th {\n",
       "        vertical-align: top;\n",
       "    }\n",
       "\n",
       "    .dataframe thead th {\n",
       "        text-align: right;\n",
       "    }\n",
       "</style>\n",
       "<table border=\"1\" class=\"dataframe\">\n",
       "  <thead>\n",
       "    <tr style=\"text-align: right;\">\n",
       "      <th></th>\n",
       "      <th>회사명</th>\n",
       "      <th>거래소코드</th>\n",
       "      <th>차기부도여부</th>\n",
       "      <th>회계년도</th>\n",
       "      <th>산업코드</th>\n",
       "      <th>소속코드</th>\n",
       "      <th>상장일</th>\n",
       "      <th>감사의견코드</th>\n",
       "      <th>총자본증가율</th>\n",
       "      <th>유형자산증가율</th>\n",
       "      <th>...</th>\n",
       "      <th>PCR(Price cash-flow ratio)(최저)</th>\n",
       "      <th>PSR(Price sales ratio)(최고)</th>\n",
       "      <th>PSR(Price sales ratio)(최저)</th>\n",
       "      <th>기업가치(EV)(백만원)</th>\n",
       "      <th>EBITDA(백만원)</th>\n",
       "      <th>EBITDA/매출액(%)</th>\n",
       "      <th>EBITDA/금융비용(배)</th>\n",
       "      <th>EBITDA/평균발행주식수(백만원)</th>\n",
       "      <th>EV/EBITDA(배)</th>\n",
       "      <th>산업대분류</th>\n",
       "    </tr>\n",
       "  </thead>\n",
       "  <tbody>\n",
       "    <tr>\n",
       "      <th>0</th>\n",
       "      <td>(주)CMG제약</td>\n",
       "      <td>58820</td>\n",
       "      <td>0</td>\n",
       "      <td>2007.0</td>\n",
       "      <td>32102</td>\n",
       "      <td>5.0</td>\n",
       "      <td>2001/08/31</td>\n",
       "      <td>UQ</td>\n",
       "      <td>120.08</td>\n",
       "      <td>215.25</td>\n",
       "      <td>...</td>\n",
       "      <td>0.00</td>\n",
       "      <td>149.75</td>\n",
       "      <td>20.92</td>\n",
       "      <td>69545.33</td>\n",
       "      <td>-1288.45</td>\n",
       "      <td>-71.74</td>\n",
       "      <td>0.00</td>\n",
       "      <td>-104.44</td>\n",
       "      <td>0.000</td>\n",
       "      <td>3</td>\n",
       "    </tr>\n",
       "    <tr>\n",
       "      <th>1</th>\n",
       "      <td>(주)CMG제약</td>\n",
       "      <td>58820</td>\n",
       "      <td>0</td>\n",
       "      <td>2008.0</td>\n",
       "      <td>32102</td>\n",
       "      <td>5.0</td>\n",
       "      <td>2001/08/31</td>\n",
       "      <td>UQ</td>\n",
       "      <td>56.55</td>\n",
       "      <td>55.67</td>\n",
       "      <td>...</td>\n",
       "      <td>0.00</td>\n",
       "      <td>9.13</td>\n",
       "      <td>1.49</td>\n",
       "      <td>-454.50</td>\n",
       "      <td>-3419.79</td>\n",
       "      <td>-31.64</td>\n",
       "      <td>-4.56</td>\n",
       "      <td>-221.19</td>\n",
       "      <td>0.133</td>\n",
       "      <td>3</td>\n",
       "    </tr>\n",
       "    <tr>\n",
       "      <th>2</th>\n",
       "      <td>(주)CMG제약</td>\n",
       "      <td>58820</td>\n",
       "      <td>0</td>\n",
       "      <td>2009.0</td>\n",
       "      <td>32102</td>\n",
       "      <td>5.0</td>\n",
       "      <td>2001/08/31</td>\n",
       "      <td>UQ</td>\n",
       "      <td>-33.92</td>\n",
       "      <td>-8.50</td>\n",
       "      <td>...</td>\n",
       "      <td>0.00</td>\n",
       "      <td>8.40</td>\n",
       "      <td>1.72</td>\n",
       "      <td>26517.58</td>\n",
       "      <td>-7100.69</td>\n",
       "      <td>-69.98</td>\n",
       "      <td>-6.80</td>\n",
       "      <td>-443.98</td>\n",
       "      <td>0.000</td>\n",
       "      <td>3</td>\n",
       "    </tr>\n",
       "    <tr>\n",
       "      <th>3</th>\n",
       "      <td>(주)CMG제약</td>\n",
       "      <td>58820</td>\n",
       "      <td>0</td>\n",
       "      <td>2010.0</td>\n",
       "      <td>32102</td>\n",
       "      <td>5.0</td>\n",
       "      <td>2001/08/31</td>\n",
       "      <td>UQ</td>\n",
       "      <td>5.66</td>\n",
       "      <td>-11.92</td>\n",
       "      <td>...</td>\n",
       "      <td>0.00</td>\n",
       "      <td>3.22</td>\n",
       "      <td>1.04</td>\n",
       "      <td>31200.74</td>\n",
       "      <td>-5598.06</td>\n",
       "      <td>-49.32</td>\n",
       "      <td>-5.51</td>\n",
       "      <td>-243.34</td>\n",
       "      <td>0.000</td>\n",
       "      <td>3</td>\n",
       "    </tr>\n",
       "    <tr>\n",
       "      <th>4</th>\n",
       "      <td>(주)CMG제약</td>\n",
       "      <td>58820</td>\n",
       "      <td>0</td>\n",
       "      <td>2011.0</td>\n",
       "      <td>32102</td>\n",
       "      <td>5.0</td>\n",
       "      <td>2001/08/31</td>\n",
       "      <td>UQ</td>\n",
       "      <td>14.18</td>\n",
       "      <td>7.86</td>\n",
       "      <td>...</td>\n",
       "      <td>0.00</td>\n",
       "      <td>3.14</td>\n",
       "      <td>1.05</td>\n",
       "      <td>37758.74</td>\n",
       "      <td>2038.64</td>\n",
       "      <td>11.48</td>\n",
       "      <td>11.24</td>\n",
       "      <td>46.75</td>\n",
       "      <td>18.522</td>\n",
       "      <td>3</td>\n",
       "    </tr>\n",
       "    <tr>\n",
       "      <th>...</th>\n",
       "      <td>...</td>\n",
       "      <td>...</td>\n",
       "      <td>...</td>\n",
       "      <td>...</td>\n",
       "      <td>...</td>\n",
       "      <td>...</td>\n",
       "      <td>...</td>\n",
       "      <td>...</td>\n",
       "      <td>...</td>\n",
       "      <td>...</td>\n",
       "      <td>...</td>\n",
       "      <td>...</td>\n",
       "      <td>...</td>\n",
       "      <td>...</td>\n",
       "      <td>...</td>\n",
       "      <td>...</td>\n",
       "      <td>...</td>\n",
       "      <td>...</td>\n",
       "      <td>...</td>\n",
       "      <td>...</td>\n",
       "      <td>...</td>\n",
       "    </tr>\n",
       "    <tr>\n",
       "      <th>18432</th>\n",
       "      <td>흥구석유(주)</td>\n",
       "      <td>24060</td>\n",
       "      <td>0</td>\n",
       "      <td>2015.0</td>\n",
       "      <td>74607</td>\n",
       "      <td>5.0</td>\n",
       "      <td>1994/12/07</td>\n",
       "      <td>UQ</td>\n",
       "      <td>12.89</td>\n",
       "      <td>-0.74</td>\n",
       "      <td>...</td>\n",
       "      <td>6.93</td>\n",
       "      <td>0.32</td>\n",
       "      <td>0.20</td>\n",
       "      <td>48071.55</td>\n",
       "      <td>856.25</td>\n",
       "      <td>0.55</td>\n",
       "      <td>15.54</td>\n",
       "      <td>57.08</td>\n",
       "      <td>56.142</td>\n",
       "      <td>7</td>\n",
       "    </tr>\n",
       "    <tr>\n",
       "      <th>18433</th>\n",
       "      <td>흥구석유(주)</td>\n",
       "      <td>24060</td>\n",
       "      <td>0</td>\n",
       "      <td>2016.0</td>\n",
       "      <td>74607</td>\n",
       "      <td>5.0</td>\n",
       "      <td>1994/12/07</td>\n",
       "      <td>UQ</td>\n",
       "      <td>1.39</td>\n",
       "      <td>-5.61</td>\n",
       "      <td>...</td>\n",
       "      <td>35.62</td>\n",
       "      <td>0.43</td>\n",
       "      <td>0.28</td>\n",
       "      <td>55934.79</td>\n",
       "      <td>1348.52</td>\n",
       "      <td>0.94</td>\n",
       "      <td>10.71</td>\n",
       "      <td>89.90</td>\n",
       "      <td>41.479</td>\n",
       "      <td>7</td>\n",
       "    </tr>\n",
       "    <tr>\n",
       "      <th>18434</th>\n",
       "      <td>흥구석유(주)</td>\n",
       "      <td>24060</td>\n",
       "      <td>0</td>\n",
       "      <td>2017.0</td>\n",
       "      <td>74607</td>\n",
       "      <td>5.0</td>\n",
       "      <td>1994/12/07</td>\n",
       "      <td>UQ</td>\n",
       "      <td>0.98</td>\n",
       "      <td>-0.56</td>\n",
       "      <td>...</td>\n",
       "      <td>24.31</td>\n",
       "      <td>0.34</td>\n",
       "      <td>0.24</td>\n",
       "      <td>46036.63</td>\n",
       "      <td>1147.56</td>\n",
       "      <td>0.74</td>\n",
       "      <td>9.02</td>\n",
       "      <td>76.50</td>\n",
       "      <td>40.117</td>\n",
       "      <td>7</td>\n",
       "    </tr>\n",
       "    <tr>\n",
       "      <th>18435</th>\n",
       "      <td>흥구석유(주)</td>\n",
       "      <td>24060</td>\n",
       "      <td>0</td>\n",
       "      <td>2018.0</td>\n",
       "      <td>74607</td>\n",
       "      <td>5.0</td>\n",
       "      <td>1994/12/07</td>\n",
       "      <td>UQ</td>\n",
       "      <td>-5.89</td>\n",
       "      <td>-0.36</td>\n",
       "      <td>...</td>\n",
       "      <td>7.82</td>\n",
       "      <td>0.40</td>\n",
       "      <td>0.24</td>\n",
       "      <td>36557.57</td>\n",
       "      <td>1451.79</td>\n",
       "      <td>0.87</td>\n",
       "      <td>16.83</td>\n",
       "      <td>96.79</td>\n",
       "      <td>25.181</td>\n",
       "      <td>7</td>\n",
       "    </tr>\n",
       "    <tr>\n",
       "      <th>18436</th>\n",
       "      <td>흥구석유(주)</td>\n",
       "      <td>24060</td>\n",
       "      <td>0</td>\n",
       "      <td>2019.0</td>\n",
       "      <td>74607</td>\n",
       "      <td>5.0</td>\n",
       "      <td>1994/12/07</td>\n",
       "      <td>UQ</td>\n",
       "      <td>11.24</td>\n",
       "      <td>-7.00</td>\n",
       "      <td>...</td>\n",
       "      <td>51.31</td>\n",
       "      <td>0.86</td>\n",
       "      <td>0.25</td>\n",
       "      <td>78081.78</td>\n",
       "      <td>1009.25</td>\n",
       "      <td>0.67</td>\n",
       "      <td>507.93</td>\n",
       "      <td>67.28</td>\n",
       "      <td>77.366</td>\n",
       "      <td>7</td>\n",
       "    </tr>\n",
       "  </tbody>\n",
       "</table>\n",
       "<p>18437 rows × 166 columns</p>\n",
       "</div>"
      ],
      "text/plain": [
       "            회사명  거래소코드  차기부도여부    회계년도   산업코드  소속코드         상장일 감사의견코드  \\\n",
       "0      (주)CMG제약  58820       0  2007.0  32102   5.0  2001/08/31     UQ   \n",
       "1      (주)CMG제약  58820       0  2008.0  32102   5.0  2001/08/31     UQ   \n",
       "2      (주)CMG제약  58820       0  2009.0  32102   5.0  2001/08/31     UQ   \n",
       "3      (주)CMG제약  58820       0  2010.0  32102   5.0  2001/08/31     UQ   \n",
       "4      (주)CMG제약  58820       0  2011.0  32102   5.0  2001/08/31     UQ   \n",
       "...         ...    ...     ...     ...    ...   ...         ...    ...   \n",
       "18432   흥구석유(주)  24060       0  2015.0  74607   5.0  1994/12/07     UQ   \n",
       "18433   흥구석유(주)  24060       0  2016.0  74607   5.0  1994/12/07     UQ   \n",
       "18434   흥구석유(주)  24060       0  2017.0  74607   5.0  1994/12/07     UQ   \n",
       "18435   흥구석유(주)  24060       0  2018.0  74607   5.0  1994/12/07     UQ   \n",
       "18436   흥구석유(주)  24060       0  2019.0  74607   5.0  1994/12/07     UQ   \n",
       "\n",
       "       총자본증가율  유형자산증가율  ...  PCR(Price cash-flow ratio)(최저)  \\\n",
       "0      120.08   215.25  ...                            0.00   \n",
       "1       56.55    55.67  ...                            0.00   \n",
       "2      -33.92    -8.50  ...                            0.00   \n",
       "3        5.66   -11.92  ...                            0.00   \n",
       "4       14.18     7.86  ...                            0.00   \n",
       "...       ...      ...  ...                             ...   \n",
       "18432   12.89    -0.74  ...                            6.93   \n",
       "18433    1.39    -5.61  ...                           35.62   \n",
       "18434    0.98    -0.56  ...                           24.31   \n",
       "18435   -5.89    -0.36  ...                            7.82   \n",
       "18436   11.24    -7.00  ...                           51.31   \n",
       "\n",
       "       PSR(Price sales ratio)(최고)  PSR(Price sales ratio)(최저)  기업가치(EV)(백만원)  \\\n",
       "0                          149.75                       20.92       69545.33   \n",
       "1                            9.13                        1.49        -454.50   \n",
       "2                            8.40                        1.72       26517.58   \n",
       "3                            3.22                        1.04       31200.74   \n",
       "4                            3.14                        1.05       37758.74   \n",
       "...                           ...                         ...            ...   \n",
       "18432                        0.32                        0.20       48071.55   \n",
       "18433                        0.43                        0.28       55934.79   \n",
       "18434                        0.34                        0.24       46036.63   \n",
       "18435                        0.40                        0.24       36557.57   \n",
       "18436                        0.86                        0.25       78081.78   \n",
       "\n",
       "       EBITDA(백만원)  EBITDA/매출액(%)  EBITDA/금융비용(배)  EBITDA/평균발행주식수(백만원)  \\\n",
       "0         -1288.45         -71.74            0.00              -104.44   \n",
       "1         -3419.79         -31.64           -4.56              -221.19   \n",
       "2         -7100.69         -69.98           -6.80              -443.98   \n",
       "3         -5598.06         -49.32           -5.51              -243.34   \n",
       "4          2038.64          11.48           11.24                46.75   \n",
       "...            ...            ...             ...                  ...   \n",
       "18432       856.25           0.55           15.54                57.08   \n",
       "18433      1348.52           0.94           10.71                89.90   \n",
       "18434      1147.56           0.74            9.02                76.50   \n",
       "18435      1451.79           0.87           16.83                96.79   \n",
       "18436      1009.25           0.67          507.93                67.28   \n",
       "\n",
       "       EV/EBITDA(배)  산업대분류  \n",
       "0             0.000      3  \n",
       "1             0.133      3  \n",
       "2             0.000      3  \n",
       "3             0.000      3  \n",
       "4            18.522      3  \n",
       "...             ...    ...  \n",
       "18432        56.142      7  \n",
       "18433        41.479      7  \n",
       "18434        40.117      7  \n",
       "18435        25.181      7  \n",
       "18436        77.366      7  \n",
       "\n",
       "[18437 rows x 166 columns]"
      ]
     },
     "execution_count": 2,
     "metadata": {},
     "output_type": "execute_result"
    }
   ],
   "source": [
    "final_df = pd.read_csv('{}basic_final_df.csv'.format(path), index_col='Unnamed: 0')\n",
    "final_df"
   ]
  },
  {
   "cell_type": "code",
   "execution_count": null,
   "metadata": {
    "id": "U_gmfU_CRprZ",
    "outputId": "dfa69055-98d0-42de-854c-55071d58ae5a"
   },
   "outputs": [
    {
     "data": {
      "text/plain": [
       "0    18437\n",
       "dtype: int64"
      ]
     },
     "execution_count": 5,
     "metadata": {},
     "output_type": "execute_result"
    }
   ],
   "source": [
    "final_df.isnull().sum(1).value_counts()"
   ]
  },
  {
   "cell_type": "code",
   "execution_count": null,
   "metadata": {
    "id": "oFkAkdTPRprb"
   },
   "outputs": [],
   "source": [
    "a1 = final_df.loc[final_df['산업대분류']==3]\n",
    "a2 = final_df.loc[final_df['산업대분류']==7]\n",
    "a3 = final_df.loc[final_df['산업대분류']==10]"
   ]
  },
  {
   "cell_type": "code",
   "execution_count": null,
   "metadata": {
    "id": "u-0vSO-QRprd",
    "outputId": "68368c7d-8803-4c64-9998-e7e4315f48ae"
   },
   "outputs": [
    {
     "name": "stdout",
     "output_type": "stream",
     "text": [
      "1579\n",
      "201\n",
      "292\n",
      "149\n",
      "28\n",
      "37\n"
     ]
    }
   ],
   "source": [
    "print(a1[a1['차기부도여부']==0]['회사명'].nunique())\n",
    "print(a2[a2['차기부도여부']==0]['회사명'].nunique())\n",
    "print(a3[a3['차기부도여부']==0]['회사명'].nunique())\n",
    "\n",
    "print(len(a1[a1['차기부도여부']==1]))\n",
    "print(len(a2[a2['차기부도여부']==1]))\n",
    "print(len(a3[a3['차기부도여부']==1]))"
   ]
  },
  {
   "cell_type": "code",
   "execution_count": null,
   "metadata": {
    "id": "2_ZmWKulRprf"
   },
   "outputs": [],
   "source": [
    "FR_list = final_df.columns[8:-1].tolist()\n",
    "FR_list.append('차기부도여부')\n",
    "\n",
    "# 정규성 검정 시행 목적 데이터프레임\n",
    "subset = final_df[FR_list]\n",
    "\n",
    "# 이분산성 검정 시행 목적 데이터프레임 \n",
    "bc_df = subset.loc[subset['차기부도여부']==1]\n",
    "nc_df = subset.loc[subset['차기부도여부']==0]"
   ]
  },
  {
   "cell_type": "code",
   "execution_count": null,
   "metadata": {
    "id": "bZdnusweRprh",
    "outputId": "3af8b760-8598-4b7b-d538-f61afc47e8fb"
   },
   "outputs": [
    {
     "name": "stdout",
     "output_type": "stream",
     "text": [
      "정상기업 개수 : 2072\n",
      "부도기업 개수 : 214\n"
     ]
    },
    {
     "data": {
      "text/html": [
       "<div>\n",
       "<style scoped>\n",
       "    .dataframe tbody tr th:only-of-type {\n",
       "        vertical-align: middle;\n",
       "    }\n",
       "\n",
       "    .dataframe tbody tr th {\n",
       "        vertical-align: top;\n",
       "    }\n",
       "\n",
       "    .dataframe thead th {\n",
       "        text-align: right;\n",
       "    }\n",
       "</style>\n",
       "<table border=\"1\" class=\"dataframe\">\n",
       "  <thead>\n",
       "    <tr style=\"text-align: right;\">\n",
       "      <th></th>\n",
       "      <th>총자본증가율</th>\n",
       "      <th>유형자산증가율</th>\n",
       "      <th>유동자산증가율</th>\n",
       "      <th>영업이익증가율</th>\n",
       "      <th>순이익증가율</th>\n",
       "      <th>재고자산증가율</th>\n",
       "      <th>자기자본증가율</th>\n",
       "      <th>매출액증가율</th>\n",
       "      <th>종업원1인당 부가가치증가율</th>\n",
       "      <th>종업원수증가율</th>\n",
       "      <th>...</th>\n",
       "      <th>PCR(Price cash-flow ratio)(최저)</th>\n",
       "      <th>PSR(Price sales ratio)(최고)</th>\n",
       "      <th>PSR(Price sales ratio)(최저)</th>\n",
       "      <th>기업가치(EV)(백만원)</th>\n",
       "      <th>EBITDA(백만원)</th>\n",
       "      <th>EBITDA/매출액(%)</th>\n",
       "      <th>EBITDA/금융비용(배)</th>\n",
       "      <th>EBITDA/평균발행주식수(백만원)</th>\n",
       "      <th>EV/EBITDA(배)</th>\n",
       "      <th>차기부도여부</th>\n",
       "    </tr>\n",
       "  </thead>\n",
       "  <tbody>\n",
       "    <tr>\n",
       "      <th>0</th>\n",
       "      <td>120.08</td>\n",
       "      <td>215.25</td>\n",
       "      <td>29.79</td>\n",
       "      <td>0.00</td>\n",
       "      <td>0.00</td>\n",
       "      <td>0.00</td>\n",
       "      <td>193.28</td>\n",
       "      <td>-45.98</td>\n",
       "      <td>0.00</td>\n",
       "      <td>1300.00</td>\n",
       "      <td>...</td>\n",
       "      <td>0.00</td>\n",
       "      <td>149.75</td>\n",
       "      <td>20.92</td>\n",
       "      <td>69545.33</td>\n",
       "      <td>-1288.45</td>\n",
       "      <td>-71.74</td>\n",
       "      <td>0.00</td>\n",
       "      <td>-104.44</td>\n",
       "      <td>0.000</td>\n",
       "      <td>0</td>\n",
       "    </tr>\n",
       "    <tr>\n",
       "      <th>1</th>\n",
       "      <td>56.55</td>\n",
       "      <td>55.67</td>\n",
       "      <td>86.84</td>\n",
       "      <td>0.00</td>\n",
       "      <td>0.00</td>\n",
       "      <td>445.64</td>\n",
       "      <td>19.57</td>\n",
       "      <td>501.81</td>\n",
       "      <td>0.00</td>\n",
       "      <td>19.64</td>\n",
       "      <td>...</td>\n",
       "      <td>0.00</td>\n",
       "      <td>9.13</td>\n",
       "      <td>1.49</td>\n",
       "      <td>-454.50</td>\n",
       "      <td>-3419.79</td>\n",
       "      <td>-31.64</td>\n",
       "      <td>-4.56</td>\n",
       "      <td>-221.19</td>\n",
       "      <td>0.133</td>\n",
       "      <td>0</td>\n",
       "    </tr>\n",
       "    <tr>\n",
       "      <th>2</th>\n",
       "      <td>-33.92</td>\n",
       "      <td>-8.50</td>\n",
       "      <td>-41.24</td>\n",
       "      <td>0.00</td>\n",
       "      <td>0.00</td>\n",
       "      <td>42.07</td>\n",
       "      <td>-61.98</td>\n",
       "      <td>-6.12</td>\n",
       "      <td>0.00</td>\n",
       "      <td>-11.19</td>\n",
       "      <td>...</td>\n",
       "      <td>0.00</td>\n",
       "      <td>8.40</td>\n",
       "      <td>1.72</td>\n",
       "      <td>26517.58</td>\n",
       "      <td>-7100.69</td>\n",
       "      <td>-69.98</td>\n",
       "      <td>-6.80</td>\n",
       "      <td>-443.98</td>\n",
       "      <td>0.000</td>\n",
       "      <td>0</td>\n",
       "    </tr>\n",
       "    <tr>\n",
       "      <th>3</th>\n",
       "      <td>5.66</td>\n",
       "      <td>-11.92</td>\n",
       "      <td>18.08</td>\n",
       "      <td>0.00</td>\n",
       "      <td>0.00</td>\n",
       "      <td>18.70</td>\n",
       "      <td>82.10</td>\n",
       "      <td>11.86</td>\n",
       "      <td>0.00</td>\n",
       "      <td>8.40</td>\n",
       "      <td>...</td>\n",
       "      <td>0.00</td>\n",
       "      <td>3.22</td>\n",
       "      <td>1.04</td>\n",
       "      <td>31200.74</td>\n",
       "      <td>-5598.06</td>\n",
       "      <td>-49.32</td>\n",
       "      <td>-5.51</td>\n",
       "      <td>-243.34</td>\n",
       "      <td>0.000</td>\n",
       "      <td>0</td>\n",
       "    </tr>\n",
       "    <tr>\n",
       "      <th>4</th>\n",
       "      <td>14.18</td>\n",
       "      <td>7.86</td>\n",
       "      <td>31.54</td>\n",
       "      <td>0.00</td>\n",
       "      <td>0.00</td>\n",
       "      <td>-4.87</td>\n",
       "      <td>6.72</td>\n",
       "      <td>56.40</td>\n",
       "      <td>0.00</td>\n",
       "      <td>4.65</td>\n",
       "      <td>...</td>\n",
       "      <td>0.00</td>\n",
       "      <td>3.14</td>\n",
       "      <td>1.05</td>\n",
       "      <td>37758.74</td>\n",
       "      <td>2038.64</td>\n",
       "      <td>11.48</td>\n",
       "      <td>11.24</td>\n",
       "      <td>46.75</td>\n",
       "      <td>18.522</td>\n",
       "      <td>0</td>\n",
       "    </tr>\n",
       "    <tr>\n",
       "      <th>...</th>\n",
       "      <td>...</td>\n",
       "      <td>...</td>\n",
       "      <td>...</td>\n",
       "      <td>...</td>\n",
       "      <td>...</td>\n",
       "      <td>...</td>\n",
       "      <td>...</td>\n",
       "      <td>...</td>\n",
       "      <td>...</td>\n",
       "      <td>...</td>\n",
       "      <td>...</td>\n",
       "      <td>...</td>\n",
       "      <td>...</td>\n",
       "      <td>...</td>\n",
       "      <td>...</td>\n",
       "      <td>...</td>\n",
       "      <td>...</td>\n",
       "      <td>...</td>\n",
       "      <td>...</td>\n",
       "      <td>...</td>\n",
       "      <td>...</td>\n",
       "    </tr>\n",
       "    <tr>\n",
       "      <th>18432</th>\n",
       "      <td>12.89</td>\n",
       "      <td>-0.74</td>\n",
       "      <td>-15.96</td>\n",
       "      <td>-60.19</td>\n",
       "      <td>63.95</td>\n",
       "      <td>-23.42</td>\n",
       "      <td>3.11</td>\n",
       "      <td>-19.73</td>\n",
       "      <td>32.13</td>\n",
       "      <td>-8.33</td>\n",
       "      <td>...</td>\n",
       "      <td>6.93</td>\n",
       "      <td>0.32</td>\n",
       "      <td>0.20</td>\n",
       "      <td>48071.55</td>\n",
       "      <td>856.25</td>\n",
       "      <td>0.55</td>\n",
       "      <td>15.54</td>\n",
       "      <td>57.08</td>\n",
       "      <td>56.142</td>\n",
       "      <td>0</td>\n",
       "    </tr>\n",
       "    <tr>\n",
       "      <th>18433</th>\n",
       "      <td>1.39</td>\n",
       "      <td>-5.61</td>\n",
       "      <td>7.35</td>\n",
       "      <td>108.43</td>\n",
       "      <td>-25.71</td>\n",
       "      <td>52.46</td>\n",
       "      <td>1.39</td>\n",
       "      <td>-7.26</td>\n",
       "      <td>-7.96</td>\n",
       "      <td>-3.03</td>\n",
       "      <td>...</td>\n",
       "      <td>35.62</td>\n",
       "      <td>0.43</td>\n",
       "      <td>0.28</td>\n",
       "      <td>55934.79</td>\n",
       "      <td>1348.52</td>\n",
       "      <td>0.94</td>\n",
       "      <td>10.71</td>\n",
       "      <td>89.90</td>\n",
       "      <td>41.479</td>\n",
       "      <td>0</td>\n",
       "    </tr>\n",
       "    <tr>\n",
       "      <th>18434</th>\n",
       "      <td>0.98</td>\n",
       "      <td>-0.56</td>\n",
       "      <td>7.34</td>\n",
       "      <td>-22.03</td>\n",
       "      <td>-5.19</td>\n",
       "      <td>9.41</td>\n",
       "      <td>0.83</td>\n",
       "      <td>8.12</td>\n",
       "      <td>3.78</td>\n",
       "      <td>-3.13</td>\n",
       "      <td>...</td>\n",
       "      <td>24.31</td>\n",
       "      <td>0.34</td>\n",
       "      <td>0.24</td>\n",
       "      <td>46036.63</td>\n",
       "      <td>1147.56</td>\n",
       "      <td>0.74</td>\n",
       "      <td>9.02</td>\n",
       "      <td>76.50</td>\n",
       "      <td>40.117</td>\n",
       "      <td>0</td>\n",
       "    </tr>\n",
       "    <tr>\n",
       "      <th>18435</th>\n",
       "      <td>-5.89</td>\n",
       "      <td>-0.36</td>\n",
       "      <td>-21.19</td>\n",
       "      <td>45.37</td>\n",
       "      <td>14.78</td>\n",
       "      <td>-46.09</td>\n",
       "      <td>0.99</td>\n",
       "      <td>6.87</td>\n",
       "      <td>16.10</td>\n",
       "      <td>-9.68</td>\n",
       "      <td>...</td>\n",
       "      <td>7.82</td>\n",
       "      <td>0.40</td>\n",
       "      <td>0.24</td>\n",
       "      <td>36557.57</td>\n",
       "      <td>1451.79</td>\n",
       "      <td>0.87</td>\n",
       "      <td>16.83</td>\n",
       "      <td>96.79</td>\n",
       "      <td>25.181</td>\n",
       "      <td>0</td>\n",
       "    </tr>\n",
       "    <tr>\n",
       "      <th>18436</th>\n",
       "      <td>11.24</td>\n",
       "      <td>-7.00</td>\n",
       "      <td>80.74</td>\n",
       "      <td>-54.16</td>\n",
       "      <td>249.94</td>\n",
       "      <td>96.40</td>\n",
       "      <td>9.31</td>\n",
       "      <td>-9.35</td>\n",
       "      <td>117.35</td>\n",
       "      <td>-5.95</td>\n",
       "      <td>...</td>\n",
       "      <td>51.31</td>\n",
       "      <td>0.86</td>\n",
       "      <td>0.25</td>\n",
       "      <td>78081.78</td>\n",
       "      <td>1009.25</td>\n",
       "      <td>0.67</td>\n",
       "      <td>507.93</td>\n",
       "      <td>67.28</td>\n",
       "      <td>77.366</td>\n",
       "      <td>0</td>\n",
       "    </tr>\n",
       "  </tbody>\n",
       "</table>\n",
       "<p>18437 rows × 158 columns</p>\n",
       "</div>"
      ],
      "text/plain": [
       "       총자본증가율  유형자산증가율  유동자산증가율  영업이익증가율  순이익증가율  재고자산증가율  자기자본증가율  매출액증가율  \\\n",
       "0      120.08   215.25    29.79     0.00    0.00     0.00   193.28  -45.98   \n",
       "1       56.55    55.67    86.84     0.00    0.00   445.64    19.57  501.81   \n",
       "2      -33.92    -8.50   -41.24     0.00    0.00    42.07   -61.98   -6.12   \n",
       "3        5.66   -11.92    18.08     0.00    0.00    18.70    82.10   11.86   \n",
       "4       14.18     7.86    31.54     0.00    0.00    -4.87     6.72   56.40   \n",
       "...       ...      ...      ...      ...     ...      ...      ...     ...   \n",
       "18432   12.89    -0.74   -15.96   -60.19   63.95   -23.42     3.11  -19.73   \n",
       "18433    1.39    -5.61     7.35   108.43  -25.71    52.46     1.39   -7.26   \n",
       "18434    0.98    -0.56     7.34   -22.03   -5.19     9.41     0.83    8.12   \n",
       "18435   -5.89    -0.36   -21.19    45.37   14.78   -46.09     0.99    6.87   \n",
       "18436   11.24    -7.00    80.74   -54.16  249.94    96.40     9.31   -9.35   \n",
       "\n",
       "       종업원1인당 부가가치증가율  종업원수증가율  ...  PCR(Price cash-flow ratio)(최저)  \\\n",
       "0                0.00  1300.00  ...                            0.00   \n",
       "1                0.00    19.64  ...                            0.00   \n",
       "2                0.00   -11.19  ...                            0.00   \n",
       "3                0.00     8.40  ...                            0.00   \n",
       "4                0.00     4.65  ...                            0.00   \n",
       "...               ...      ...  ...                             ...   \n",
       "18432           32.13    -8.33  ...                            6.93   \n",
       "18433           -7.96    -3.03  ...                           35.62   \n",
       "18434            3.78    -3.13  ...                           24.31   \n",
       "18435           16.10    -9.68  ...                            7.82   \n",
       "18436          117.35    -5.95  ...                           51.31   \n",
       "\n",
       "       PSR(Price sales ratio)(최고)  PSR(Price sales ratio)(최저)  기업가치(EV)(백만원)  \\\n",
       "0                          149.75                       20.92       69545.33   \n",
       "1                            9.13                        1.49        -454.50   \n",
       "2                            8.40                        1.72       26517.58   \n",
       "3                            3.22                        1.04       31200.74   \n",
       "4                            3.14                        1.05       37758.74   \n",
       "...                           ...                         ...            ...   \n",
       "18432                        0.32                        0.20       48071.55   \n",
       "18433                        0.43                        0.28       55934.79   \n",
       "18434                        0.34                        0.24       46036.63   \n",
       "18435                        0.40                        0.24       36557.57   \n",
       "18436                        0.86                        0.25       78081.78   \n",
       "\n",
       "       EBITDA(백만원)  EBITDA/매출액(%)  EBITDA/금융비용(배)  EBITDA/평균발행주식수(백만원)  \\\n",
       "0         -1288.45         -71.74            0.00              -104.44   \n",
       "1         -3419.79         -31.64           -4.56              -221.19   \n",
       "2         -7100.69         -69.98           -6.80              -443.98   \n",
       "3         -5598.06         -49.32           -5.51              -243.34   \n",
       "4          2038.64          11.48           11.24                46.75   \n",
       "...            ...            ...             ...                  ...   \n",
       "18432       856.25           0.55           15.54                57.08   \n",
       "18433      1348.52           0.94           10.71                89.90   \n",
       "18434      1147.56           0.74            9.02                76.50   \n",
       "18435      1451.79           0.87           16.83                96.79   \n",
       "18436      1009.25           0.67          507.93                67.28   \n",
       "\n",
       "       EV/EBITDA(배)  차기부도여부  \n",
       "0             0.000       0  \n",
       "1             0.133       0  \n",
       "2             0.000       0  \n",
       "3             0.000       0  \n",
       "4            18.522       0  \n",
       "...             ...     ...  \n",
       "18432        56.142       0  \n",
       "18433        41.479       0  \n",
       "18434        40.117       0  \n",
       "18435        25.181       0  \n",
       "18436        77.366       0  \n",
       "\n",
       "[18437 rows x 158 columns]"
      ]
     },
     "execution_count": 9,
     "metadata": {},
     "output_type": "execute_result"
    }
   ],
   "source": [
    "print('정상기업 개수 : {}'.format(final_df.loc[final_df['차기부도여부']==0]['회사명'].nunique()))\n",
    "print('부도기업 개수 : {}'.format(final_df.loc[final_df['차기부도여부']==1]['회사명'].nunique()))\n",
    "\n",
    "subset"
   ]
  },
  {
   "cell_type": "code",
   "execution_count": null,
   "metadata": {
    "id": "UKvk8K7uRprj",
    "outputId": "ef220698-c6d2-4c34-d694-1adad26490d7"
   },
   "outputs": [
    {
     "data": {
      "image/png": "[encoded data removed]",
      "text/plain": [
       "<Figure size 2520x2160 with 25 Axes>"
      ]
     },
     "metadata": {
      "needs_background": "light"
     },
     "output_type": "display_data"
    }
   ],
   "source": [
    "subset[nRatio].hist(figsize = (35,30), bins = 50)\n",
    "plt.show()"
   ]
  },
  {
   "cell_type": "code",
   "execution_count": null,
   "metadata": {
    "id": "jQqEWnTBRprl"
   },
   "outputs": [],
   "source": [
    "# corr 시각화\n",
    "def corr_heatmap(dataset):\n",
    "    \"\"\"[상관관계 그래프]\n",
    "\n",
    "    Args:\n",
    "        dataset ([DataFrame]): [데이터프래임을 입력해주세요]\n",
    "    \"\"\"\n",
    "    mask_ut=np.triu(np.ones(dataset.corr().shape)).astype(np.bool) \n",
    "    sns.heatmap(dataset.corr(), annot = True, cmap = 'RdYlBu_r', cbar_kws={\"shrink\": .5}, \n",
    "                annot_kws={\"size\": 6}, linewidths=.5, mask=mask_ut)\n",
    "    plt.figure(figsize=(40,40))\n",
    "    plt.show()"
   ]
  },
  {
   "cell_type": "code",
   "execution_count": null,
   "metadata": {
    "id": "0muxXmcCRpro",
    "outputId": "c293c3a0-2e14-4f36-84d0-2631295fa7b6"
   },
   "outputs": [
    {
     "data": {
      "image/png": "[encoded data removed]",
      "text/plain": [
       "<Figure size 432x288 with 2 Axes>"
      ]
     },
     "metadata": {
      "needs_background": "light"
     },
     "output_type": "display_data"
    },
    {
     "data": {
      "text/plain": [
       "<Figure size 2880x2880 with 0 Axes>"
      ]
     },
     "metadata": {},
     "output_type": "display_data"
    }
   ],
   "source": [
    "corr_heatmap(subset[nRatio])\n"
   ]
  },
  {
   "cell_type": "code",
   "execution_count": null,
   "metadata": {
    "id": "e3PtuA5uRprp",
    "outputId": "d553ac35-2389-4a88-b87d-2937ba662c84"
   },
   "outputs": [
    {
     "data": {
      "image/png": "[encoded data removed]",
      "text/plain": [
       "<Figure size 216x432 with 2 Axes>"
      ]
     },
     "metadata": {
      "needs_background": "light"
     },
     "output_type": "display_data"
    }
   ],
   "source": [
    "def col_corr_list(dataset, col_name):\n",
    "    \"\"\"[데이터 프레임 내 컬럼의 상관 관계를 보여주는 plot입니다.]\n",
    "\n",
    "    Args:\n",
    "        dataset ([DataFrame]): [데이터프레임을 입력해주세요]\n",
    "        col_name ([column]): [데이터 내의 컬럼 이름을 입력해주세요]\n",
    "    \"\"\"\n",
    "    # credit correlation을 크기별로 정렬하고 인덱스를 뽑습니다.\n",
    "    y_label = dataset.corr()[[col_name]].sort_values(by=col_name,ascending=False).index.tolist()\n",
    "    \n",
    "    fig, ax = plt.subplots(figsize=(3, 6))\n",
    "    sns.heatmap(dataset.corr()[[col_name]].sort_values(by=col_name,ascending=False), \n",
    "                vmin = -1, vmax = 1, annot=True, cmap=\"RdYlBu_r\")\n",
    "    ax.set_title('Correlation Heatmap with {}'.format(col_name), pad = 12)\n",
    "    ax.set_yticklabels(y_label, rotation=0)\n",
    "    plt.show()\n",
    "    \n",
    "col_corr_list(subset[nRatio], '기업가치(EV)(백만원)')\n"
   ]
  },
  {
   "cell_type": "code",
   "execution_count": null,
   "metadata": {
    "id": "0nQNeFTGRprs"
   },
   "outputs": [],
   "source": [
    "from scipy.stats import skew, describe"
   ]
  },
  {
   "cell_type": "code",
   "execution_count": null,
   "metadata": {
    "id": "UC0Bs9rvRprt"
   },
   "outputs": [],
   "source": [
    "# skew_list = []\n",
    "# kurtosis_list = []\n",
    "# nskew_list = []\n",
    "# nkurtosis_list = []\n",
    "\n",
    "# for i in subset.columns[:-1]:\n",
    "#     Sresult = describe(subset[i])[4]\n",
    "#     Kresult = describe(subset[i])[5]\n",
    "#     print('{}의 왜도 = {}, 첨도 = {}'.format(i, Sresult, Kresult))\n",
    "#     if abs(Sresult) < 3:\n",
    "#         skew_list.append(i)\n",
    "#     else:\n",
    "#         nskew_list.append(i)\n",
    "#     if abs(Kresult) < 8:\n",
    "#         kurtosis_list.append(i)\n",
    "#     else:\n",
    "#         nkurtosis_list.append(i)\n",
    "\n",
    "# print(len(skew_list), len(kurtosis_list))\n",
    "# print(len(nskew_list), len(nkurtosis_list))\n"
   ]
  },
  {
   "cell_type": "code",
   "execution_count": null,
   "metadata": {
    "id": "mshd9dQ2Rpry"
   },
   "outputs": [],
   "source": [
    "# result = list(set(skew_list) | set(kurtosis_list))\n",
    "# result"
   ]
  },
  {
   "cell_type": "code",
   "execution_count": null,
   "metadata": {
    "id": "T5-9yUemRprz"
   },
   "outputs": [],
   "source": [
    "# nresult = list(set(nskew_list) | set(nkurtosis_list))\n",
    "# nresult"
   ]
  },
  {
   "cell_type": "markdown",
   "metadata": {
    "id": "CwdH3db1Rprz"
   },
   "source": [
    "# 4. 훈련,테스트셋 분리 및 변수 유의성 검정 시행\n",
    "\n",
    "## 4-1 변수 유의성 검정을 위한 정규분포성, 이분산성 검정 (5.)"
   ]
  },
  {
   "cell_type": "code",
   "execution_count": null,
   "metadata": {
    "id": "IGvnWwEnRpr3"
   },
   "outputs": [],
   "source": [
    "# train, test 분리\n",
    "test = final_df[final_df['회계년도'] >= 2018]\n",
    "train = final_df[final_df['회계년도'] < 2018]\n",
    "\n",
    "# trainset 내에서 부도, 정상기업 분리\n",
    "bc_df = train.loc[train['차기부도여부']==1]\n",
    "nc_df = train.loc[train['차기부도여부']==0]\n",
    "\n",
    "# 모델 형성을 위한 feature, target 분리\n",
    "X_train = train[FR_list[:-1]]\n",
    "y_train = train[FR_list[-1]]\n",
    "X_test = test[FR_list[:-1]]\n",
    "y_test = test[FR_list[-1]]"
   ]
  },
  {
   "cell_type": "code",
   "execution_count": null,
   "metadata": {
    "id": "UtA18zIqRpr4"
   },
   "outputs": [],
   "source": [
    "# subset[result].hist(figsize = (35,30), bins = 50)\n",
    "# plt.show()"
   ]
  },
  {
   "cell_type": "code",
   "execution_count": null,
   "metadata": {
    "id": "oCMq6wSIRpr5"
   },
   "outputs": [],
   "source": [
    "# subset[nresult].hist(figsize = (35,30), bins = 50)\n",
    "# plt.show()"
   ]
  },
  {
   "cell_type": "code",
   "execution_count": null,
   "metadata": {
    "id": "abFVRPYhRpr6"
   },
   "outputs": [],
   "source": [
    "# from scipy.stats import anderson, shapiro, kstest, normaltest, jarque_bera, skew, yeojohnson_normmax, yeojohnson_normplot, yeojohnson\n",
    "# shapiro\n",
    "# 하지만, data의 개수가 5000개를 초과하기 떄문에, P값이 정확하지 않을 수 있다고 함\n",
    "# 따라서 다른 정규성 검정을 시행해야 함\n",
    "\n",
    "# anderson-test 시행\n",
    "# 검정통계치와 _Avals_norm : array([0.576, 0.656, 0.787, 0.918, 1.092])를 비교하여 정규성을 검정한다.\n",
    "# _Avals_norm의 유의수준은 %값으로 다음 열과 매칭된다. array([15. , 10. ,  5. ,  2.5,  1. ])\n",
    "# 따라서 검정통계치와 유의수준 0.05에서 임계치인 0.787을 비교하여 통계치가 더 크면 P값이 매우 유의미하므로 정규분포를 따른다는 귀무가설을 기각할 수 있다\n",
    "\n",
    "# normaltest\n",
    "\n",
    "# jarque_bera 검정 (sample 수가 2000개를 넘을 경우, 적절한 정규성 검정임)\n"
   ]
  },
  {
   "cell_type": "code",
   "execution_count": null,
   "metadata": {
    "id": "Ecwz5cJTRpr7"
   },
   "outputs": [],
   "source": [
    "# nm_dist = []\n",
    "# nnm_dist = []\n",
    "# for i in subset.columns[:-1]:\n",
    "#     Sresult = np.round(shapiro(subset[i]).pvalue,3)\n",
    "#     if Sresult < 0.05:\n",
    "#         nm_dist.append(i)\n",
    "#     else:\n",
    "#         nnm_dist.append(i)\n",
    "\n",
    "# print(len(nm_dist), len(nnm_dist))"
   ]
  },
  {
   "cell_type": "code",
   "execution_count": null,
   "metadata": {
    "id": "cPSs0kFJRpr8"
   },
   "outputs": [],
   "source": [
    "# nm_dist = []\n",
    "# nnm_dist = []\n",
    "# for i in subset.columns[:-1]:\n",
    "#     Aresult = anderson(subset[i])[1][2]\n",
    "#     if Aresult < 0.787:\n",
    "#         nm_dist.append(i)\n",
    "#     else:\n",
    "#         nnm_dist.append(i)\n",
    "\n",
    "# print(len(nm_dist), len(nnm_dist))"
   ]
  },
  {
   "cell_type": "code",
   "execution_count": null,
   "metadata": {
    "id": "XPsAtS4ERpr9"
   },
   "outputs": [],
   "source": [
    "# nm_dist = []\n",
    "# nnm_dist = []\n",
    "# for i in subset.columns[:-1]:\n",
    "#     Kresult = np.round(kstest(subset[i], 'norm').pvalue,3) # 정규분포와 동일하다는 귀무가설 설정\n",
    "#     if Kresult < 0.05: # 정규분포와 동일하다는 귀무가설을 기각할 수 있다\n",
    "#         nnm_dist.append(i)\n",
    "#     else:\n",
    "#         nm_dist.append(i)\n",
    "\n",
    "# print(len(nm_dist), len(nnm_dist))"
   ]
  },
  {
   "cell_type": "code",
   "execution_count": null,
   "metadata": {
    "id": "CDXCEsgiRpr-"
   },
   "outputs": [],
   "source": [
    "# nm_dist = []\n",
    "# nnm_dist = []\n",
    "# for i in subset.columns[:-1]:\n",
    "#     Nresult = np.round(normaltest(subset[i])[1],3)\n",
    "#     if Nresult < 0.05:  # 정규분포를 따른다는 귀무가설을 기각\n",
    "#         nnm_dist.append(i)\n",
    "#     else:\n",
    "#         nm_dist.append(i)\n",
    "\n",
    "# print(len(nm_dist), len(nnm_dist))\n"
   ]
  },
  {
   "cell_type": "code",
   "execution_count": null,
   "metadata": {
    "id": "7SbQ9RCURpr_"
   },
   "outputs": [],
   "source": [
    "# # jarque_bera 검정 (sample 수가 2000개를 넘을 경우, 적절한 정규성 검정임)\n",
    "# nm_dist = []\n",
    "# nnm_dist = []\n",
    "# for i in subset.columns[:-1]:\n",
    "#     Nresult = np.round(jarque_bera(subset[i])[1],3)\n",
    "#     if Nresult < 0.05:  # 정규분포를 따른다는 귀무가설을 기각\n",
    "#         nnm_dist.append(i)\n",
    "#     else:\n",
    "#         nm_dist.append(i)\n",
    "\n",
    "# print(len(nm_dist), len(nnm_dist))"
   ]
  },
  {
   "cell_type": "markdown",
   "metadata": {
    "id": "cSlWQKywRpsA"
   },
   "source": [
    "### 정규성 검정 결과\n",
    "- 데이터가 2000개를 넘으면 성과를 보장할 수 없는 shaprio를 제외한 나머지는 157개 feature에 대해 모두 비정규성을 보유한다는 결과로 도출됨"
   ]
  },
  {
   "cell_type": "code",
   "execution_count": null,
   "metadata": {
    "id": "qqCcq4HyRpsB"
   },
   "outputs": [],
   "source": [
    "from scipy.stats import bartlett\n",
    "\n",
    "# 정규성이 보장된 경우 시행하는 등분산성 검정으로 3개 이상의 모집단 등분산성에도 검정이 가능함.\n",
    "\n",
    "from scipy.stats import levene\n",
    "\n",
    "# P값이 작다면, 등분산성 가정을 유의미하게 충족하지 못한다. (이분산성을 갖는다)\n",
    "# levene의 default 값이 center = median으로 설정되어 있음. \n",
    "# 따라서 정규성이 없는 집단의 등분산성 검정이 bartlett 보다는 더 강건하게 할 수 있다.\n",
    "\n",
    "from scipy.stats import fligner\n",
    "\n",
    "# 모집단의 분포에 대한 가정이 없이 비모수에 대한 등분산성 검정에 용이하게 사용된다.\n",
    "\n",
    "# 위 3개의 통계검정은 'H0 = 등분산성을 충족한다.'이다.\n",
    "\n",
    "# flinger-test 시행\n",
    "\n",
    "# eq_var = []\n",
    "# neq_var = []\n",
    "# for i in subset.columns[:-1]:\n",
    "#     ser_1 = nc_df[i]\n",
    "#     ser_2 = bc_df[i]\n",
    "\n",
    "#     fresult = np.round(fligner(ser_1, ser_2)[1],3)\n",
    "#     if fresult < 0.05:\n",
    "#         eq_var.append(i)\n",
    "#     else:\n",
    "#         neq_var.append(i)\n",
    "\n",
    "# print(len(eq_var), len(neq_var))"
   ]
  },
  {
   "cell_type": "code",
   "execution_count": null,
   "metadata": {
    "id": "IAscalPcRpsC",
    "outputId": "b0950316-fd88-483d-bd94-29132b7c997b"
   },
   "outputs": [
    {
     "name": "stdout",
     "output_type": "stream",
     "text": [
      "145 12\n"
     ]
    }
   ],
   "source": [
    "# bartlett-test 시행\n",
    "eq_var = []\n",
    "neq_var = []\n",
    "for i in subset.columns[:-1]:\n",
    "    ser_1 = nc_df[i]\n",
    "    ser_2 = bc_df[i]\n",
    "\n",
    "    lresult = np.round(bartlett(ser_1, ser_2)[1],3)\n",
    "    if lresult < 0.05:\n",
    "        eq_var.append(i)\n",
    "    else:\n",
    "        neq_var.append(i)\n",
    "\n",
    "print(len(eq_var), len(neq_var))"
   ]
  },
  {
   "cell_type": "code",
   "execution_count": null,
   "metadata": {
    "id": "YPUNcm6nRpsD",
    "outputId": "72ba7344-6a83-4e35-ee7a-4d2f15046cb4"
   },
   "outputs": [
    {
     "name": "stderr",
     "output_type": "stream",
     "text": [
      "/Library/Frameworks/Python.framework/Versions/3.9/lib/python3.9/site-packages/scipy/stats/morestats.py:2603: RuntimeWarning: invalid value encountered in double_scalars\n",
      "  W = numer / denom\n"
     ]
    },
    {
     "name": "stdout",
     "output_type": "stream",
     "text": [
      "64 93\n",
      "74 83\n",
      "128 29\n"
     ]
    }
   ],
   "source": [
    "# levene-test 시행\n",
    "# center = 'mean', 'median', 'trimmed'(proportioncut = 0.01) \n",
    "leq_var1 = []\n",
    "lneq_var1 = []\n",
    "leq_var2 = []\n",
    "lneq_var2 = []\n",
    "leq_var3 = []\n",
    "lneq_var3 = []\n",
    "for i in subset.columns[:-1]:\n",
    "    ser_1 = nc_df[i]\n",
    "    ser_2 = bc_df[i]\n",
    "\n",
    "    lresult1 = np.round(levene(ser_1, ser_2, center='median')[1],3)\n",
    "    lresult2 = np.round(levene(ser_1, ser_2, center='mean')[1],3)\n",
    "    lresult3 = np.round(levene(ser_1, ser_2, center='trimmed', proportiontocut = 0.01)[1],3)\n",
    "    \n",
    "    if lresult1 < 0.05:\n",
    "        leq_var1.append(i)\n",
    "    else:\n",
    "        lneq_var1.append(i)\n",
    "    if lresult2 < 0.05:\n",
    "        leq_var2.append(i)\n",
    "    else:\n",
    "        lneq_var2.append(i)\n",
    "    if lresult3 < 0.05:\n",
    "        leq_var3.append(i)\n",
    "    else:\n",
    "        lneq_var3.append(i)\n",
    "print(len(leq_var1), len(lneq_var1))\n",
    "print(len(leq_var2), len(lneq_var2))\n",
    "print(len(leq_var3), len(lneq_var3))\n"
   ]
  },
  {
   "cell_type": "code",
   "execution_count": null,
   "metadata": {
    "id": "hitPAUhLRpsF"
   },
   "outputs": [],
   "source": [
    "from statsmodels.stats.weightstats import ztest\n",
    "from scipy.stats import mannwhitneyu, ttest_ind\n",
    "\n",
    "# sig_diff1 = []\n",
    "# nsig_diff1 = []\n",
    "# for i in sig_diff:\n",
    "#     ser_1 = nc_df[i]\n",
    "#     ser_2 = bc_df[i]\n",
    "\n",
    "#     fresult = np.round(ttest_ind(ser_1, ser_2)[1],3)\n",
    "#     if fresult < 0.01:\n",
    "#         sig_diff1.append(i)\n",
    "#     else:\n",
    "#         nsig_diff1.append(i)\n",
    "\n",
    "# print(len(sig_diff1), len(nsig_diff1))"
   ]
  },
  {
   "cell_type": "code",
   "execution_count": null,
   "metadata": {
    "id": "zp-SsYyYRpsG"
   },
   "outputs": [],
   "source": [
    "def z_test(eq_var = eq_var):\n",
    "    sig_diff = []\n",
    "    nsig_diff = []\n",
    "    for i in eq_var:\n",
    "        ser_1 = nc_df[i]\n",
    "        ser_2 = bc_df[i]\n",
    "\n",
    "        fresult = np.round(ztest(ser_1, ser_2)[1],3)\n",
    "        if fresult < 0.01:\n",
    "            sig_diff.append(i)\n",
    "        else:\n",
    "            nsig_diff.append(i)\n",
    "\n",
    "    print(len(sig_diff), len(nsig_diff))\n",
    "    return sig_diff,nsig_diff"
   ]
  },
  {
   "cell_type": "code",
   "execution_count": null,
   "metadata": {
    "id": "3RDuEHcjRpsG"
   },
   "outputs": [],
   "source": [
    "def welch_t_test(neq_var=neq_var):\n",
    "    sig_diff1 = []\n",
    "    nsig_diff1 = []\n",
    "    for i in neq_var:\n",
    "        ser_1 = nc_df[i]\n",
    "        ser_2 = bc_df[i]\n",
    "\n",
    "        fresult = np.round(ttest_ind(ser_1, ser_2, equal_var=False)[1],3)\n",
    "        if fresult < 0.01:\n",
    "            sig_diff1.append(i)\n",
    "        else:\n",
    "            nsig_diff1.append(i)\n",
    "\n",
    "    print(len(sig_diff1), len(nsig_diff1))\n",
    "    return sig_diff1, nsig_diff1"
   ]
  },
  {
   "cell_type": "code",
   "execution_count": null,
   "metadata": {
    "id": "KfqNYBPdRpsH",
    "outputId": "999e36af-3293-4230-f595-8813a8fe9f18"
   },
   "outputs": [
    {
     "name": "stdout",
     "output_type": "stream",
     "text": [
      "57 88\n",
      "6 6\n"
     ]
    },
    {
     "data": {
      "text/plain": [
       "63"
      ]
     },
     "execution_count": 58,
     "metadata": {},
     "output_type": "execute_result"
    }
   ],
   "source": [
    "# bartlett-test\n",
    "sig_diff , nsig_diff  = z_test(eq_var)\n",
    "sig_diff_ , nsig_diff_  = welch_t_test(neq_var)\n",
    "\n",
    "sig_val = sig_diff + sig_diff_\n",
    "len(sig_val)"
   ]
  },
  {
   "cell_type": "code",
   "execution_count": null,
   "metadata": {
    "id": "P6pSnjsiRpsI",
    "outputId": "3e7bdb11-1c85-4987-c57b-c28f76486bbd"
   },
   "outputs": [
    {
     "name": "stdout",
     "output_type": "stream",
     "text": [
      "51 13\n",
      "42 51\n"
     ]
    },
    {
     "data": {
      "text/plain": [
       "93"
      ]
     },
     "execution_count": 60,
     "metadata": {},
     "output_type": "execute_result"
    }
   ],
   "source": [
    "# levene median\n",
    "sig_diff1, nsig_diff1 = z_test(leq_var1)\n",
    "sig_diff1_, nsig_diff1_ = welch_t_test(lneq_var1)\n",
    "\n",
    "sig_val1 = sig_diff1 + sig_diff1_\n",
    "len(sig_val1)"
   ]
  },
  {
   "cell_type": "code",
   "execution_count": null,
   "metadata": {
    "id": "xnTrAPAvRpsI",
    "outputId": "702d2b4c-4bee-4f53-c15e-36ddb5341bf2"
   },
   "outputs": [
    {
     "name": "stdout",
     "output_type": "stream",
     "text": [
      "53 21\n",
      "33 50\n"
     ]
    },
    {
     "data": {
      "text/plain": [
       "86"
      ]
     },
     "execution_count": 61,
     "metadata": {},
     "output_type": "execute_result"
    }
   ],
   "source": [
    "# levene mean\n",
    "sig_diff2, nsig_diff2 = z_test(leq_var2)\n",
    "sig_diff2_, nsig_diff2_ = welch_t_test(lneq_var2)\n",
    "\n",
    "sig_val2 = sig_diff2 + sig_diff2_\n",
    "len(sig_val2)"
   ]
  },
  {
   "cell_type": "code",
   "execution_count": null,
   "metadata": {
    "id": "gUo7Bj84RpsJ",
    "outputId": "0028c198-d955-490b-8ef4-df9370d62f16"
   },
   "outputs": [
    {
     "name": "stdout",
     "output_type": "stream",
     "text": [
      "53 75\n",
      "12 17\n"
     ]
    },
    {
     "data": {
      "text/plain": [
       "65"
      ]
     },
     "execution_count": 62,
     "metadata": {},
     "output_type": "execute_result"
    }
   ],
   "source": [
    "# levene trimmed\n",
    "sig_diff3, nsig_diff3 = z_test(leq_var3)\n",
    "sig_diff3_, nsig_diff3_ = welch_t_test(lneq_var3)\n",
    "\n",
    "sig_val3 = sig_diff3 + sig_diff3_\n",
    "len(sig_val3)"
   ]
  },
  {
   "cell_type": "markdown",
   "metadata": {
    "id": "ooDyTFktRpsK"
   },
   "source": [
    "### 4-1 결론\n",
    "1.\t원래 Z-test, T-test로 두 모집단 (부도 유무)의 평균이 유의미하게 다르다라는 것을 검정할 수 있다. 하지만, 모집단이 정규성을 가지고 등분산성을 가지는 경우에만 사용할 수 있기에 우리는 사용할 수 없다.\n",
    "2.\t우리 데이터처럼 비모수, 불균등, 등분산 성을 가지는 경우(129)에는 Mann-Whitney U를 사용할 수 있다. 하지만, 비모수, 불균등, 이분산성을 가지는 경우(29)는 사용할 수 없다는 것이 문제이다. \n",
    "3.\t결론\n",
    "- 이분산성을 가지는 경우, 적절한 통계적 기법이 없다. 따라서 여러 개의 방법을 시도해봐야 할 듯 하다.\n",
    "    - 정규화를 해주는 Scaler 작업을 29개 feature에 실시 후, 29개에 대해 Z 검정 & T 검정 시행 (하지만, 해석상의 어려움이 일부 존재할 것 같다는 생각이 들었음)\n",
    "        1.\tBOX_COS 변환의 경우 사용불가 (음수, 0의 값을 가지는 경우 불가능)\n",
    "    - 일관적으로 Mann-Whitney U 검정을 실시하는 법\n",
    "    - 위 두가지 방법이 마땅치 않은 경우는 29개 feature Drop도 작게나마 고려한다.\n",
    "\n",
    "\n",
    "진짜 최종\n",
    "  - 중심극한정리에 의해 각 feature는 정규성을 따르게 된다. (sample N > 30)\n",
    "  - 정규성을 가정하게 된다면, Bartlett-test, levene-test를 시행할 수 있다.\n",
    "  - 시행해본 결과를 토대로 등분산은 t-test & Z-test / 이분산은 whelch's t-test를 시행함\n",
    "  - 그 결과 평균이 유의미하게 다른 것은 총 63개로 뽑힘.\n"
   ]
  },
  {
   "cell_type": "markdown",
   "metadata": {
    "id": "GfTbbgAwRpsK"
   },
   "source": [
    "## 4-2 단변량 로짓, stepwise 추출법 시행"
   ]
  },
  {
   "cell_type": "code",
   "execution_count": null,
   "metadata": {
    "id": "Bsdn5hjWRpsL"
   },
   "outputs": [],
   "source": [
    "# train, test 분리\n",
    "test = final_df[final_df['회계년도'] >= 2018]\n",
    "train = final_df[final_df['회계년도'] < 2018]\n",
    "\n",
    "X_train = train[FR_list[:-1]]\n",
    "y_train = train[FR_list[-1]]\n",
    "X_test = test[FR_list[:-1]]\n",
    "y_test = test[FR_list[-1]]"
   ]
  },
  {
   "cell_type": "code",
   "execution_count": null,
   "metadata": {
    "id": "pAirL9SORpsL"
   },
   "outputs": [],
   "source": [
    "# 단변량 로짓 추출\n",
    "import statsmodels.api as sm\n",
    "import warnings\n",
    "\n",
    "def univariate_logit(X_train = X_train, y_train = y_train, Pvalue = 0.05 ,sig_val = sig_val):\n",
    "    \"\"\"[summary]\n",
    "\n",
    "    Args:\n",
    "        X_train ([DataFrame]), optional): [input feature]. Defaults to X_train.\n",
    "        y_train ([DataFrame], optional): [input target]. Defaults to y_train.\n",
    "        Pvalue (float, optional): [P-value cutoff]. Defaults to 0.05.\n",
    "        sig_val ([list], optional): [feature_list]. Defaults to sig_val.\n",
    "    \"\"\"\n",
    "    sig_SL_i = []\n",
    "    sig_SL_p = []\n",
    "    sig_SL_c = []\n",
    "    warnings.filterwarnings(\"ignore\")\n",
    "    for i in sig_val:\n",
    "        result_Logit = sm.Logit(y_train,sm.add_constant(X_train[i])).fit(disp=0)\n",
    "        Pval = result_Logit.pvalues[1]\n",
    "        coef = result_Logit.params[1]\n",
    "\n",
    "        if Pval < Pvalue:\n",
    "            sig_SL_i.append(i)\n",
    "            sig_SL_p.append(Pval)\n",
    "            sig_SL_c.append(coef)\n",
    "            \n",
    "        else:\n",
    "            pass\n",
    "        \n",
    "    sig_df = pd.DataFrame(list(zip(sig_SL_i, sig_SL_p,sig_SL_c)), columns =['feature', 'Pvalue', 'coef'])\n",
    "    \n",
    "    return sig_df\n"
   ]
  },
  {
   "cell_type": "code",
   "execution_count": null,
   "metadata": {
    "id": "KHMUjvWRRpsM"
   },
   "outputs": [],
   "source": [
    "sig_df  = univariate_logit(X_train = X_train, y_train = y_train, Pvalue=0.05, sig_val=sig_val )\n",
    "sig_df1 = univariate_logit(X_train = X_train, y_train = y_train, Pvalue=0.05, sig_val=sig_val1)\n",
    "sig_df2 = univariate_logit(X_train = X_train, y_train = y_train, Pvalue=0.05, sig_val=sig_val2)\n",
    "sig_df3 = univariate_logit(X_train = X_train, y_train = y_train, Pvalue=0.05, sig_val=sig_val3)"
   ]
  },
  {
   "cell_type": "code",
   "execution_count": null,
   "metadata": {
    "id": "ALuM0d1IRpsN",
    "outputId": "654d84e0-8e5d-47c8-9904-f099ca16ea02"
   },
   "outputs": [
    {
     "name": "stdout",
     "output_type": "stream",
     "text": [
      "Bartlett : t-test,welch's t-test로 뽑은 63개 변수 \n",
      "단변량로짓으로 돌린 결과 59개가 추출됨\n",
      "Levene median : t-test,welch's t-test로 뽑은 93개 변수 \n",
      "단변량로짓으로 돌린 결과 82개가 추출됨\n",
      "Levene mean : t-test,welch's t-test로 뽑은 86개 변수 \n",
      "단변량로짓으로 돌린 결과 75개가 추출됨\n",
      "Levene trimmed : t-test,welch's t-test로 뽑은 65개 변수 \n",
      "단변량로짓으로 돌린 결과 60개가 추출됨\n"
     ]
    }
   ],
   "source": [
    "print(\"Bartlett : t-test,welch's t-test로 뽑은 {}개 변수 \\n단변량로짓으로 돌린 결과 {}개가 추출됨\".format(len(sig_val),len(sig_df)))\n",
    "print(\"Levene median : t-test,welch's t-test로 뽑은 {}개 변수 \\n단변량로짓으로 돌린 결과 {}개가 추출됨\".format(len(sig_val1),len(sig_df1)))\n",
    "print(\"Levene mean : t-test,welch's t-test로 뽑은 {}개 변수 \\n단변량로짓으로 돌린 결과 {}개가 추출됨\".format(len(sig_val2),len(sig_df2)))\n",
    "print(\"Levene trimmed : t-test,welch's t-test로 뽑은 {}개 변수 \\n단변량로짓으로 돌린 결과 {}개가 추출됨\".format(len(sig_val3),len(sig_df3)))\n"
   ]
  },
  {
   "cell_type": "code",
   "execution_count": null,
   "metadata": {
    "id": "jT7elZMpRpsN",
    "outputId": "61ed54c5-d1fe-4e82-8cdb-2849e2df81ab"
   },
   "outputs": [
    {
     "name": "stdout",
     "output_type": "stream",
     "text": [
      "59\n",
      "82\n",
      "75\n",
      "60\n"
     ]
    }
   ],
   "source": [
    "univar_feature  = list(sig_df ['feature'])\n",
    "univar_feature1 = list(sig_df1['feature'])\n",
    "univar_feature2 = list(sig_df2['feature'])\n",
    "univar_feature3 = list(sig_df3['feature'])\n",
    "\n",
    "print(len(univar_feature ))\n",
    "print(len(univar_feature1))\n",
    "print(len(univar_feature2))\n",
    "print(len(univar_feature3))"
   ]
  },
  {
   "cell_type": "code",
   "execution_count": null,
   "metadata": {
    "id": "zyg5cwx-RpsO"
   },
   "outputs": [],
   "source": [
    "## 전진 단계별 선택법\n",
    "variables = univar_feature ## 설명 변수 리스트\n",
    "y = y_train ## 반응 변수\n",
    "\n",
    "forward_valriables = [] ## 선택된 변수들\n",
    "sl_enter = 0.05\n",
    "sl_remove = 0.05\n",
    " \n",
    "sv_per_step = [] ## 각 스텝별로 선택된 변수들\n",
    "prsquared_r_squared = [] ## 각 스텝별 수정된 결정계수\n",
    "steps = [] ## 스텝\n",
    "step = 0\n",
    "while len(variables) > 0:\n",
    "    remainder = list(set(variables) - set(forward_valriables))\n",
    "    pval = pd.Series(index=remainder) ## 변수의 p-value\n",
    "    ## 기존에 포함된 변수와 새로운 변수 하나씩 돌아가면서 \n",
    "    ## 선형 모형을 적합한다.\n",
    "    for col in remainder: \n",
    "        X = X_train[forward_valriables+[col]]\n",
    "        X = sm.add_constant(X)\n",
    "        model = sm.Logit(y,X).fit(disp=0)\n",
    "        pval[col] = model.pvalues[col]\n",
    " \n",
    "    min_pval = pval.min()\n",
    "    if min_pval < sl_enter: ## 최소 p-value 값이 기준 값보다 작으면 포함\n",
    "        forward_valriables.append(pval.idxmin())\n",
    "        ## 선택된 변수들에대해서\n",
    "        ## 어떤 변수를 제거할지 고른다.\n",
    "        while len(forward_valriables) > 0:\n",
    "            selected_X = X_train[forward_valriables]\n",
    "            selected_X = sm.add_constant(selected_X)\n",
    "            selected_pval = sm.Logit(y,selected_X).fit(disp=0).pvalues[1:] ## 절편항의 p-value는 뺀다\n",
    "            max_pval = selected_pval.max()\n",
    "            if max_pval >= sl_remove: ## 최대 p-value값이 기준값보다 크거나 같으면 제외\n",
    "                remove_variable = selected_pval.idxmax()\n",
    "                forward_valriables.remove(remove_variable)\n",
    "            else:\n",
    "                break\n",
    "        \n",
    "        step += 1\n",
    "        steps.append(step)\n",
    "        prsq_r_squared = sm.Logit(y,sm.add_constant(X_train[forward_valriables])).fit(disp=0).prsquared\n",
    "        prsquared_r_squared.append(prsq_r_squared)\n",
    "        sv_per_step.append(forward_valriables.copy())\n",
    "    else:\n",
    "        break"
   ]
  },
  {
   "cell_type": "code",
   "execution_count": null,
   "metadata": {
    "id": "8Ha82j0dRpsP",
    "outputId": "373f7106-a612-40d4-b493-38f03096bd83"
   },
   "outputs": [
    {
     "data": {
      "image/png": "[encoded data removed]",
      "text/plain": [
       "<Figure size 720x720 with 1 Axes>"
      ]
     },
     "metadata": {},
     "output_type": "display_data"
    }
   ],
   "source": [
    "fig = plt.figure(figsize=(10,10))\n",
    "fig.set_facecolor('white')\n",
    " \n",
    "font_size = 15\n",
    "plt.xticks(steps,[f'step {s}\\n'+'\\n'.join(sv_per_step[i]) for i,s in enumerate(steps)], fontsize=1)\n",
    "plt.plot(steps,prsquared_r_squared, marker='o')\n",
    "    \n",
    "plt.ylabel('prsquared_r_squared',fontsize=font_size)\n",
    "plt.grid(True)\n",
    "plt.show()"
   ]
  },
  {
   "cell_type": "code",
   "execution_count": null,
   "metadata": {
    "id": "Ou8aVDIqRpsQ",
    "outputId": "8d0028e4-a045-4655-d3d2-e31ab975660f"
   },
   "outputs": [
    {
     "data": {
      "text/plain": [
       "13"
      ]
     },
     "execution_count": 258,
     "metadata": {},
     "output_type": "execute_result"
    }
   ],
   "source": [
    "len(forward_valriables)"
   ]
  },
  {
   "cell_type": "code",
   "execution_count": null,
   "metadata": {
    "id": "paoJ4wXpRpsQ",
    "outputId": "7f4a41f6-ae32-4e26-f36a-f078df834b9a"
   },
   "outputs": [
    {
     "data": {
      "text/plain": [
       "['총자본사업이익률',\n",
       " '자기자본구성비율',\n",
       " '자기자본배율',\n",
       " '당좌자산회전률',\n",
       " '단기차입금 대 총차입금비율',\n",
       " '경영자본순이익률',\n",
       " '금융비용 대 총비용비율',\n",
       " 'CPS(Cash flow Per Share)(원)',\n",
       " 'BPS(Book-value Per Share)(원)',\n",
       " '경영자본회전률',\n",
       " '타인자본구성비율',\n",
       " '종업원1인당 순이익(백만원)',\n",
       " '순운전자본회전률']"
      ]
     },
     "execution_count": 72,
     "metadata": {},
     "output_type": "execute_result"
    }
   ],
   "source": [
    "forward_valriables"
   ]
  },
  {
   "cell_type": "markdown",
   "metadata": {
    "id": "MLZeZ_OSRpsR"
   },
   "source": [
    "- add_costant\n",
    "https://datascienceschool.net/03%20machine%20learning/04.02%20선형회귀분석의%20기초.html"
   ]
  },
  {
   "cell_type": "code",
   "execution_count": null,
   "metadata": {
    "id": "_uFmPqDQRpsS"
   },
   "outputs": [],
   "source": [
    "# def forward_regression(X= X_train, y = y_train,\n",
    "#                        initial_list=[], \n",
    "#                        threshold_in=0.05, \n",
    "#                        verbose=True,\n",
    "#                        col_list = X_train.columns):\n",
    "#     \"\"\"[summary]\n",
    "\n",
    "#     Args:\n",
    "#         X ([DataFrame], optional): [feature 데이터 프레임]. Defaults to X_train.\n",
    "#         y ([DataFrame], optional): [target 데이터 프레임]. Defaults to y_train.\n",
    "#         initial_list (list, optional): [전진선택법에서 맨처음에 들어갈 기본 변수 리스트]. Defaults to [].\n",
    "#         threshold_in (float, optional): [전진선택에서 변수를 추가할 때 p-value cutoff 설정]. Defaults to 0.05.\n",
    "#         verbose ([boolin], optional): [전진선택법 시행 중 선택된 feature를 print하는 부분]. Defaults to True \n",
    "#         col_list ([list], optional): [전체 feature 리스트 설정].   \n",
    "        \n",
    "#     Returns:\n",
    "#         [type]: [description]\n",
    "#     \"\"\"\n",
    "#     initial_list = []\n",
    "#     included = list(initial_list)\n",
    "#     while True:\n",
    "#         changed=False\n",
    "#         # forward step\n",
    "#         excluded = list(set(X[col_list])-set(included))\n",
    "#         new_pval = pd.Series(index=excluded)\n",
    "#         for new_column in excluded:\n",
    "#             model = sm.Logit(y, sm.add_constant(X[included+[new_column]]))\n",
    "#             result = model.fit()\n",
    "#             new_pval[new_column] = result.pvalues[new_column]\n",
    "#         best_pval = new_pval.min()\n",
    "#         if best_pval < threshold_in:\n",
    "#             best_feature = new_pval.argmin()\n",
    "#             included.append(best_feature)\n",
    "#             changed=True\n",
    "#             if verbose:\n",
    "#                 print('Add   with p-value '.format(best_feature, best_pval))\n",
    "\n",
    "#         if not changed:\n",
    "#             break\n",
    "\n",
    "#     return included"
   ]
  },
  {
   "cell_type": "code",
   "execution_count": null,
   "metadata": {
    "id": "7hVR4TuJRpsU",
    "outputId": "1539e967-9ff9-4411-9788-9a908c9d1e87"
   },
   "outputs": [
    {
     "data": {
      "text/plain": [
       "64"
      ]
     },
     "execution_count": 265,
     "metadata": {},
     "output_type": "execute_result"
    }
   ],
   "source": [
    "len(univar_feature)"
   ]
  },
  {
   "cell_type": "code",
   "execution_count": null,
   "metadata": {
    "id": "ZdBEisfoRpsV",
    "outputId": "f0c5e0e1-54e0-4238-e470-9be58e8dc84b"
   },
   "outputs": [
    {
     "name": "stdout",
     "output_type": "stream",
     "text": [
      "Warning: Maximum number of iterations has been exceeded.\n",
      "         Current function value: inf\n",
      "         Iterations: 35\n"
     ]
    },
    {
     "ename": "LinAlgError",
     "evalue": "Singular matrix",
     "output_type": "error",
     "traceback": [
      "\u001b[0;31m---------------------------------------------------------------------------\u001b[0m",
      "\u001b[0;31mLinAlgError\u001b[0m                               Traceback (most recent call last)",
      "\u001b[0;32m/var/folders/1v/ctxpzb994v98h43xyk972tmc0000gn/T/ipykernel_3868/2112926109.py\u001b[0m in \u001b[0;36m<module>\u001b[0;34m\u001b[0m\n\u001b[1;32m     12\u001b[0m \u001b[0;32mwhile\u001b[0m \u001b[0mlen\u001b[0m\u001b[0;34m(\u001b[0m\u001b[0mselected_variables\u001b[0m\u001b[0;34m)\u001b[0m \u001b[0;34m>\u001b[0m \u001b[0;36m0\u001b[0m\u001b[0;34m:\u001b[0m\u001b[0;34m\u001b[0m\u001b[0;34m\u001b[0m\u001b[0m\n\u001b[1;32m     13\u001b[0m     \u001b[0mX\u001b[0m \u001b[0;34m=\u001b[0m \u001b[0msm\u001b[0m\u001b[0;34m.\u001b[0m\u001b[0madd_constant\u001b[0m\u001b[0;34m(\u001b[0m\u001b[0mX_train\u001b[0m\u001b[0;34m[\u001b[0m\u001b[0mselected_variables\u001b[0m\u001b[0;34m]\u001b[0m\u001b[0;34m)\u001b[0m\u001b[0;34m\u001b[0m\u001b[0;34m\u001b[0m\u001b[0m\n\u001b[0;32m---> 14\u001b[0;31m     \u001b[0mp_vals\u001b[0m \u001b[0;34m=\u001b[0m \u001b[0msm\u001b[0m\u001b[0;34m.\u001b[0m\u001b[0mLogit\u001b[0m\u001b[0;34m(\u001b[0m\u001b[0my\u001b[0m\u001b[0;34m,\u001b[0m\u001b[0mX\u001b[0m\u001b[0;34m)\u001b[0m\u001b[0;34m.\u001b[0m\u001b[0mfit\u001b[0m\u001b[0;34m(\u001b[0m\u001b[0;34m)\u001b[0m\u001b[0;34m.\u001b[0m\u001b[0mpvalues\u001b[0m\u001b[0;34m[\u001b[0m\u001b[0;36m1\u001b[0m\u001b[0;34m:\u001b[0m\u001b[0;34m]\u001b[0m \u001b[0;31m## 절편항의 p-value는 뺀다\u001b[0m\u001b[0;34m\u001b[0m\u001b[0;34m\u001b[0m\u001b[0m\n\u001b[0m\u001b[1;32m     15\u001b[0m     \u001b[0mmax_pval\u001b[0m \u001b[0;34m=\u001b[0m \u001b[0mp_vals\u001b[0m\u001b[0;34m.\u001b[0m\u001b[0mmax\u001b[0m\u001b[0;34m(\u001b[0m\u001b[0;34m)\u001b[0m \u001b[0;31m## 최대 p-value\u001b[0m\u001b[0;34m\u001b[0m\u001b[0;34m\u001b[0m\u001b[0m\n\u001b[1;32m     16\u001b[0m     \u001b[0;32mif\u001b[0m \u001b[0mmax_pval\u001b[0m \u001b[0;34m>=\u001b[0m \u001b[0msl_remove\u001b[0m\u001b[0;34m:\u001b[0m \u001b[0;31m## 최대 p-value값이 기준값보다 크거나 같으면 제외\u001b[0m\u001b[0;34m\u001b[0m\u001b[0;34m\u001b[0m\u001b[0m\n",
      "\u001b[0;32m/Library/Frameworks/Python.framework/Versions/3.9/lib/python3.9/site-packages/statsmodels/discrete/discrete_model.py\u001b[0m in \u001b[0;36mfit\u001b[0;34m(self, start_params, method, maxiter, full_output, disp, callback, **kwargs)\u001b[0m\n\u001b[1;32m   1981\u001b[0m     def fit(self, start_params=None, method='newton', maxiter=35,\n\u001b[1;32m   1982\u001b[0m             full_output=1, disp=1, callback=None, **kwargs):\n\u001b[0;32m-> 1983\u001b[0;31m         bnryfit = super().fit(start_params=start_params,\n\u001b[0m\u001b[1;32m   1984\u001b[0m                               \u001b[0mmethod\u001b[0m\u001b[0;34m=\u001b[0m\u001b[0mmethod\u001b[0m\u001b[0;34m,\u001b[0m\u001b[0;34m\u001b[0m\u001b[0;34m\u001b[0m\u001b[0m\n\u001b[1;32m   1985\u001b[0m                               \u001b[0mmaxiter\u001b[0m\u001b[0;34m=\u001b[0m\u001b[0mmaxiter\u001b[0m\u001b[0;34m,\u001b[0m\u001b[0;34m\u001b[0m\u001b[0;34m\u001b[0m\u001b[0m\n",
      "\u001b[0;32m/Library/Frameworks/Python.framework/Versions/3.9/lib/python3.9/site-packages/statsmodels/discrete/discrete_model.py\u001b[0m in \u001b[0;36mfit\u001b[0;34m(self, start_params, method, maxiter, full_output, disp, callback, **kwargs)\u001b[0m\n\u001b[1;32m    228\u001b[0m             \u001b[0;32mpass\u001b[0m  \u001b[0;31m# TODO: make a function factory to have multiple call-backs\u001b[0m\u001b[0;34m\u001b[0m\u001b[0;34m\u001b[0m\u001b[0m\n\u001b[1;32m    229\u001b[0m \u001b[0;34m\u001b[0m\u001b[0m\n\u001b[0;32m--> 230\u001b[0;31m         mlefit = super().fit(start_params=start_params,\n\u001b[0m\u001b[1;32m    231\u001b[0m                              \u001b[0mmethod\u001b[0m\u001b[0;34m=\u001b[0m\u001b[0mmethod\u001b[0m\u001b[0;34m,\u001b[0m\u001b[0;34m\u001b[0m\u001b[0;34m\u001b[0m\u001b[0m\n\u001b[1;32m    232\u001b[0m                              \u001b[0mmaxiter\u001b[0m\u001b[0;34m=\u001b[0m\u001b[0mmaxiter\u001b[0m\u001b[0;34m,\u001b[0m\u001b[0;34m\u001b[0m\u001b[0;34m\u001b[0m\u001b[0m\n",
      "\u001b[0;32m/Library/Frameworks/Python.framework/Versions/3.9/lib/python3.9/site-packages/statsmodels/base/model.py\u001b[0m in \u001b[0;36mfit\u001b[0;34m(self, start_params, method, maxiter, full_output, disp, fargs, callback, retall, skip_hessian, **kwargs)\u001b[0m\n\u001b[1;32m    577\u001b[0m             \u001b[0mHinv\u001b[0m \u001b[0;34m=\u001b[0m \u001b[0mcov_params_func\u001b[0m\u001b[0;34m(\u001b[0m\u001b[0mself\u001b[0m\u001b[0;34m,\u001b[0m \u001b[0mxopt\u001b[0m\u001b[0;34m,\u001b[0m \u001b[0mretvals\u001b[0m\u001b[0;34m)\u001b[0m\u001b[0;34m\u001b[0m\u001b[0;34m\u001b[0m\u001b[0m\n\u001b[1;32m    578\u001b[0m         \u001b[0;32melif\u001b[0m \u001b[0mmethod\u001b[0m \u001b[0;34m==\u001b[0m \u001b[0;34m'newton'\u001b[0m \u001b[0;32mand\u001b[0m \u001b[0mfull_output\u001b[0m\u001b[0;34m:\u001b[0m\u001b[0;34m\u001b[0m\u001b[0;34m\u001b[0m\u001b[0m\n\u001b[0;32m--> 579\u001b[0;31m             \u001b[0mHinv\u001b[0m \u001b[0;34m=\u001b[0m \u001b[0mnp\u001b[0m\u001b[0;34m.\u001b[0m\u001b[0mlinalg\u001b[0m\u001b[0;34m.\u001b[0m\u001b[0minv\u001b[0m\u001b[0;34m(\u001b[0m\u001b[0;34m-\u001b[0m\u001b[0mretvals\u001b[0m\u001b[0;34m[\u001b[0m\u001b[0;34m'Hessian'\u001b[0m\u001b[0;34m]\u001b[0m\u001b[0;34m)\u001b[0m \u001b[0;34m/\u001b[0m \u001b[0mnobs\u001b[0m\u001b[0;34m\u001b[0m\u001b[0;34m\u001b[0m\u001b[0m\n\u001b[0m\u001b[1;32m    580\u001b[0m         \u001b[0;32melif\u001b[0m \u001b[0;32mnot\u001b[0m \u001b[0mskip_hessian\u001b[0m\u001b[0;34m:\u001b[0m\u001b[0;34m\u001b[0m\u001b[0;34m\u001b[0m\u001b[0m\n\u001b[1;32m    581\u001b[0m             \u001b[0mH\u001b[0m \u001b[0;34m=\u001b[0m \u001b[0;34m-\u001b[0m\u001b[0;36m1\u001b[0m \u001b[0;34m*\u001b[0m \u001b[0mself\u001b[0m\u001b[0;34m.\u001b[0m\u001b[0mhessian\u001b[0m\u001b[0;34m(\u001b[0m\u001b[0mxopt\u001b[0m\u001b[0;34m)\u001b[0m\u001b[0;34m\u001b[0m\u001b[0;34m\u001b[0m\u001b[0m\n",
      "\u001b[0;32m<__array_function__ internals>\u001b[0m in \u001b[0;36minv\u001b[0;34m(*args, **kwargs)\u001b[0m\n",
      "\u001b[0;32m/Library/Frameworks/Python.framework/Versions/3.9/lib/python3.9/site-packages/numpy/linalg/linalg.py\u001b[0m in \u001b[0;36minv\u001b[0;34m(a)\u001b[0m\n\u001b[1;32m    543\u001b[0m     \u001b[0msignature\u001b[0m \u001b[0;34m=\u001b[0m \u001b[0;34m'D->D'\u001b[0m \u001b[0;32mif\u001b[0m \u001b[0misComplexType\u001b[0m\u001b[0;34m(\u001b[0m\u001b[0mt\u001b[0m\u001b[0;34m)\u001b[0m \u001b[0;32melse\u001b[0m \u001b[0;34m'd->d'\u001b[0m\u001b[0;34m\u001b[0m\u001b[0;34m\u001b[0m\u001b[0m\n\u001b[1;32m    544\u001b[0m     \u001b[0mextobj\u001b[0m \u001b[0;34m=\u001b[0m \u001b[0mget_linalg_error_extobj\u001b[0m\u001b[0;34m(\u001b[0m\u001b[0m_raise_linalgerror_singular\u001b[0m\u001b[0;34m)\u001b[0m\u001b[0;34m\u001b[0m\u001b[0;34m\u001b[0m\u001b[0m\n\u001b[0;32m--> 545\u001b[0;31m     \u001b[0mainv\u001b[0m \u001b[0;34m=\u001b[0m \u001b[0m_umath_linalg\u001b[0m\u001b[0;34m.\u001b[0m\u001b[0minv\u001b[0m\u001b[0;34m(\u001b[0m\u001b[0ma\u001b[0m\u001b[0;34m,\u001b[0m \u001b[0msignature\u001b[0m\u001b[0;34m=\u001b[0m\u001b[0msignature\u001b[0m\u001b[0;34m,\u001b[0m \u001b[0mextobj\u001b[0m\u001b[0;34m=\u001b[0m\u001b[0mextobj\u001b[0m\u001b[0;34m)\u001b[0m\u001b[0;34m\u001b[0m\u001b[0;34m\u001b[0m\u001b[0m\n\u001b[0m\u001b[1;32m    546\u001b[0m     \u001b[0;32mreturn\u001b[0m \u001b[0mwrap\u001b[0m\u001b[0;34m(\u001b[0m\u001b[0mainv\u001b[0m\u001b[0;34m.\u001b[0m\u001b[0mastype\u001b[0m\u001b[0;34m(\u001b[0m\u001b[0mresult_t\u001b[0m\u001b[0;34m,\u001b[0m \u001b[0mcopy\u001b[0m\u001b[0;34m=\u001b[0m\u001b[0;32mFalse\u001b[0m\u001b[0;34m)\u001b[0m\u001b[0;34m)\u001b[0m\u001b[0;34m\u001b[0m\u001b[0;34m\u001b[0m\u001b[0m\n\u001b[1;32m    547\u001b[0m \u001b[0;34m\u001b[0m\u001b[0m\n",
      "\u001b[0;32m/Library/Frameworks/Python.framework/Versions/3.9/lib/python3.9/site-packages/numpy/linalg/linalg.py\u001b[0m in \u001b[0;36m_raise_linalgerror_singular\u001b[0;34m(err, flag)\u001b[0m\n\u001b[1;32m     86\u001b[0m \u001b[0;34m\u001b[0m\u001b[0m\n\u001b[1;32m     87\u001b[0m \u001b[0;32mdef\u001b[0m \u001b[0m_raise_linalgerror_singular\u001b[0m\u001b[0;34m(\u001b[0m\u001b[0merr\u001b[0m\u001b[0;34m,\u001b[0m \u001b[0mflag\u001b[0m\u001b[0;34m)\u001b[0m\u001b[0;34m:\u001b[0m\u001b[0;34m\u001b[0m\u001b[0;34m\u001b[0m\u001b[0m\n\u001b[0;32m---> 88\u001b[0;31m     \u001b[0;32mraise\u001b[0m \u001b[0mLinAlgError\u001b[0m\u001b[0;34m(\u001b[0m\u001b[0;34m\"Singular matrix\"\u001b[0m\u001b[0;34m)\u001b[0m\u001b[0;34m\u001b[0m\u001b[0;34m\u001b[0m\u001b[0m\n\u001b[0m\u001b[1;32m     89\u001b[0m \u001b[0;34m\u001b[0m\u001b[0m\n\u001b[1;32m     90\u001b[0m \u001b[0;32mdef\u001b[0m \u001b[0m_raise_linalgerror_nonposdef\u001b[0m\u001b[0;34m(\u001b[0m\u001b[0merr\u001b[0m\u001b[0;34m,\u001b[0m \u001b[0mflag\u001b[0m\u001b[0;34m)\u001b[0m\u001b[0;34m:\u001b[0m\u001b[0;34m\u001b[0m\u001b[0;34m\u001b[0m\u001b[0m\n",
      "\u001b[0;31mLinAlgError\u001b[0m: Singular matrix"
     ]
    }
   ],
   "source": [
    "## 후진 소거법\n",
    "variables =univar_feature #X_train.columns.tolist() ## 설명 변수 리스트\n",
    " \n",
    "y = y_train ## 반응 변수\n",
    "selected_variables = variables ## 초기에는 모든 변수가 선택된 상태\n",
    "sl_remove = 0.05\n",
    " \n",
    "sv_per_step = [] ## 각 스텝별로 선택된 변수들\n",
    "adjusted_r_squared = [] ## 각 스텝별 수정된 결정계수\n",
    "steps = [] ## 스텝\n",
    "step = 0\n",
    "while len(selected_variables) > 0:\n",
    "    X = sm.add_constant(X_train[selected_variables])\n",
    "    p_vals = sm.Logit(y,X).fit().pvalues[1:] ## 절편항의 p-value는 뺀다\n",
    "    max_pval = p_vals.max() ## 최대 p-value\n",
    "    if max_pval >= sl_remove: ## 최대 p-value값이 기준값보다 크거나 같으면 제외\n",
    "        remove_variable = p_vals.idxmax()\n",
    "        selected_variables.remove(remove_variable)\n",
    " \n",
    "        step += 1\n",
    "        steps.append(step)\n",
    "        adj_r_squared = sm.Logit(y,sm.add_constant(X_train[selected_variables])).fit().rsquared_adj\n",
    "        adjusted_r_squared.append(adj_r_squared)\n",
    "        sv_per_step.append(selected_variables.copy())\n",
    "    else:\n",
    "        break"
   ]
  },
  {
   "cell_type": "code",
   "execution_count": null,
   "metadata": {
    "id": "yOOZLnqsRpsW",
    "outputId": "fa6e3d86-40aa-4831-c4a4-1b42e3869579"
   },
   "outputs": [
    {
     "data": {
      "text/plain": [
       "'종업원1인당 인건비증가율'"
      ]
     },
     "execution_count": 284,
     "metadata": {},
     "output_type": "execute_result"
    }
   ],
   "source": [
    "univar_feature[1]"
   ]
  },
  {
   "cell_type": "code",
   "execution_count": null,
   "metadata": {
    "id": "sf_fdPAXRpsW",
    "outputId": "855d8422-d184-435c-895e-92bb232865bc"
   },
   "outputs": [
    {
     "ename": "LinAlgError",
     "evalue": "1-dimensional array given. Array must be at least two-dimensional",
     "output_type": "error",
     "traceback": [
      "\u001b[0;31m---------------------------------------------------------------------------\u001b[0m",
      "\u001b[0;31mLinAlgError\u001b[0m                               Traceback (most recent call last)",
      "\u001b[0;32m/var/folders/1v/ctxpzb994v98h43xyk972tmc0000gn/T/ipykernel_3868/3991392108.py\u001b[0m in \u001b[0;36m<module>\u001b[0;34m\u001b[0m\n\u001b[1;32m      1\u001b[0m \u001b[0;31m# for i in univar_feature:\u001b[0m\u001b[0;34m\u001b[0m\u001b[0;34m\u001b[0m\u001b[0;34m\u001b[0m\u001b[0m\n\u001b[0;32m----> 2\u001b[0;31m \u001b[0mnp\u001b[0m\u001b[0;34m.\u001b[0m\u001b[0mlinalg\u001b[0m\u001b[0;34m.\u001b[0m\u001b[0msolve\u001b[0m\u001b[0;34m(\u001b[0m\u001b[0my_train\u001b[0m\u001b[0;34m,\u001b[0m \u001b[0mX_train\u001b[0m\u001b[0;34m[\u001b[0m\u001b[0munivar_feature\u001b[0m\u001b[0;34m[\u001b[0m\u001b[0;36m1\u001b[0m\u001b[0;34m]\u001b[0m\u001b[0;34m]\u001b[0m\u001b[0;34m)\u001b[0m\u001b[0;34m\u001b[0m\u001b[0;34m\u001b[0m\u001b[0m\n\u001b[0m",
      "\u001b[0;32m<__array_function__ internals>\u001b[0m in \u001b[0;36msolve\u001b[0;34m(*args, **kwargs)\u001b[0m\n",
      "\u001b[0;32m/Library/Frameworks/Python.framework/Versions/3.9/lib/python3.9/site-packages/numpy/linalg/linalg.py\u001b[0m in \u001b[0;36msolve\u001b[0;34m(a, b)\u001b[0m\n\u001b[1;32m    377\u001b[0m     \"\"\"\n\u001b[1;32m    378\u001b[0m     \u001b[0ma\u001b[0m\u001b[0;34m,\u001b[0m \u001b[0m_\u001b[0m \u001b[0;34m=\u001b[0m \u001b[0m_makearray\u001b[0m\u001b[0;34m(\u001b[0m\u001b[0ma\u001b[0m\u001b[0;34m)\u001b[0m\u001b[0;34m\u001b[0m\u001b[0;34m\u001b[0m\u001b[0m\n\u001b[0;32m--> 379\u001b[0;31m     \u001b[0m_assert_stacked_2d\u001b[0m\u001b[0;34m(\u001b[0m\u001b[0ma\u001b[0m\u001b[0;34m)\u001b[0m\u001b[0;34m\u001b[0m\u001b[0;34m\u001b[0m\u001b[0m\n\u001b[0m\u001b[1;32m    380\u001b[0m     \u001b[0m_assert_stacked_square\u001b[0m\u001b[0;34m(\u001b[0m\u001b[0ma\u001b[0m\u001b[0;34m)\u001b[0m\u001b[0;34m\u001b[0m\u001b[0;34m\u001b[0m\u001b[0m\n\u001b[1;32m    381\u001b[0m     \u001b[0mb\u001b[0m\u001b[0;34m,\u001b[0m \u001b[0mwrap\u001b[0m \u001b[0;34m=\u001b[0m \u001b[0m_makearray\u001b[0m\u001b[0;34m(\u001b[0m\u001b[0mb\u001b[0m\u001b[0;34m)\u001b[0m\u001b[0;34m\u001b[0m\u001b[0;34m\u001b[0m\u001b[0m\n",
      "\u001b[0;32m/Library/Frameworks/Python.framework/Versions/3.9/lib/python3.9/site-packages/numpy/linalg/linalg.py\u001b[0m in \u001b[0;36m_assert_stacked_2d\u001b[0;34m(*arrays)\u001b[0m\n\u001b[1;32m    194\u001b[0m     \u001b[0;32mfor\u001b[0m \u001b[0ma\u001b[0m \u001b[0;32min\u001b[0m \u001b[0marrays\u001b[0m\u001b[0;34m:\u001b[0m\u001b[0;34m\u001b[0m\u001b[0;34m\u001b[0m\u001b[0m\n\u001b[1;32m    195\u001b[0m         \u001b[0;32mif\u001b[0m \u001b[0ma\u001b[0m\u001b[0;34m.\u001b[0m\u001b[0mndim\u001b[0m \u001b[0;34m<\u001b[0m \u001b[0;36m2\u001b[0m\u001b[0;34m:\u001b[0m\u001b[0;34m\u001b[0m\u001b[0;34m\u001b[0m\u001b[0m\n\u001b[0;32m--> 196\u001b[0;31m             raise LinAlgError('%d-dimensional array given. Array must be '\n\u001b[0m\u001b[1;32m    197\u001b[0m                     'at least two-dimensional' % a.ndim)\n\u001b[1;32m    198\u001b[0m \u001b[0;34m\u001b[0m\u001b[0m\n",
      "\u001b[0;31mLinAlgError\u001b[0m: 1-dimensional array given. Array must be at least two-dimensional"
     ]
    }
   ],
   "source": [
    "# for i in univar_feature:\n",
    "np.linalg.solve(y_train, X_train[univar_feature[1]])"
   ]
  },
  {
   "cell_type": "code",
   "execution_count": null,
   "metadata": {
    "id": "QQzNDY7uRpsX"
   },
   "outputs": [],
   "source": [
    "\n",
    "def backward_regression(X, y,\n",
    "                           initial_list=[], \n",
    "                           threshold_in=0.01, \n",
    "                           threshold_out = 0.05, \n",
    "                           verbose=True,\n",
    "                           feature_list = univar_feature\n",
    "                           ):\n",
    "    \n",
    "    \n",
    "    # sv_per_step = [] ## 각 스텝별로 선택된 변수들\n",
    "    # prsquared_r_squared = [] ## 각 스텝별 수정된 결정계수\n",
    "    # steps = [] ## 스텝\n",
    "    # step = 0\n",
    "    included = univar_feature\n",
    "    while True:\n",
    "        changed=False\n",
    "        model = sm.OLS(y, sm.add_constant(pd.DataFrame(X[univar_feature]))).fit(disp=0, maxiter=100)\n",
    "        # use all coefs except intercept\n",
    "        pvalues = model.pvalues.iloc[1:]\n",
    "        worst_pval = pvalues.max() # null if pvalues is empty\n",
    "        if worst_pval > threshold_out:\n",
    "            changed=True\n",
    "            worst_feature = pvalues.idxmax()\n",
    "            included.remove(worst_feature)\n",
    "        \n",
    "        # step += 1\n",
    "        # steps.append(step)        \n",
    "        # prsq_r_squared = sm.Logit(y, sm.add_constant(pd.DataFrame(X[univar_feature]))).fit(disp=0).prsquared\n",
    "        # prsquared_r_squared.append(prsq_r_squared)\n",
    "        # sv_per_step.append(forward_valriables.copy())\n",
    "        \n",
    "        if not changed:\n",
    "            break\n",
    "      \n",
    "    return included#,step,steps,prsquared_r_squared,sv_per_step\n",
    "\n",
    "backward_valriables = backward_regression(X_train, y_train)"
   ]
  },
  {
   "cell_type": "code",
   "execution_count": null,
   "metadata": {
    "id": "bC2nyQqRRpsY",
    "outputId": "22de986e-40ee-4430-ada6-c65804a123ab"
   },
   "outputs": [
    {
     "data": {
      "image/png": "[encoded data removed]",
      "text/plain": [
       "<Figure size 720x720 with 1 Axes>"
      ]
     },
     "metadata": {},
     "output_type": "display_data"
    }
   ],
   "source": [
    "fig = plt.figure(figsize=(10,10))\n",
    "fig.set_facecolor('white')\n",
    " \n",
    "font_size = 15\n",
    "plt.xticks(steps,[f'step {s}\\n'+'\\n'.join(sv_per_step[i]) for i,s in enumerate(steps)], fontsize=1)\n",
    "plt.plot(steps,prsquared_r_squared, marker='o')\n",
    "    \n",
    "plt.ylabel('prsquared_r_squared',fontsize=font_size)\n",
    "plt.grid(True)\n",
    "plt.show()"
   ]
  },
  {
   "cell_type": "code",
   "execution_count": null,
   "metadata": {
    "id": "oaCiFYq9RpsZ",
    "outputId": "5d4b9e8f-e651-44b7-9f90-fff7fca9a319"
   },
   "outputs": [
    {
     "data": {
      "text/plain": [
       "36"
      ]
     },
     "execution_count": 275,
     "metadata": {},
     "output_type": "execute_result"
    }
   ],
   "source": [
    "len(backward_valriables)\n"
   ]
  },
  {
   "cell_type": "code",
   "execution_count": null,
   "metadata": {
    "id": "ELIZrQ3tRpsZ",
    "outputId": "010557da-70ce-4ae5-cf83-01a9f870f6d2"
   },
   "outputs": [
    {
     "data": {
      "text/plain": [
       "10"
      ]
     },
     "execution_count": 147,
     "metadata": {},
     "output_type": "execute_result"
    }
   ],
   "source": [
    "joint_var = list(set(forward_valriables) & set(backward_valriables))\n",
    "len(joint_var)"
   ]
  },
  {
   "cell_type": "code",
   "execution_count": null,
   "metadata": {
    "id": "hdWoiWdORpsa",
    "outputId": "73db9b46-559a-45c9-8d77-a3f99a2a0fc5"
   },
   "outputs": [
    {
     "data": {
      "text/plain": [
       "21"
      ]
     },
     "execution_count": 148,
     "metadata": {},
     "output_type": "execute_result"
    }
   ],
   "source": [
    "union_var = list(set(forward_valriables) | set(backward_valriables))\n",
    "len(union_var)"
   ]
  },
  {
   "cell_type": "code",
   "execution_count": null,
   "metadata": {
    "id": "Xt_t4rFGRpsb"
   },
   "outputs": [],
   "source": [
    "## 전진 단계별 선택법\n",
    "def stepwise(df = X_train, y = y_train, sl_enter=.05, sl_remove=.05, variables = X_train.columns):\n",
    "    \"\"\"[summary]\n",
    "    Args:\n",
    "        df ([DataFrame], input_data): [X_train으로 설정한 df를 넣으면 됩니다.]. Defaults to X_train.\n",
    "        y ([DataFrame], input_target): [target으로 설정한 y_train을 넣으면 됩니다]. Defaults to y_train.\n",
    "        sl_enter (float, optional): [전진선택법에 적용할 p-value를 입력합니다.]. Defaults to .05.\n",
    "        sl_remove (float, optional): [후진제거법에 적용할 p-value를 입력합니다.]. Defaults to .05.\n",
    "        variables ([list], optional): [feature list입니다.]. Defaults to X_train.columns.\n",
    "        \n",
    "        처음에는 전진선택법과 같습니다. 전체 feature를 하나씩 넣고 p-value가 가장 작은 것을 뽑고 sl_enter과 비교하며\n",
    "        selected_variables에 append시킬지 결정합니다. (p값이 설정한 sl_enter보다 유의하지 않으면 알고리즘 종료)\n",
    "        그다음에는 selected_variables에서 model을 돌리고 feature 중 가장 p값이 높은것을 뽑고 sl_remov와 비교하여\n",
    "        p값이 높으면 제거합니다.\n",
    "    \"\"\"\n",
    "    selected_variables = [] ## 선택된 변수들\n",
    "    sv_per_step = [] ## 각 스텝별로 선택된 변수들\n",
    "    adjusted_r_squared = [] ## 각 스텝별 수정된 결정계수\n",
    "    steps = [] ## 스텝\n",
    "    step = 0\n",
    "    while len(variables) > 0:\n",
    "        remainder = list(set(variables) - set(selected_variables))\n",
    "        pval = pd.Series(index=remainder) ## 변수의 p-value\n",
    "        ## 기존에 포함된 변수와 새로운 변수 하나씩 돌아가면서 \n",
    "        ## 선형 모형을 적합한다.\n",
    "        for col in remainder: \n",
    "            X = df[selected_variables+[col]]\n",
    "            X = sm.add_constant(X)\n",
    "            model = sm.Logit(y,X).fit(disp=0)\n",
    "            pval[col] = model.pvalues[col]\n",
    "    \n",
    "        min_pval = pval.min()\n",
    "        if min_pval < sl_enter: ## 최소 p-value 값이 기준 값보다 작으면 포함\n",
    "            selected_variables.append(pval.idxmin())\n",
    "            ## 선택된 변수들에대해서\n",
    "            ## 어떤 변수를 제거할지 고른다.\n",
    "            while len(selected_variables) > 0:\n",
    "                selected_X = df[selected_variables]\n",
    "                selected_X = sm.add_constant(selected_X)\n",
    "                selected_pval = sm.Logit(y,selected_X).fit(disp=0).pvalues[1:] ## 절편항의 p-value는 뺀다\n",
    "                max_pval = selected_pval.max()\n",
    "                if max_pval >= sl_remove: ## 최대 p-value값이 기준값보다 크거나 같으면 제외\n",
    "                    remove_variable = selected_pval.idxmax()\n",
    "                    selected_variables.remove(remove_variable)\n",
    "                else:\n",
    "                    break\n",
    "            \n",
    "            step += 1\n",
    "            steps.append(step)\n",
    "            # adj_r_squared = sm.Logit(y,sm.add_constant(df[selected_variables])).fit().rsquared_adj\n",
    "            # adjusted_r_squared.append(adj_r_squared)\n",
    "            sv_per_step.append(selected_variables.copy())\n",
    "        else:\n",
    "            break\n",
    "        \n",
    "    return selected_variables"
   ]
  },
  {
   "cell_type": "code",
   "execution_count": null,
   "metadata": {
    "id": "et7j7QZXRpsc"
   },
   "outputs": [],
   "source": [
    "stepwise_feature = stepwise(df=X_train, y=y_train, variables=univar_feature)\n",
    "\n"
   ]
  },
  {
   "cell_type": "code",
   "execution_count": null,
   "metadata": {
    "id": "VvSJzaj0Rpsc",
    "outputId": "14b8e2a6-590d-44f4-d8f7-4b80a90e6da4"
   },
   "outputs": [
    {
     "data": {
      "text/plain": [
       "10"
      ]
     },
     "execution_count": 288,
     "metadata": {},
     "output_type": "execute_result"
    }
   ],
   "source": [
    "len(stepwise_feature)"
   ]
  },
  {
   "cell_type": "code",
   "execution_count": null,
   "metadata": {
    "id": "AVOTHAT0Rpsd",
    "outputId": "572bf04e-f9a2-4879-a38b-53e669dd29e5"
   },
   "outputs": [
    {
     "data": {
      "text/plain": [
       "['총자본사업이익률',\n",
       " '자기자본구성비율',\n",
       " '금융비용 대 총비용비율',\n",
       " '경영자본순이익률',\n",
       " '유동자산회전률',\n",
       " '단기차입금 대 총차입금비율',\n",
       " '재고자산 대 유동자산비율',\n",
       " '타인자본구성비율',\n",
       " 'CASH FLOW 대 총자본비율',\n",
       " '자기자본증가율']"
      ]
     },
     "execution_count": 289,
     "metadata": {},
     "output_type": "execute_result"
    }
   ],
   "source": [
    "stepwise_feature"
   ]
  },
  {
   "cell_type": "code",
   "execution_count": null,
   "metadata": {
    "id": "mQuWHFv8Rpsd"
   },
   "outputs": [],
   "source": [
    "altman = ['순운전자본비율', '유보액대비율', 'CASH FLOW 대 총자본비율', '총자본회전률']"
   ]
  },
  {
   "cell_type": "code",
   "execution_count": null,
   "metadata": {
    "id": "bTUrCVjzRpse",
    "outputId": "232adb20-e3d8-4fc3-f7fe-2a87b92c5f06"
   },
   "outputs": [
    {
     "name": "stderr",
     "output_type": "stream",
     "text": [
      "/var/folders/1v/ctxpzb994v98h43xyk972tmc0000gn/T/ipykernel_1709/2653359287.py:6: SettingWithCopyWarning: \n",
      "A value is trying to be set on a copy of a slice from a DataFrame\n",
      "\n",
      "See the caveats in the documentation: https://pandas.pydata.org/pandas-docs/stable/user_guide/indexing.html#returning-a-view-versus-a-copy\n",
      "  df['sector'][:14] = '성장성'\n"
     ]
    }
   ],
   "source": [
    "df = pd.read_csv('dataset/v7_final.csv', encoding = 'euc-kr')\n",
    "feature = df.columns[8:]\n",
    "df = pd.DataFrame(feature)\n",
    "df.rename(columns={0:'feature'}, inplace=True)\n",
    "df['sector'] = 0\n",
    "df['sector'][:14] = '성장성'\n",
    "df['sector'][14:64] = '수익성'\n",
    "df['sector'][64:103] = '안정성'\n",
    "df['sector'][103:124] = '활동성'\n",
    "df['sector'][124:140] = '생산성'\n",
    "df['sector'][140:152] = '부가가치'\n",
    "df['sector'][152:160] = '투자지표'\n",
    "df['sector'][160:] = 'EBITDA지표'"
   ]
  },
  {
   "cell_type": "code",
   "execution_count": null,
   "metadata": {
    "id": "doL9-vdFRpse"
   },
   "outputs": [],
   "source": [
    "# 각 재무비율별 특성 정리 \n",
    "def columns_classification(ex_list):\n",
    "    \"\"\"[summary]\n",
    "\n",
    "    Args:\n",
    "        ex_list ([list]): [feature_selection 진행 후 뽑은 feature list를 입력합니다]\n",
    "    \"\"\"\n",
    "    result = pd.DataFrame(columns=['feature', 'sector'])\n",
    "    for i in ex_list:\n",
    "        tmp = df.loc[df['feature']==i]\n",
    "        result = pd.concat([result, tmp])\n",
    "    result.sort_values(by='sector')\n",
    "    # 각 재무비율별 분포 확인 (radar-chart 이용)\n",
    "    feat_ex_list = ['성장성', '수익성', '안정성', '활동성', '생산성', '부가가치', '투자지표','EBITDA지표']\n",
    "    tmp_count = pd.DataFrame({\n",
    "        'feature': feat_ex_list\n",
    "        })\n",
    "    result_count = result.groupby(result['sector']).count()\n",
    "    chart = pd.DataFrame({\n",
    "        'feature':result_count.index.values,\n",
    "        'count':result_count['feature'].values\n",
    "    })\n",
    "    radar = tmp_count.merge(chart, on='feature', how='outer').fillna(0).transpose()\n",
    "    radar.rename(columns=radar.iloc[0], inplace = True)\n",
    "    radar.drop('feature', axis = 0, inplace=True)\n",
    "    return radar, ex_list"
   ]
  },
  {
   "cell_type": "code",
   "execution_count": null,
   "metadata": {
    "id": "GI933R49Rpse",
    "outputId": "db8b8ade-83b6-41d1-9723-ef86df65782e"
   },
   "outputs": [
    {
     "ename": "NameError",
     "evalue": "name 'stepwise_feature' is not defined",
     "output_type": "error",
     "traceback": [
      "\u001b[0;31m---------------------------------------------------------------------------\u001b[0m",
      "\u001b[0;31mNameError\u001b[0m                                 Traceback (most recent call last)",
      "\u001b[0;32m/var/folders/1v/ctxpzb994v98h43xyk972tmc0000gn/T/ipykernel_1709/4200468465.py\u001b[0m in \u001b[0;36m<module>\u001b[0;34m\u001b[0m\n\u001b[0;32m----> 1\u001b[0;31m \u001b[0msf_count\u001b[0m\u001b[0;34m,\u001b[0m \u001b[0msf_list\u001b[0m \u001b[0;34m=\u001b[0m \u001b[0mcolumns_classification\u001b[0m\u001b[0;34m(\u001b[0m\u001b[0mstepwise_feature\u001b[0m\u001b[0;34m)\u001b[0m\u001b[0;34m\u001b[0m\u001b[0;34m\u001b[0m\u001b[0m\n\u001b[0m\u001b[1;32m      2\u001b[0m \u001b[0msf_count\u001b[0m\u001b[0;34m\u001b[0m\u001b[0;34m\u001b[0m\u001b[0m\n",
      "\u001b[0;31mNameError\u001b[0m: name 'stepwise_feature' is not defined"
     ]
    }
   ],
   "source": [
    "sf_count, sf_list = columns_classification(stepwise_feature)\n",
    "sf_count"
   ]
  },
  {
   "cell_type": "code",
   "execution_count": null,
   "metadata": {
    "id": "N7ISu95QRpsf",
    "outputId": "0715cdef-79eb-4c75-bf94-0fe1ca68ed4d"
   },
   "outputs": [
    {
     "data": {
      "text/plain": [
       "['총자본사업이익률',\n",
       " '자기자본구성비율',\n",
       " '금융비용 대 총비용비율',\n",
       " '경영자본순이익률',\n",
       " '유동자산회전률',\n",
       " '단기차입금 대 총차입금비율',\n",
       " '재고자산 대 유동자산비율',\n",
       " '타인자본구성비율',\n",
       " 'CASH FLOW 대 총자본비율',\n",
       " '자기자본증가율']"
      ]
     },
     "execution_count": 343,
     "metadata": {},
     "output_type": "execute_result"
    }
   ],
   "source": [
    "sf_list"
   ]
  },
  {
   "cell_type": "code",
   "execution_count": null,
   "metadata": {
    "id": "QAqOrdbjRpsf",
    "outputId": "93cc43ab-2527-4ac1-e8c8-5f6d0aa6aadc"
   },
   "outputs": [
    {
     "data": {
      "text/html": [
       "<div>\n",
       "<style scoped>\n",
       "    .dataframe tbody tr th:only-of-type {\n",
       "        vertical-align: middle;\n",
       "    }\n",
       "\n",
       "    .dataframe tbody tr th {\n",
       "        vertical-align: top;\n",
       "    }\n",
       "\n",
       "    .dataframe thead th {\n",
       "        text-align: right;\n",
       "    }\n",
       "</style>\n",
       "<table border=\"1\" class=\"dataframe\">\n",
       "  <thead>\n",
       "    <tr style=\"text-align: right;\">\n",
       "      <th></th>\n",
       "      <th>성장성</th>\n",
       "      <th>수익성</th>\n",
       "      <th>안정성</th>\n",
       "      <th>활동성</th>\n",
       "      <th>생산성</th>\n",
       "      <th>부가가치</th>\n",
       "      <th>투자지표</th>\n",
       "      <th>EBITDA지표</th>\n",
       "    </tr>\n",
       "  </thead>\n",
       "  <tbody>\n",
       "    <tr>\n",
       "      <th>count</th>\n",
       "      <td>1.0</td>\n",
       "      <td>5.0</td>\n",
       "      <td>5.0</td>\n",
       "      <td>1.0</td>\n",
       "      <td>1.0</td>\n",
       "      <td>0.0</td>\n",
       "      <td>0.0</td>\n",
       "      <td>0.0</td>\n",
       "    </tr>\n",
       "  </tbody>\n",
       "</table>\n",
       "</div>"
      ],
      "text/plain": [
       "       성장성  수익성  안정성  활동성  생산성 부가가치 투자지표 EBITDA지표\n",
       "count  1.0  5.0  5.0  1.0  1.0  0.0  0.0      0.0"
      ]
     },
     "execution_count": 337,
     "metadata": {},
     "output_type": "execute_result"
    }
   ],
   "source": [
    "columns_classification(forward_valriables)"
   ]
  },
  {
   "cell_type": "code",
   "execution_count": null,
   "metadata": {
    "id": "yYTMNw-MRpsf",
    "outputId": "7d8ca36e-09d9-4d29-b2d1-83179a8a3119"
   },
   "outputs": [
    {
     "data": {
      "text/plain": [
       "['총자본사업이익률',\n",
       " '자기자본구성비율',\n",
       " '자본금회전률',\n",
       " 'CASH FLOW 대 부채비율',\n",
       " '단기차입금 대 총차입금비율',\n",
       " 'CPS(Cash flow Per Share)(원)',\n",
       " 'BPS(Book-value Per Share)(원)',\n",
       " '재고자산 대 유동자산비율',\n",
       " '이자부담률',\n",
       " '경영자본순이익률',\n",
       " '순운전자본비율',\n",
       " '자기자본증가율',\n",
       " '종업원1인당 순이익(백만원)']"
      ]
     },
     "execution_count": 344,
     "metadata": {},
     "output_type": "execute_result"
    }
   ],
   "source": [
    "forward_valriables"
   ]
  },
  {
   "cell_type": "markdown",
   "metadata": {
    "id": "_q6n70l3Rpsg"
   },
   "source": [
    "Lasso를 적용한 feature_selection\n",
    "- 투입 변수 : univar_feature (단변량 로짓으로 추출한 것)"
   ]
  },
  {
   "cell_type": "code",
   "execution_count": null,
   "metadata": {
    "id": "t0q2odmRRpsg",
    "outputId": "8e8abe26-550b-49a2-9c7d-31738d10e11c"
   },
   "outputs": [
    {
     "name": "stdout",
     "output_type": "stream",
     "text": [
      "사용한 인자의 수 : 36\n"
     ]
    }
   ],
   "source": [
    "from sklearn.linear_model import Lasso\n",
    " \n",
    "lasso_low = Lasso(alpha=0.03, max_iter=100000).fit(X_train[sig_val], y)\n",
    "print(\"사용한 인자의 수 : {}\".format(np.sum(lasso_low.coef_ != 0)))"
   ]
  },
  {
   "cell_type": "code",
   "execution_count": null,
   "metadata": {
    "id": "3r37Rl9SRpsg",
    "outputId": "4814b801-0d00-4dc6-be01-23331429bdf3"
   },
   "outputs": [
    {
     "data": {
      "text/plain": [
       "Index(['자기자본증가율', '종업원1인당 인건비증가율', '총자본순이익률', '자기자본영업이익률', '자기자본순이익률',\n",
       "       '경영자본순이익률', '영업외손익률', '금융비용부담률', '수지비율', '사내유보 대 자기자본비율', '적립금비율(재정비율)',\n",
       "       '1주당매출액(원)', 'EPS(Earning Per Share)(원)', 'CPS(Cash flow Per Share)(원)',\n",
       "       'BPS(Book-value Per Share)(원)', '1주당영업이익(원)', '비유동비율', '비유동장기적합률',\n",
       "       '부채비율', '비유동부채비율', '순운전자본비율', '차입금비율', '이자보상배율(이자비용)', '이자보상배율(순금융비용)',\n",
       "       '유보액대비율', 'CASH FLOW 대 부채비율', 'CASH FLOW 대 총자본비율', '자본금회전률',\n",
       "       '종업원1인당 매출액(백만원)', '종업원1인당 순이익(백만원)', '종업원1인당 인건비(백만원)',\n",
       "       'EBITDA/매출액(%)', 'EBITDA/평균발행주식수(백만원)', '매출액순이익률', '재고자산 대 유동자산비율',\n",
       "       '단기차입금 대 총차입금비율'],\n",
       "      dtype='object')"
      ]
     },
     "execution_count": 167,
     "metadata": {},
     "output_type": "execute_result"
    }
   ],
   "source": [
    "X_train[sig_val].iloc[:,lasso_low.coef_!=0].columns\n"
   ]
  },
  {
   "cell_type": "code",
   "execution_count": null,
   "metadata": {
    "id": "jbHOCJM4Rpsg",
    "outputId": "fdec1aa2-5a31-49f8-a37b-646ebbbfb953"
   },
   "outputs": [
    {
     "data": {
      "text/plain": [
       "['총자본사업이익률',\n",
       " '총자본영업이익률',\n",
       " '경영자본영업이익률',\n",
       " '총자본순이익률',\n",
       " '기업순이익률',\n",
       " '경영자본순이익률',\n",
       " '유보액대비율',\n",
       " '수지비율',\n",
       " '자기자본구성비율',\n",
       " 'CASH FLOW 대 총자본비율',\n",
       " '이자부담률',\n",
       " '총자본투자효율.1',\n",
       " '총자본투자효율',\n",
       " '자기자본순이익률',\n",
       " '차입금의존도',\n",
       " '자기자본영업이익률',\n",
       " '자기자본배율',\n",
       " '유보액 대 납입자본배율',\n",
       " '유보율',\n",
       " '순운전자본회전률',\n",
       " '타인자본구성비율',\n",
       " '타인자본회전률',\n",
       " '금융비용 대 총비용비율',\n",
       " '순운전자본비율',\n",
       " 'CASH FLOW 대 부채비율',\n",
       " '종업원1인당 순이익(백만원)',\n",
       " '이자보상배율(순금융비용)',\n",
       " '단기차입금 대 총차입금비율',\n",
       " '종업원1인당 부가가치(백만원)',\n",
       " '종업원1인당 부가가치(백만원).1',\n",
       " '부채비율',\n",
       " '비유동비율',\n",
       " '유동자산회전률',\n",
       " '적립금비율(재정비율)',\n",
       " 'BPS(Book-value Per Share)(원)',\n",
       " '당좌자산회전률',\n",
       " '사내유보 대 자기자본비율',\n",
       " '총자본회전률',\n",
       " '차입금비율',\n",
       " '비유동장기적합률',\n",
       " '유동부채비율',\n",
       " 'CPS(Cash flow Per Share)(원)',\n",
       " '1주당매출액(원)',\n",
       " '경영자본회전률',\n",
       " '매출원가 대 매출액비율',\n",
       " '매출액총이익률',\n",
       " 'EBITDA/평균발행주식수(백만원)',\n",
       " '비유동부채비율',\n",
       " 'EPS(Earning Per Share)(원)',\n",
       " '재고자산 대 유동자산비율',\n",
       " '종업원1인당 매출액(백만원)',\n",
       " '1주당영업이익(원)',\n",
       " '외환이익 대 매출액비율',\n",
       " '종업원1인당 인건비증가율',\n",
       " '자기자본증가율',\n",
       " '종업원1인당 인건비(백만원)',\n",
       " '사내유보율',\n",
       " 'PBR(Price book-value ratio)(최고)',\n",
       " '감가상각률']"
      ]
     },
     "execution_count": 71,
     "metadata": {},
     "output_type": "execute_result"
    }
   ],
   "source": [
    "univar_feature"
   ]
  },
  {
   "cell_type": "code",
   "execution_count": null,
   "metadata": {
    "id": "0Q_GUZN4Rpsh"
   },
   "outputs": [],
   "source": [
    "# from sklearn.linear_model import Ridge\n",
    "\n",
    "# ridge = Ridge().fit(X_train, y_train) #alpha매개변수의 기본 값은 1.0\n",
    "# print('alpha가 기본 값, 1.0일 때')\n",
    "# print(\"training set score : %.2f\" %(ridge.score(X_train, y_train)))\n",
    "# print(\"test set score : %.2f\" %(ridge.score(X_test, y_test)))\n",
    "# ridge2 = Ridge(alpha=10).fit(X_train, y_train) #10\n",
    "# print('\\nalpha가 10일 때')\n",
    "# print(\"training set score : %.2f\" %(ridge2.score(X_train, y_train)))\n",
    "# print(\"test set score : %.2f\" %(ridge2.score(X_test, y_test)))\n",
    "# ridge3 = Ridge(alpha=0.1).fit(X_train, y_train) #0.1\n",
    "# print('\\nalpha가 0.1일 때')\n",
    "# print(\"training set score : %.2f\" %(ridge3.score(X_train, y_train)))\n",
    "# print(\"test set score : %.2f\" %(ridge3.score(X_test, y_test)))"
   ]
  },
  {
   "cell_type": "code",
   "execution_count": null,
   "metadata": {
    "id": "UjHSGRBcRpsh"
   },
   "outputs": [],
   "source": [
    "# lasso = Lasso().fit(X_train, y_train)\n",
    "# print(\"훈련 세트 점수 : %2f\" %lasso.score(X_train, y_train))\n",
    "# print(\"테스트 세트 점수 : %2f\" %lasso.score(X_test, y_test))\n",
    "# print(\"사용한 특성의 개수 : %d\\n\" %np.sum(lasso.coef_ !=0))\n",
    "\n",
    "# #만약 max_iter가 반복횟수보다 작으면 경고 메시지가 출력됨\n",
    "# lasso01 = Lasso(alpha = 0.1, max_iter=100000).fit(X_train, y_train)\n",
    "# print(\"001훈련 세트 점수 : %2f\" %lasso01.score(X_train, y_train))\n",
    "# print(\"001테스트 세트 점수 : %2f\" %lasso01.score(X_test, y_test))\n",
    "# print(\"모델이 수행한 반복 횟수 : %d\" %lasso01.n_iter_)\n",
    "# print(\"사용한 특성의 개수 : %d\\n\" %np.sum(lasso01.coef_ !=0))\n",
    "\n",
    "# lasso0001 = Lasso(alpha = 0.001, max_iter=100000).fit(X_train, y_train)\n",
    "# print(\"0001훈련 세트 점수 : %2f\" %lasso0001.score(X_train, y_train))\n",
    "# print(\"0001테스트 세트 점수 : %2f\" %lasso0001.score(X_test, y_test))\n",
    "# print(\"모델이 수행한 반복 횟수 : %d\" %lasso0001.n_iter_)\n",
    "# print(\"사용한 특성의 개수 : %d\\n\" %np.sum(lasso0001.coef_ !=0))\n",
    "\n",
    "# lasso0000001 = Lasso(alpha = 0.00001, max_iter=10000000).fit(X_train, y_train)\n",
    "# print(\"00001훈련 세트 점수 : %2f\" %lasso0000001.score(X_train, y_train))\n",
    "# print(\"00001테스트 세트 점수 : %2f\" %lasso0000001.score(X_test, y_test))\n",
    "# print(\"모델이 수행한 반복 횟수 : %d\" %lasso0000001.n_iter_)\n",
    "# print(\"사용한 특성의 개수 : %d\\n\" %np.sum(lasso0000001.coef_ !=0))"
   ]
  },
  {
   "cell_type": "code",
   "execution_count": null,
   "metadata": {
    "id": "3HaxTlO_Rpsi",
    "outputId": "54f841dc-f800-41fe-dd83-dc6d99d8046e"
   },
   "outputs": [
    {
     "name": "stdout",
     "output_type": "stream",
     "text": [
      "Collecting imblearn\n",
      "  Using cached imblearn-0.0-py2.py3-none-any.whl (1.9 kB)\n",
      "Collecting imbalanced-learn\n",
      "  Using cached imbalanced_learn-0.8.1-py3-none-any.whl (189 kB)\n",
      "Requirement already satisfied: joblib>=0.11 in /Library/Frameworks/Python.framework/Versions/3.9/lib/python3.9/site-packages (from imbalanced-learn->imblearn) (1.1.0)\n",
      "Requirement already satisfied: numpy>=1.13.3 in /Library/Frameworks/Python.framework/Versions/3.9/lib/python3.9/site-packages (from imbalanced-learn->imblearn) (1.20.2)\n",
      "Requirement already satisfied: scikit-learn>=0.24 in /Library/Frameworks/Python.framework/Versions/3.9/lib/python3.9/site-packages (from imbalanced-learn->imblearn) (1.0.1)\n",
      "Requirement already satisfied: scipy>=0.19.1 in /Library/Frameworks/Python.framework/Versions/3.9/lib/python3.9/site-packages (from imbalanced-learn->imblearn) (1.7.1)\n",
      "Requirement already satisfied: threadpoolctl>=2.0.0 in /Library/Frameworks/Python.framework/Versions/3.9/lib/python3.9/site-packages (from scikit-learn>=0.24->imbalanced-learn->imblearn) (3.0.0)\n",
      "Installing collected packages: imbalanced-learn, imblearn\n",
      "Successfully installed imbalanced-learn-0.8.1 imblearn-0.0\n",
      "Note: you may need to restart the kernel to use updated packages.\n"
     ]
    }
   ],
   "source": [
    "pip install imblearn"
   ]
  },
  {
   "cell_type": "code",
   "execution_count": null,
   "metadata": {
    "id": "GPjS4FKmRpsj"
   },
   "outputs": [],
   "source": [
    "from sklearn.linear_model import LogisticRegression\n",
    "from sklearn.linear_model import SGDClassifier\n",
    "from sklearn.neighbors import KNeighborsClassifier\n",
    "from sklearn.tree import DecisionTreeClassifier\n",
    "from sklearn.svm import SVC\n",
    "from sklearn.ensemble import RandomForestClassifier\n",
    "import statsmodels.api as sm\n",
    "\n",
    "from sklearn.metrics import classification_report, confusion_matrix\n",
    "from sklearn.metrics import  accuracy_score, precision_score, recall_score, f1_score"
   ]
  },
  {
   "cell_type": "code",
   "execution_count": null,
   "metadata": {
    "id": "VvYa8ODoRpsk"
   },
   "outputs": [],
   "source": [
    "from imblearn.under_sampling import RandomUnderSampler\n",
    "rus = RandomUnderSampler()\n",
    "\n",
    "X_undersampled, y_undersampled = rus.fit_resample(X_train[stepwise_feature], y_train)\n",
    "\n",
    "X_test = X_test[stepwise_feature]"
   ]
  },
  {
   "cell_type": "code",
   "execution_count": null,
   "metadata": {
    "id": "ui8Kb8QZRpsk"
   },
   "outputs": [],
   "source": [
    "def show_result(y_test, prediction):\n",
    "    \n",
    "  # confusion_matrix 시각화\n",
    "  sns.heatmap(confusion_matrix(y_test, prediction), annot=True,fmt=\"d\", cmap='Reds')\n",
    "  plt.xlabel('Predict')\n",
    "  plt.ylabel('Actual')\n",
    "  plt.show()\n",
    "\n",
    "  #Confusion_matrix\n",
    "  print(confusion_matrix(y_test, prediction))\n",
    "\n",
    "  # 정확도\n",
    "  print(\"accuracy\", round( accuracy_score(y_test,prediction),3))\n",
    "\n",
    "  #정밀도\n",
    "  print(\"precision : \", round( precision_score(y_test, prediction),3) ) \n",
    "\n",
    "  #재현율\n",
    "  print(\"recall : \", round( recall_score(y_test, prediction), 3) )\n",
    "\n",
    "  #f1-score\n",
    "  print(\"f1_score : \", round( f1_score(y_test, prediction), 3) )"
   ]
  },
  {
   "cell_type": "code",
   "execution_count": null,
   "metadata": {
    "id": "mkfSaNfCRpsl"
   },
   "outputs": [],
   "source": [
    "def Excute_lg (X_train, y_train, X_test, y_test):\n",
    "    lr = LogisticRegression(random_state=0)\n",
    "  \n",
    "    lr.fit(X_train, y_train) \n",
    "    prediction = lr.predict(X_test)\n",
    "    prediction_prob =lr.predict_proba(X_test)\n",
    "  \n",
    "    show_result(y_test, prediction)"
   ]
  },
  {
   "cell_type": "code",
   "execution_count": null,
   "metadata": {
    "id": "z2Vd2sOzRpsl"
   },
   "outputs": [],
   "source": [
    "def Excute_sgd(X_train, y_train, X_test, y_test):\n",
    "    sgd = SGDClassifier(random_state=0)\n",
    "\n",
    "    sgd.fit(X_train, y_train)\n",
    "    prediction = sgd.predict(X_test)\n",
    "    \n",
    "    show_result(y_test, prediction)"
   ]
  },
  {
   "cell_type": "code",
   "execution_count": null,
   "metadata": {
    "id": "zr_BrW94Rpsl"
   },
   "outputs": [],
   "source": [
    "def Excute_knn(X_train, y_train, X_test, y_test):\n",
    "    knn = KNeighborsClassifier()\n",
    "\n",
    "    knn.fit(X_train, y_train)\n",
    "    prediction = knn.predict(X_test)\n",
    "\n",
    "    show_result(y_test, prediction)"
   ]
  },
  {
   "cell_type": "code",
   "execution_count": null,
   "metadata": {
    "id": "u8LNJ7eoRpsm"
   },
   "outputs": [],
   "source": [
    "def Excute_svm(X_train, y_train, X_test, y_test):\n",
    "    result_df = pd.DataFrame()\n",
    "    result_df['actual'] = y_test\n",
    "    \n",
    "    svc = SVC(random_state=0)\n",
    "    svc.fit(X_train, y_train)\n",
    "    prediction = svc.predict(X_test)\n",
    "\n",
    "    show_result(y_test, prediction)"
   ]
  },
  {
   "cell_type": "code",
   "execution_count": null,
   "metadata": {
    "id": "QhZbvY_wRpsm"
   },
   "outputs": [],
   "source": [
    "def Excute_dt(X_train, y_train, X_test, y_test):\n",
    "    dt = DecisionTreeClassifier(random_state=0)\n",
    "\n",
    "    dt.fit(X_train, y_train)\n",
    "    prediction = dt.predict(X_test)\n",
    "\n",
    "    show_result(y_test, prediction)"
   ]
  },
  {
   "cell_type": "code",
   "execution_count": null,
   "metadata": {
    "id": "gqPxqYUFRpsn"
   },
   "outputs": [],
   "source": [
    "def Excute_pr(X_train, y_train, X_test, y_test):\n",
    "    dt2 = DecisionTreeClassifier(max_depth=2)\n",
    "\n",
    "    dt2.fit(X_train, y_train)\n",
    "    prediction = dt2.predict(X_test)\n",
    "    \n",
    "    show_result(y_test, prediction)"
   ]
  },
  {
   "cell_type": "code",
   "execution_count": null,
   "metadata": {
    "id": "7cxqBFH3Rpsn"
   },
   "outputs": [],
   "source": [
    "def Excute_rf(X_train, y_train, X_test, y_test):\n",
    "    rfc = RandomForestClassifier(random_state=0)\n",
    "\n",
    "    rfc.fit(X_train, y_train)\n",
    "    prediction = rfc.predict(X_test)\n",
    "\n",
    "    show_result(y_test, prediction)"
   ]
  },
  {
   "cell_type": "code",
   "execution_count": null,
   "metadata": {
    "id": "nM0md8EaRpsn",
    "outputId": "2bd398b8-ae86-47dc-f998-51d8f5d3ca48"
   },
   "outputs": [
    {
     "data": {
      "text/plain": [
       "0    176\n",
       "1    176\n",
       "Name: 차기부도여부, dtype: int64"
      ]
     },
     "execution_count": 299,
     "metadata": {},
     "output_type": "execute_result"
    }
   ],
   "source": [
    "y_undersampled.value_counts()\n"
   ]
  },
  {
   "cell_type": "code",
   "execution_count": null,
   "metadata": {
    "id": "rcYA_Kh4Rpso",
    "outputId": "3c66e684-0c22-42bd-d37e-1c72df7729fb"
   },
   "outputs": [
    {
     "data": {
      "image/png": "[encoded data removed]",
      "text/plain": [
       "<Figure size 432x288 with 2 Axes>"
      ]
     },
     "metadata": {
      "needs_background": "light"
     },
     "output_type": "display_data"
    },
    {
     "name": "stdout",
     "output_type": "stream",
     "text": [
      "[[2706  531]\n",
      " [   9   29]]\n",
      "accuracy 0.835\n",
      "precision :  0.052\n",
      "recall :  0.763\n",
      "f1_score :  0.097\n"
     ]
    }
   ],
   "source": [
    "Excute_lg(X_undersampled, y_undersampled, X_test, y_test)"
   ]
  },
  {
   "cell_type": "code",
   "execution_count": null,
   "metadata": {
    "id": "BuLi--XoRpso",
    "outputId": "b4f0d28c-4d1f-44a1-fc19-3cc059d79fb0"
   },
   "outputs": [
    {
     "data": {
      "image/png": "[encoded data removed]",
      "text/plain": [
       "<Figure size 432x288 with 2 Axes>"
      ]
     },
     "metadata": {
      "needs_background": "light"
     },
     "output_type": "display_data"
    },
    {
     "name": "stdout",
     "output_type": "stream",
     "text": [
      "[[2744  493]\n",
      " [  10   28]]\n",
      "accuracy 0.846\n",
      "precision :  0.054\n",
      "recall :  0.737\n",
      "f1_score :  0.1\n"
     ]
    }
   ],
   "source": [
    "Excute_sgd(X_undersampled, y_undersampled, X_test, y_test)"
   ]
  },
  {
   "cell_type": "code",
   "execution_count": null,
   "metadata": {
    "id": "RQdbLMNARpso",
    "outputId": "004153c0-63c9-48e8-fc67-aa7891131710"
   },
   "outputs": [
    {
     "data": {
      "image/png": "[encoded data removed]",
      "text/plain": [
       "<Figure size 432x288 with 2 Axes>"
      ]
     },
     "metadata": {
      "needs_background": "light"
     },
     "output_type": "display_data"
    },
    {
     "name": "stdout",
     "output_type": "stream",
     "text": [
      "[[2744  493]\n",
      " [  10   28]]\n",
      "accuracy 0.846\n",
      "precision :  0.054\n",
      "recall :  0.737\n",
      "f1_score :  0.1\n"
     ]
    }
   ],
   "source": [
    "Excute_knn(X_undersampled, y_undersampled, X_test, y_test)"
   ]
  },
  {
   "cell_type": "code",
   "execution_count": null,
   "metadata": {
    "id": "4PjBrk_WRpsp",
    "outputId": "800b2c50-66f8-482f-f873-a585e7b5ae27"
   },
   "outputs": [
    {
     "data": {
      "image/png": "[encoded data removed]",
      "text/plain": [
       "<Figure size 432x288 with 2 Axes>"
      ]
     },
     "metadata": {
      "needs_background": "light"
     },
     "output_type": "display_data"
    },
    {
     "name": "stdout",
     "output_type": "stream",
     "text": [
      "[[2829  408]\n",
      " [  12   26]]\n",
      "accuracy 0.872\n",
      "precision :  0.06\n",
      "recall :  0.684\n",
      "f1_score :  0.11\n"
     ]
    }
   ],
   "source": [
    "Excute_svm(X_undersampled, y_undersampled, X_test, y_test)"
   ]
  },
  {
   "cell_type": "code",
   "execution_count": null,
   "metadata": {
    "id": "mJwbi23yRpsp",
    "outputId": "69ce3529-4af4-4c0a-de55-b9a10c7d8559"
   },
   "outputs": [
    {
     "data": {
      "image/png": "[encoded data removed]",
      "text/plain": [
       "<Figure size 432x288 with 2 Axes>"
      ]
     },
     "metadata": {
      "needs_background": "light"
     },
     "output_type": "display_data"
    },
    {
     "name": "stdout",
     "output_type": "stream",
     "text": [
      "[[2657  580]\n",
      " [  13   25]]\n",
      "accuracy 0.819\n",
      "precision :  0.041\n",
      "recall :  0.658\n",
      "f1_score :  0.078\n"
     ]
    }
   ],
   "source": [
    "Excute_dt(X_undersampled, y_undersampled, X_test, y_test)"
   ]
  },
  {
   "cell_type": "code",
   "execution_count": null,
   "metadata": {
    "id": "di8NHiPjRpsq",
    "outputId": "9feac3d7-b8c6-45af-d72a-845b3a9159f1"
   },
   "outputs": [
    {
     "data": {
      "image/png": "[encoded data removed]",
      "text/plain": [
       "<Figure size 432x288 with 2 Axes>"
      ]
     },
     "metadata": {
      "needs_background": "light"
     },
     "output_type": "display_data"
    },
    {
     "name": "stdout",
     "output_type": "stream",
     "text": [
      "[[2523  714]\n",
      " [   5   33]]\n",
      "accuracy 0.78\n",
      "precision :  0.044\n",
      "recall :  0.868\n",
      "f1_score :  0.084\n"
     ]
    }
   ],
   "source": [
    "Excute_pr(X_undersampled, y_undersampled, X_test, y_test)"
   ]
  },
  {
   "cell_type": "code",
   "execution_count": null,
   "metadata": {
    "id": "wCl1qZWkRpsq",
    "outputId": "43379745-c790-4d2b-f6fc-86a426727011"
   },
   "outputs": [
    {
     "data": {
      "image/png": "[encoded data removed]",
      "text/plain": [
       "<Figure size 432x288 with 2 Axes>"
      ]
     },
     "metadata": {
      "needs_background": "light"
     },
     "output_type": "display_data"
    },
    {
     "name": "stdout",
     "output_type": "stream",
     "text": [
      "[[2622  615]\n",
      " [   6   32]]\n",
      "accuracy 0.81\n",
      "precision :  0.049\n",
      "recall :  0.842\n",
      "f1_score :  0.093\n"
     ]
    }
   ],
   "source": [
    "Excute_sgd(X_undersampled, y_undersampled, X_test, y_test)\n"
   ]
  },
  {
   "cell_type": "code",
   "execution_count": null,
   "metadata": {
    "id": "Ct9mdoH3Rpsq",
    "outputId": "a30dbb1c-9e0c-4e11-d446-4044ca67a92d"
   },
   "outputs": [
    {
     "data": {
      "text/plain": [
       "['총자본사업이익률',\n",
       " '자기자본구성비율',\n",
       " '자본금회전률',\n",
       " 'CASH FLOW 대 부채비율',\n",
       " '단기차입금 대 총차입금비율',\n",
       " 'CPS(Cash flow Per Share)(원)',\n",
       " 'BPS(Book-value Per Share)(원)',\n",
       " '재고자산 대 유동자산비율',\n",
       " '이자부담률',\n",
       " '경영자본순이익률',\n",
       " '순운전자본비율',\n",
       " '자기자본증가율',\n",
       " '종업원1인당 순이익(백만원)']"
      ]
     },
     "execution_count": 318,
     "metadata": {},
     "output_type": "execute_result"
    }
   ],
   "source": [
    "forward_valriables"
   ]
  },
  {
   "cell_type": "code",
   "execution_count": null,
   "metadata": {
    "id": "zlS3TQivRpsr"
   },
   "outputs": [],
   "source": [
    "X_undersampled, y_undersampled = rus.fit_resample(X_train[forward_valriables], y_train)\n",
    "\n",
    "X_test = X_test[forward_valriables]"
   ]
  },
  {
   "cell_type": "code",
   "execution_count": null,
   "metadata": {
    "id": "1QPuinENRpsr",
    "outputId": "a085602d-d30d-4071-b4ec-66474bc3372f"
   },
   "outputs": [
    {
     "data": {
      "image/png": "[encoded data removed]",
      "text/plain": [
       "<Figure size 432x288 with 2 Axes>"
      ]
     },
     "metadata": {
      "needs_background": "light"
     },
     "output_type": "display_data"
    },
    {
     "name": "stdout",
     "output_type": "stream",
     "text": [
      "[[   4 3233]\n",
      " [   1   37]]\n",
      "accuracy 0.013\n",
      "precision :  0.011\n",
      "recall :  0.974\n",
      "f1_score :  0.022\n"
     ]
    }
   ],
   "source": [
    "Excute_sgd(X_undersampled, y_undersampled, X_test, y_test)\n"
   ]
  },
  {
   "cell_type": "code",
   "execution_count": null,
   "metadata": {
    "id": "H1kicjU6Rpsr",
    "outputId": "d3265f6f-f1d1-4793-f03c-22a38e6efc19"
   },
   "outputs": [
    {
     "data": {
      "image/png": "[encoded data removed]",
      "text/plain": [
       "<Figure size 432x288 with 2 Axes>"
      ]
     },
     "metadata": {
      "needs_background": "light"
     },
     "output_type": "display_data"
    },
    {
     "name": "stdout",
     "output_type": "stream",
     "text": [
      "[[2582  655]\n",
      " [   7   31]]\n",
      "accuracy 0.798\n",
      "precision :  0.045\n",
      "recall :  0.816\n",
      "f1_score :  0.086\n"
     ]
    }
   ],
   "source": [
    "Excute_knn(X_undersampled, y_undersampled, X_test, y_test)\n"
   ]
  },
  {
   "cell_type": "code",
   "execution_count": null,
   "metadata": {
    "id": "-oc9oATARpss",
    "outputId": "17c7c8df-7c25-45a7-dac4-5f3641e6339c"
   },
   "outputs": [
    {
     "data": {
      "image/png": "[encoded data removed]",
      "text/plain": [
       "<Figure size 432x288 with 2 Axes>"
      ]
     },
     "metadata": {
      "needs_background": "light"
     },
     "output_type": "display_data"
    },
    {
     "name": "stdout",
     "output_type": "stream",
     "text": [
      "[[1801 1436]\n",
      " [   4   34]]\n",
      "accuracy 0.56\n",
      "precision :  0.023\n",
      "recall :  0.895\n",
      "f1_score :  0.045\n"
     ]
    }
   ],
   "source": [
    "Excute_svm(X_undersampled, y_undersampled, X_test, y_test)\n"
   ]
  },
  {
   "cell_type": "code",
   "execution_count": null,
   "metadata": {
    "id": "MpeDAz3aRpss",
    "outputId": "0f2d0f79-0b17-4a34-eefb-ec01e765cd1e"
   },
   "outputs": [
    {
     "data": {
      "image/png": "[encoded data removed]",
      "text/plain": [
       "<Figure size 432x288 with 2 Axes>"
      ]
     },
     "metadata": {
      "needs_background": "light"
     },
     "output_type": "display_data"
    },
    {
     "name": "stdout",
     "output_type": "stream",
     "text": [
      "[[2427  810]\n",
      " [  14   24]]\n",
      "accuracy 0.748\n",
      "precision :  0.029\n",
      "recall :  0.632\n",
      "f1_score :  0.055\n"
     ]
    }
   ],
   "source": [
    "Excute_dt(X_undersampled, y_undersampled, X_test, y_test)\n"
   ]
  },
  {
   "cell_type": "code",
   "execution_count": null,
   "metadata": {
    "id": "1Tp1PRhORpst",
    "outputId": "490d6dad-b313-42bb-d415-6f5a2d6fbd35"
   },
   "outputs": [
    {
     "data": {
      "image/png": "[encoded data removed]",
      "text/plain": [
       "<Figure size 432x288 with 2 Axes>"
      ]
     },
     "metadata": {
      "needs_background": "light"
     },
     "output_type": "display_data"
    },
    {
     "name": "stdout",
     "output_type": "stream",
     "text": [
      "[[2418  819]\n",
      " [   4   34]]\n",
      "accuracy 0.749\n",
      "precision :  0.04\n",
      "recall :  0.895\n",
      "f1_score :  0.076\n"
     ]
    }
   ],
   "source": [
    "Excute_pr(X_undersampled, y_undersampled, X_test, y_test)\n"
   ]
  },
  {
   "cell_type": "code",
   "execution_count": null,
   "metadata": {
    "id": "-h_JA8VuRpst",
    "outputId": "bbe1b875-7e20-4139-d830-75337915e691"
   },
   "outputs": [
    {
     "data": {
      "image/png": "[encoded data removed]",
      "text/plain": [
       "<Figure size 432x288 with 2 Axes>"
      ]
     },
     "metadata": {
      "needs_background": "light"
     },
     "output_type": "display_data"
    },
    {
     "name": "stdout",
     "output_type": "stream",
     "text": [
      "[[2593  644]\n",
      " [   3   35]]\n",
      "accuracy 0.802\n",
      "precision :  0.052\n",
      "recall :  0.921\n",
      "f1_score :  0.098\n"
     ]
    }
   ],
   "source": [
    "Excute_rf(X_undersampled, y_undersampled, X_test, y_test)\n"
   ]
  },
  {
   "cell_type": "code",
   "execution_count": null,
   "metadata": {
    "id": "kXt8vuIaRpst"
   },
   "outputs": [],
   "source": []
  }
 ],
 "metadata": {
  "colab": {
   "name": "GH_feature_selection.ipynb",
   "provenance": []
  },
  "interpreter": {
   "hash": "aee8b7b246df8f9039afb4144a1f6fd8d2ca17a180786b69acc140d282b71a49"
  },
  "kernelspec": {
   "display_name": "Python 3 (ipykernel)",
   "language": "python",
   "name": "python3"
  },
  "language_info": {
   "codemirror_mode": {
    "name": "ipython",
    "version": 3
   },
   "file_extension": ".py",
   "mimetype": "text/x-python",
   "name": "python",
   "nbconvert_exporter": "python",
   "pygments_lexer": "ipython3",
   "version": "3.9.7"
  },
  "toc": {
   "base_numbering": 1,
   "nav_menu": {},
   "number_sections": false,
   "sideBar": true,
   "skip_h1_title": false,
   "title_cell": "Table of Contents",
   "title_sidebar": "Contents",
   "toc_cell": false,
   "toc_position": {},
   "toc_section_display": true,
   "toc_window_display": false
  },
  "varInspector": {
   "cols": {
    "lenName": 16,
    "lenType": 16,
    "lenVar": 40
   },
   "kernels_config": {
    "python": {
     "delete_cmd_postfix": "",
     "delete_cmd_prefix": "del ",
     "library": "var_list.py",
     "varRefreshCmd": "print(var_dic_list())"
    },
    "r": {
     "delete_cmd_postfix": ") ",
     "delete_cmd_prefix": "rm(",
     "library": "var_list.r",
     "varRefreshCmd": "cat(var_dic_list()) "
    }
   },
   "types_to_exclude": [
    "module",
    "function",
    "builtin_function_or_method",
    "instance",
    "_Feature"
   ],
   "window_display": false
  }
 },
 "nbformat": 4,
 "nbformat_minor": 1
}
